{
  "nbformat": 4,
  "nbformat_minor": 0,
  "metadata": {
    "accelerator": "GPU",
    "colab": {
      "name": "4 classes experiments.ipynb",
      "provenance": [],
      "collapsed_sections": [
        "3CzQfhzaAqDL",
        "TAlZ6dPHHTvf",
        "D4nLRwZMHe6T",
        "bDfub9JSuf4Z",
        "cB2V5my0XSKO"
      ],
      "machine_shape": "hm",
      "toc_visible": true
    },
    "kernelspec": {
      "display_name": "Python 3",
      "language": "python",
      "name": "python3"
    },
    "language_info": {
      "codemirror_mode": {
        "name": "ipython",
        "version": 3
      },
      "file_extension": ".py",
      "mimetype": "text/x-python",
      "name": "python",
      "nbconvert_exporter": "python",
      "pygments_lexer": "ipython3",
      "version": "3.8.5"
    }
  },
  "cells": [
    {
      "cell_type": "markdown",
      "metadata": {
        "id": "3CzQfhzaAqDL"
      },
      "source": [
        "#Importing libraries and dataset"
      ]
    },
    {
      "cell_type": "code",
      "source": [
        "!git clone https://github.com/gkeechin/vizgradcam"
      ],
      "metadata": {
        "colab": {
          "base_uri": "https://localhost:8080/"
        },
        "id": "z0M4L8hRKLLA",
        "outputId": "2c067dca-6d85-4e5e-9d2f-2084ecdc0dfb"
      },
      "execution_count": null,
      "outputs": [
        {
          "output_type": "stream",
          "name": "stdout",
          "text": [
            "Cloning into 'vizgradcam'...\n",
            "remote: Enumerating objects: 67, done.\u001b[K\n",
            "remote: Counting objects: 100% (67/67), done.\u001b[K\n",
            "remote: Compressing objects: 100% (61/61), done.\u001b[K\n",
            "remote: Total 67 (delta 32), reused 24 (delta 6), pack-reused 0\u001b[K\n",
            "Unpacking objects: 100% (67/67), done.\n"
          ]
        }
      ]
    },
    {
      "cell_type": "code",
      "source": [
        "cd /content/vizgradcam"
      ],
      "metadata": {
        "colab": {
          "base_uri": "https://localhost:8080/"
        },
        "id": "QOMbmGgtKLyO",
        "outputId": "d3de4104-1dd0-4dfa-d453-b257cfa5a290"
      },
      "execution_count": null,
      "outputs": [
        {
          "output_type": "stream",
          "name": "stdout",
          "text": [
            "/content/vizgradcam\n"
          ]
        }
      ]
    },
    {
      "cell_type": "code",
      "source": [
        "!pip install lime\n",
        "\n",
        "import lime\n",
        "from lime import lime_image\n",
        "from skimage.segmentation import mark_boundaries\n",
        "import matplotlib.pyplot as plt\n",
        "import random"
      ],
      "metadata": {
        "colab": {
          "base_uri": "https://localhost:8080/"
        },
        "id": "7U-O30cdKL1H",
        "outputId": "a2639469-a1cd-4af8-d9cd-446166056492"
      },
      "execution_count": null,
      "outputs": [
        {
          "output_type": "stream",
          "name": "stdout",
          "text": [
            "Collecting lime\n",
            "  Downloading lime-0.2.0.1.tar.gz (275 kB)\n",
            "\u001b[?25l\r\u001b[K     |█▏                              | 10 kB 39.0 MB/s eta 0:00:01\r\u001b[K     |██▍                             | 20 kB 23.8 MB/s eta 0:00:01\r\u001b[K     |███▋                            | 30 kB 12.0 MB/s eta 0:00:01\r\u001b[K     |████▊                           | 40 kB 9.9 MB/s eta 0:00:01\r\u001b[K     |██████                          | 51 kB 4.4 MB/s eta 0:00:01\r\u001b[K     |███████▏                        | 61 kB 4.8 MB/s eta 0:00:01\r\u001b[K     |████████▎                       | 71 kB 4.6 MB/s eta 0:00:01\r\u001b[K     |█████████▌                      | 81 kB 5.2 MB/s eta 0:00:01\r\u001b[K     |██████████▊                     | 92 kB 5.1 MB/s eta 0:00:01\r\u001b[K     |███████████▉                    | 102 kB 4.2 MB/s eta 0:00:01\r\u001b[K     |█████████████                   | 112 kB 4.2 MB/s eta 0:00:01\r\u001b[K     |██████████████▎                 | 122 kB 4.2 MB/s eta 0:00:01\r\u001b[K     |███████████████▌                | 133 kB 4.2 MB/s eta 0:00:01\r\u001b[K     |████████████████▋               | 143 kB 4.2 MB/s eta 0:00:01\r\u001b[K     |█████████████████▉              | 153 kB 4.2 MB/s eta 0:00:01\r\u001b[K     |███████████████████             | 163 kB 4.2 MB/s eta 0:00:01\r\u001b[K     |████████████████████▏           | 174 kB 4.2 MB/s eta 0:00:01\r\u001b[K     |█████████████████████▍          | 184 kB 4.2 MB/s eta 0:00:01\r\u001b[K     |██████████████████████▋         | 194 kB 4.2 MB/s eta 0:00:01\r\u001b[K     |███████████████████████▊        | 204 kB 4.2 MB/s eta 0:00:01\r\u001b[K     |█████████████████████████       | 215 kB 4.2 MB/s eta 0:00:01\r\u001b[K     |██████████████████████████▏     | 225 kB 4.2 MB/s eta 0:00:01\r\u001b[K     |███████████████████████████▍    | 235 kB 4.2 MB/s eta 0:00:01\r\u001b[K     |████████████████████████████▌   | 245 kB 4.2 MB/s eta 0:00:01\r\u001b[K     |█████████████████████████████▊  | 256 kB 4.2 MB/s eta 0:00:01\r\u001b[K     |███████████████████████████████ | 266 kB 4.2 MB/s eta 0:00:01\r\u001b[K     |████████████████████████████████| 275 kB 4.2 MB/s \n",
            "\u001b[?25hRequirement already satisfied: matplotlib in /usr/local/lib/python3.7/dist-packages (from lime) (3.2.2)\n",
            "Requirement already satisfied: numpy in /usr/local/lib/python3.7/dist-packages (from lime) (1.19.5)\n",
            "Requirement already satisfied: scipy in /usr/local/lib/python3.7/dist-packages (from lime) (1.4.1)\n",
            "Requirement already satisfied: tqdm in /usr/local/lib/python3.7/dist-packages (from lime) (4.62.3)\n",
            "Requirement already satisfied: scikit-learn>=0.18 in /usr/local/lib/python3.7/dist-packages (from lime) (1.0.2)\n",
            "Requirement already satisfied: scikit-image>=0.12 in /usr/local/lib/python3.7/dist-packages (from lime) (0.18.3)\n",
            "Requirement already satisfied: pillow!=7.1.0,!=7.1.1,>=4.3.0 in /usr/local/lib/python3.7/dist-packages (from scikit-image>=0.12->lime) (7.1.2)\n",
            "Requirement already satisfied: PyWavelets>=1.1.1 in /usr/local/lib/python3.7/dist-packages (from scikit-image>=0.12->lime) (1.2.0)\n",
            "Requirement already satisfied: tifffile>=2019.7.26 in /usr/local/lib/python3.7/dist-packages (from scikit-image>=0.12->lime) (2021.11.2)\n",
            "Requirement already satisfied: imageio>=2.3.0 in /usr/local/lib/python3.7/dist-packages (from scikit-image>=0.12->lime) (2.4.1)\n",
            "Requirement already satisfied: networkx>=2.0 in /usr/local/lib/python3.7/dist-packages (from scikit-image>=0.12->lime) (2.6.3)\n",
            "Requirement already satisfied: cycler>=0.10 in /usr/local/lib/python3.7/dist-packages (from matplotlib->lime) (0.11.0)\n",
            "Requirement already satisfied: python-dateutil>=2.1 in /usr/local/lib/python3.7/dist-packages (from matplotlib->lime) (2.8.2)\n",
            "Requirement already satisfied: pyparsing!=2.0.4,!=2.1.2,!=2.1.6,>=2.0.1 in /usr/local/lib/python3.7/dist-packages (from matplotlib->lime) (3.0.6)\n",
            "Requirement already satisfied: kiwisolver>=1.0.1 in /usr/local/lib/python3.7/dist-packages (from matplotlib->lime) (1.3.2)\n",
            "Requirement already satisfied: six>=1.5 in /usr/local/lib/python3.7/dist-packages (from python-dateutil>=2.1->matplotlib->lime) (1.15.0)\n",
            "Requirement already satisfied: threadpoolctl>=2.0.0 in /usr/local/lib/python3.7/dist-packages (from scikit-learn>=0.18->lime) (3.0.0)\n",
            "Requirement already satisfied: joblib>=0.11 in /usr/local/lib/python3.7/dist-packages (from scikit-learn>=0.18->lime) (1.1.0)\n",
            "Building wheels for collected packages: lime\n",
            "  Building wheel for lime (setup.py) ... \u001b[?25l\u001b[?25hdone\n",
            "  Created wheel for lime: filename=lime-0.2.0.1-py3-none-any.whl size=283857 sha256=438ba5cce01ccadd50ec8a7057c6fad297a885f572442ee3430d23dc4152cba7\n",
            "  Stored in directory: /root/.cache/pip/wheels/ca/cb/e5/ac701e12d365a08917bf4c6171c0961bc880a8181359c66aa7\n",
            "Successfully built lime\n",
            "Installing collected packages: lime\n",
            "Successfully installed lime-0.2.0.1\n"
          ]
        }
      ]
    },
    {
      "cell_type": "code",
      "metadata": {
        "colab": {
          "base_uri": "https://localhost:8080/"
        },
        "id": "OWo9uWe0FHq9",
        "outputId": "e6295541-78af-46af-cc3c-d598b41f9b2f"
      },
      "source": [
        "from google.colab import drive\n",
        "drive.mount('/content/drive')"
      ],
      "execution_count": null,
      "outputs": [
        {
          "output_type": "stream",
          "name": "stdout",
          "text": [
            "Mounted at /content/drive\n"
          ]
        }
      ]
    },
    {
      "cell_type": "code",
      "metadata": {
        "id": "eIjVgo2MFUfX"
      },
      "source": [
        "HEIGHT = 128\n",
        "WIDTH = 128\n",
        "CHANNELS = 3"
      ],
      "execution_count": null,
      "outputs": []
    },
    {
      "cell_type": "code",
      "metadata": {
        "id": "brQocH-3Abfy"
      },
      "source": [
        "import numpy as np\n",
        "import pandas as pd\n",
        "import matplotlib.pyplot as plt\n",
        "import keras\n",
        "from keras.preprocessing.image import ImageDataGenerator\n",
        "import tensorflow as tf\n",
        "import os\n",
        "from matplotlib.pyplot import imread\n",
        "from sklearn.model_selection import train_test_split\n",
        "from sklearn.utils import class_weight\n",
        "from sklearn.preprocessing import LabelBinarizer, LabelEncoder\n",
        "import cv2\n",
        "from sklearn.metrics import confusion_matrix\n",
        "import seaborn as sns\n",
        "from sklearn.metrics import matthews_corrcoef\n",
        "from sklearn.metrics import classification_report\n",
        "from sklearn.metrics import plot_confusion_matrix\n",
        "import keras.backend as K\n",
        "import warnings\n",
        "from sklearn.utils import compute_class_weight\n",
        "import pywt"
      ],
      "execution_count": null,
      "outputs": []
    },
    {
      "cell_type": "code",
      "source": [
        "tf.random.set_seed(42)"
      ],
      "metadata": {
        "id": "jlbVAMv49ugb"
      },
      "execution_count": null,
      "outputs": []
    },
    {
      "cell_type": "code",
      "source": [
        "images = []\n",
        "classes_labels = []\n",
        "for i in os.listdir(\"/content/drive/MyDrive/Special_Issue_COVID_Journal/original_dataset/train\"):\n",
        "  class_path = f\"/content/drive/MyDrive/Special_Issue_COVID_Journal/original_dataset/train/{i}\"\n",
        "  # if(i == \"Lung opacity\"):\n",
        "  #   continue\n",
        "  for j in os.listdir(class_path):\n",
        "    file_path = f\"{class_path}/{j}\"\n",
        "    classes_labels.append(i)\n",
        "    images.append(cv2.resize(cv2.imread(file_path, 1), (HEIGHT, WIDTH)))"
      ],
      "metadata": {
        "id": "9rEIXZWpowEg"
      },
      "execution_count": null,
      "outputs": []
    },
    {
      "cell_type": "code",
      "source": [
        "test_images = []\n",
        "test_classes_labels = []\n",
        "for i in os.listdir(\"/content/drive/MyDrive/Special_Issue_COVID_Journal/original_dataset/test\"):\n",
        "  class_path = f\"/content/drive/MyDrive/Special_Issue_COVID_Journal/original_dataset/test/{i}\"\n",
        "  # if(i == \"Lung opacity\"):\n",
        "  #   continue\n",
        "  for j in os.listdir(class_path):\n",
        "    file_path = f\"{class_path}/{j}\"\n",
        "    test_classes_labels.append(i)\n",
        "    test_images.append(cv2.resize(cv2.imread(file_path, 1), (HEIGHT, WIDTH)))"
      ],
      "metadata": {
        "id": "cnrGY1KsnBAv"
      },
      "execution_count": null,
      "outputs": []
    },
    {
      "cell_type": "code",
      "source": [
        "train_images, validation_images, train_labels, validation_labels = train_test_split(images, classes_labels, test_size = 0.2, random_state = 42)"
      ],
      "metadata": {
        "id": "LfIFkuEao6ZX"
      },
      "execution_count": null,
      "outputs": []
    },
    {
      "cell_type": "code",
      "source": [
        "from sklearn.utils import class_weight\n",
        "class_weights = class_weight.compute_class_weight(class_weight = 'balanced', classes = np.unique(train_labels), y = train_labels)"
      ],
      "metadata": {
        "id": "vy3_CxVA56KO"
      },
      "execution_count": null,
      "outputs": []
    },
    {
      "cell_type": "code",
      "source": [
        "class_weights"
      ],
      "metadata": {
        "colab": {
          "base_uri": "https://localhost:8080/"
        },
        "id": "SpuhkFKD6vi8",
        "outputId": "f8224ff7-b77d-420f-b4e0-ed77cbf0f40c"
      },
      "execution_count": null,
      "outputs": [
        {
          "output_type": "execute_result",
          "data": {
            "text/plain": [
              "array([1.30491474, 0.79914005, 0.60596181, 3.01157407])"
            ]
          },
          "metadata": {},
          "execution_count": 12
        }
      ]
    },
    {
      "cell_type": "code",
      "source": [
        "weights = dict(zip([0, 1, 2], class_weights))"
      ],
      "metadata": {
        "id": "m6fPSrI7652Q"
      },
      "execution_count": null,
      "outputs": []
    },
    {
      "cell_type": "code",
      "source": [
        "weights"
      ],
      "metadata": {
        "colab": {
          "base_uri": "https://localhost:8080/"
        },
        "id": "jSf2fytC7CFT",
        "outputId": "38e25253-340b-4a8a-e83b-437f9bb92fc6"
      },
      "execution_count": null,
      "outputs": [
        {
          "output_type": "execute_result",
          "data": {
            "text/plain": [
              "{0: 1.304914744232698, 1: 0.7991400491400491, 2: 0.6059618071727992}"
            ]
          },
          "metadata": {},
          "execution_count": 14
        }
      ]
    },
    {
      "cell_type": "code",
      "source": [
        "train_images = np.asarray(train_images)\n",
        "validation_images = np.asarray(validation_images)\n",
        "train_labels = np.asarray(train_labels)\n",
        "validation_labels = np.asarray(validation_labels)"
      ],
      "metadata": {
        "id": "0648ffaDo1s_"
      },
      "execution_count": null,
      "outputs": []
    },
    {
      "cell_type": "code",
      "source": [
        "from sklearn.preprocessing import LabelBinarizer\n",
        "lb = LabelBinarizer()\n",
        "train_labels = lb.fit_transform(train_labels)\n",
        "validation_labels = lb.transform(validation_labels)"
      ],
      "metadata": {
        "id": "dxfi26iktHk9"
      },
      "execution_count": null,
      "outputs": []
    },
    {
      "cell_type": "code",
      "source": [
        "test_classes_labels = lb.transform(test_classes_labels)"
      ],
      "metadata": {
        "id": "igFjNsUQncH7"
      },
      "execution_count": null,
      "outputs": []
    },
    {
      "cell_type": "code",
      "source": [
        "test_images = np.asarray(test_images)\n",
        "test_classes_labels = np.asarray(test_classes_labels)"
      ],
      "metadata": {
        "id": "5_trUuGhnrNF"
      },
      "execution_count": null,
      "outputs": []
    },
    {
      "cell_type": "markdown",
      "metadata": {
        "id": "TAlZ6dPHHTvf"
      },
      "source": [
        "#Data Visualization"
      ]
    },
    {
      "cell_type": "code",
      "metadata": {
        "id": "5b9qRnE2HPZZ"
      },
      "source": [
        "def data(history):\n",
        "  return pd.DataFrame(data=list(zip(history.history[\"accuracy\"], history.history[\"val_accuracy\"], history.history[\"loss\"], history.history[\"val_loss\"], history.history[\"recall\"], history.history[\"val_recall\"], history.history[\"precision\"], history.history[\"val_precision\"], history.history[\"auc\"], history.history[\"val_auc\"], history.history[\"specificity\"], history.history[\"val_specificity\"], history.history[\"sensitivity\"], history.history[\"val_sensitivity\"], history.history[\"mcc\"], history.history[\"val_mcc\"])) , columns=[\"Accuracy\", \"Validation Accuracy\", \"Loss\", \"Validation Loss\", \"Recall\", \"Validation Recall\", \"Precision\", \"Validation Precision\", \"AUC\", \"Validation AUC\", \"Specificity\", \"Validation Specificity\" ,\"Sensitivity\", \"Validation Sensitivity\", \"MCC\", \"Validation MCC\"])"
      ],
      "execution_count": null,
      "outputs": []
    },
    {
      "cell_type": "code",
      "metadata": {
        "id": "erCsAa2CHXXD"
      },
      "source": [
        "def history_visualization(df):\n",
        "  sns.set_style('darkgrid')\n",
        "  nrow = 4\n",
        "  ncol = 2\n",
        "  df_columns = df.columns\n",
        "  df_list = [df[col] for col in df]\n",
        "  titles=[\"Accuracy Visualization\", \"Loss Visualization\", \"Recall Visualization\", \"Precision Visualization\", \"AUC Visualization\", \"Specificity Visualization\", \"Sensitivity Visualization\", \"MCC Visualization\"]\n",
        "  fig, axes = plt.subplots(nrow, ncol, figsize=(20, 16))\n",
        "  count = 0\n",
        "  i = 0\n",
        "  for r in range(nrow):\n",
        "    for c in range(ncol):\n",
        "        df_list[count].plot(ax=axes[r,c], x=\"Number of Epochs\", legend=\"brief\", label=df_columns[count], marker=\"o\").set_title(titles[i])\n",
        "        df_list[count+1].plot(ax=axes[r, c], x=\"Number of Epochs\", legend=\"brief\" ,label=df_columns[count+1], marker=\"o\").set_title(titles[i])\n",
        "        i+=1\n",
        "        count+=2"
      ],
      "execution_count": null,
      "outputs": []
    },
    {
      "cell_type": "code",
      "metadata": {
        "id": "Gzzt0AHYHZ3p"
      },
      "source": [
        "early_stoping = keras.callbacks.EarlyStopping(monitor=\"val_loss\", patience=5, restore_best_weights=True)"
      ],
      "execution_count": null,
      "outputs": []
    },
    {
      "cell_type": "markdown",
      "metadata": {
        "id": "D4nLRwZMHe6T"
      },
      "source": [
        "#Custom Metrics using Tensorflow"
      ]
    },
    {
      "cell_type": "code",
      "metadata": {
        "id": "VsSrpQjeHdDi"
      },
      "source": [
        "def true_positive(y_true, y_pred):\n",
        "  y_true = tf.argmax(y_true)\n",
        "  y_pred = tf.argmax(y_pred)\n",
        "  res = tf.math.confusion_matrix(y_true, y_pred, dtype=tf.float32)\n",
        "  return tf.reduce_sum(tf.linalg.diag_part(res), axis = 0)\n",
        "\n",
        "def false_positive(y_true, y_pred):\n",
        "  y_true = tf.argmax(y_true)\n",
        "  y_pred = tf.argmax(y_pred)\n",
        "  res = tf.math.confusion_matrix(y_true, y_pred, dtype=tf.float32)\n",
        "  return tf.reduce_sum(tf.reduce_sum(res, axis = 1) - tf.linalg.diag_part(res), axis = 0)\n",
        "\n",
        "def false_negative(y_true, y_pred):\n",
        "  y_true = tf.argmax(y_true)\n",
        "  y_pred = tf.argmax(y_pred)\n",
        "  res = tf.math.confusion_matrix(y_true, y_pred, dtype=tf.float32)\n",
        "  return tf.reduce_sum(tf.reduce_sum(res, axis = 1) - tf.linalg.diag_part(res), axis = 0)\n",
        "\n",
        "def true_negative(y_true, y_pred):\n",
        "  y_true_res = tf.argmax(y_true)\n",
        "  y_pred_res = tf.argmax(y_pred)\n",
        "  res = tf.math.confusion_matrix(y_true_res, y_pred_res, dtype=tf.float32)\n",
        "  return tf.reduce_sum(tf.reduce_sum(res, axis = 1), axis=0) - (false_negative(y_true, y_pred) + false_positive(y_true, y_pred) + true_positive(y_true, y_pred))"
      ],
      "execution_count": null,
      "outputs": []
    },
    {
      "cell_type": "code",
      "metadata": {
        "id": "LOKtWzdJHnCa"
      },
      "source": [
        "def sensitivity(y_true, y_pred):\n",
        "    y_actual = tf.argmax(y_true).numpy()\n",
        "    y_hat = tf.argmax(y_pred).numpy()\n",
        "    TP = 0\n",
        "    FP = 0\n",
        "    TN = 0\n",
        "    FN = 0\n",
        "    for i in range(len(y_hat)): \n",
        "        if y_actual[i]==y_hat[i]==1:\n",
        "           TP += 1\n",
        "        if y_hat[i]==1 and y_actual[i]!=y_hat[i]:\n",
        "           FP += 1\n",
        "        if y_actual[i]==y_hat[i]==0:\n",
        "           TN += 1\n",
        "        if y_hat[i]==0 and y_actual[i]!=y_hat[i]:\n",
        "           FN += 1\n",
        "    num = float(TP)\n",
        "    den = float(TP + FN + K.epsilon())\n",
        "    if den == 0.0:\n",
        "      return tf.constant(0.0, dtype=tf.float32)\n",
        "    return tf.constant(float(num/den), dtype=tf.float32)\n",
        "\n",
        "def specificity(y_true, y_pred):\n",
        "    y_actual = tf.argmax(y_true).numpy()\n",
        "    y_hat = tf.argmax(y_pred).numpy()\n",
        "    TP = 0\n",
        "    FP = 0\n",
        "    TN = 0\n",
        "    FN = 0\n",
        "    for i in range(len(y_hat)): \n",
        "        if y_actual[i]==y_hat[i]==1:\n",
        "           TP += 1\n",
        "        if y_hat[i]==1 and y_actual[i]!=y_hat[i]:\n",
        "           FP += 1\n",
        "        if y_actual[i]==y_hat[i]==0:\n",
        "           TN += 1\n",
        "        if y_hat[i]==0 and y_actual[i]!=y_hat[i]:\n",
        "           FN += 1\n",
        "    num = float(TN)\n",
        "    den = float(TN + FP + K.epsilon())\n",
        "    if den == 0.0:\n",
        "      return tf.constant(0.0, dtype=tf.float32)\n",
        "    return tf.constant(float(num/den), dtype=tf.float32)"
      ],
      "execution_count": null,
      "outputs": []
    },
    {
      "cell_type": "code",
      "metadata": {
        "id": "Yo4K5FsSHoka"
      },
      "source": [
        "def mcc(y_true, y_pred):\n",
        "  y_true = tf.argmax(y_true).numpy()\n",
        "  y_pred = tf.argmax(y_pred).numpy()\n",
        "\n",
        "  return tf.constant(matthews_corrcoef(y_true, y_pred))"
      ],
      "execution_count": null,
      "outputs": []
    },
    {
      "cell_type": "code",
      "metadata": {
        "id": "ecC2g5uhnr10"
      },
      "source": [
        "def f1_score(y_true, y_pred): \n",
        "  true_positives = K.sum(K.round(K.clip(y_true * y_pred, 0, 1)))\n",
        "  possible_positives = K.sum(K.round(K.clip(y_true, 0, 1)))\n",
        "  predicted_positives = K.sum(K.round(K.clip(y_pred, 0, 1)))\n",
        "  precision = true_positives / (predicted_positives + K.epsilon())\n",
        "  recall = true_positives / (possible_positives + K.epsilon())\n",
        "  f1_val = 2*(precision*recall)/(precision+recall+K.epsilon())\n",
        "  return f1_val"
      ],
      "execution_count": null,
      "outputs": []
    },
    {
      "cell_type": "code",
      "metadata": {
        "id": "CGHfyP7QXYbC"
      },
      "source": [
        "class ThresholdCallback(keras.callbacks.Callback):\n",
        "  def __init__(self, threshold):\n",
        "    self.threshold = threshold\n",
        "  def on_epoch_end(self, epoch, logs={}):\n",
        "    if(logs.get(\"val_loss\") < self.threshold):\n",
        "      self.model.stop_training = True"
      ],
      "execution_count": null,
      "outputs": []
    },
    {
      "cell_type": "markdown",
      "metadata": {
        "id": "bDfub9JSuf4Z"
      },
      "source": [
        "#Image Generator"
      ]
    },
    {
      "cell_type": "code",
      "metadata": {
        "id": "e1Z1cRWE33gI"
      },
      "source": [
        "import collections, numpy"
      ],
      "execution_count": null,
      "outputs": []
    },
    {
      "cell_type": "code",
      "metadata": {
        "id": "Hl5gOABpzxLh"
      },
      "source": [
        "from collections import Counter"
      ],
      "execution_count": null,
      "outputs": []
    },
    {
      "cell_type": "code",
      "metadata": {
        "id": "lcdtEtJomKQF"
      },
      "source": [
        "num_images = [3143, 5084, 6728, 1345]"
      ],
      "execution_count": null,
      "outputs": []
    },
    {
      "cell_type": "code",
      "metadata": {
        "colab": {
          "base_uri": "https://localhost:8080/"
        },
        "id": "Nsut_nfNmo_q",
        "outputId": "9e60086b-3798-4e81-c19e-fc32d929d286"
      },
      "source": [
        "sum(num_images)"
      ],
      "execution_count": null,
      "outputs": [
        {
          "output_type": "execute_result",
          "data": {
            "text/plain": [
              "16300"
            ]
          },
          "metadata": {},
          "execution_count": 30
        }
      ]
    },
    {
      "cell_type": "code",
      "metadata": {
        "id": "y2HThrUemXTz"
      },
      "source": [
        "num_classes = len(num_images)-1"
      ],
      "execution_count": null,
      "outputs": []
    },
    {
      "cell_type": "code",
      "metadata": {
        "id": "mwp-gD0ImUlb"
      },
      "source": [
        "beta_values = [(1 - (x / sum(num_images))) / num_classes for x in num_images]"
      ],
      "execution_count": null,
      "outputs": []
    },
    {
      "cell_type": "code",
      "metadata": {
        "id": "iXfTV3R6mfA5"
      },
      "source": [
        "beta = dict(zip([0, 1, 2, 3], beta_values))"
      ],
      "execution_count": null,
      "outputs": []
    },
    {
      "cell_type": "code",
      "metadata": {
        "id": "yVJiACiRshUK"
      },
      "source": [
        "image_generator = ImageDataGenerator(validation_split = 0.2, rescale=1./255)"
      ],
      "execution_count": null,
      "outputs": []
    },
    {
      "cell_type": "code",
      "metadata": {
        "id": "kmMF7RkQsruT"
      },
      "source": [
        "train_dataset = image_generator.flow(train_images, train_labels, shuffle=True, subset=\"training\", seed=42)"
      ],
      "execution_count": null,
      "outputs": []
    },
    {
      "cell_type": "code",
      "metadata": {
        "id": "7dhu9Tjqsrwi"
      },
      "source": [
        "validation_dataset = image_generator.flow(validation_images, validation_labels, shuffle=True, subset=\"training\", seed=42)"
      ],
      "execution_count": null,
      "outputs": []
    },
    {
      "cell_type": "code",
      "source": [
        "test_generator = ImageDataGenerator(rescale=1./255)\n",
        "test_set = test_generator.flow(test_images, test_classes_labels, shuffle=False, seed=42)"
      ],
      "metadata": {
        "id": "4C9o0r-pnK2B"
      },
      "execution_count": null,
      "outputs": []
    },
    {
      "cell_type": "code",
      "metadata": {
        "id": "PvA0K2-Om_y1",
        "colab": {
          "base_uri": "https://localhost:8080/"
        },
        "outputId": "728834fe-41e0-419b-e624-19fc6a0b2d59"
      },
      "source": [
        "beta"
      ],
      "execution_count": null,
      "outputs": [
        {
          "output_type": "execute_result",
          "data": {
            "text/plain": [
              "{0: 0.26905930470347644,\n",
              " 1: 0.22936605316973413,\n",
              " 2: 0.19574642126789366,\n",
              " 3: 0.3058282208588957}"
            ]
          },
          "metadata": {},
          "execution_count": 38
        }
      ]
    },
    {
      "cell_type": "code",
      "metadata": {
        "id": "icI9P9BzDkOz"
      },
      "source": [
        "model_checkpoint = keras.callbacks.ModelCheckpoint(filepath=\"/content/model/my_best_model.epoch{epoch:02d}-loss{val_loss:.2f}.hdf5\", monitor=\"val_loss\", save_weights_only=True)"
      ],
      "execution_count": null,
      "outputs": []
    },
    {
      "cell_type": "code",
      "metadata": {
        "id": "zXsBfN5WXT3-"
      },
      "source": [
        "early_stopping = keras.callbacks.EarlyStopping(patience = 7, monitor = \"val_loss\", restore_best_weights = True, mode=\"min\")"
      ],
      "execution_count": null,
      "outputs": []
    },
    {
      "cell_type": "code",
      "metadata": {
        "id": "yZNG-n6GXUXj"
      },
      "source": [
        "threshold = ThresholdCallback(0.2)"
      ],
      "execution_count": null,
      "outputs": []
    },
    {
      "cell_type": "code",
      "metadata": {
        "id": "mR49FYOrGBmk"
      },
      "source": [
        "os.mkdir(\"/content/model\")"
      ],
      "execution_count": null,
      "outputs": []
    },
    {
      "cell_type": "markdown",
      "metadata": {
        "id": "cB2V5my0XSKO"
      },
      "source": [
        "#GradCAM"
      ]
    },
    {
      "cell_type": "code",
      "execution_count": null,
      "metadata": {
        "id": "m9Te_jJbXjgI"
      },
      "outputs": [],
      "source": [
        "import cv2"
      ]
    },
    {
      "cell_type": "code",
      "execution_count": null,
      "metadata": {
        "id": "vCm64f-zXT83"
      },
      "outputs": [],
      "source": [
        "def make_gradcam(image,model,layer):\n",
        "  image = cv2.resize(image, (WIDTH, HEIGHT))\n",
        " \n",
        "  image_1 = np.expand_dims(image, axis=0)\n",
        "  preds = model.predict(image_1) \n",
        "  i = np.argmax(preds[0])\n",
        "  # image_1 = image_1.astype('float32') / 255\n",
        "  icam = GradCAM(model, i, layer) \n",
        "  heatmap = icam.compute_heatmap(image_1)\n",
        "  heatmap = cv2.resize(heatmap, (WIDTH, HEIGHT))\n",
        "  \n",
        "  (heatmap, output) = icam.overlay_heatmap(heatmap, image, alpha=0.7)\n",
        "  return heatmap,output,i"
      ]
    },
    {
      "cell_type": "code",
      "execution_count": null,
      "metadata": {
        "id": "PpD7sk2qYwNt"
      },
      "outputs": [],
      "source": [
        "from tensorflow.keras.models import Model\n",
        "import tensorflow as tf\n",
        "import numpy as np\n",
        "import cv2\n",
        "import matplotlib.pyplot as plt\n",
        "\n",
        "\n",
        "class GradCAM:\n",
        "    def __init__(self, model, classIdx, layerName=None):\n",
        "        # store the model, the class index used to measure the class\n",
        "        # activation map, and the layer to be used when visualizing\n",
        "        # the class activation map\n",
        "        self.model = model\n",
        "        self.classIdx = classIdx\n",
        "        self.layerName = layerName\n",
        "        # if the layer name is None, attempt to automatically find\n",
        "        # the target output layer\n",
        "        if self.layerName is None:\n",
        "            self.layerName = self.find_target_layer()\n",
        "\n",
        "    def find_target_layer(self):\n",
        "        # attempt to find the final convolutional layer in the network\n",
        "        # by looping over the layers of the network in reverse order\n",
        "        for layer in reversed(self.model.layers):\n",
        "            # check to see if the layer has a 4D output\n",
        "            if len(layer.output_shape) == 4:\n",
        "                return layer.name\n",
        "        # otherwise, we could not find a 4D layer so the GradCAM\n",
        "        # algorithm cannot be applied\n",
        "        raise ValueError(\"Could not find 4D layer. Cannot apply GradCAM.\")\n",
        "\n",
        "\n",
        "    def compute_heatmap(self, image, eps=1e-8):\n",
        "        # construct our gradient model by supplying (1) the inputs\n",
        "        # to our pre-trained model, (2) the output of the (presumably)\n",
        "        # final 4D layer in the network, and (3) the output of the\n",
        "        # softmax activations from the model\n",
        "        gradModel = Model(\n",
        "            inputs=[self.model.inputs],\n",
        "            outputs=[self.model.get_layer(self.layerName).output, self.model.output])\n",
        "\n",
        "        # record operations for automatic differentiation\n",
        "        with tf.GradientTape() as tape:\n",
        "            # cast the image tensor to a float-32 data type, pass the\n",
        "            # image through the gradient model, and grab the loss\n",
        "            # associated with the specific class index\n",
        "            inputs = tf.cast(image, tf.float32)\n",
        "            (convOutputs, predictions) = gradModel(inputs)\n",
        "            \n",
        "            loss = predictions[:, tf.argmax(predictions[0])]\n",
        "    \n",
        "        # use automatic differentiation to compute the gradients\n",
        "        grads = tape.gradient(loss, convOutputs)\n",
        "\n",
        "        # compute the guided gradients\n",
        "        castConvOutputs = tf.cast(convOutputs > 0, \"float32\")\n",
        "        castGrads = tf.cast(grads > 0, \"float32\")\n",
        "        guidedGrads = castConvOutputs * castGrads * grads\n",
        "        # the convolution and guided gradients have a batch dimension\n",
        "        # (which we don't need) so let's grab the volume itself and\n",
        "        # discard the batch\n",
        "        convOutputs = convOutputs[0]\n",
        "        guidedGrads = guidedGrads[0]\n",
        "\n",
        "        # compute the average of the gradient values, and using them\n",
        "        # as weights, compute the ponderation of the filters with\n",
        "        # respect to the weights\n",
        "        weights = tf.reduce_mean(guidedGrads, axis=(0, 1))\n",
        "        cam = tf.reduce_sum(tf.multiply(weights, convOutputs), axis=-1)\n",
        "\n",
        "        # grab the spatial dimensions of the input image and resize\n",
        "        # the output class activation map to match the input image\n",
        "        # dimensions\n",
        "        (w, h) = (image.shape[2], image.shape[1])\n",
        "        heatmap = cv2.resize(cam.numpy(), (w, h))\n",
        "        # normalize the heatmap such that all values lie in the range\n",
        "        # [0, 1], scale the resulting values to the range [0, 255],\n",
        "        # and then convert to an unsigned 8-bit integer\n",
        "        numer = heatmap - np.min(heatmap)\n",
        "        denom = (heatmap.max() - heatmap.min()) + eps\n",
        "        heatmap = numer / denom\n",
        "        heatmap = (heatmap * 255).astype(\"uint8\")\n",
        "        # return the resulting heatmap to the calling function\n",
        "        return heatmap\n",
        "\n",
        "    def overlay_heatmap(self, heatmap, image, alpha=0.5,\n",
        "                        colormap=cv2.COLORMAP_JET):\n",
        "        # apply the supplied color map to the heatmap and then\n",
        "        # overlay the heatmap on the input image\n",
        "        heatmap = cv2.applyColorMap(heatmap, colormap)\n",
        "        output = cv2.addWeighted(image, alpha, heatmap, 1 - alpha, 0)\n",
        "        # return a 2-tuple of the color mapped heatmap and the output,\n",
        "        # overlaid image\n",
        "        return (heatmap, output)"
      ]
    },
    {
      "cell_type": "markdown",
      "metadata": {
        "id": "27MK7hXqEGLd"
      },
      "source": [
        "#Base Resnet 18 Model"
      ]
    },
    {
      "cell_type": "code",
      "metadata": {
        "id": "DyAGOGKEEFrK"
      },
      "source": [
        "from keras.callbacks import EarlyStopping\n",
        "from keras.layers import Dense, Conv2D,  MaxPool2D, Flatten, GlobalAveragePooling2D,  BatchNormalization, Layer, Add\n",
        "from keras.models import Sequential\n",
        "from keras.models import Model\n",
        "import tensorflow as tf\n",
        "KERNEL_SIZE = (3, 3)\n",
        "INIT_SCHEME = tf.keras.initializers.GlorotUniform()\n",
        "input = tf.keras.layers.Input(shape=(WIDTH, HEIGHT, CHANNELS))\n",
        "out = Conv2D(64, (7, 7), strides=2, padding=\"same\", kernel_initializer=tf.keras.initializers.GlorotUniform())(input)\n",
        "out = BatchNormalization()(out)\n",
        "out = MaxPool2D(pool_size=(2, 2), strides=2, padding=\"same\")(out)\n",
        "\n",
        "out1 = Conv2D(64, strides=1,kernel_size=KERNEL_SIZE, padding=\"same\", kernel_initializer=INIT_SCHEME)(out)\n",
        "out1 = BatchNormalization()(out1)\n",
        "out1 = tf.nn.relu(out1)\n",
        "out1 = Conv2D(64, strides=1,kernel_size=KERNEL_SIZE, padding=\"same\", kernel_initializer=INIT_SCHEME)(out1)\n",
        "out1 = BatchNormalization()(out1)\n",
        "out1 = Add()([out, out1])\n",
        "out1 = tf.nn.relu(out1)\n",
        "\n",
        "out2 = Conv2D(64, strides=1,kernel_size=KERNEL_SIZE, padding=\"same\", kernel_initializer=INIT_SCHEME)(out1)\n",
        "out2 = BatchNormalization()(out2)\n",
        "out2 = tf.nn.relu(out2)\n",
        "out2 = Conv2D(64, strides=1,kernel_size=KERNEL_SIZE, padding=\"same\", kernel_initializer=INIT_SCHEME)(out2)\n",
        "out2 = BatchNormalization()(out2)\n",
        "out2 = Add()([out1, out2])\n",
        "out2 = tf.nn.relu(out2)\n",
        "\n",
        "out3 = Conv2D(128, strides=2,kernel_size=KERNEL_SIZE, padding=\"same\", kernel_initializer=INIT_SCHEME)(out2)\n",
        "out3 = BatchNormalization()(out3)\n",
        "out3 = tf.nn.relu(out3)\n",
        "out3 = Conv2D(128, strides=1,kernel_size=KERNEL_SIZE, padding=\"same\", kernel_initializer=INIT_SCHEME)(out3)\n",
        "out3 = BatchNormalization()(out3)\n",
        "out2 = Conv2D(128, strides=2, kernel_size=(1, 1), kernel_initializer=INIT_SCHEME, padding=\"same\")(out2)\n",
        "out2 = BatchNormalization()(out2)\n",
        "out3 = Add()([out2, out3])\n",
        "out3 = tf.nn.relu(out3)\n",
        "\n",
        "out4 = Conv2D(128, strides=1,kernel_size=KERNEL_SIZE, padding=\"same\", kernel_initializer=INIT_SCHEME)(out3)\n",
        "out4 = BatchNormalization()(out4)\n",
        "out4 = tf.nn.relu(out4)\n",
        "out4 = Conv2D(128, strides=1,kernel_size=KERNEL_SIZE, padding=\"same\", kernel_initializer=INIT_SCHEME)(out4)\n",
        "out4 = BatchNormalization()(out4)\n",
        "out4 = Add()([out3, out4])\n",
        "out4 = tf.nn.relu(out4)\n",
        "\n",
        "out5 = Conv2D(256, strides=2,kernel_size=KERNEL_SIZE, padding=\"same\", kernel_initializer=INIT_SCHEME)(out4)\n",
        "out5 = BatchNormalization()(out5)\n",
        "out5 = tf.nn.relu(out5)\n",
        "out5 = Conv2D(256, strides=1,kernel_size=KERNEL_SIZE, padding=\"same\", kernel_initializer=INIT_SCHEME)(out5)\n",
        "out5 = BatchNormalization()(out5)\n",
        "out4 = Conv2D(256, strides=2, kernel_size=(1, 1), kernel_initializer=INIT_SCHEME, padding=\"same\")(out4)\n",
        "out4 = BatchNormalization()(out4)\n",
        "out5 = Add()([out4, out5])\n",
        "out5 = tf.nn.relu(out5)\n",
        "\n",
        "out6 = Conv2D(256, strides=1,kernel_size=KERNEL_SIZE, padding=\"same\", kernel_initializer=INIT_SCHEME)(out5)\n",
        "out6 = BatchNormalization()(out6)\n",
        "out6 = tf.nn.relu(out6)\n",
        "out6 = Conv2D(256, strides=1,kernel_size=KERNEL_SIZE, padding=\"same\", kernel_initializer=INIT_SCHEME)(out6)\n",
        "out6 = BatchNormalization()(out6)\n",
        "out6 = Add()([out5, out6])\n",
        "out6 = tf.nn.relu(out6)\n",
        "\n",
        "out7 = Conv2D(512, strides=2,kernel_size=KERNEL_SIZE, padding=\"same\", kernel_initializer=INIT_SCHEME)(out6)\n",
        "out7 = BatchNormalization()(out7)\n",
        "out7 = tf.nn.relu(out7)\n",
        "out7 = Conv2D(512, strides=1,kernel_size=KERNEL_SIZE, padding=\"same\", kernel_initializer=INIT_SCHEME)(out7)\n",
        "out7 = BatchNormalization()(out7)\n",
        "out6 = Conv2D(512, strides=2, kernel_size=(1, 1), kernel_initializer=INIT_SCHEME, padding=\"same\")(out6)\n",
        "out6 = BatchNormalization()(out6)\n",
        "out7 = Add()([out6, out7])\n",
        "out7 = tf.nn.relu(out7)\n",
        "\n",
        "out8 = Conv2D(512, strides=1,kernel_size=KERNEL_SIZE, padding=\"same\", kernel_initializer=INIT_SCHEME)(out7)\n",
        "out8 = BatchNormalization()(out8)\n",
        "out8 = tf.nn.relu(out8)\n",
        "out8 = Conv2D(512, strides=1,kernel_size=KERNEL_SIZE, padding=\"same\", kernel_initializer=INIT_SCHEME)(out8)\n",
        "out8 = BatchNormalization()(out8)\n",
        "out8 = Add()([out7, out8])\n",
        "out8 = tf.nn.relu(out8)\n",
        "\n",
        "out8 = GlobalAveragePooling2D()(out8)\n",
        "out = Flatten()(out8)\n",
        "out = Dense(4, activation=\"softmax\")(out)\n",
        "model = tf.keras.models.Model(inputs=[input], outputs=[out])\n",
        "model.compile(optimizer=\"adam\", loss=\"categorical_crossentropy\", metrics=[\"accuracy\", keras.metrics.Precision(), keras.metrics.Recall(), keras.metrics.AUC(), specificity, sensitivity, mcc], run_eagerly=True)"
      ],
      "execution_count": null,
      "outputs": []
    },
    {
      "cell_type": "code",
      "source": [
        "from keras.callbacks import EarlyStopping\n",
        "from keras.layers import Dense, Conv2D,  MaxPool2D, Flatten, GlobalAveragePooling2D,  BatchNormalization, Layer, Add\n",
        "from keras.models import Sequential\n",
        "from keras.models import Model\n",
        "import tensorflow as tf\n",
        "\n",
        "\n",
        "class ResnetBlock(Model):\n",
        "    \"\"\"\n",
        "    A standard resnet block.\n",
        "    \"\"\"\n",
        "\n",
        "    def __init__(self, channels: int, down_sample=False):\n",
        "        \"\"\"\n",
        "        channels: same as number of convolution kernels\n",
        "        \"\"\"\n",
        "        super().__init__()\n",
        "\n",
        "        self.__channels = channels\n",
        "        self.__down_sample = down_sample\n",
        "        self.__strides = [2, 1] if down_sample else [1, 1]\n",
        "\n",
        "        KERNEL_SIZE = (3, 3)\n",
        "        # use He initialization, instead of Xavier (a.k.a 'glorot_uniform' in Keras), as suggested in [2]\n",
        "        INIT_SCHEME = tf.keras.initializers.GlorotUniform()\n",
        "\n",
        "        self.conv_1 = Conv2D(self.__channels, strides=self.__strides[0],\n",
        "                             kernel_size=KERNEL_SIZE, padding=\"same\", kernel_initializer=INIT_SCHEME)\n",
        "        self.bn_1 = BatchNormalization()\n",
        "        self.conv_2 = Conv2D(self.__channels, strides=self.__strides[1],\n",
        "                             kernel_size=KERNEL_SIZE, padding=\"same\", kernel_initializer=INIT_SCHEME)\n",
        "        self.bn_2 = BatchNormalization()\n",
        "        self.merge = Add()\n",
        "\n",
        "        if self.__down_sample:\n",
        "            # perform down sampling using stride of 2, according to [1].\n",
        "            self.res_conv = Conv2D(\n",
        "                self.__channels, strides=2, kernel_size=(1, 1), kernel_initializer=INIT_SCHEME, padding=\"same\")\n",
        "            self.res_bn = BatchNormalization()\n",
        "\n",
        "    def call(self, inputs):\n",
        "        res = inputs\n",
        "\n",
        "        x = self.conv_1(inputs)\n",
        "        x = self.bn_1(x)\n",
        "        x = tf.nn.relu(x)\n",
        "        x = self.conv_2(x)\n",
        "        x = self.bn_2(x)\n",
        "\n",
        "        if self.__down_sample:\n",
        "            res = self.res_conv(res)\n",
        "            res = self.res_bn(res)\n",
        "\n",
        "        # if not perform down sample, then add a shortcut directly\n",
        "        x = self.merge([x, res])\n",
        "        out = tf.nn.relu(x)\n",
        "        return out\n",
        "\n",
        "\n",
        "class ResNet18(Model):\n",
        "\n",
        "    def __init__(self, **kwargs):\n",
        "\n",
        "        super().__init__(**kwargs)\n",
        "        self.conv_1 = Conv2D(64, (7, 7), strides=2,\n",
        "                             padding=\"same\", kernel_initializer=tf.keras.initializers.GlorotUniform())\n",
        "        self.init_bn = BatchNormalization()\n",
        "        self.pool_2 = MaxPool2D(pool_size=(2, 2), strides=2, padding=\"same\")\n",
        "        self.res_1_1 = ResnetBlock(64)\n",
        "        self.res_1_2 = ResnetBlock(64)\n",
        "        self.res_2_1 = ResnetBlock(128, down_sample=True)\n",
        "        self.res_2_2 = ResnetBlock(128)\n",
        "        self.res_3_1 = ResnetBlock(256, down_sample=True)\n",
        "        self.res_3_2 = ResnetBlock(256)\n",
        "        self.res_4_1 = ResnetBlock(512, down_sample=True)\n",
        "        self.res_4_2 = ResnetBlock(512)\n",
        "        self.avg_pool = GlobalAveragePooling2D()\n",
        "\n",
        "    def call(self, inputs):\n",
        "        out = self.conv_1(inputs)\n",
        "        out = self.init_bn(out)\n",
        "        out = tf.nn.relu(out)\n",
        "        out = self.pool_2(out)\n",
        "        for res_block in [self.res_1_1, self.res_1_2, self.res_2_1, self.res_2_2, self.res_3_1, self.res_3_2, self.res_4_1, self.res_4_2]:\n",
        "            out = res_block(out)\n",
        "        out = self.avg_pool(out)\n",
        "        return out"
      ],
      "metadata": {
        "id": "oJIJJbB2iX7Y"
      },
      "execution_count": null,
      "outputs": []
    },
    {
      "cell_type": "code",
      "source": [
        "base_model_2 = keras.models.load_model(\"/content/drive/MyDrive/Special_Issue_COVID_Journal/base_model_epooch_4\", custom_objects={\"res_net18\" : ResNet18, \"specificity\" : specificity, \"sensitivity\" : sensitivity, \"mcc\" : mcc, \"f1_score\" : f1_score})\n",
        "resnet_18 = base_model_2.get_layer(\"res_net18\")\n",
        "first_model = []\n",
        "first_weights = []\n",
        "second_model = []\n",
        "for i in resnet_18.layers:\n",
        "  if(\"resnet_block\" in i.name):\n",
        "    for j in resnet_18.get_layer(i.name).layers:\n",
        "      first_model.append(j.name)\n",
        "      first_weights.append(resnet_18.get_layer(i.name).get_layer(j.name).get_weights())\n",
        "  else:\n",
        "      first_model.append(i.name)\n",
        "      first_weights.append(resnet_18.get_layer(i.name).get_weights())\n",
        "for i in model.layers:\n",
        "  if \"tf.nn.relu\" in i.name:\n",
        "    continue\n",
        "  elif(i.name not in [\"input_1\", \"dense\", \"flatten\"]):\n",
        "    second_model.append(i.name)\n",
        "for i in second_model:\n",
        "  for index, j in enumerate(first_model):\n",
        "    if(i == j):\n",
        "      print(f\"Setting {i}\")\n",
        "      model.get_layer(i).set_weights(first_weights[index])\n",
        "for i in model.layers:\n",
        "  if('global_average' in i.name):\n",
        "    print(\"Setting Global Average Pooling\")\n",
        "    model.get_layer(i.name).set_weights(first_weights[-1])"
      ],
      "metadata": {
        "colab": {
          "base_uri": "https://localhost:8080/"
        },
        "id": "qOPhF7bAkJ2F",
        "outputId": "8bd52d76-03ea-4311-fe19-69a480ca55f3"
      },
      "execution_count": null,
      "outputs": [
        {
          "output_type": "stream",
          "name": "stdout",
          "text": [
            "Setting conv2d\n",
            "Setting batch_normalization\n",
            "Setting max_pooling2d\n",
            "Setting conv2d_1\n",
            "Setting batch_normalization_1\n",
            "Setting conv2d_2\n",
            "Setting batch_normalization_2\n",
            "Setting add\n",
            "Setting conv2d_3\n",
            "Setting batch_normalization_3\n",
            "Setting conv2d_4\n",
            "Setting batch_normalization_4\n",
            "Setting add_1\n",
            "Setting conv2d_5\n",
            "Setting batch_normalization_5\n",
            "Setting conv2d_7\n",
            "Setting conv2d_6\n",
            "Setting batch_normalization_7\n",
            "Setting batch_normalization_6\n",
            "Setting add_2\n",
            "Setting conv2d_8\n",
            "Setting batch_normalization_8\n",
            "Setting conv2d_9\n",
            "Setting batch_normalization_9\n",
            "Setting add_3\n",
            "Setting conv2d_10\n",
            "Setting batch_normalization_10\n",
            "Setting conv2d_12\n",
            "Setting conv2d_11\n",
            "Setting batch_normalization_12\n",
            "Setting batch_normalization_11\n",
            "Setting add_4\n",
            "Setting conv2d_13\n",
            "Setting batch_normalization_13\n",
            "Setting conv2d_14\n",
            "Setting batch_normalization_14\n",
            "Setting add_5\n",
            "Setting conv2d_15\n",
            "Setting batch_normalization_15\n",
            "Setting conv2d_17\n",
            "Setting conv2d_16\n",
            "Setting batch_normalization_17\n",
            "Setting batch_normalization_16\n",
            "Setting add_6\n",
            "Setting conv2d_18\n",
            "Setting batch_normalization_18\n",
            "Setting conv2d_19\n",
            "Setting batch_normalization_19\n",
            "Setting add_7\n",
            "Setting global_average_pooling2d\n",
            "Setting Global Average Pooling\n"
          ]
        }
      ]
    },
    {
      "cell_type": "markdown",
      "metadata": {
        "id": "QeL_7hPw10cJ"
      },
      "source": [
        "#ResNet18 with WCCE"
      ]
    },
    {
      "cell_type": "code",
      "source": [
        "from sklearn.utils import class_weight\n",
        "import numpy as np\n",
        "\n",
        "class_weights = class_weight.compute_class_weight(class_weight=\"balanced\", classes=np.unique(lb.inverse_transform(train_labels)), y=lb.inverse_transform(train_labels))"
      ],
      "metadata": {
        "id": "Fd1zu1ss10ci"
      },
      "execution_count": null,
      "outputs": []
    },
    {
      "cell_type": "code",
      "source": [
        "weights = dict(zip([0,1,2,3], class_weights))"
      ],
      "metadata": {
        "id": "VJtHCJiESmyn"
      },
      "execution_count": null,
      "outputs": []
    },
    {
      "cell_type": "code",
      "source": [
        "weights"
      ],
      "metadata": {
        "colab": {
          "base_uri": "https://localhost:8080/"
        },
        "id": "OQL7ifw5Sm4C",
        "outputId": "43be583c-41c4-4d32-b798-5ca45f5ed796"
      },
      "execution_count": null,
      "outputs": [
        {
          "output_type": "execute_result",
          "data": {
            "text/plain": [
              "{0: 1.304914744232698,\n",
              " 1: 0.7991400491400491,\n",
              " 2: 0.6059618071727992,\n",
              " 3: 3.011574074074074}"
            ]
          },
          "metadata": {},
          "execution_count": 51
        }
      ]
    },
    {
      "cell_type": "code",
      "metadata": {
        "colab": {
          "base_uri": "https://localhost:8080/"
        },
        "outputId": "fbab4f7e-5650-4033-9e3d-43d0b5ac2918",
        "id": "Z1t-uq5j10ck"
      },
      "source": [
        "# model.compile(optimizer=\"adam\", loss=\"categorical_crossentropy\", metrics=[\"accuracy\", keras.metrics.Precision(), keras.metrics.Recall(), keras.metrics.AUC(), specificity, sensitivity, mcc], run_eagerly=True)\n",
        "history = model.fit(x=train_dataset, validation_data=validation_dataset, epochs=25, batch_size=32, callbacks=[early_stopping, model_checkpoint], class_weight=weights)"
      ],
      "execution_count": null,
      "outputs": [
        {
          "output_type": "stream",
          "name": "stdout",
          "text": [
            "Epoch 1/25\n",
            "261/261 [==============================] - 56s 171ms/step - loss: 0.4428 - accuracy: 0.8094 - precision: 0.8340 - recall: 0.7817 - auc: 0.9555 - specificity: 0.1341 - sensitivity: 0.0920 - mcc: 0.1921 - val_loss: 1.7126 - val_accuracy: 0.5218 - val_precision: 0.5279 - val_recall: 0.4993 - val_auc: 0.7716 - val_specificity: 0.0909 - val_sensitivity: 0.0758 - val_mcc: 0.1489\n",
            "Epoch 2/25\n",
            "261/261 [==============================] - 45s 171ms/step - loss: 0.2747 - accuracy: 0.8794 - precision: 0.8888 - recall: 0.8686 - auc: 0.9797 - specificity: 0.1456 - sensitivity: 0.0881 - mcc: 0.2000 - val_loss: 0.7221 - val_accuracy: 0.7638 - val_precision: 0.7737 - val_recall: 0.7566 - val_auc: 0.9380 - val_specificity: 0.1970 - val_sensitivity: 0.0455 - val_mcc: 0.2047\n",
            "Epoch 3/25\n",
            "261/261 [==============================] - 44s 170ms/step - loss: 0.2098 - accuracy: 0.9064 - precision: 0.9120 - recall: 0.9002 - auc: 0.9870 - specificity: 0.1188 - sensitivity: 0.0651 - mcc: 0.1926 - val_loss: 0.3366 - val_accuracy: 0.8795 - val_precision: 0.8895 - val_recall: 0.8733 - val_auc: 0.9794 - val_specificity: 0.1515 - val_sensitivity: 0.1364 - val_mcc: 0.2139\n",
            "Epoch 4/25\n",
            "261/261 [==============================] - 45s 171ms/step - loss: 0.1779 - accuracy: 0.9176 - precision: 0.9229 - recall: 0.9134 - auc: 0.9903 - specificity: 0.1341 - sensitivity: 0.0843 - mcc: 0.1916 - val_loss: 0.4669 - val_accuracy: 0.8531 - val_precision: 0.8598 - val_recall: 0.8449 - val_auc: 0.9639 - val_specificity: 0.0530 - val_sensitivity: 0.0909 - val_mcc: 0.1754\n",
            "Epoch 5/25\n",
            "261/261 [==============================] - 45s 172ms/step - loss: 0.1501 - accuracy: 0.9308 - precision: 0.9348 - recall: 0.9276 - auc: 0.9925 - specificity: 0.1379 - sensitivity: 0.1379 - mcc: 0.2103 - val_loss: 0.5350 - val_accuracy: 0.8166 - val_precision: 0.8242 - val_recall: 0.8123 - val_auc: 0.9607 - val_specificity: 0.0985 - val_sensitivity: 0.0455 - val_mcc: 0.1773\n",
            "Epoch 6/25\n",
            "261/261 [==============================] - 45s 171ms/step - loss: 0.1227 - accuracy: 0.9438 - precision: 0.9465 - recall: 0.9420 - auc: 0.9945 - specificity: 0.1379 - sensitivity: 0.0843 - mcc: 0.2235 - val_loss: 0.5944 - val_accuracy: 0.8291 - val_precision: 0.8354 - val_recall: 0.8262 - val_auc: 0.9555 - val_specificity: 0.1515 - val_sensitivity: 0.0758 - val_mcc: 0.2284\n",
            "Epoch 7/25\n",
            "261/261 [==============================] - 45s 171ms/step - loss: 0.1055 - accuracy: 0.9506 - precision: 0.9523 - recall: 0.9492 - auc: 0.9959 - specificity: 0.1149 - sensitivity: 0.0958 - mcc: 0.2046 - val_loss: 0.5771 - val_accuracy: 0.8401 - val_precision: 0.8451 - val_recall: 0.8353 - val_auc: 0.9585 - val_specificity: 0.1061 - val_sensitivity: 0.0758 - val_mcc: 0.2010\n",
            "Epoch 8/25\n",
            "261/261 [==============================] - 45s 171ms/step - loss: 0.0980 - accuracy: 0.9552 - precision: 0.9568 - recall: 0.9541 - auc: 0.9965 - specificity: 0.1494 - sensitivity: 0.0805 - mcc: 0.2126 - val_loss: 0.4213 - val_accuracy: 0.8881 - val_precision: 0.8902 - val_recall: 0.8833 - val_auc: 0.9730 - val_specificity: 0.1111 - val_sensitivity: 0.0909 - val_mcc: 0.1878\n",
            "Epoch 9/25\n",
            "261/261 [==============================] - 44s 170ms/step - loss: 0.1007 - accuracy: 0.9538 - precision: 0.9558 - recall: 0.9521 - auc: 0.9967 - specificity: 0.1762 - sensitivity: 0.0805 - mcc: 0.2079 - val_loss: 0.8049 - val_accuracy: 0.7844 - val_precision: 0.7925 - val_recall: 0.7811 - val_auc: 0.9326 - val_specificity: 0.0808 - val_sensitivity: 0.0758 - val_mcc: 0.1954\n",
            "Epoch 10/25\n",
            "261/261 [==============================] - 45s 171ms/step - loss: 0.1020 - accuracy: 0.9534 - precision: 0.9551 - recall: 0.9518 - auc: 0.9964 - specificity: 0.1264 - sensitivity: 0.0805 - mcc: 0.2079 - val_loss: 1.2599 - val_accuracy: 0.6918 - val_precision: 0.6941 - val_recall: 0.6831 - val_auc: 0.8785 - val_specificity: 0.1894 - val_sensitivity: 0.1515 - val_mcc: 0.2283\n"
          ]
        }
      ]
    },
    {
      "cell_type": "code",
      "metadata": {
        "id": "r6LKSxrV10ck"
      },
      "source": [
        "df = data(history)"
      ],
      "execution_count": null,
      "outputs": []
    },
    {
      "cell_type": "code",
      "metadata": {
        "colab": {
          "base_uri": "https://localhost:8080/",
          "height": 424
        },
        "outputId": "57eae322-5e7d-4712-a108-2e515b26e784",
        "id": "rFfd9zgd10cl"
      },
      "source": [
        "df"
      ],
      "execution_count": null,
      "outputs": [
        {
          "output_type": "execute_result",
          "data": {
            "text/html": [
              "\n",
              "  <div id=\"df-faa280df-a5d0-43e0-b9b0-d9f604bedebd\">\n",
              "    <div class=\"colab-df-container\">\n",
              "      <div>\n",
              "<style scoped>\n",
              "    .dataframe tbody tr th:only-of-type {\n",
              "        vertical-align: middle;\n",
              "    }\n",
              "\n",
              "    .dataframe tbody tr th {\n",
              "        vertical-align: top;\n",
              "    }\n",
              "\n",
              "    .dataframe thead th {\n",
              "        text-align: right;\n",
              "    }\n",
              "</style>\n",
              "<table border=\"1\" class=\"dataframe\">\n",
              "  <thead>\n",
              "    <tr style=\"text-align: right;\">\n",
              "      <th></th>\n",
              "      <th>Accuracy</th>\n",
              "      <th>Validation Accuracy</th>\n",
              "      <th>Loss</th>\n",
              "      <th>Validation Loss</th>\n",
              "      <th>Recall</th>\n",
              "      <th>Validation Recall</th>\n",
              "      <th>Precision</th>\n",
              "      <th>Validation Precision</th>\n",
              "      <th>AUC</th>\n",
              "      <th>Validation AUC</th>\n",
              "      <th>Specificity</th>\n",
              "      <th>Validation Specificity</th>\n",
              "      <th>Sensitivity</th>\n",
              "      <th>Validation Sensitivity</th>\n",
              "      <th>MCC</th>\n",
              "      <th>Validation MCC</th>\n",
              "    </tr>\n",
              "  </thead>\n",
              "  <tbody>\n",
              "    <tr>\n",
              "      <th>0</th>\n",
              "      <td>0.809415</td>\n",
              "      <td>0.521843</td>\n",
              "      <td>0.442766</td>\n",
              "      <td>1.712570</td>\n",
              "      <td>0.781674</td>\n",
              "      <td>0.499280</td>\n",
              "      <td>0.833953</td>\n",
              "      <td>0.527919</td>\n",
              "      <td>0.955454</td>\n",
              "      <td>0.771560</td>\n",
              "      <td>0.134100</td>\n",
              "      <td>0.090909</td>\n",
              "      <td>0.091954</td>\n",
              "      <td>0.075758</td>\n",
              "      <td>0.192105</td>\n",
              "      <td>0.148869</td>\n",
              "    </tr>\n",
              "    <tr>\n",
              "      <th>1</th>\n",
              "      <td>0.879428</td>\n",
              "      <td>0.763802</td>\n",
              "      <td>0.274659</td>\n",
              "      <td>0.722051</td>\n",
              "      <td>0.868620</td>\n",
              "      <td>0.756601</td>\n",
              "      <td>0.888793</td>\n",
              "      <td>0.773687</td>\n",
              "      <td>0.979661</td>\n",
              "      <td>0.937961</td>\n",
              "      <td>0.145594</td>\n",
              "      <td>0.196970</td>\n",
              "      <td>0.088123</td>\n",
              "      <td>0.045455</td>\n",
              "      <td>0.200010</td>\n",
              "      <td>0.204659</td>\n",
              "    </tr>\n",
              "    <tr>\n",
              "      <th>2</th>\n",
              "      <td>0.906449</td>\n",
              "      <td>0.879501</td>\n",
              "      <td>0.209814</td>\n",
              "      <td>0.336627</td>\n",
              "      <td>0.900204</td>\n",
              "      <td>0.873260</td>\n",
              "      <td>0.912033</td>\n",
              "      <td>0.889487</td>\n",
              "      <td>0.986963</td>\n",
              "      <td>0.979389</td>\n",
              "      <td>0.118774</td>\n",
              "      <td>0.151515</td>\n",
              "      <td>0.065134</td>\n",
              "      <td>0.136364</td>\n",
              "      <td>0.192645</td>\n",
              "      <td>0.213866</td>\n",
              "    </tr>\n",
              "    <tr>\n",
              "      <th>3</th>\n",
              "      <td>0.917617</td>\n",
              "      <td>0.853096</td>\n",
              "      <td>0.177857</td>\n",
              "      <td>0.466895</td>\n",
              "      <td>0.913414</td>\n",
              "      <td>0.844935</td>\n",
              "      <td>0.922946</td>\n",
              "      <td>0.859795</td>\n",
              "      <td>0.990315</td>\n",
              "      <td>0.963895</td>\n",
              "      <td>0.134100</td>\n",
              "      <td>0.053030</td>\n",
              "      <td>0.084291</td>\n",
              "      <td>0.090909</td>\n",
              "      <td>0.191618</td>\n",
              "      <td>0.175422</td>\n",
              "    </tr>\n",
              "    <tr>\n",
              "      <th>4</th>\n",
              "      <td>0.930827</td>\n",
              "      <td>0.816611</td>\n",
              "      <td>0.150066</td>\n",
              "      <td>0.534950</td>\n",
              "      <td>0.927585</td>\n",
              "      <td>0.812290</td>\n",
              "      <td>0.934769</td>\n",
              "      <td>0.824160</td>\n",
              "      <td>0.992541</td>\n",
              "      <td>0.960746</td>\n",
              "      <td>0.137931</td>\n",
              "      <td>0.098485</td>\n",
              "      <td>0.137931</td>\n",
              "      <td>0.045455</td>\n",
              "      <td>0.210319</td>\n",
              "      <td>0.177273</td>\n",
              "    </tr>\n",
              "    <tr>\n",
              "      <th>5</th>\n",
              "      <td>0.943797</td>\n",
              "      <td>0.829093</td>\n",
              "      <td>0.122683</td>\n",
              "      <td>0.594392</td>\n",
              "      <td>0.941996</td>\n",
              "      <td>0.826212</td>\n",
              "      <td>0.946543</td>\n",
              "      <td>0.835437</td>\n",
              "      <td>0.994508</td>\n",
              "      <td>0.955524</td>\n",
              "      <td>0.137931</td>\n",
              "      <td>0.151515</td>\n",
              "      <td>0.084291</td>\n",
              "      <td>0.075758</td>\n",
              "      <td>0.223470</td>\n",
              "      <td>0.228415</td>\n",
              "    </tr>\n",
              "    <tr>\n",
              "      <th>6</th>\n",
              "      <td>0.950642</td>\n",
              "      <td>0.840134</td>\n",
              "      <td>0.105537</td>\n",
              "      <td>0.577115</td>\n",
              "      <td>0.949201</td>\n",
              "      <td>0.835334</td>\n",
              "      <td>0.952289</td>\n",
              "      <td>0.845070</td>\n",
              "      <td>0.995852</td>\n",
              "      <td>0.958466</td>\n",
              "      <td>0.114943</td>\n",
              "      <td>0.106061</td>\n",
              "      <td>0.095785</td>\n",
              "      <td>0.075758</td>\n",
              "      <td>0.204582</td>\n",
              "      <td>0.200999</td>\n",
              "    </tr>\n",
              "    <tr>\n",
              "      <th>7</th>\n",
              "      <td>0.955206</td>\n",
              "      <td>0.888142</td>\n",
              "      <td>0.098029</td>\n",
              "      <td>0.421347</td>\n",
              "      <td>0.954125</td>\n",
              "      <td>0.883341</td>\n",
              "      <td>0.956768</td>\n",
              "      <td>0.890179</td>\n",
              "      <td>0.996482</td>\n",
              "      <td>0.972974</td>\n",
              "      <td>0.149425</td>\n",
              "      <td>0.111111</td>\n",
              "      <td>0.080460</td>\n",
              "      <td>0.090909</td>\n",
              "      <td>0.212584</td>\n",
              "      <td>0.187799</td>\n",
              "    </tr>\n",
              "    <tr>\n",
              "      <th>8</th>\n",
              "      <td>0.953765</td>\n",
              "      <td>0.784446</td>\n",
              "      <td>0.100708</td>\n",
              "      <td>0.804925</td>\n",
              "      <td>0.952084</td>\n",
              "      <td>0.781085</td>\n",
              "      <td>0.955756</td>\n",
              "      <td>0.792499</td>\n",
              "      <td>0.996704</td>\n",
              "      <td>0.932581</td>\n",
              "      <td>0.176245</td>\n",
              "      <td>0.080808</td>\n",
              "      <td>0.080460</td>\n",
              "      <td>0.075758</td>\n",
              "      <td>0.207886</td>\n",
              "      <td>0.195432</td>\n",
              "    </tr>\n",
              "    <tr>\n",
              "      <th>9</th>\n",
              "      <td>0.953405</td>\n",
              "      <td>0.691791</td>\n",
              "      <td>0.101988</td>\n",
              "      <td>1.259948</td>\n",
              "      <td>0.951843</td>\n",
              "      <td>0.683149</td>\n",
              "      <td>0.955055</td>\n",
              "      <td>0.694146</td>\n",
              "      <td>0.996384</td>\n",
              "      <td>0.878495</td>\n",
              "      <td>0.126437</td>\n",
              "      <td>0.189394</td>\n",
              "      <td>0.080460</td>\n",
              "      <td>0.151515</td>\n",
              "      <td>0.207881</td>\n",
              "      <td>0.228331</td>\n",
              "    </tr>\n",
              "  </tbody>\n",
              "</table>\n",
              "</div>\n",
              "      <button class=\"colab-df-convert\" onclick=\"convertToInteractive('df-faa280df-a5d0-43e0-b9b0-d9f604bedebd')\"\n",
              "              title=\"Convert this dataframe to an interactive table.\"\n",
              "              style=\"display:none;\">\n",
              "        \n",
              "  <svg xmlns=\"http://www.w3.org/2000/svg\" height=\"24px\"viewBox=\"0 0 24 24\"\n",
              "       width=\"24px\">\n",
              "    <path d=\"M0 0h24v24H0V0z\" fill=\"none\"/>\n",
              "    <path d=\"M18.56 5.44l.94 2.06.94-2.06 2.06-.94-2.06-.94-.94-2.06-.94 2.06-2.06.94zm-11 1L8.5 8.5l.94-2.06 2.06-.94-2.06-.94L8.5 2.5l-.94 2.06-2.06.94zm10 10l.94 2.06.94-2.06 2.06-.94-2.06-.94-.94-2.06-.94 2.06-2.06.94z\"/><path d=\"M17.41 7.96l-1.37-1.37c-.4-.4-.92-.59-1.43-.59-.52 0-1.04.2-1.43.59L10.3 9.45l-7.72 7.72c-.78.78-.78 2.05 0 2.83L4 21.41c.39.39.9.59 1.41.59.51 0 1.02-.2 1.41-.59l7.78-7.78 2.81-2.81c.8-.78.8-2.07 0-2.86zM5.41 20L4 18.59l7.72-7.72 1.47 1.35L5.41 20z\"/>\n",
              "  </svg>\n",
              "      </button>\n",
              "      \n",
              "  <style>\n",
              "    .colab-df-container {\n",
              "      display:flex;\n",
              "      flex-wrap:wrap;\n",
              "      gap: 12px;\n",
              "    }\n",
              "\n",
              "    .colab-df-convert {\n",
              "      background-color: #E8F0FE;\n",
              "      border: none;\n",
              "      border-radius: 50%;\n",
              "      cursor: pointer;\n",
              "      display: none;\n",
              "      fill: #1967D2;\n",
              "      height: 32px;\n",
              "      padding: 0 0 0 0;\n",
              "      width: 32px;\n",
              "    }\n",
              "\n",
              "    .colab-df-convert:hover {\n",
              "      background-color: #E2EBFA;\n",
              "      box-shadow: 0px 1px 2px rgba(60, 64, 67, 0.3), 0px 1px 3px 1px rgba(60, 64, 67, 0.15);\n",
              "      fill: #174EA6;\n",
              "    }\n",
              "\n",
              "    [theme=dark] .colab-df-convert {\n",
              "      background-color: #3B4455;\n",
              "      fill: #D2E3FC;\n",
              "    }\n",
              "\n",
              "    [theme=dark] .colab-df-convert:hover {\n",
              "      background-color: #434B5C;\n",
              "      box-shadow: 0px 1px 3px 1px rgba(0, 0, 0, 0.15);\n",
              "      filter: drop-shadow(0px 1px 2px rgba(0, 0, 0, 0.3));\n",
              "      fill: #FFFFFF;\n",
              "    }\n",
              "  </style>\n",
              "\n",
              "      <script>\n",
              "        const buttonEl =\n",
              "          document.querySelector('#df-faa280df-a5d0-43e0-b9b0-d9f604bedebd button.colab-df-convert');\n",
              "        buttonEl.style.display =\n",
              "          google.colab.kernel.accessAllowed ? 'block' : 'none';\n",
              "\n",
              "        async function convertToInteractive(key) {\n",
              "          const element = document.querySelector('#df-faa280df-a5d0-43e0-b9b0-d9f604bedebd');\n",
              "          const dataTable =\n",
              "            await google.colab.kernel.invokeFunction('convertToInteractive',\n",
              "                                                     [key], {});\n",
              "          if (!dataTable) return;\n",
              "\n",
              "          const docLinkHtml = 'Like what you see? Visit the ' +\n",
              "            '<a target=\"_blank\" href=https://colab.research.google.com/notebooks/data_table.ipynb>data table notebook</a>'\n",
              "            + ' to learn more about interactive tables.';\n",
              "          element.innerHTML = '';\n",
              "          dataTable['output_type'] = 'display_data';\n",
              "          await google.colab.output.renderOutput(dataTable, element);\n",
              "          const docLink = document.createElement('div');\n",
              "          docLink.innerHTML = docLinkHtml;\n",
              "          element.appendChild(docLink);\n",
              "        }\n",
              "      </script>\n",
              "    </div>\n",
              "  </div>\n",
              "  "
            ],
            "text/plain": [
              "   Accuracy  Validation Accuracy  ...       MCC  Validation MCC\n",
              "0  0.809415             0.521843  ...  0.192105        0.148869\n",
              "1  0.879428             0.763802  ...  0.200010        0.204659\n",
              "2  0.906449             0.879501  ...  0.192645        0.213866\n",
              "3  0.917617             0.853096  ...  0.191618        0.175422\n",
              "4  0.930827             0.816611  ...  0.210319        0.177273\n",
              "5  0.943797             0.829093  ...  0.223470        0.228415\n",
              "6  0.950642             0.840134  ...  0.204582        0.200999\n",
              "7  0.955206             0.888142  ...  0.212584        0.187799\n",
              "8  0.953765             0.784446  ...  0.207886        0.195432\n",
              "9  0.953405             0.691791  ...  0.207881        0.228331\n",
              "\n",
              "[10 rows x 16 columns]"
            ]
          },
          "metadata": {},
          "execution_count": 54
        }
      ]
    },
    {
      "cell_type": "code",
      "metadata": {
        "colab": {
          "base_uri": "https://localhost:8080/",
          "height": 934
        },
        "outputId": "d794f130-8de0-47c6-f1fd-64dbba9c31ab",
        "id": "Uz77A4U310cm"
      },
      "source": [
        "history_visualization(df)"
      ],
      "execution_count": null,
      "outputs": [
        {
          "output_type": "display_data",
          "data": {
            "image/png": "[encoded data removed]",
            "text/plain": [
              "<Figure size 1440x1152 with 8 Axes>"
            ]
          },
          "metadata": {}
        }
      ]
    },
    {
      "cell_type": "markdown",
      "metadata": {
        "id": "oKd1daRZ10cm"
      },
      "source": [
        "##Prediction"
      ]
    },
    {
      "cell_type": "code",
      "metadata": {
        "id": "bvNRIpUI10cn"
      },
      "source": [
        "model.load_weights(\"/content/model/my_best_model.epoch06-loss0.32.hdf5\")"
      ],
      "execution_count": null,
      "outputs": []
    },
    {
      "cell_type": "code",
      "metadata": {
        "colab": {
          "base_uri": "https://localhost:8080/"
        },
        "outputId": "9ab3b304-3193-4f8c-a866-3c3f8551cb70",
        "id": "QlxmCVFI10cn"
      },
      "source": [
        "test_generator = ImageDataGenerator(rescale=1./255)\n",
        "test_dataset = test_generator.flow_from_directory(directory=\"/content/drive/MyDrive/Special_Issue_COVID_Journal/original_dataset/test\", target_size=(HEIGHT, WIDTH), color_mode=\"rgb\", class_mode=\"categorical\", shuffle=False)"
      ],
      "execution_count": null,
      "outputs": [
        {
          "output_type": "stream",
          "name": "stdout",
          "text": [
            "Found 3254 images belonging to 4 classes.\n"
          ]
        }
      ]
    },
    {
      "cell_type": "code",
      "metadata": {
        "colab": {
          "base_uri": "https://localhost:8080/"
        },
        "outputId": "f6af83b4-a75a-4d95-8ba8-1643065e34d1",
        "id": "2X45r8GV10co"
      },
      "source": [
        "test_dataset.class_indices"
      ],
      "execution_count": null,
      "outputs": [
        {
          "output_type": "execute_result",
          "data": {
            "text/plain": [
              "{'COVID': 0, 'Lung opacity': 1, 'Normal': 2, 'Viral Pneumonia': 3}"
            ]
          },
          "metadata": {},
          "execution_count": 35
        }
      ]
    },
    {
      "cell_type": "code",
      "metadata": {
        "colab": {
          "base_uri": "https://localhost:8080/"
        },
        "outputId": "edccddb0-4336-42d2-dae0-4e1b7d3ec5df",
        "id": "yGB71Jy510cp"
      },
      "source": [
        "train_dataset.class_indices"
      ],
      "execution_count": null,
      "outputs": [
        {
          "output_type": "execute_result",
          "data": {
            "text/plain": [
              "{'COVID': 0, 'Lung opacity': 1, 'Normal': 2, 'Viral Pneumonia': 3}"
            ]
          },
          "metadata": {},
          "execution_count": 36
        }
      ]
    },
    {
      "cell_type": "code",
      "metadata": {
        "id": "SNLuVO9N10cp"
      },
      "source": [
        "predictions = model.predict(test_set)"
      ],
      "execution_count": null,
      "outputs": []
    },
    {
      "cell_type": "code",
      "metadata": {
        "id": "pOIA0fZC10cq"
      },
      "source": [
        "predictions_index = lb.inverse_transform(predictions)"
      ],
      "execution_count": null,
      "outputs": []
    },
    {
      "cell_type": "code",
      "metadata": {
        "colab": {
          "base_uri": "https://localhost:8080/"
        },
        "outputId": "d88b550c-b408-431c-8b89-d0025969bc47",
        "id": "4401lYIx10cq"
      },
      "source": [
        "predictions_index = lb.inverse_transform(predictions)\n",
        "print(classification_report(predictions_index, lb.inverse_transform(test_set.y)))"
      ],
      "execution_count": null,
      "outputs": [
        {
          "output_type": "stream",
          "name": "stdout",
          "text": [
            "                 precision    recall  f1-score   support\n",
            "\n",
            "          COVID       0.89      0.79      0.84       702\n",
            "   Lung opacity       0.87      0.87      0.87      1018\n",
            "         Normal       0.86      0.93      0.89      1230\n",
            "Viral Pneumonia       0.99      0.87      0.92       304\n",
            "\n",
            "       accuracy                           0.88      3254\n",
            "      macro avg       0.90      0.87      0.88      3254\n",
            "   weighted avg       0.88      0.88      0.88      3254\n",
            "\n"
          ]
        }
      ]
    },
    {
      "cell_type": "code",
      "metadata": {
        "colab": {
          "base_uri": "https://localhost:8080/",
          "height": 708
        },
        "outputId": "c57e9139-6d22-4f23-a959-7ebe1ff62d2a",
        "id": "gW2dOb1m10cr"
      },
      "source": [
        "plt.figure(figsize=(15, 12))\n",
        "cm = confusion_matrix(predictions_index, lb.inverse_transform(test_set.y))\n",
        "df_cm = pd.DataFrame(cm, index = [i for i in lb.classes_],\n",
        "                  columns = [i for i in lb.classes_])\n",
        "sns.set(font_scale=1.4)\n",
        "sns.heatmap(df_cm, annot=True, annot_kws={\"size\": 16}, fmt='g') \n",
        "plt.show()"
      ],
      "execution_count": null,
      "outputs": [
        {
          "output_type": "display_data",
          "data": {
            "image/png": "[encoded data removed]",
            "text/plain": [
              "<Figure size 1080x864 with 2 Axes>"
            ]
          },
          "metadata": {}
        }
      ]
    },
    {
      "cell_type": "code",
      "source": [
        "from sklearn.preprocessing import LabelBinarizer\n",
        "from sklearn.metrics import auc, roc_curve, roc_auc_score\n",
        "bin = LabelBinarizer()\n",
        "x_test = bin.fit_transform(lb.inverse_transform(test_set.y))\n",
        "pred = bin.transform(predictions_index)\n",
        "print(roc_auc_score(x_test, pred))"
      ],
      "metadata": {
        "colab": {
          "base_uri": "https://localhost:8080/"
        },
        "id": "ErEe60HYXnZR",
        "outputId": "74ad35b1-9b5e-4702-b5ba-1d663da088ab"
      },
      "execution_count": null,
      "outputs": [
        {
          "output_type": "stream",
          "name": "stdout",
          "text": [
            "0.9288538430018995\n"
          ]
        }
      ]
    },
    {
      "cell_type": "code",
      "source": [
        "tf.keras.models.save_model(model, \"/content/custom2\")"
      ],
      "metadata": {
        "colab": {
          "base_uri": "https://localhost:8080/"
        },
        "id": "NFux15P6Xn-0",
        "outputId": "8b4333a9-d2de-4175-bf60-ba900bc922d2"
      },
      "execution_count": null,
      "outputs": [
        {
          "output_type": "stream",
          "name": "stdout",
          "text": [
            "INFO:tensorflow:Assets written to: /content/custom2/assets\n"
          ]
        },
        {
          "output_type": "stream",
          "name": "stderr",
          "text": [
            "/usr/local/lib/python3.7/dist-packages/keras/engine/functional.py:1410: CustomMaskWarning: Custom mask layers require a config and must override get_config. When loading, the custom mask layer must be passed to the custom_objects argument.\n",
            "  layer_config = serialize_layer_fn(layer)\n",
            "/usr/local/lib/python3.7/dist-packages/keras/saving/saved_model/layer_serialization.py:112: CustomMaskWarning: Custom mask layers require a config and must override get_config. When loading, the custom mask layer must be passed to the custom_objects argument.\n",
            "  return generic_utils.serialize_keras_object(obj)\n"
          ]
        }
      ]
    },
    {
      "cell_type": "code",
      "source": [
        "!zip -r /content/2.zip /content/custom2"
      ],
      "metadata": {
        "colab": {
          "base_uri": "https://localhost:8080/"
        },
        "id": "yexPmQ4mXtY_",
        "outputId": "67268f33-1523-4c2a-e97c-dfca84df2633"
      },
      "execution_count": null,
      "outputs": [
        {
          "output_type": "stream",
          "name": "stdout",
          "text": [
            "  adding: content/custom2/ (stored 0%)\n",
            "  adding: content/custom2/assets/ (stored 0%)\n",
            "  adding: content/custom2/keras_metadata.pb (deflated 94%)\n",
            "  adding: content/custom2/saved_model.pb (deflated 92%)\n",
            "  adding: content/custom2/variables/ (stored 0%)\n",
            "  adding: content/custom2/variables/variables.index (deflated 80%)\n",
            "  adding: content/custom2/variables/variables.data-00000-of-00001 (deflated 8%)\n"
          ]
        }
      ]
    }
  ]
}