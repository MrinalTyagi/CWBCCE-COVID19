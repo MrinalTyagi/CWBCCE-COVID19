{
  "cells": [
    {
      "cell_type": "markdown",
      "metadata": {
        "id": "3CzQfhzaAqDL"
      },
      "source": [
        "#Importing libraries and dataset"
      ]
    },
    {
      "cell_type": "code",
      "execution_count": null,
      "metadata": {
        "colab": {
          "base_uri": "https://localhost:8080/"
        },
        "id": "z0M4L8hRKLLA",
        "outputId": "2c067dca-6d85-4e5e-9d2f-2084ecdc0dfb"
      },
      "outputs": [
        {
          "name": "stdout",
          "output_type": "stream",
          "text": [
            "Cloning into 'vizgradcam'...\n",
            "remote: Enumerating objects: 67, done.\u001b[K\n",
            "remote: Counting objects: 100% (67/67), done.\u001b[K\n",
            "remote: Compressing objects: 100% (61/61), done.\u001b[K\n",
            "remote: Total 67 (delta 32), reused 24 (delta 6), pack-reused 0\u001b[K\n",
            "Unpacking objects: 100% (67/67), done.\n"
          ]
        }
      ],
      "source": [
        "!git clone https://github.com/gkeechin/vizgradcam"
      ]
    },
    {
      "cell_type": "code",
      "execution_count": null,
      "metadata": {
        "colab": {
          "base_uri": "https://localhost:8080/"
        },
        "id": "QOMbmGgtKLyO",
        "outputId": "d3de4104-1dd0-4dfa-d453-b257cfa5a290"
      },
      "outputs": [
        {
          "name": "stdout",
          "output_type": "stream",
          "text": [
            "/content/vizgradcam\n"
          ]
        }
      ],
      "source": [
        "cd /content/vizgradcam"
      ]
    },
    {
      "cell_type": "code",
      "execution_count": null,
      "metadata": {
        "colab": {
          "base_uri": "https://localhost:8080/"
        },
        "id": "7U-O30cdKL1H",
        "outputId": "a2639469-a1cd-4af8-d9cd-446166056492"
      },
      "outputs": [
        {
          "name": "stdout",
          "output_type": "stream",
          "text": [
            "Collecting lime\n",
            "  Downloading lime-0.2.0.1.tar.gz (275 kB)\n",
            "\u001b[?25l\r\u001b[K     |█▏                              | 10 kB 39.0 MB/s eta 0:00:01\r\u001b[K     |██▍                             | 20 kB 23.8 MB/s eta 0:00:01\r\u001b[K     |███▋                            | 30 kB 12.0 MB/s eta 0:00:01\r\u001b[K     |████▊                           | 40 kB 9.9 MB/s eta 0:00:01\r\u001b[K     |██████                          | 51 kB 4.4 MB/s eta 0:00:01\r\u001b[K     |███████▏                        | 61 kB 4.8 MB/s eta 0:00:01\r\u001b[K     |████████▎                       | 71 kB 4.6 MB/s eta 0:00:01\r\u001b[K     |█████████▌                      | 81 kB 5.2 MB/s eta 0:00:01\r\u001b[K     |██████████▊                     | 92 kB 5.1 MB/s eta 0:00:01\r\u001b[K     |███████████▉                    | 102 kB 4.2 MB/s eta 0:00:01\r\u001b[K     |█████████████                   | 112 kB 4.2 MB/s eta 0:00:01\r\u001b[K     |██████████████▎                 | 122 kB 4.2 MB/s eta 0:00:01\r\u001b[K     |███████████████▌                | 133 kB 4.2 MB/s eta 0:00:01\r\u001b[K     |████████████████▋               | 143 kB 4.2 MB/s eta 0:00:01\r\u001b[K     |█████████████████▉              | 153 kB 4.2 MB/s eta 0:00:01\r\u001b[K     |███████████████████             | 163 kB 4.2 MB/s eta 0:00:01\r\u001b[K     |████████████████████▏           | 174 kB 4.2 MB/s eta 0:00:01\r\u001b[K     |█████████████████████▍          | 184 kB 4.2 MB/s eta 0:00:01\r\u001b[K     |██████████████████████▋         | 194 kB 4.2 MB/s eta 0:00:01\r\u001b[K     |███████████████████████▊        | 204 kB 4.2 MB/s eta 0:00:01\r\u001b[K     |█████████████████████████       | 215 kB 4.2 MB/s eta 0:00:01\r\u001b[K     |██████████████████████████▏     | 225 kB 4.2 MB/s eta 0:00:01\r\u001b[K     |███████████████████████████▍    | 235 kB 4.2 MB/s eta 0:00:01\r\u001b[K     |████████████████████████████▌   | 245 kB 4.2 MB/s eta 0:00:01\r\u001b[K     |█████████████████████████████▊  | 256 kB 4.2 MB/s eta 0:00:01\r\u001b[K     |███████████████████████████████ | 266 kB 4.2 MB/s eta 0:00:01\r\u001b[K     |████████████████████████████████| 275 kB 4.2 MB/s \n",
            "\u001b[?25hRequirement already satisfied: matplotlib in /usr/local/lib/python3.7/dist-packages (from lime) (3.2.2)\n",
            "Requirement already satisfied: numpy in /usr/local/lib/python3.7/dist-packages (from lime) (1.19.5)\n",
            "Requirement already satisfied: scipy in /usr/local/lib/python3.7/dist-packages (from lime) (1.4.1)\n",
            "Requirement already satisfied: tqdm in /usr/local/lib/python3.7/dist-packages (from lime) (4.62.3)\n",
            "Requirement already satisfied: scikit-learn>=0.18 in /usr/local/lib/python3.7/dist-packages (from lime) (1.0.2)\n",
            "Requirement already satisfied: scikit-image>=0.12 in /usr/local/lib/python3.7/dist-packages (from lime) (0.18.3)\n",
            "Requirement already satisfied: pillow!=7.1.0,!=7.1.1,>=4.3.0 in /usr/local/lib/python3.7/dist-packages (from scikit-image>=0.12->lime) (7.1.2)\n",
            "Requirement already satisfied: PyWavelets>=1.1.1 in /usr/local/lib/python3.7/dist-packages (from scikit-image>=0.12->lime) (1.2.0)\n",
            "Requirement already satisfied: tifffile>=2019.7.26 in /usr/local/lib/python3.7/dist-packages (from scikit-image>=0.12->lime) (2021.11.2)\n",
            "Requirement already satisfied: imageio>=2.3.0 in /usr/local/lib/python3.7/dist-packages (from scikit-image>=0.12->lime) (2.4.1)\n",
            "Requirement already satisfied: networkx>=2.0 in /usr/local/lib/python3.7/dist-packages (from scikit-image>=0.12->lime) (2.6.3)\n",
            "Requirement already satisfied: cycler>=0.10 in /usr/local/lib/python3.7/dist-packages (from matplotlib->lime) (0.11.0)\n",
            "Requirement already satisfied: python-dateutil>=2.1 in /usr/local/lib/python3.7/dist-packages (from matplotlib->lime) (2.8.2)\n",
            "Requirement already satisfied: pyparsing!=2.0.4,!=2.1.2,!=2.1.6,>=2.0.1 in /usr/local/lib/python3.7/dist-packages (from matplotlib->lime) (3.0.6)\n",
            "Requirement already satisfied: kiwisolver>=1.0.1 in /usr/local/lib/python3.7/dist-packages (from matplotlib->lime) (1.3.2)\n",
            "Requirement already satisfied: six>=1.5 in /usr/local/lib/python3.7/dist-packages (from python-dateutil>=2.1->matplotlib->lime) (1.15.0)\n",
            "Requirement already satisfied: threadpoolctl>=2.0.0 in /usr/local/lib/python3.7/dist-packages (from scikit-learn>=0.18->lime) (3.0.0)\n",
            "Requirement already satisfied: joblib>=0.11 in /usr/local/lib/python3.7/dist-packages (from scikit-learn>=0.18->lime) (1.1.0)\n",
            "Building wheels for collected packages: lime\n",
            "  Building wheel for lime (setup.py) ... \u001b[?25l\u001b[?25hdone\n",
            "  Created wheel for lime: filename=lime-0.2.0.1-py3-none-any.whl size=283857 sha256=438ba5cce01ccadd50ec8a7057c6fad297a885f572442ee3430d23dc4152cba7\n",
            "  Stored in directory: /root/.cache/pip/wheels/ca/cb/e5/ac701e12d365a08917bf4c6171c0961bc880a8181359c66aa7\n",
            "Successfully built lime\n",
            "Installing collected packages: lime\n",
            "Successfully installed lime-0.2.0.1\n"
          ]
        }
      ],
      "source": [
        "!pip install lime\n",
        "\n",
        "import lime\n",
        "from lime import lime_image\n",
        "from skimage.segmentation import mark_boundaries\n",
        "import matplotlib.pyplot as plt\n",
        "import random"
      ]
    },
    {
      "cell_type": "code",
      "execution_count": null,
      "metadata": {
        "colab": {
          "base_uri": "https://localhost:8080/"
        },
        "id": "OWo9uWe0FHq9",
        "outputId": "e6295541-78af-46af-cc3c-d598b41f9b2f"
      },
      "outputs": [
        {
          "name": "stdout",
          "output_type": "stream",
          "text": [
            "Mounted at /content/drive\n"
          ]
        }
      ],
      "source": [
        "from google.colab import drive\n",
        "drive.mount('/content/drive')"
      ]
    },
    {
      "cell_type": "code",
      "execution_count": null,
      "metadata": {
        "id": "eIjVgo2MFUfX"
      },
      "outputs": [],
      "source": [
        "HEIGHT = 128\n",
        "WIDTH = 128\n",
        "CHANNELS = 3"
      ]
    },
    {
      "cell_type": "code",
      "execution_count": null,
      "metadata": {
        "id": "brQocH-3Abfy"
      },
      "outputs": [],
      "source": [
        "import numpy as np\n",
        "import pandas as pd\n",
        "import matplotlib.pyplot as plt\n",
        "import keras\n",
        "from keras.preprocessing.image import ImageDataGenerator\n",
        "import tensorflow as tf\n",
        "import os\n",
        "from matplotlib.pyplot import imread\n",
        "from sklearn.model_selection import train_test_split\n",
        "from sklearn.utils import class_weight\n",
        "from sklearn.preprocessing import LabelBinarizer, LabelEncoder\n",
        "import cv2\n",
        "from sklearn.metrics import confusion_matrix\n",
        "import seaborn as sns\n",
        "from sklearn.metrics import matthews_corrcoef\n",
        "from sklearn.metrics import classification_report\n",
        "from sklearn.metrics import plot_confusion_matrix\n",
        "import keras.backend as K\n",
        "import warnings\n",
        "from sklearn.utils import compute_class_weight\n",
        "import pywt"
      ]
    },
    {
      "cell_type": "code",
      "execution_count": null,
      "metadata": {
        "id": "jlbVAMv49ugb"
      },
      "outputs": [],
      "source": [
        "tf.random.set_seed(42)"
      ]
    },
    {
      "cell_type": "code",
      "execution_count": null,
      "metadata": {
        "id": "9rEIXZWpowEg"
      },
      "outputs": [],
      "source": [
        "images = []\n",
        "classes_labels = []\n",
        "for i in os.listdir(\"/content/drive/MyDrive/Special_Issue_COVID_Journal/original_dataset/train\"):\n",
        "  class_path = f\"/content/drive/MyDrive/Special_Issue_COVID_Journal/original_dataset/train/{i}\"\n",
        "  # if(i == \"Lung opacity\"):\n",
        "  #   continue\n",
        "  for j in os.listdir(class_path):\n",
        "    file_path = f\"{class_path}/{j}\"\n",
        "    classes_labels.append(i)\n",
        "    images.append(cv2.resize(cv2.imread(file_path, 1), (HEIGHT, WIDTH)))"
      ]
    },
    {
      "cell_type": "code",
      "execution_count": null,
      "metadata": {
        "id": "cnrGY1KsnBAv"
      },
      "outputs": [],
      "source": [
        "test_images = []\n",
        "test_classes_labels = []\n",
        "for i in os.listdir(\"/content/drive/MyDrive/Special_Issue_COVID_Journal/original_dataset/test\"):\n",
        "  class_path = f\"/content/drive/MyDrive/Special_Issue_COVID_Journal/original_dataset/test/{i}\"\n",
        "  # if(i == \"Lung opacity\"):\n",
        "  #   continue\n",
        "  for j in os.listdir(class_path):\n",
        "    file_path = f\"{class_path}/{j}\"\n",
        "    test_classes_labels.append(i)\n",
        "    test_images.append(cv2.resize(cv2.imread(file_path, 1), (HEIGHT, WIDTH)))"
      ]
    },
    {
      "cell_type": "code",
      "execution_count": null,
      "metadata": {
        "id": "LfIFkuEao6ZX"
      },
      "outputs": [],
      "source": [
        "train_images, validation_images, train_labels, validation_labels = train_test_split(images, classes_labels, test_size = 0.2, random_state = 42)"
      ]
    },
    {
      "cell_type": "code",
      "execution_count": null,
      "metadata": {
        "id": "vy3_CxVA56KO"
      },
      "outputs": [],
      "source": [
        "from sklearn.utils import class_weight\n",
        "class_weights = class_weight.compute_class_weight(class_weight = 'balanced', classes = np.unique(train_labels), y = train_labels)"
      ]
    },
    {
      "cell_type": "code",
      "execution_count": null,
      "metadata": {
        "colab": {
          "base_uri": "https://localhost:8080/"
        },
        "id": "SpuhkFKD6vi8",
        "outputId": "f8224ff7-b77d-420f-b4e0-ed77cbf0f40c"
      },
      "outputs": [
        {
          "data": {
            "text/plain": [
              "array([1.30491474, 0.79914005, 0.60596181, 3.01157407])"
            ]
          },
          "execution_count": 12,
          "metadata": {},
          "output_type": "execute_result"
        }
      ],
      "source": [
        "class_weights"
      ]
    },
    {
      "cell_type": "code",
      "execution_count": null,
      "metadata": {
        "id": "m6fPSrI7652Q"
      },
      "outputs": [],
      "source": [
        "weights = dict(zip([0, 1, 2], class_weights))"
      ]
    },
    {
      "cell_type": "code",
      "execution_count": null,
      "metadata": {
        "colab": {
          "base_uri": "https://localhost:8080/"
        },
        "id": "jSf2fytC7CFT",
        "outputId": "38e25253-340b-4a8a-e83b-437f9bb92fc6"
      },
      "outputs": [
        {
          "data": {
            "text/plain": [
              "{0: 1.304914744232698, 1: 0.7991400491400491, 2: 0.6059618071727992}"
            ]
          },
          "execution_count": 14,
          "metadata": {},
          "output_type": "execute_result"
        }
      ],
      "source": [
        "weights"
      ]
    },
    {
      "cell_type": "code",
      "execution_count": null,
      "metadata": {
        "id": "0648ffaDo1s_"
      },
      "outputs": [],
      "source": [
        "train_images = np.asarray(train_images)\n",
        "validation_images = np.asarray(validation_images)\n",
        "train_labels = np.asarray(train_labels)\n",
        "validation_labels = np.asarray(validation_labels)"
      ]
    },
    {
      "cell_type": "code",
      "execution_count": null,
      "metadata": {
        "id": "dxfi26iktHk9"
      },
      "outputs": [],
      "source": [
        "from sklearn.preprocessing import LabelBinarizer\n",
        "lb = LabelBinarizer()\n",
        "train_labels = lb.fit_transform(train_labels)\n",
        "validation_labels = lb.transform(validation_labels)"
      ]
    },
    {
      "cell_type": "code",
      "execution_count": null,
      "metadata": {
        "id": "igFjNsUQncH7"
      },
      "outputs": [],
      "source": [
        "test_classes_labels = lb.transform(test_classes_labels)"
      ]
    },
    {
      "cell_type": "code",
      "execution_count": null,
      "metadata": {
        "id": "5_trUuGhnrNF"
      },
      "outputs": [],
      "source": [
        "test_images = np.asarray(test_images)\n",
        "test_classes_labels = np.asarray(test_classes_labels)"
      ]
    },
    {
      "cell_type": "markdown",
      "metadata": {
        "id": "TAlZ6dPHHTvf"
      },
      "source": [
        "#Data Visualization"
      ]
    },
    {
      "cell_type": "code",
      "execution_count": null,
      "metadata": {
        "id": "5b9qRnE2HPZZ"
      },
      "outputs": [],
      "source": [
        "def data(history):\n",
        "  return pd.DataFrame(data=list(zip(history.history[\"accuracy\"], history.history[\"val_accuracy\"], history.history[\"loss\"], history.history[\"val_loss\"], history.history[\"recall\"], history.history[\"val_recall\"], history.history[\"precision\"], history.history[\"val_precision\"], history.history[\"auc\"], history.history[\"val_auc\"], history.history[\"specificity\"], history.history[\"val_specificity\"], history.history[\"sensitivity\"], history.history[\"val_sensitivity\"], history.history[\"mcc\"], history.history[\"val_mcc\"])) , columns=[\"Accuracy\", \"Validation Accuracy\", \"Loss\", \"Validation Loss\", \"Recall\", \"Validation Recall\", \"Precision\", \"Validation Precision\", \"AUC\", \"Validation AUC\", \"Specificity\", \"Validation Specificity\" ,\"Sensitivity\", \"Validation Sensitivity\", \"MCC\", \"Validation MCC\"])"
      ]
    },
    {
      "cell_type": "code",
      "execution_count": null,
      "metadata": {
        "id": "erCsAa2CHXXD"
      },
      "outputs": [],
      "source": [
        "def history_visualization(df):\n",
        "  sns.set_style('darkgrid')\n",
        "  nrow = 4\n",
        "  ncol = 2\n",
        "  df_columns = df.columns\n",
        "  df_list = [df[col] for col in df]\n",
        "  titles=[\"Accuracy Visualization\", \"Loss Visualization\", \"Recall Visualization\", \"Precision Visualization\", \"AUC Visualization\", \"Specificity Visualization\", \"Sensitivity Visualization\", \"MCC Visualization\"]\n",
        "  fig, axes = plt.subplots(nrow, ncol, figsize=(20, 16))\n",
        "  count = 0\n",
        "  i = 0\n",
        "  for r in range(nrow):\n",
        "    for c in range(ncol):\n",
        "        df_list[count].plot(ax=axes[r,c], x=\"Number of Epochs\", legend=\"brief\", label=df_columns[count], marker=\"o\").set_title(titles[i])\n",
        "        df_list[count+1].plot(ax=axes[r, c], x=\"Number of Epochs\", legend=\"brief\" ,label=df_columns[count+1], marker=\"o\").set_title(titles[i])\n",
        "        i+=1\n",
        "        count+=2"
      ]
    },
    {
      "cell_type": "code",
      "execution_count": null,
      "metadata": {
        "id": "Gzzt0AHYHZ3p"
      },
      "outputs": [],
      "source": [
        "early_stoping = keras.callbacks.EarlyStopping(monitor=\"val_loss\", patience=5, restore_best_weights=True)"
      ]
    },
    {
      "cell_type": "markdown",
      "metadata": {
        "id": "D4nLRwZMHe6T"
      },
      "source": [
        "#Custom Metrics using Tensorflow"
      ]
    },
    {
      "cell_type": "code",
      "execution_count": null,
      "metadata": {
        "id": "VsSrpQjeHdDi"
      },
      "outputs": [],
      "source": [
        "def true_positive(y_true, y_pred):\n",
        "  y_true = tf.argmax(y_true)\n",
        "  y_pred = tf.argmax(y_pred)\n",
        "  res = tf.math.confusion_matrix(y_true, y_pred, dtype=tf.float32)\n",
        "  return tf.reduce_sum(tf.linalg.diag_part(res), axis = 0)\n",
        "\n",
        "def false_positive(y_true, y_pred):\n",
        "  y_true = tf.argmax(y_true)\n",
        "  y_pred = tf.argmax(y_pred)\n",
        "  res = tf.math.confusion_matrix(y_true, y_pred, dtype=tf.float32)\n",
        "  return tf.reduce_sum(tf.reduce_sum(res, axis = 1) - tf.linalg.diag_part(res), axis = 0)\n",
        "\n",
        "def false_negative(y_true, y_pred):\n",
        "  y_true = tf.argmax(y_true)\n",
        "  y_pred = tf.argmax(y_pred)\n",
        "  res = tf.math.confusion_matrix(y_true, y_pred, dtype=tf.float32)\n",
        "  return tf.reduce_sum(tf.reduce_sum(res, axis = 1) - tf.linalg.diag_part(res), axis = 0)\n",
        "\n",
        "def true_negative(y_true, y_pred):\n",
        "  y_true_res = tf.argmax(y_true)\n",
        "  y_pred_res = tf.argmax(y_pred)\n",
        "  res = tf.math.confusion_matrix(y_true_res, y_pred_res, dtype=tf.float32)\n",
        "  return tf.reduce_sum(tf.reduce_sum(res, axis = 1), axis=0) - (false_negative(y_true, y_pred) + false_positive(y_true, y_pred) + true_positive(y_true, y_pred))"
      ]
    },
    {
      "cell_type": "code",
      "execution_count": null,
      "metadata": {
        "id": "LOKtWzdJHnCa"
      },
      "outputs": [],
      "source": [
        "def sensitivity(y_true, y_pred):\n",
        "    y_actual = tf.argmax(y_true).numpy()\n",
        "    y_hat = tf.argmax(y_pred).numpy()\n",
        "    TP = 0\n",
        "    FP = 0\n",
        "    TN = 0\n",
        "    FN = 0\n",
        "    for i in range(len(y_hat)): \n",
        "        if y_actual[i]==y_hat[i]==1:\n",
        "           TP += 1\n",
        "        if y_hat[i]==1 and y_actual[i]!=y_hat[i]:\n",
        "           FP += 1\n",
        "        if y_actual[i]==y_hat[i]==0:\n",
        "           TN += 1\n",
        "        if y_hat[i]==0 and y_actual[i]!=y_hat[i]:\n",
        "           FN += 1\n",
        "    num = float(TP)\n",
        "    den = float(TP + FN + K.epsilon())\n",
        "    if den == 0.0:\n",
        "      return tf.constant(0.0, dtype=tf.float32)\n",
        "    return tf.constant(float(num/den), dtype=tf.float32)\n",
        "\n",
        "def specificity(y_true, y_pred):\n",
        "    y_actual = tf.argmax(y_true).numpy()\n",
        "    y_hat = tf.argmax(y_pred).numpy()\n",
        "    TP = 0\n",
        "    FP = 0\n",
        "    TN = 0\n",
        "    FN = 0\n",
        "    for i in range(len(y_hat)): \n",
        "        if y_actual[i]==y_hat[i]==1:\n",
        "           TP += 1\n",
        "        if y_hat[i]==1 and y_actual[i]!=y_hat[i]:\n",
        "           FP += 1\n",
        "        if y_actual[i]==y_hat[i]==0:\n",
        "           TN += 1\n",
        "        if y_hat[i]==0 and y_actual[i]!=y_hat[i]:\n",
        "           FN += 1\n",
        "    num = float(TN)\n",
        "    den = float(TN + FP + K.epsilon())\n",
        "    if den == 0.0:\n",
        "      return tf.constant(0.0, dtype=tf.float32)\n",
        "    return tf.constant(float(num/den), dtype=tf.float32)"
      ]
    },
    {
      "cell_type": "code",
      "execution_count": null,
      "metadata": {
        "id": "Yo4K5FsSHoka"
      },
      "outputs": [],
      "source": [
        "def mcc(y_true, y_pred):\n",
        "  y_true = tf.argmax(y_true).numpy()\n",
        "  y_pred = tf.argmax(y_pred).numpy()\n",
        "\n",
        "  return tf.constant(matthews_corrcoef(y_true, y_pred))"
      ]
    },
    {
      "cell_type": "code",
      "execution_count": null,
      "metadata": {
        "id": "ecC2g5uhnr10"
      },
      "outputs": [],
      "source": [
        "def f1_score(y_true, y_pred): \n",
        "  true_positives = K.sum(K.round(K.clip(y_true * y_pred, 0, 1)))\n",
        "  possible_positives = K.sum(K.round(K.clip(y_true, 0, 1)))\n",
        "  predicted_positives = K.sum(K.round(K.clip(y_pred, 0, 1)))\n",
        "  precision = true_positives / (predicted_positives + K.epsilon())\n",
        "  recall = true_positives / (possible_positives + K.epsilon())\n",
        "  f1_val = 2*(precision*recall)/(precision+recall+K.epsilon())\n",
        "  return f1_val"
      ]
    },
    {
      "cell_type": "code",
      "execution_count": null,
      "metadata": {
        "id": "CGHfyP7QXYbC"
      },
      "outputs": [],
      "source": [
        "class ThresholdCallback(keras.callbacks.Callback):\n",
        "  def __init__(self, threshold):\n",
        "    self.threshold = threshold\n",
        "  def on_epoch_end(self, epoch, logs={}):\n",
        "    if(logs.get(\"val_loss\") < self.threshold):\n",
        "      self.model.stop_training = True"
      ]
    },
    {
      "cell_type": "markdown",
      "metadata": {
        "id": "bDfub9JSuf4Z"
      },
      "source": [
        "#Image Generator"
      ]
    },
    {
      "cell_type": "code",
      "execution_count": null,
      "metadata": {
        "id": "e1Z1cRWE33gI"
      },
      "outputs": [],
      "source": [
        "import collections, numpy"
      ]
    },
    {
      "cell_type": "code",
      "execution_count": null,
      "metadata": {
        "id": "Hl5gOABpzxLh"
      },
      "outputs": [],
      "source": [
        "from collections import Counter"
      ]
    },
    {
      "cell_type": "code",
      "execution_count": null,
      "metadata": {
        "id": "lcdtEtJomKQF"
      },
      "outputs": [],
      "source": [
        "num_images = [3143, 5084, 6728, 1345]"
      ]
    },
    {
      "cell_type": "code",
      "execution_count": null,
      "metadata": {
        "colab": {
          "base_uri": "https://localhost:8080/"
        },
        "id": "Nsut_nfNmo_q",
        "outputId": "9e60086b-3798-4e81-c19e-fc32d929d286"
      },
      "outputs": [
        {
          "data": {
            "text/plain": [
              "16300"
            ]
          },
          "execution_count": 30,
          "metadata": {},
          "output_type": "execute_result"
        }
      ],
      "source": [
        "sum(num_images)"
      ]
    },
    {
      "cell_type": "code",
      "execution_count": null,
      "metadata": {
        "id": "y2HThrUemXTz"
      },
      "outputs": [],
      "source": [
        "num_classes = len(num_images)-1"
      ]
    },
    {
      "cell_type": "code",
      "execution_count": null,
      "metadata": {
        "id": "mwp-gD0ImUlb"
      },
      "outputs": [],
      "source": [
        "beta_values = [(1 - (x / sum(num_images))) / num_classes for x in num_images]"
      ]
    },
    {
      "cell_type": "code",
      "execution_count": null,
      "metadata": {
        "id": "iXfTV3R6mfA5"
      },
      "outputs": [],
      "source": [
        "beta = dict(zip([0, 1, 2, 3], beta_values))"
      ]
    },
    {
      "cell_type": "code",
      "execution_count": null,
      "metadata": {
        "id": "yVJiACiRshUK"
      },
      "outputs": [],
      "source": [
        "image_generator = ImageDataGenerator(validation_split = 0.2, rescale=1./255)"
      ]
    },
    {
      "cell_type": "code",
      "execution_count": null,
      "metadata": {
        "id": "kmMF7RkQsruT"
      },
      "outputs": [],
      "source": [
        "train_dataset = image_generator.flow(train_images, train_labels, shuffle=True, subset=\"training\", seed=42)"
      ]
    },
    {
      "cell_type": "code",
      "execution_count": null,
      "metadata": {
        "id": "7dhu9Tjqsrwi"
      },
      "outputs": [],
      "source": [
        "validation_dataset = image_generator.flow(validation_images, validation_labels, shuffle=True, subset=\"training\", seed=42)"
      ]
    },
    {
      "cell_type": "code",
      "execution_count": null,
      "metadata": {
        "id": "4C9o0r-pnK2B"
      },
      "outputs": [],
      "source": [
        "test_generator = ImageDataGenerator(rescale=1./255)\n",
        "test_set = test_generator.flow(test_images, test_classes_labels, shuffle=False, seed=42)"
      ]
    },
    {
      "cell_type": "code",
      "execution_count": null,
      "metadata": {
        "colab": {
          "base_uri": "https://localhost:8080/"
        },
        "id": "PvA0K2-Om_y1",
        "outputId": "728834fe-41e0-419b-e624-19fc6a0b2d59"
      },
      "outputs": [
        {
          "data": {
            "text/plain": [
              "{0: 0.26905930470347644,\n",
              " 1: 0.22936605316973413,\n",
              " 2: 0.19574642126789366,\n",
              " 3: 0.3058282208588957}"
            ]
          },
          "execution_count": 38,
          "metadata": {},
          "output_type": "execute_result"
        }
      ],
      "source": [
        "beta"
      ]
    },
    {
      "cell_type": "code",
      "execution_count": null,
      "metadata": {
        "id": "icI9P9BzDkOz"
      },
      "outputs": [],
      "source": [
        "model_checkpoint = keras.callbacks.ModelCheckpoint(filepath=\"/content/model/my_best_model.epoch{epoch:02d}-loss{val_loss:.2f}.hdf5\", monitor=\"val_loss\", save_weights_only=True)"
      ]
    },
    {
      "cell_type": "code",
      "execution_count": null,
      "metadata": {
        "id": "zXsBfN5WXT3-"
      },
      "outputs": [],
      "source": [
        "early_stopping = keras.callbacks.EarlyStopping(patience = 7, monitor = \"val_loss\", restore_best_weights = True, mode=\"min\")"
      ]
    },
    {
      "cell_type": "code",
      "execution_count": null,
      "metadata": {
        "id": "yZNG-n6GXUXj"
      },
      "outputs": [],
      "source": [
        "threshold = ThresholdCallback(0.2)"
      ]
    },
    {
      "cell_type": "code",
      "execution_count": null,
      "metadata": {
        "id": "mR49FYOrGBmk"
      },
      "outputs": [],
      "source": [
        "os.mkdir(\"/content/model\")"
      ]
    },
    {
      "cell_type": "markdown",
      "metadata": {
        "id": "cB2V5my0XSKO"
      },
      "source": [
        "#GradCAM"
      ]
    },
    {
      "cell_type": "code",
      "execution_count": null,
      "metadata": {
        "id": "m9Te_jJbXjgI"
      },
      "outputs": [],
      "source": [
        "import cv2"
      ]
    },
    {
      "cell_type": "code",
      "execution_count": null,
      "metadata": {
        "id": "vCm64f-zXT83"
      },
      "outputs": [],
      "source": [
        "def make_gradcam(image,model,layer):\n",
        "  image = cv2.resize(image, (WIDTH, HEIGHT))\n",
        " \n",
        "  image_1 = np.expand_dims(image, axis=0)\n",
        "  preds = model.predict(image_1) \n",
        "  i = np.argmax(preds[0])\n",
        "  # image_1 = image_1.astype('float32') / 255\n",
        "  icam = GradCAM(model, i, layer) \n",
        "  heatmap = icam.compute_heatmap(image_1)\n",
        "  heatmap = cv2.resize(heatmap, (WIDTH, HEIGHT))\n",
        "  \n",
        "  (heatmap, output) = icam.overlay_heatmap(heatmap, image, alpha=0.7)\n",
        "  return heatmap,output,i"
      ]
    },
    {
      "cell_type": "code",
      "execution_count": null,
      "metadata": {
        "id": "PpD7sk2qYwNt"
      },
      "outputs": [],
      "source": [
        "from tensorflow.keras.models import Model\n",
        "import tensorflow as tf\n",
        "import numpy as np\n",
        "import cv2\n",
        "import matplotlib.pyplot as plt\n",
        "\n",
        "\n",
        "class GradCAM:\n",
        "    def __init__(self, model, classIdx, layerName=None):\n",
        "        # store the model, the class index used to measure the class\n",
        "        # activation map, and the layer to be used when visualizing\n",
        "        # the class activation map\n",
        "        self.model = model\n",
        "        self.classIdx = classIdx\n",
        "        self.layerName = layerName\n",
        "        # if the layer name is None, attempt to automatically find\n",
        "        # the target output layer\n",
        "        if self.layerName is None:\n",
        "            self.layerName = self.find_target_layer()\n",
        "\n",
        "    def find_target_layer(self):\n",
        "        # attempt to find the final convolutional layer in the network\n",
        "        # by looping over the layers of the network in reverse order\n",
        "        for layer in reversed(self.model.layers):\n",
        "            # check to see if the layer has a 4D output\n",
        "            if len(layer.output_shape) == 4:\n",
        "                return layer.name\n",
        "        # otherwise, we could not find a 4D layer so the GradCAM\n",
        "        # algorithm cannot be applied\n",
        "        raise ValueError(\"Could not find 4D layer. Cannot apply GradCAM.\")\n",
        "\n",
        "\n",
        "    def compute_heatmap(self, image, eps=1e-8):\n",
        "        # construct our gradient model by supplying (1) the inputs\n",
        "        # to our pre-trained model, (2) the output of the (presumably)\n",
        "        # final 4D layer in the network, and (3) the output of the\n",
        "        # softmax activations from the model\n",
        "        gradModel = Model(\n",
        "            inputs=[self.model.inputs],\n",
        "            outputs=[self.model.get_layer(self.layerName).output, self.model.output])\n",
        "\n",
        "        # record operations for automatic differentiation\n",
        "        with tf.GradientTape() as tape:\n",
        "            # cast the image tensor to a float-32 data type, pass the\n",
        "            # image through the gradient model, and grab the loss\n",
        "            # associated with the specific class index\n",
        "            inputs = tf.cast(image, tf.float32)\n",
        "            (convOutputs, predictions) = gradModel(inputs)\n",
        "            \n",
        "            loss = predictions[:, tf.argmax(predictions[0])]\n",
        "    \n",
        "        # use automatic differentiation to compute the gradients\n",
        "        grads = tape.gradient(loss, convOutputs)\n",
        "\n",
        "        # compute the guided gradients\n",
        "        castConvOutputs = tf.cast(convOutputs > 0, \"float32\")\n",
        "        castGrads = tf.cast(grads > 0, \"float32\")\n",
        "        guidedGrads = castConvOutputs * castGrads * grads\n",
        "        # the convolution and guided gradients have a batch dimension\n",
        "        # (which we don't need) so let's grab the volume itself and\n",
        "        # discard the batch\n",
        "        convOutputs = convOutputs[0]\n",
        "        guidedGrads = guidedGrads[0]\n",
        "\n",
        "        # compute the average of the gradient values, and using them\n",
        "        # as weights, compute the ponderation of the filters with\n",
        "        # respect to the weights\n",
        "        weights = tf.reduce_mean(guidedGrads, axis=(0, 1))\n",
        "        cam = tf.reduce_sum(tf.multiply(weights, convOutputs), axis=-1)\n",
        "\n",
        "        # grab the spatial dimensions of the input image and resize\n",
        "        # the output class activation map to match the input image\n",
        "        # dimensions\n",
        "        (w, h) = (image.shape[2], image.shape[1])\n",
        "        heatmap = cv2.resize(cam.numpy(), (w, h))\n",
        "        # normalize the heatmap such that all values lie in the range\n",
        "        # [0, 1], scale the resulting values to the range [0, 255],\n",
        "        # and then convert to an unsigned 8-bit integer\n",
        "        numer = heatmap - np.min(heatmap)\n",
        "        denom = (heatmap.max() - heatmap.min()) + eps\n",
        "        heatmap = numer / denom\n",
        "        heatmap = (heatmap * 255).astype(\"uint8\")\n",
        "        # return the resulting heatmap to the calling function\n",
        "        return heatmap\n",
        "\n",
        "    def overlay_heatmap(self, heatmap, image, alpha=0.5,\n",
        "                        colormap=cv2.COLORMAP_JET):\n",
        "        # apply the supplied color map to the heatmap and then\n",
        "        # overlay the heatmap on the input image\n",
        "        heatmap = cv2.applyColorMap(heatmap, colormap)\n",
        "        output = cv2.addWeighted(image, alpha, heatmap, 1 - alpha, 0)\n",
        "        # return a 2-tuple of the color mapped heatmap and the output,\n",
        "        # overlaid image\n",
        "        return (heatmap, output)"
      ]
    },
    {
      "cell_type": "markdown",
      "metadata": {
        "id": "27MK7hXqEGLd"
      },
      "source": [
        "#Base Resnet 18 Model"
      ]
    },
    {
      "cell_type": "code",
      "execution_count": null,
      "metadata": {
        "id": "DyAGOGKEEFrK"
      },
      "outputs": [],
      "source": [
        "from keras.callbacks import EarlyStopping\n",
        "from keras.layers import Dense, Conv2D,  MaxPool2D, Flatten, GlobalAveragePooling2D,  BatchNormalization, Layer, Add\n",
        "from keras.models import Sequential\n",
        "from keras.models import Model\n",
        "import tensorflow as tf\n",
        "KERNEL_SIZE = (3, 3)\n",
        "INIT_SCHEME = tf.keras.initializers.GlorotUniform()\n",
        "input = tf.keras.layers.Input(shape=(WIDTH, HEIGHT, CHANNELS))\n",
        "out = Conv2D(64, (7, 7), strides=2, padding=\"same\", kernel_initializer=tf.keras.initializers.GlorotUniform())(input)\n",
        "out = BatchNormalization()(out)\n",
        "out = MaxPool2D(pool_size=(2, 2), strides=2, padding=\"same\")(out)\n",
        "\n",
        "out1 = Conv2D(64, strides=1,kernel_size=KERNEL_SIZE, padding=\"same\", kernel_initializer=INIT_SCHEME)(out)\n",
        "out1 = BatchNormalization()(out1)\n",
        "out1 = tf.nn.relu(out1)\n",
        "out1 = Conv2D(64, strides=1,kernel_size=KERNEL_SIZE, padding=\"same\", kernel_initializer=INIT_SCHEME)(out1)\n",
        "out1 = BatchNormalization()(out1)\n",
        "out1 = Add()([out, out1])\n",
        "out1 = tf.nn.relu(out1)\n",
        "\n",
        "out2 = Conv2D(64, strides=1,kernel_size=KERNEL_SIZE, padding=\"same\", kernel_initializer=INIT_SCHEME)(out1)\n",
        "out2 = BatchNormalization()(out2)\n",
        "out2 = tf.nn.relu(out2)\n",
        "out2 = Conv2D(64, strides=1,kernel_size=KERNEL_SIZE, padding=\"same\", kernel_initializer=INIT_SCHEME)(out2)\n",
        "out2 = BatchNormalization()(out2)\n",
        "out2 = Add()([out1, out2])\n",
        "out2 = tf.nn.relu(out2)\n",
        "\n",
        "out3 = Conv2D(128, strides=2,kernel_size=KERNEL_SIZE, padding=\"same\", kernel_initializer=INIT_SCHEME)(out2)\n",
        "out3 = BatchNormalization()(out3)\n",
        "out3 = tf.nn.relu(out3)\n",
        "out3 = Conv2D(128, strides=1,kernel_size=KERNEL_SIZE, padding=\"same\", kernel_initializer=INIT_SCHEME)(out3)\n",
        "out3 = BatchNormalization()(out3)\n",
        "out2 = Conv2D(128, strides=2, kernel_size=(1, 1), kernel_initializer=INIT_SCHEME, padding=\"same\")(out2)\n",
        "out2 = BatchNormalization()(out2)\n",
        "out3 = Add()([out2, out3])\n",
        "out3 = tf.nn.relu(out3)\n",
        "\n",
        "out4 = Conv2D(128, strides=1,kernel_size=KERNEL_SIZE, padding=\"same\", kernel_initializer=INIT_SCHEME)(out3)\n",
        "out4 = BatchNormalization()(out4)\n",
        "out4 = tf.nn.relu(out4)\n",
        "out4 = Conv2D(128, strides=1,kernel_size=KERNEL_SIZE, padding=\"same\", kernel_initializer=INIT_SCHEME)(out4)\n",
        "out4 = BatchNormalization()(out4)\n",
        "out4 = Add()([out3, out4])\n",
        "out4 = tf.nn.relu(out4)\n",
        "\n",
        "out5 = Conv2D(256, strides=2,kernel_size=KERNEL_SIZE, padding=\"same\", kernel_initializer=INIT_SCHEME)(out4)\n",
        "out5 = BatchNormalization()(out5)\n",
        "out5 = tf.nn.relu(out5)\n",
        "out5 = Conv2D(256, strides=1,kernel_size=KERNEL_SIZE, padding=\"same\", kernel_initializer=INIT_SCHEME)(out5)\n",
        "out5 = BatchNormalization()(out5)\n",
        "out4 = Conv2D(256, strides=2, kernel_size=(1, 1), kernel_initializer=INIT_SCHEME, padding=\"same\")(out4)\n",
        "out4 = BatchNormalization()(out4)\n",
        "out5 = Add()([out4, out5])\n",
        "out5 = tf.nn.relu(out5)\n",
        "\n",
        "out6 = Conv2D(256, strides=1,kernel_size=KERNEL_SIZE, padding=\"same\", kernel_initializer=INIT_SCHEME)(out5)\n",
        "out6 = BatchNormalization()(out6)\n",
        "out6 = tf.nn.relu(out6)\n",
        "out6 = Conv2D(256, strides=1,kernel_size=KERNEL_SIZE, padding=\"same\", kernel_initializer=INIT_SCHEME)(out6)\n",
        "out6 = BatchNormalization()(out6)\n",
        "out6 = Add()([out5, out6])\n",
        "out6 = tf.nn.relu(out6)\n",
        "\n",
        "out7 = Conv2D(512, strides=2,kernel_size=KERNEL_SIZE, padding=\"same\", kernel_initializer=INIT_SCHEME)(out6)\n",
        "out7 = BatchNormalization()(out7)\n",
        "out7 = tf.nn.relu(out7)\n",
        "out7 = Conv2D(512, strides=1,kernel_size=KERNEL_SIZE, padding=\"same\", kernel_initializer=INIT_SCHEME)(out7)\n",
        "out7 = BatchNormalization()(out7)\n",
        "out6 = Conv2D(512, strides=2, kernel_size=(1, 1), kernel_initializer=INIT_SCHEME, padding=\"same\")(out6)\n",
        "out6 = BatchNormalization()(out6)\n",
        "out7 = Add()([out6, out7])\n",
        "out7 = tf.nn.relu(out7)\n",
        "\n",
        "out8 = Conv2D(512, strides=1,kernel_size=KERNEL_SIZE, padding=\"same\", kernel_initializer=INIT_SCHEME)(out7)\n",
        "out8 = BatchNormalization()(out8)\n",
        "out8 = tf.nn.relu(out8)\n",
        "out8 = Conv2D(512, strides=1,kernel_size=KERNEL_SIZE, padding=\"same\", kernel_initializer=INIT_SCHEME)(out8)\n",
        "out8 = BatchNormalization()(out8)\n",
        "out8 = Add()([out7, out8])\n",
        "out8 = tf.nn.relu(out8)\n",
        "\n",
        "out8 = GlobalAveragePooling2D()(out8)\n",
        "out = Flatten()(out8)\n",
        "out = Dense(4, activation=\"softmax\")(out)\n",
        "model = tf.keras.models.Model(inputs=[input], outputs=[out])\n",
        "model.compile(optimizer=\"adam\", loss=\"categorical_crossentropy\", metrics=[\"accuracy\", keras.metrics.Precision(), keras.metrics.Recall(), keras.metrics.AUC(), specificity, sensitivity, mcc], run_eagerly=True)"
      ]
    },
    {
      "cell_type": "code",
      "execution_count": null,
      "metadata": {
        "id": "oJIJJbB2iX7Y"
      },
      "outputs": [],
      "source": [
        "from keras.callbacks import EarlyStopping\n",
        "from keras.layers import Dense, Conv2D,  MaxPool2D, Flatten, GlobalAveragePooling2D,  BatchNormalization, Layer, Add\n",
        "from keras.models import Sequential\n",
        "from keras.models import Model\n",
        "import tensorflow as tf\n",
        "\n",
        "\n",
        "class ResnetBlock(Model):\n",
        "    \"\"\"\n",
        "    A standard resnet block.\n",
        "    \"\"\"\n",
        "\n",
        "    def __init__(self, channels: int, down_sample=False):\n",
        "        \"\"\"\n",
        "        channels: same as number of convolution kernels\n",
        "        \"\"\"\n",
        "        super().__init__()\n",
        "\n",
        "        self.__channels = channels\n",
        "        self.__down_sample = down_sample\n",
        "        self.__strides = [2, 1] if down_sample else [1, 1]\n",
        "\n",
        "        KERNEL_SIZE = (3, 3)\n",
        "        # use He initialization, instead of Xavier (a.k.a 'glorot_uniform' in Keras), as suggested in [2]\n",
        "        INIT_SCHEME = tf.keras.initializers.GlorotUniform()\n",
        "\n",
        "        self.conv_1 = Conv2D(self.__channels, strides=self.__strides[0],\n",
        "                             kernel_size=KERNEL_SIZE, padding=\"same\", kernel_initializer=INIT_SCHEME)\n",
        "        self.bn_1 = BatchNormalization()\n",
        "        self.conv_2 = Conv2D(self.__channels, strides=self.__strides[1],\n",
        "                             kernel_size=KERNEL_SIZE, padding=\"same\", kernel_initializer=INIT_SCHEME)\n",
        "        self.bn_2 = BatchNormalization()\n",
        "        self.merge = Add()\n",
        "\n",
        "        if self.__down_sample:\n",
        "            # perform down sampling using stride of 2, according to [1].\n",
        "            self.res_conv = Conv2D(\n",
        "                self.__channels, strides=2, kernel_size=(1, 1), kernel_initializer=INIT_SCHEME, padding=\"same\")\n",
        "            self.res_bn = BatchNormalization()\n",
        "\n",
        "    def call(self, inputs):\n",
        "        res = inputs\n",
        "\n",
        "        x = self.conv_1(inputs)\n",
        "        x = self.bn_1(x)\n",
        "        x = tf.nn.relu(x)\n",
        "        x = self.conv_2(x)\n",
        "        x = self.bn_2(x)\n",
        "\n",
        "        if self.__down_sample:\n",
        "            res = self.res_conv(res)\n",
        "            res = self.res_bn(res)\n",
        "\n",
        "        # if not perform down sample, then add a shortcut directly\n",
        "        x = self.merge([x, res])\n",
        "        out = tf.nn.relu(x)\n",
        "        return out\n",
        "\n",
        "\n",
        "class ResNet18(Model):\n",
        "\n",
        "    def __init__(self, **kwargs):\n",
        "\n",
        "        super().__init__(**kwargs)\n",
        "        self.conv_1 = Conv2D(64, (7, 7), strides=2,\n",
        "                             padding=\"same\", kernel_initializer=tf.keras.initializers.GlorotUniform())\n",
        "        self.init_bn = BatchNormalization()\n",
        "        self.pool_2 = MaxPool2D(pool_size=(2, 2), strides=2, padding=\"same\")\n",
        "        self.res_1_1 = ResnetBlock(64)\n",
        "        self.res_1_2 = ResnetBlock(64)\n",
        "        self.res_2_1 = ResnetBlock(128, down_sample=True)\n",
        "        self.res_2_2 = ResnetBlock(128)\n",
        "        self.res_3_1 = ResnetBlock(256, down_sample=True)\n",
        "        self.res_3_2 = ResnetBlock(256)\n",
        "        self.res_4_1 = ResnetBlock(512, down_sample=True)\n",
        "        self.res_4_2 = ResnetBlock(512)\n",
        "        self.avg_pool = GlobalAveragePooling2D()\n",
        "\n",
        "    def call(self, inputs):\n",
        "        out = self.conv_1(inputs)\n",
        "        out = self.init_bn(out)\n",
        "        out = tf.nn.relu(out)\n",
        "        out = self.pool_2(out)\n",
        "        for res_block in [self.res_1_1, self.res_1_2, self.res_2_1, self.res_2_2, self.res_3_1, self.res_3_2, self.res_4_1, self.res_4_2]:\n",
        "            out = res_block(out)\n",
        "        out = self.avg_pool(out)\n",
        "        return out"
      ]
    },
    {
      "cell_type": "code",
      "execution_count": null,
      "metadata": {
        "colab": {
          "base_uri": "https://localhost:8080/"
        },
        "id": "qOPhF7bAkJ2F",
        "outputId": "8bd52d76-03ea-4311-fe19-69a480ca55f3"
      },
      "outputs": [
        {
          "name": "stdout",
          "output_type": "stream",
          "text": [
            "Setting conv2d\n",
            "Setting batch_normalization\n",
            "Setting max_pooling2d\n",
            "Setting conv2d_1\n",
            "Setting batch_normalization_1\n",
            "Setting conv2d_2\n",
            "Setting batch_normalization_2\n",
            "Setting add\n",
            "Setting conv2d_3\n",
            "Setting batch_normalization_3\n",
            "Setting conv2d_4\n",
            "Setting batch_normalization_4\n",
            "Setting add_1\n",
            "Setting conv2d_5\n",
            "Setting batch_normalization_5\n",
            "Setting conv2d_7\n",
            "Setting conv2d_6\n",
            "Setting batch_normalization_7\n",
            "Setting batch_normalization_6\n",
            "Setting add_2\n",
            "Setting conv2d_8\n",
            "Setting batch_normalization_8\n",
            "Setting conv2d_9\n",
            "Setting batch_normalization_9\n",
            "Setting add_3\n",
            "Setting conv2d_10\n",
            "Setting batch_normalization_10\n",
            "Setting conv2d_12\n",
            "Setting conv2d_11\n",
            "Setting batch_normalization_12\n",
            "Setting batch_normalization_11\n",
            "Setting add_4\n",
            "Setting conv2d_13\n",
            "Setting batch_normalization_13\n",
            "Setting conv2d_14\n",
            "Setting batch_normalization_14\n",
            "Setting add_5\n",
            "Setting conv2d_15\n",
            "Setting batch_normalization_15\n",
            "Setting conv2d_17\n",
            "Setting conv2d_16\n",
            "Setting batch_normalization_17\n",
            "Setting batch_normalization_16\n",
            "Setting add_6\n",
            "Setting conv2d_18\n",
            "Setting batch_normalization_18\n",
            "Setting conv2d_19\n",
            "Setting batch_normalization_19\n",
            "Setting add_7\n",
            "Setting global_average_pooling2d\n",
            "Setting Global Average Pooling\n"
          ]
        }
      ],
      "source": [
        "base_model_2 = keras.models.load_model(\"/content/drive/MyDrive/Special_Issue_COVID_Journal/base_model_epooch_4\", custom_objects={\"res_net18\" : ResNet18, \"specificity\" : specificity, \"sensitivity\" : sensitivity, \"mcc\" : mcc, \"f1_score\" : f1_score})\n",
        "resnet_18 = base_model_2.get_layer(\"res_net18\")\n",
        "first_model = []\n",
        "first_weights = []\n",
        "second_model = []\n",
        "for i in resnet_18.layers:\n",
        "  if(\"resnet_block\" in i.name):\n",
        "    for j in resnet_18.get_layer(i.name).layers:\n",
        "      first_model.append(j.name)\n",
        "      first_weights.append(resnet_18.get_layer(i.name).get_layer(j.name).get_weights())\n",
        "  else:\n",
        "      first_model.append(i.name)\n",
        "      first_weights.append(resnet_18.get_layer(i.name).get_weights())\n",
        "for i in model.layers:\n",
        "  if \"tf.nn.relu\" in i.name:\n",
        "    continue\n",
        "  elif(i.name not in [\"input_1\", \"dense\", \"flatten\"]):\n",
        "    second_model.append(i.name)\n",
        "for i in second_model:\n",
        "  for index, j in enumerate(first_model):\n",
        "    if(i == j):\n",
        "      print(f\"Setting {i}\")\n",
        "      model.get_layer(i).set_weights(first_weights[index])\n",
        "for i in model.layers:\n",
        "  if('global_average' in i.name):\n",
        "    print(\"Setting Global Average Pooling\")\n",
        "    model.get_layer(i.name).set_weights(first_weights[-1])"
      ]
    },
    {
      "cell_type": "markdown",
      "metadata": {
        "id": "5uZZLFOKNTDg"
      },
      "source": [
        "#ResNet18 with custom weights III"
      ]
    },
    {
      "cell_type": "code",
      "execution_count": null,
      "metadata": {
        "id": "Twct13NjNVEc"
      },
      "outputs": [],
      "source": [
        "weights = {\n",
        "    0: 0.2785,\n",
        "    1: 0.248,\n",
        "    2: 0.2281,\n",
        "    3: 0.2562,\n",
        "}"
      ]
    },
    {
      "cell_type": "code",
      "execution_count": null,
      "metadata": {
        "colab": {
          "base_uri": "https://localhost:8080/"
        },
        "id": "AqVtrbFYNTDh",
        "outputId": "2a68a0af-130a-44a8-80ce-10980ba1701c"
      },
      "outputs": [
        {
          "name": "stdout",
          "output_type": "stream",
          "text": [
            "Epoch 1/25\n",
            "261/261 [==============================] - 58s 176ms/step - loss: 0.1117 - accuracy: 0.8343 - precision: 0.8540 - recall: 0.8141 - auc: 0.9645 - specificity: 0.1092 - sensitivity: 0.0613 - mcc: 0.2060 - val_loss: 2.9152 - val_accuracy: 0.5410 - val_precision: 0.5452 - val_recall: 0.5324 - val_auc: 0.7576 - val_specificity: 0.0985 - val_sensitivity: 0.1061 - val_mcc: 0.1969\n",
            "Epoch 2/25\n",
            "261/261 [==============================] - 46s 177ms/step - loss: 0.0719 - accuracy: 0.8930 - precision: 0.9016 - recall: 0.8858 - auc: 0.9838 - specificity: 0.1111 - sensitivity: 0.0920 - mcc: 0.2026 - val_loss: 0.5352 - val_accuracy: 0.8363 - val_precision: 0.8440 - val_recall: 0.8286 - val_auc: 0.9582 - val_specificity: 0.1439 - val_sensitivity: 0.0758 - val_mcc: 0.2163\n",
            "Epoch 3/25\n",
            "261/261 [==============================] - 46s 177ms/step - loss: 0.0581 - accuracy: 0.9143 - precision: 0.9189 - recall: 0.9098 - auc: 0.9885 - specificity: 0.1494 - sensitivity: 0.0613 - mcc: 0.2007 - val_loss: 1.1186 - val_accuracy: 0.4806 - val_precision: 0.4951 - val_recall: 0.4647 - val_auc: 0.8254 - val_specificity: 0.0909 - val_sensitivity: 0.1439 - val_mcc: 0.2258\n",
            "Epoch 4/25\n",
            "261/261 [==============================] - 46s 177ms/step - loss: 0.0489 - accuracy: 0.9291 - precision: 0.9326 - recall: 0.9245 - auc: 0.9919 - specificity: 0.1188 - sensitivity: 0.1073 - mcc: 0.1991 - val_loss: 0.6233 - val_accuracy: 0.7969 - val_precision: 0.8109 - val_recall: 0.7801 - val_auc: 0.9421 - val_specificity: 0.1212 - val_sensitivity: 0.1212 - val_mcc: 0.1896\n",
            "Epoch 5/25\n",
            "261/261 [==============================] - 46s 178ms/step - loss: 0.0371 - accuracy: 0.9456 - precision: 0.9479 - recall: 0.9439 - auc: 0.9950 - specificity: 0.1379 - sensitivity: 0.0996 - mcc: 0.2055 - val_loss: 0.6173 - val_accuracy: 0.7480 - val_precision: 0.7675 - val_recall: 0.7259 - val_auc: 0.9346 - val_specificity: 0.0833 - val_sensitivity: 0.1439 - val_mcc: 0.2090\n",
            "Epoch 6/25\n",
            "261/261 [==============================] - 46s 178ms/step - loss: 0.0334 - accuracy: 0.9527 - precision: 0.9544 - recall: 0.9505 - auc: 0.9958 - specificity: 0.1188 - sensitivity: 0.1111 - mcc: 0.2265 - val_loss: 0.8393 - val_accuracy: 0.6649 - val_precision: 0.7018 - val_recall: 0.6260 - val_auc: 0.8832 - val_specificity: 0.0758 - val_sensitivity: 0.1818 - val_mcc: 0.2030\n",
            "Epoch 7/25\n",
            "261/261 [==============================] - 46s 176ms/step - loss: 0.0240 - accuracy: 0.9641 - precision: 0.9649 - recall: 0.9634 - auc: 0.9976 - specificity: 0.1149 - sensitivity: 0.0805 - mcc: 0.2068 - val_loss: 1.2990 - val_accuracy: 0.6880 - val_precision: 0.6977 - val_recall: 0.6793 - val_auc: 0.8836 - val_specificity: 0.1439 - val_sensitivity: 0.1515 - val_mcc: 0.2292\n",
            "Epoch 8/25\n",
            "261/261 [==============================] - 46s 177ms/step - loss: 0.0231 - accuracy: 0.9654 - precision: 0.9658 - recall: 0.9641 - auc: 0.9981 - specificity: 0.1839 - sensitivity: 0.1226 - mcc: 0.2308 - val_loss: 0.5335 - val_accuracy: 0.8190 - val_precision: 0.8226 - val_recall: 0.8147 - val_auc: 0.9584 - val_specificity: 0.1263 - val_sensitivity: 0.0455 - val_mcc: 0.1647\n",
            "Epoch 9/25\n",
            "261/261 [==============================] - 46s 177ms/step - loss: 0.0178 - accuracy: 0.9737 - precision: 0.9743 - recall: 0.9733 - auc: 0.9986 - specificity: 0.1341 - sensitivity: 0.0766 - mcc: 0.2071 - val_loss: 0.4672 - val_accuracy: 0.8661 - val_precision: 0.8720 - val_recall: 0.8603 - val_auc: 0.9677 - val_specificity: 0.1263 - val_sensitivity: 0.0909 - val_mcc: 0.2331\n",
            "Epoch 10/25\n",
            "261/261 [==============================] - 46s 178ms/step - loss: 0.0243 - accuracy: 0.9658 - precision: 0.9669 - recall: 0.9640 - auc: 0.9977 - specificity: 0.1264 - sensitivity: 0.0651 - mcc: 0.1945 - val_loss: 2.5535 - val_accuracy: 0.5382 - val_precision: 0.5406 - val_recall: 0.5305 - val_auc: 0.7682 - val_specificity: 0.2045 - val_sensitivity: 0.1894 - val_mcc: 0.2245\n",
            "Epoch 11/25\n",
            "261/261 [==============================] - 46s 176ms/step - loss: 0.0094 - accuracy: 0.9856 - precision: 0.9858 - recall: 0.9852 - auc: 0.9997 - specificity: 0.1111 - sensitivity: 0.0881 - mcc: 0.2028 - val_loss: 0.3296 - val_accuracy: 0.9169 - val_precision: 0.9186 - val_recall: 0.9160 - val_auc: 0.9821 - val_specificity: 0.1212 - val_sensitivity: 0.1515 - val_mcc: 0.2089\n",
            "Epoch 12/25\n",
            "261/261 [==============================] - 46s 177ms/step - loss: 0.0104 - accuracy: 0.9844 - precision: 0.9844 - recall: 0.9841 - auc: 0.9993 - specificity: 0.1724 - sensitivity: 0.0843 - mcc: 0.2365 - val_loss: 0.6377 - val_accuracy: 0.8488 - val_precision: 0.8538 - val_recall: 0.8469 - val_auc: 0.9592 - val_specificity: 0.1212 - val_sensitivity: 0.0606 - val_mcc: 0.1934\n",
            "Epoch 13/25\n",
            "261/261 [==============================] - 46s 177ms/step - loss: 0.0135 - accuracy: 0.9785 - precision: 0.9791 - recall: 0.9783 - auc: 0.9992 - specificity: 0.0958 - sensitivity: 0.0881 - mcc: 0.2200 - val_loss: 1.2988 - val_accuracy: 0.7412 - val_precision: 0.7447 - val_recall: 0.7393 - val_auc: 0.8986 - val_specificity: 0.2045 - val_sensitivity: 0.1515 - val_mcc: 0.2621\n",
            "Epoch 14/25\n",
            "261/261 [==============================] - 46s 178ms/step - loss: 0.0069 - accuracy: 0.9896 - precision: 0.9898 - recall: 0.9893 - auc: 0.9998 - specificity: 0.1724 - sensitivity: 0.1264 - mcc: 0.2691 - val_loss: 0.9691 - val_accuracy: 0.6995 - val_precision: 0.7015 - val_recall: 0.6928 - val_auc: 0.9088 - val_specificity: 0.1061 - val_sensitivity: 0.1061 - val_mcc: 0.1917\n",
            "Epoch 15/25\n",
            "261/261 [==============================] - 46s 177ms/step - loss: 0.0076 - accuracy: 0.9890 - precision: 0.9890 - recall: 0.9888 - auc: 0.9994 - specificity: 0.1264 - sensitivity: 0.1034 - mcc: 0.2269 - val_loss: 0.4600 - val_accuracy: 0.9059 - val_precision: 0.9058 - val_recall: 0.9049 - val_auc: 0.9721 - val_specificity: 0.1010 - val_sensitivity: 0.0758 - val_mcc: 0.1952\n",
            "Epoch 16/25\n",
            "261/261 [==============================] - 46s 176ms/step - loss: 0.0075 - accuracy: 0.9908 - precision: 0.9909 - recall: 0.9904 - auc: 0.9995 - specificity: 0.1571 - sensitivity: 0.1149 - mcc: 0.2216 - val_loss: 0.7696 - val_accuracy: 0.8133 - val_precision: 0.8132 - val_recall: 0.8089 - val_auc: 0.9438 - val_specificity: 0.1263 - val_sensitivity: 0.1515 - val_mcc: 0.2174\n",
            "Epoch 17/25\n",
            "261/261 [==============================] - 46s 177ms/step - loss: 0.0097 - accuracy: 0.9850 - precision: 0.9853 - recall: 0.9849 - auc: 0.9995 - specificity: 0.1762 - sensitivity: 0.0920 - mcc: 0.2252 - val_loss: 0.4552 - val_accuracy: 0.8905 - val_precision: 0.8917 - val_recall: 0.8896 - val_auc: 0.9744 - val_specificity: 0.1364 - val_sensitivity: 0.1364 - val_mcc: 0.2769\n",
            "Epoch 18/25\n",
            "261/261 [==============================] - 46s 177ms/step - loss: 0.0063 - accuracy: 0.9900 - precision: 0.9900 - recall: 0.9899 - auc: 0.9996 - specificity: 0.1648 - sensitivity: 0.0958 - mcc: 0.2374 - val_loss: 0.4920 - val_accuracy: 0.8867 - val_precision: 0.8870 - val_recall: 0.8857 - val_auc: 0.9701 - val_specificity: 0.0909 - val_sensitivity: 0.0606 - val_mcc: 0.2352\n"
          ]
        }
      ],
      "source": [
        "# model.compile(optimizer=\"adam\", loss=\"categorical_crossentropy\", metrics=[\"accuracy\", keras.metrics.Precision(), keras.metrics.Recall(), keras.metrics.AUC(), specificity, sensitivity, mcc], run_eagerly=True)\n",
        "history = model.fit(x=train_dataset, validation_data=validation_dataset, epochs=25, batch_size=32, callbacks=[early_stopping, model_checkpoint], class_weight=weights)"
      ]
    },
    {
      "cell_type": "code",
      "execution_count": null,
      "metadata": {
        "id": "yDl9GIrvNTDi"
      },
      "outputs": [],
      "source": [
        "df = data(history)"
      ]
    },
    {
      "cell_type": "code",
      "execution_count": null,
      "metadata": {
        "colab": {
          "base_uri": "https://localhost:8080/",
          "height": 675
        },
        "id": "v0iIjziBNTDi",
        "outputId": "ec661f23-d9a6-4dd2-de35-fa396c3e07d5"
      },
      "outputs": [
        {
          "data": {
            "text/html": [
              "\n",
              "  <div id=\"df-6481bfd8-c6ac-4e81-9d65-c293a6920646\">\n",
              "    <div class=\"colab-df-container\">\n",
              "      <div>\n",
              "<style scoped>\n",
              "    .dataframe tbody tr th:only-of-type {\n",
              "        vertical-align: middle;\n",
              "    }\n",
              "\n",
              "    .dataframe tbody tr th {\n",
              "        vertical-align: top;\n",
              "    }\n",
              "\n",
              "    .dataframe thead th {\n",
              "        text-align: right;\n",
              "    }\n",
              "</style>\n",
              "<table border=\"1\" class=\"dataframe\">\n",
              "  <thead>\n",
              "    <tr style=\"text-align: right;\">\n",
              "      <th></th>\n",
              "      <th>Accuracy</th>\n",
              "      <th>Validation Accuracy</th>\n",
              "      <th>Loss</th>\n",
              "      <th>Validation Loss</th>\n",
              "      <th>Recall</th>\n",
              "      <th>Validation Recall</th>\n",
              "      <th>Precision</th>\n",
              "      <th>Validation Precision</th>\n",
              "      <th>AUC</th>\n",
              "      <th>Validation AUC</th>\n",
              "      <th>Specificity</th>\n",
              "      <th>Validation Specificity</th>\n",
              "      <th>Sensitivity</th>\n",
              "      <th>Validation Sensitivity</th>\n",
              "      <th>MCC</th>\n",
              "      <th>Validation MCC</th>\n",
              "    </tr>\n",
              "  </thead>\n",
              "  <tbody>\n",
              "    <tr>\n",
              "      <th>0</th>\n",
              "      <td>0.834274</td>\n",
              "      <td>0.541047</td>\n",
              "      <td>0.111673</td>\n",
              "      <td>2.915172</td>\n",
              "      <td>0.814099</td>\n",
              "      <td>0.532405</td>\n",
              "      <td>0.853993</td>\n",
              "      <td>0.545231</td>\n",
              "      <td>0.964505</td>\n",
              "      <td>0.757626</td>\n",
              "      <td>0.109195</td>\n",
              "      <td>0.098485</td>\n",
              "      <td>0.061303</td>\n",
              "      <td>0.106061</td>\n",
              "      <td>0.206017</td>\n",
              "      <td>0.196886</td>\n",
              "    </tr>\n",
              "    <tr>\n",
              "      <th>1</th>\n",
              "      <td>0.892999</td>\n",
              "      <td>0.836294</td>\n",
              "      <td>0.071863</td>\n",
              "      <td>0.535239</td>\n",
              "      <td>0.885793</td>\n",
              "      <td>0.828613</td>\n",
              "      <td>0.901601</td>\n",
              "      <td>0.844010</td>\n",
              "      <td>0.983751</td>\n",
              "      <td>0.958207</td>\n",
              "      <td>0.111111</td>\n",
              "      <td>0.143939</td>\n",
              "      <td>0.091954</td>\n",
              "      <td>0.075758</td>\n",
              "      <td>0.202595</td>\n",
              "      <td>0.216271</td>\n",
              "    </tr>\n",
              "    <tr>\n",
              "      <th>2</th>\n",
              "      <td>0.914255</td>\n",
              "      <td>0.480557</td>\n",
              "      <td>0.058124</td>\n",
              "      <td>1.118615</td>\n",
              "      <td>0.909811</td>\n",
              "      <td>0.464714</td>\n",
              "      <td>0.918860</td>\n",
              "      <td>0.495141</td>\n",
              "      <td>0.988473</td>\n",
              "      <td>0.825396</td>\n",
              "      <td>0.149425</td>\n",
              "      <td>0.090909</td>\n",
              "      <td>0.061303</td>\n",
              "      <td>0.143939</td>\n",
              "      <td>0.200657</td>\n",
              "      <td>0.225832</td>\n",
              "    </tr>\n",
              "    <tr>\n",
              "      <th>3</th>\n",
              "      <td>0.929146</td>\n",
              "      <td>0.796928</td>\n",
              "      <td>0.048856</td>\n",
              "      <td>0.623258</td>\n",
              "      <td>0.924463</td>\n",
              "      <td>0.780125</td>\n",
              "      <td>0.932639</td>\n",
              "      <td>0.810878</td>\n",
              "      <td>0.991884</td>\n",
              "      <td>0.942123</td>\n",
              "      <td>0.118774</td>\n",
              "      <td>0.121212</td>\n",
              "      <td>0.107280</td>\n",
              "      <td>0.121212</td>\n",
              "      <td>0.199140</td>\n",
              "      <td>0.189635</td>\n",
              "    </tr>\n",
              "    <tr>\n",
              "      <th>4</th>\n",
              "      <td>0.945599</td>\n",
              "      <td>0.747960</td>\n",
              "      <td>0.037095</td>\n",
              "      <td>0.617266</td>\n",
              "      <td>0.943917</td>\n",
              "      <td>0.725876</td>\n",
              "      <td>0.947902</td>\n",
              "      <td>0.767513</td>\n",
              "      <td>0.994965</td>\n",
              "      <td>0.934577</td>\n",
              "      <td>0.137931</td>\n",
              "      <td>0.083333</td>\n",
              "      <td>0.099617</td>\n",
              "      <td>0.143939</td>\n",
              "      <td>0.205545</td>\n",
              "      <td>0.209018</td>\n",
              "    </tr>\n",
              "    <tr>\n",
              "      <th>5</th>\n",
              "      <td>0.952684</td>\n",
              "      <td>0.664906</td>\n",
              "      <td>0.033420</td>\n",
              "      <td>0.839319</td>\n",
              "      <td>0.950522</td>\n",
              "      <td>0.626020</td>\n",
              "      <td>0.954419</td>\n",
              "      <td>0.701830</td>\n",
              "      <td>0.995830</td>\n",
              "      <td>0.883196</td>\n",
              "      <td>0.118774</td>\n",
              "      <td>0.075758</td>\n",
              "      <td>0.111111</td>\n",
              "      <td>0.181818</td>\n",
              "      <td>0.226527</td>\n",
              "      <td>0.202962</td>\n",
              "    </tr>\n",
              "    <tr>\n",
              "      <th>6</th>\n",
              "      <td>0.964093</td>\n",
              "      <td>0.687950</td>\n",
              "      <td>0.023970</td>\n",
              "      <td>1.299005</td>\n",
              "      <td>0.963372</td>\n",
              "      <td>0.679309</td>\n",
              "      <td>0.964878</td>\n",
              "      <td>0.697732</td>\n",
              "      <td>0.997632</td>\n",
              "      <td>0.883628</td>\n",
              "      <td>0.114943</td>\n",
              "      <td>0.143939</td>\n",
              "      <td>0.080460</td>\n",
              "      <td>0.151515</td>\n",
              "      <td>0.206755</td>\n",
              "      <td>0.229209</td>\n",
              "    </tr>\n",
              "    <tr>\n",
              "      <th>7</th>\n",
              "      <td>0.965414</td>\n",
              "      <td>0.819011</td>\n",
              "      <td>0.023086</td>\n",
              "      <td>0.533533</td>\n",
              "      <td>0.964093</td>\n",
              "      <td>0.814690</td>\n",
              "      <td>0.965833</td>\n",
              "      <td>0.822588</td>\n",
              "      <td>0.998094</td>\n",
              "      <td>0.958386</td>\n",
              "      <td>0.183908</td>\n",
              "      <td>0.126263</td>\n",
              "      <td>0.122605</td>\n",
              "      <td>0.045455</td>\n",
              "      <td>0.230799</td>\n",
              "      <td>0.164711</td>\n",
              "    </tr>\n",
              "    <tr>\n",
              "      <th>8</th>\n",
              "      <td>0.973700</td>\n",
              "      <td>0.866059</td>\n",
              "      <td>0.017753</td>\n",
              "      <td>0.467230</td>\n",
              "      <td>0.973340</td>\n",
              "      <td>0.860298</td>\n",
              "      <td>0.974276</td>\n",
              "      <td>0.872019</td>\n",
              "      <td>0.998608</td>\n",
              "      <td>0.967664</td>\n",
              "      <td>0.134100</td>\n",
              "      <td>0.126263</td>\n",
              "      <td>0.076628</td>\n",
              "      <td>0.090909</td>\n",
              "      <td>0.207087</td>\n",
              "      <td>0.233069</td>\n",
              "    </tr>\n",
              "    <tr>\n",
              "      <th>9</th>\n",
              "      <td>0.965774</td>\n",
              "      <td>0.538166</td>\n",
              "      <td>0.024338</td>\n",
              "      <td>2.553485</td>\n",
              "      <td>0.963973</td>\n",
              "      <td>0.530485</td>\n",
              "      <td>0.966875</td>\n",
              "      <td>0.540607</td>\n",
              "      <td>0.997666</td>\n",
              "      <td>0.768231</td>\n",
              "      <td>0.126437</td>\n",
              "      <td>0.204545</td>\n",
              "      <td>0.065134</td>\n",
              "      <td>0.189394</td>\n",
              "      <td>0.194536</td>\n",
              "      <td>0.224544</td>\n",
              "    </tr>\n",
              "    <tr>\n",
              "      <th>10</th>\n",
              "      <td>0.985589</td>\n",
              "      <td>0.916947</td>\n",
              "      <td>0.009358</td>\n",
              "      <td>0.329625</td>\n",
              "      <td>0.985229</td>\n",
              "      <td>0.915987</td>\n",
              "      <td>0.985821</td>\n",
              "      <td>0.918633</td>\n",
              "      <td>0.999657</td>\n",
              "      <td>0.982113</td>\n",
              "      <td>0.111111</td>\n",
              "      <td>0.121212</td>\n",
              "      <td>0.088123</td>\n",
              "      <td>0.151515</td>\n",
              "      <td>0.202839</td>\n",
              "      <td>0.208943</td>\n",
              "    </tr>\n",
              "    <tr>\n",
              "      <th>11</th>\n",
              "      <td>0.984388</td>\n",
              "      <td>0.848776</td>\n",
              "      <td>0.010355</td>\n",
              "      <td>0.637682</td>\n",
              "      <td>0.984148</td>\n",
              "      <td>0.846856</td>\n",
              "      <td>0.984384</td>\n",
              "      <td>0.853824</td>\n",
              "      <td>0.999295</td>\n",
              "      <td>0.959199</td>\n",
              "      <td>0.172414</td>\n",
              "      <td>0.121212</td>\n",
              "      <td>0.084291</td>\n",
              "      <td>0.060606</td>\n",
              "      <td>0.236455</td>\n",
              "      <td>0.193423</td>\n",
              "    </tr>\n",
              "    <tr>\n",
              "      <th>12</th>\n",
              "      <td>0.978504</td>\n",
              "      <td>0.741239</td>\n",
              "      <td>0.013515</td>\n",
              "      <td>1.298809</td>\n",
              "      <td>0.978263</td>\n",
              "      <td>0.739318</td>\n",
              "      <td>0.979087</td>\n",
              "      <td>0.744681</td>\n",
              "      <td>0.999170</td>\n",
              "      <td>0.898600</td>\n",
              "      <td>0.095785</td>\n",
              "      <td>0.204545</td>\n",
              "      <td>0.088123</td>\n",
              "      <td>0.151515</td>\n",
              "      <td>0.219973</td>\n",
              "      <td>0.262052</td>\n",
              "    </tr>\n",
              "    <tr>\n",
              "      <th>13</th>\n",
              "      <td>0.989552</td>\n",
              "      <td>0.699472</td>\n",
              "      <td>0.006917</td>\n",
              "      <td>0.969051</td>\n",
              "      <td>0.989312</td>\n",
              "      <td>0.692751</td>\n",
              "      <td>0.989787</td>\n",
              "      <td>0.701507</td>\n",
              "      <td>0.999769</td>\n",
              "      <td>0.908773</td>\n",
              "      <td>0.172414</td>\n",
              "      <td>0.106061</td>\n",
              "      <td>0.126437</td>\n",
              "      <td>0.106061</td>\n",
              "      <td>0.269082</td>\n",
              "      <td>0.191667</td>\n",
              "    </tr>\n",
              "    <tr>\n",
              "      <th>14</th>\n",
              "      <td>0.988952</td>\n",
              "      <td>0.905905</td>\n",
              "      <td>0.007626</td>\n",
              "      <td>0.460030</td>\n",
              "      <td>0.988832</td>\n",
              "      <td>0.904945</td>\n",
              "      <td>0.988950</td>\n",
              "      <td>0.905815</td>\n",
              "      <td>0.999446</td>\n",
              "      <td>0.972052</td>\n",
              "      <td>0.126437</td>\n",
              "      <td>0.101010</td>\n",
              "      <td>0.103448</td>\n",
              "      <td>0.075758</td>\n",
              "      <td>0.226936</td>\n",
              "      <td>0.195191</td>\n",
              "    </tr>\n",
              "    <tr>\n",
              "      <th>15</th>\n",
              "      <td>0.990753</td>\n",
              "      <td>0.813250</td>\n",
              "      <td>0.007497</td>\n",
              "      <td>0.769606</td>\n",
              "      <td>0.990393</td>\n",
              "      <td>0.808929</td>\n",
              "      <td>0.990869</td>\n",
              "      <td>0.813224</td>\n",
              "      <td>0.999513</td>\n",
              "      <td>0.943832</td>\n",
              "      <td>0.157088</td>\n",
              "      <td>0.126263</td>\n",
              "      <td>0.114943</td>\n",
              "      <td>0.151515</td>\n",
              "      <td>0.221646</td>\n",
              "      <td>0.217355</td>\n",
              "    </tr>\n",
              "    <tr>\n",
              "      <th>16</th>\n",
              "      <td>0.984989</td>\n",
              "      <td>0.890543</td>\n",
              "      <td>0.009675</td>\n",
              "      <td>0.455209</td>\n",
              "      <td>0.984869</td>\n",
              "      <td>0.889582</td>\n",
              "      <td>0.985342</td>\n",
              "      <td>0.891723</td>\n",
              "      <td>0.999492</td>\n",
              "      <td>0.974378</td>\n",
              "      <td>0.176245</td>\n",
              "      <td>0.136364</td>\n",
              "      <td>0.091954</td>\n",
              "      <td>0.136364</td>\n",
              "      <td>0.225203</td>\n",
              "      <td>0.276877</td>\n",
              "    </tr>\n",
              "    <tr>\n",
              "      <th>17</th>\n",
              "      <td>0.990032</td>\n",
              "      <td>0.886702</td>\n",
              "      <td>0.006313</td>\n",
              "      <td>0.491992</td>\n",
              "      <td>0.989912</td>\n",
              "      <td>0.885742</td>\n",
              "      <td>0.990031</td>\n",
              "      <td>0.887019</td>\n",
              "      <td>0.999640</td>\n",
              "      <td>0.970091</td>\n",
              "      <td>0.164751</td>\n",
              "      <td>0.090909</td>\n",
              "      <td>0.095785</td>\n",
              "      <td>0.060606</td>\n",
              "      <td>0.237397</td>\n",
              "      <td>0.235210</td>\n",
              "    </tr>\n",
              "  </tbody>\n",
              "</table>\n",
              "</div>\n",
              "      <button class=\"colab-df-convert\" onclick=\"convertToInteractive('df-6481bfd8-c6ac-4e81-9d65-c293a6920646')\"\n",
              "              title=\"Convert this dataframe to an interactive table.\"\n",
              "              style=\"display:none;\">\n",
              "        \n",
              "  <svg xmlns=\"http://www.w3.org/2000/svg\" height=\"24px\"viewBox=\"0 0 24 24\"\n",
              "       width=\"24px\">\n",
              "    <path d=\"M0 0h24v24H0V0z\" fill=\"none\"/>\n",
              "    <path d=\"M18.56 5.44l.94 2.06.94-2.06 2.06-.94-2.06-.94-.94-2.06-.94 2.06-2.06.94zm-11 1L8.5 8.5l.94-2.06 2.06-.94-2.06-.94L8.5 2.5l-.94 2.06-2.06.94zm10 10l.94 2.06.94-2.06 2.06-.94-2.06-.94-.94-2.06-.94 2.06-2.06.94z\"/><path d=\"M17.41 7.96l-1.37-1.37c-.4-.4-.92-.59-1.43-.59-.52 0-1.04.2-1.43.59L10.3 9.45l-7.72 7.72c-.78.78-.78 2.05 0 2.83L4 21.41c.39.39.9.59 1.41.59.51 0 1.02-.2 1.41-.59l7.78-7.78 2.81-2.81c.8-.78.8-2.07 0-2.86zM5.41 20L4 18.59l7.72-7.72 1.47 1.35L5.41 20z\"/>\n",
              "  </svg>\n",
              "      </button>\n",
              "      \n",
              "  <style>\n",
              "    .colab-df-container {\n",
              "      display:flex;\n",
              "      flex-wrap:wrap;\n",
              "      gap: 12px;\n",
              "    }\n",
              "\n",
              "    .colab-df-convert {\n",
              "      background-color: #E8F0FE;\n",
              "      border: none;\n",
              "      border-radius: 50%;\n",
              "      cursor: pointer;\n",
              "      display: none;\n",
              "      fill: #1967D2;\n",
              "      height: 32px;\n",
              "      padding: 0 0 0 0;\n",
              "      width: 32px;\n",
              "    }\n",
              "\n",
              "    .colab-df-convert:hover {\n",
              "      background-color: #E2EBFA;\n",
              "      box-shadow: 0px 1px 2px rgba(60, 64, 67, 0.3), 0px 1px 3px 1px rgba(60, 64, 67, 0.15);\n",
              "      fill: #174EA6;\n",
              "    }\n",
              "\n",
              "    [theme=dark] .colab-df-convert {\n",
              "      background-color: #3B4455;\n",
              "      fill: #D2E3FC;\n",
              "    }\n",
              "\n",
              "    [theme=dark] .colab-df-convert:hover {\n",
              "      background-color: #434B5C;\n",
              "      box-shadow: 0px 1px 3px 1px rgba(0, 0, 0, 0.15);\n",
              "      filter: drop-shadow(0px 1px 2px rgba(0, 0, 0, 0.3));\n",
              "      fill: #FFFFFF;\n",
              "    }\n",
              "  </style>\n",
              "\n",
              "      <script>\n",
              "        const buttonEl =\n",
              "          document.querySelector('#df-6481bfd8-c6ac-4e81-9d65-c293a6920646 button.colab-df-convert');\n",
              "        buttonEl.style.display =\n",
              "          google.colab.kernel.accessAllowed ? 'block' : 'none';\n",
              "\n",
              "        async function convertToInteractive(key) {\n",
              "          const element = document.querySelector('#df-6481bfd8-c6ac-4e81-9d65-c293a6920646');\n",
              "          const dataTable =\n",
              "            await google.colab.kernel.invokeFunction('convertToInteractive',\n",
              "                                                     [key], {});\n",
              "          if (!dataTable) return;\n",
              "\n",
              "          const docLinkHtml = 'Like what you see? Visit the ' +\n",
              "            '<a target=\"_blank\" href=https://colab.research.google.com/notebooks/data_table.ipynb>data table notebook</a>'\n",
              "            + ' to learn more about interactive tables.';\n",
              "          element.innerHTML = '';\n",
              "          dataTable['output_type'] = 'display_data';\n",
              "          await google.colab.output.renderOutput(dataTable, element);\n",
              "          const docLink = document.createElement('div');\n",
              "          docLink.innerHTML = docLinkHtml;\n",
              "          element.appendChild(docLink);\n",
              "        }\n",
              "      </script>\n",
              "    </div>\n",
              "  </div>\n",
              "  "
            ],
            "text/plain": [
              "    Accuracy  Validation Accuracy  ...       MCC  Validation MCC\n",
              "0   0.834274             0.541047  ...  0.206017        0.196886\n",
              "1   0.892999             0.836294  ...  0.202595        0.216271\n",
              "2   0.914255             0.480557  ...  0.200657        0.225832\n",
              "3   0.929146             0.796928  ...  0.199140        0.189635\n",
              "4   0.945599             0.747960  ...  0.205545        0.209018\n",
              "5   0.952684             0.664906  ...  0.226527        0.202962\n",
              "6   0.964093             0.687950  ...  0.206755        0.229209\n",
              "7   0.965414             0.819011  ...  0.230799        0.164711\n",
              "8   0.973700             0.866059  ...  0.207087        0.233069\n",
              "9   0.965774             0.538166  ...  0.194536        0.224544\n",
              "10  0.985589             0.916947  ...  0.202839        0.208943\n",
              "11  0.984388             0.848776  ...  0.236455        0.193423\n",
              "12  0.978504             0.741239  ...  0.219973        0.262052\n",
              "13  0.989552             0.699472  ...  0.269082        0.191667\n",
              "14  0.988952             0.905905  ...  0.226936        0.195191\n",
              "15  0.990753             0.813250  ...  0.221646        0.217355\n",
              "16  0.984989             0.890543  ...  0.225203        0.276877\n",
              "17  0.990032             0.886702  ...  0.237397        0.235210\n",
              "\n",
              "[18 rows x 16 columns]"
            ]
          },
          "execution_count": 52,
          "metadata": {},
          "output_type": "execute_result"
        }
      ],
      "source": [
        "df"
      ]
    },
    {
      "cell_type": "code",
      "execution_count": null,
      "metadata": {
        "colab": {
          "base_uri": "https://localhost:8080/",
          "height": 934
        },
        "id": "uBl_kfm_NTDj",
        "outputId": "0ac2f929-6321-4a0f-b68b-e835053e428b"
      },
      "outputs": [
        {
          "data": {
            "image/png": "[encoded data removed]",
            "text/plain": [
              "<Figure size 1440x1152 with 8 Axes>"
            ]
          },
          "metadata": {},
          "output_type": "display_data"
        }
      ],
      "source": [
        "history_visualization(df)"
      ]
    },
    {
      "cell_type": "markdown",
      "metadata": {
        "id": "pW1VzRI3NTDj"
      },
      "source": [
        "##Prediction"
      ]
    },
    {
      "cell_type": "code",
      "execution_count": null,
      "metadata": {
        "id": "H7Q69TtoNTDj"
      },
      "outputs": [],
      "source": [
        "model.load_weights(\"/content/model/my_best_model.epoch06-loss0.32.hdf5\")"
      ]
    },
    {
      "cell_type": "code",
      "execution_count": null,
      "metadata": {
        "colab": {
          "base_uri": "https://localhost:8080/"
        },
        "id": "giBPNE_5NTDk",
        "outputId": "672d5d5f-8171-4293-f456-8b4cab1af99d"
      },
      "outputs": [
        {
          "name": "stdout",
          "output_type": "stream",
          "text": [
            "Found 3254 images belonging to 4 classes.\n"
          ]
        }
      ],
      "source": [
        "test_generator = ImageDataGenerator(rescale=1./255)\n",
        "test_dataset = test_generator.flow_from_directory(directory=\"/content/drive/MyDrive/Special_Issue_COVID_Journal/original_dataset/test\", target_size=(HEIGHT, WIDTH), color_mode=\"rgb\", class_mode=\"categorical\", shuffle=False)"
      ]
    },
    {
      "cell_type": "code",
      "execution_count": null,
      "metadata": {
        "colab": {
          "base_uri": "https://localhost:8080/"
        },
        "id": "-AL5L76xNTDk",
        "outputId": "03a9061e-9b65-47f2-bc2b-25450c7abc38"
      },
      "outputs": [
        {
          "data": {
            "text/plain": [
              "{'COVID': 0, 'Lung opacity': 1, 'Normal': 2, 'Viral Pneumonia': 3}"
            ]
          },
          "execution_count": 42,
          "metadata": {},
          "output_type": "execute_result"
        }
      ],
      "source": [
        "test_dataset.class_indices"
      ]
    },
    {
      "cell_type": "code",
      "execution_count": null,
      "metadata": {
        "colab": {
          "base_uri": "https://localhost:8080/"
        },
        "id": "Emi139lGNTDk",
        "outputId": "8d65069c-62e0-4c80-b263-7b4f80e509bd"
      },
      "outputs": [
        {
          "data": {
            "text/plain": [
              "{'COVID': 0, 'Lung opacity': 1, 'Normal': 2, 'Viral Pneumonia': 3}"
            ]
          },
          "execution_count": 43,
          "metadata": {},
          "output_type": "execute_result"
        }
      ],
      "source": [
        "train_dataset.class_indices"
      ]
    },
    {
      "cell_type": "code",
      "execution_count": null,
      "metadata": {
        "id": "RSijFPWmNTDl"
      },
      "outputs": [],
      "source": [
        "predictions = model.predict(test_set)"
      ]
    },
    {
      "cell_type": "code",
      "execution_count": null,
      "metadata": {
        "id": "qj3wL9HzNTDl"
      },
      "outputs": [],
      "source": [
        "predictions_index = lb.inverse_transform(predictions)"
      ]
    },
    {
      "cell_type": "code",
      "execution_count": null,
      "metadata": {
        "colab": {
          "base_uri": "https://localhost:8080/"
        },
        "id": "1E0DSpx3NTDl",
        "outputId": "86275ed7-f150-43b3-f951-e7a77bc2ee9c"
      },
      "outputs": [
        {
          "name": "stdout",
          "output_type": "stream",
          "text": [
            "                 precision    recall  f1-score   support\n",
            "\n",
            "          COVID       0.92      0.96      0.94       603\n",
            "   Lung opacity       0.92      0.87      0.90      1073\n",
            "         Normal       0.91      0.93      0.92      1311\n",
            "Viral Pneumonia       0.98      0.99      0.98       267\n",
            "\n",
            "       accuracy                           0.92      3254\n",
            "      macro avg       0.93      0.94      0.93      3254\n",
            "   weighted avg       0.92      0.92      0.92      3254\n",
            "\n"
          ]
        }
      ],
      "source": [
        "predictions_index = lb.inverse_transform(predictions)\n",
        "print(classification_report(predictions_index, lb.inverse_transform(test_set.y)))"
      ]
    },
    {
      "cell_type": "code",
      "execution_count": null,
      "metadata": {
        "colab": {
          "base_uri": "https://localhost:8080/",
          "height": 708
        },
        "id": "0tKTfqQQNTDm",
        "outputId": "e3a7f8ff-2fcc-4022-9f28-5aea9f39b04a"
      },
      "outputs": [
        {
          "data": {
            "image/png": "[encoded data removed]",
            "text/plain": [
              "<Figure size 1080x864 with 2 Axes>"
            ]
          },
          "metadata": {},
          "output_type": "display_data"
        }
      ],
      "source": [
        "plt.figure(figsize=(15, 12))\n",
        "cm = confusion_matrix(predictions_index, lb.inverse_transform(test_set.y))\n",
        "df_cm = pd.DataFrame(cm, index = [i for i in lb.classes_],\n",
        "                  columns = [i for i in lb.classes_])\n",
        "sns.set(font_scale=1.4)\n",
        "sns.heatmap(df_cm, annot=True, annot_kws={\"size\": 16}, fmt='g') \n",
        "plt.show()"
      ]
    },
    {
      "cell_type": "code",
      "execution_count": null,
      "metadata": {
        "colab": {
          "base_uri": "https://localhost:8080/"
        },
        "id": "gQEQepaaNTDm",
        "outputId": "de7e0537-aff7-404f-cbae-6cd33dbae9bd"
      },
      "outputs": [
        {
          "name": "stdout",
          "output_type": "stream",
          "text": [
            "0.9514636764218152\n"
          ]
        }
      ],
      "source": [
        "from sklearn.preprocessing import LabelBinarizer\n",
        "from sklearn.metrics import auc, roc_curve, roc_auc_score\n",
        "bin = LabelBinarizer()\n",
        "x_test = bin.fit_transform(lb.inverse_transform(test_set.y))\n",
        "pred = bin.transform(predictions_index)\n",
        "print(roc_auc_score(x_test, pred))"
      ]
    },
    {
      "cell_type": "code",
      "execution_count": null,
      "metadata": {
        "colab": {
          "base_uri": "https://localhost:8080/"
        },
        "id": "FUTRms76NTDn",
        "outputId": "7592090a-d505-46aa-f1e2-36af87ea7bdc"
      },
      "outputs": [
        {
          "name": "stdout",
          "output_type": "stream",
          "text": [
            "INFO:tensorflow:Assets written to: /content/custom/assets\n"
          ]
        },
        {
          "name": "stderr",
          "output_type": "stream",
          "text": [
            "/usr/local/lib/python3.7/dist-packages/keras/engine/functional.py:1410: CustomMaskWarning: Custom mask layers require a config and must override get_config. When loading, the custom mask layer must be passed to the custom_objects argument.\n",
            "  layer_config = serialize_layer_fn(layer)\n",
            "/usr/local/lib/python3.7/dist-packages/keras/saving/saved_model/layer_serialization.py:112: CustomMaskWarning: Custom mask layers require a config and must override get_config. When loading, the custom mask layer must be passed to the custom_objects argument.\n",
            "  return generic_utils.serialize_keras_object(obj)\n"
          ]
        }
      ],
      "source": [
        "tf.keras.models.save_model(model, \"/content/custom\")"
      ]
    },
    {
      "cell_type": "code",
      "execution_count": null,
      "metadata": {
        "colab": {
          "base_uri": "https://localhost:8080/"
        },
        "id": "LqGo1etGNTDn",
        "outputId": "2b247463-5a4c-4270-8452-fb719ac4014e"
      },
      "outputs": [
        {
          "name": "stdout",
          "output_type": "stream",
          "text": [
            "  adding: content/custom/ (stored 0%)\n",
            "  adding: content/custom/saved_model.pb (deflated 92%)\n",
            "  adding: content/custom/variables/ (stored 0%)\n",
            "  adding: content/custom/variables/variables.index (deflated 80%)\n",
            "  adding: content/custom/variables/variables.data-00000-of-00001 (deflated 8%)\n",
            "  adding: content/custom/keras_metadata.pb (deflated 94%)\n",
            "  adding: content/custom/assets/ (stored 0%)\n"
          ]
        }
      ],
      "source": [
        "!zip -r /content/2.zip /content/custom"
      ]
    }
  ],
  "metadata": {
    "accelerator": "GPU",
    "colab": {
      "collapsed_sections": [
        "3CzQfhzaAqDL",
        "TAlZ6dPHHTvf",
        "D4nLRwZMHe6T",
        "bDfub9JSuf4Z",
        "cB2V5my0XSKO"
      ],
      "machine_shape": "hm",
      "name": "4 classes experiments.ipynb",
      "provenance": [],
      "toc_visible": true
    },
    "kernelspec": {
      "display_name": "Python 3",
      "language": "python",
      "name": "python3"
    },
    "language_info": {
      "codemirror_mode": {
        "name": "ipython",
        "version": 3
      },
      "file_extension": ".py",
      "mimetype": "text/x-python",
      "name": "python",
      "nbconvert_exporter": "python",
      "pygments_lexer": "ipython3",
      "version": "3.8.5"
    }
  },
  "nbformat": 4,
  "nbformat_minor": 0
}
