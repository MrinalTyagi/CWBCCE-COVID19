{
  "cells": [
    {
      "cell_type": "markdown",
      "metadata": {
        "id": "3CzQfhzaAqDL"
      },
      "source": [
        "#Importing libraries and dataset"
      ]
    },
    {
      "cell_type": "code",
      "execution_count": null,
      "metadata": {
        "colab": {
          "base_uri": "https://localhost:8080/"
        },
        "id": "OWo9uWe0FHq9",
        "outputId": "1f266e1e-aada-4af8-f5d4-225b972954fb"
      },
      "outputs": [
        {
          "name": "stdout",
          "output_type": "stream",
          "text": [
            "Mounted at /content/drive\n"
          ]
        }
      ],
      "source": [
        "from google.colab import drive\n",
        "drive.mount('/content/drive')"
      ]
    },
    {
      "cell_type": "code",
      "execution_count": null,
      "metadata": {
        "id": "eIjVgo2MFUfX"
      },
      "outputs": [],
      "source": [
        "HEIGHT = 128\n",
        "WIDTH = 128\n",
        "CHANNELS = 3"
      ]
    },
    {
      "cell_type": "code",
      "execution_count": null,
      "metadata": {
        "id": "brQocH-3Abfy"
      },
      "outputs": [],
      "source": [
        "import numpy as np\n",
        "import pandas as pd\n",
        "import matplotlib.pyplot as plt\n",
        "import keras\n",
        "from keras.preprocessing.image import ImageDataGenerator\n",
        "import tensorflow as tf\n",
        "import os\n",
        "from matplotlib.pyplot import imread\n",
        "from sklearn.model_selection import train_test_split\n",
        "from sklearn.utils import class_weight\n",
        "from sklearn.preprocessing import LabelBinarizer, LabelEncoder\n",
        "import cv2\n",
        "from sklearn.metrics import confusion_matrix\n",
        "import seaborn as sns\n",
        "from sklearn.metrics import matthews_corrcoef\n",
        "from sklearn.metrics import classification_report\n",
        "from sklearn.metrics import plot_confusion_matrix\n",
        "import keras.backend as K\n",
        "import warnings\n",
        "from sklearn.utils import compute_class_weight\n",
        "import pywt"
      ]
    },
    {
      "cell_type": "code",
      "execution_count": null,
      "metadata": {
        "id": "_VBEcZZe6srz"
      },
      "outputs": [],
      "source": [
        "tf.random.set_seed(42)"
      ]
    },
    {
      "cell_type": "code",
      "execution_count": null,
      "metadata": {
        "id": "9rEIXZWpowEg"
      },
      "outputs": [],
      "source": [
        "images = []\n",
        "classes_labels = []\n",
        "for i in os.listdir(\"/content/drive/MyDrive/Special_Issue_COVID_Journal/original_dataset/train\"):\n",
        "  class_path = f\"/content/drive/MyDrive/Special_Issue_COVID_Journal/original_dataset/train/{i}\"\n",
        "  if(i == \"Lung opacity\"):\n",
        "    continue\n",
        "  for j in os.listdir(class_path):\n",
        "    file_path = f\"{class_path}/{j}\"\n",
        "    classes_labels.append(i)\n",
        "    images.append(cv2.resize(cv2.imread(file_path, 1), (HEIGHT, WIDTH)))"
      ]
    },
    {
      "cell_type": "code",
      "execution_count": null,
      "metadata": {
        "id": "cnrGY1KsnBAv"
      },
      "outputs": [],
      "source": [
        "test_images = []\n",
        "test_classes_labels = []\n",
        "for i in os.listdir(\"/content/drive/MyDrive/Special_Issue_COVID_Journal/original_dataset/test\"):\n",
        "  class_path = f\"/content/drive/MyDrive/Special_Issue_COVID_Journal/original_dataset/test/{i}\"\n",
        "  if(i == \"Lung opacity\"):\n",
        "    continue\n",
        "  for j in os.listdir(class_path):\n",
        "    file_path = f\"{class_path}/{j}\"\n",
        "    test_classes_labels.append(i)\n",
        "    test_images.append(cv2.resize(cv2.imread(file_path, 1), (HEIGHT, WIDTH)))"
      ]
    },
    {
      "cell_type": "code",
      "execution_count": null,
      "metadata": {
        "id": "LfIFkuEao6ZX"
      },
      "outputs": [],
      "source": [
        "train_images, validation_images, train_labels, validation_labels = train_test_split(images, classes_labels, test_size = 0.2, random_state = 42)"
      ]
    },
    {
      "cell_type": "code",
      "execution_count": null,
      "metadata": {
        "id": "vy3_CxVA56KO"
      },
      "outputs": [],
      "source": [
        "from sklearn.utils import class_weight\n",
        "class_weights = class_weight.compute_class_weight(class_weight = 'balanced', classes = np.unique(train_labels), y = train_labels)"
      ]
    },
    {
      "cell_type": "code",
      "execution_count": null,
      "metadata": {
        "colab": {
          "base_uri": "https://localhost:8080/"
        },
        "id": "SpuhkFKD6vi8",
        "outputId": "d2bddf38-5a02-43d6-d175-e2f3c7fa17f7"
      },
      "outputs": [
        {
          "data": {
            "text/plain": [
              "array([1.1889332 , 0.55529686, 2.79274005])"
            ]
          },
          "execution_count": 9,
          "metadata": {},
          "output_type": "execute_result"
        }
      ],
      "source": [
        "class_weights"
      ]
    },
    {
      "cell_type": "code",
      "execution_count": null,
      "metadata": {
        "id": "m6fPSrI7652Q"
      },
      "outputs": [],
      "source": [
        "weights = dict(zip([0, 1, 2], class_weights))"
      ]
    },
    {
      "cell_type": "code",
      "execution_count": null,
      "metadata": {
        "colab": {
          "base_uri": "https://localhost:8080/"
        },
        "id": "jSf2fytC7CFT",
        "outputId": "9d7efac8-4182-43f8-ac8e-1075fae78883"
      },
      "outputs": [
        {
          "data": {
            "text/plain": [
              "{0: 1.1889332003988036, 1: 0.5552968568102444, 2: 2.7927400468384076}"
            ]
          },
          "execution_count": 11,
          "metadata": {},
          "output_type": "execute_result"
        }
      ],
      "source": [
        "weights"
      ]
    },
    {
      "cell_type": "code",
      "execution_count": null,
      "metadata": {
        "id": "0648ffaDo1s_"
      },
      "outputs": [],
      "source": [
        "train_images = np.asarray(train_images)\n",
        "validation_images = np.asarray(validation_images)\n",
        "train_labels = np.asarray(train_labels)\n",
        "validation_labels = np.asarray(validation_labels)"
      ]
    },
    {
      "cell_type": "code",
      "execution_count": null,
      "metadata": {
        "id": "dxfi26iktHk9"
      },
      "outputs": [],
      "source": [
        "from sklearn.preprocessing import LabelBinarizer\n",
        "lb = LabelBinarizer()\n",
        "train_labels = lb.fit_transform(train_labels)\n",
        "validation_labels = lb.transform(validation_labels)"
      ]
    },
    {
      "cell_type": "code",
      "execution_count": null,
      "metadata": {
        "id": "igFjNsUQncH7"
      },
      "outputs": [],
      "source": [
        "test_classes_labels = lb.transform(test_classes_labels)"
      ]
    },
    {
      "cell_type": "code",
      "execution_count": null,
      "metadata": {
        "id": "5_trUuGhnrNF"
      },
      "outputs": [],
      "source": [
        "test_images = np.asarray(test_images)\n",
        "test_classes_labels = np.asarray(test_classes_labels)"
      ]
    },
    {
      "cell_type": "markdown",
      "metadata": {
        "id": "TAlZ6dPHHTvf"
      },
      "source": [
        "#Data Visualization"
      ]
    },
    {
      "cell_type": "code",
      "execution_count": null,
      "metadata": {
        "id": "5b9qRnE2HPZZ"
      },
      "outputs": [],
      "source": [
        "def data(history):\n",
        "  return pd.DataFrame(data=list(zip(history.history[\"accuracy\"], history.history[\"val_accuracy\"], history.history[\"loss\"], history.history[\"val_loss\"], history.history[\"recall\"], history.history[\"val_recall\"], history.history[\"precision\"], history.history[\"val_precision\"], history.history[\"auc\"], history.history[\"val_auc\"], history.history[\"specificity\"], history.history[\"val_specificity\"], history.history[\"sensitivity\"], history.history[\"val_sensitivity\"], history.history[\"mcc\"], history.history[\"val_mcc\"])) , columns=[\"Accuracy\", \"Validation Accuracy\", \"Loss\", \"Validation Loss\", \"Recall\", \"Validation Recall\", \"Precision\", \"Validation Precision\", \"AUC\", \"Validation AUC\", \"Specificity\", \"Validation Specificity\" ,\"Sensitivity\", \"Validation Sensitivity\", \"MCC\", \"Validation MCC\"])"
      ]
    },
    {
      "cell_type": "code",
      "execution_count": null,
      "metadata": {
        "id": "erCsAa2CHXXD"
      },
      "outputs": [],
      "source": [
        "def history_visualization(df):\n",
        "  sns.set_style('darkgrid')\n",
        "  nrow = 4\n",
        "  ncol = 2\n",
        "  df_columns = df.columns\n",
        "  df_list = [df[col] for col in df]\n",
        "  titles=[\"Accuracy Visualization\", \"Loss Visualization\", \"Recall Visualization\", \"Precision Visualization\", \"AUC Visualization\", \"Specificity Visualization\", \"Sensitivity Visualization\", \"MCC Visualization\"]\n",
        "  fig, axes = plt.subplots(nrow, ncol, figsize=(20, 16))\n",
        "  count = 0\n",
        "  i = 0\n",
        "  for r in range(nrow):\n",
        "    for c in range(ncol):\n",
        "        df_list[count].plot(ax=axes[r,c], x=\"Number of Epochs\", legend=\"brief\", label=df_columns[count], marker=\"o\").set_title(titles[i])\n",
        "        df_list[count+1].plot(ax=axes[r, c], x=\"Number of Epochs\", legend=\"brief\" ,label=df_columns[count+1], marker=\"o\").set_title(titles[i])\n",
        "        i+=1\n",
        "        count+=2"
      ]
    },
    {
      "cell_type": "code",
      "execution_count": null,
      "metadata": {
        "id": "Gzzt0AHYHZ3p"
      },
      "outputs": [],
      "source": [
        "early_stoping = keras.callbacks.EarlyStopping(monitor=\"val_loss\", patience=5, restore_best_weights=True)"
      ]
    },
    {
      "cell_type": "markdown",
      "metadata": {
        "id": "D4nLRwZMHe6T"
      },
      "source": [
        "#Custom Metrics using Tensorflow"
      ]
    },
    {
      "cell_type": "code",
      "execution_count": null,
      "metadata": {
        "id": "VsSrpQjeHdDi"
      },
      "outputs": [],
      "source": [
        "def true_positive(y_true, y_pred):\n",
        "  y_true = tf.argmax(y_true)\n",
        "  y_pred = tf.argmax(y_pred)\n",
        "  res = tf.math.confusion_matrix(y_true, y_pred, dtype=tf.float32)\n",
        "  return tf.reduce_sum(tf.linalg.diag_part(res), axis = 0)\n",
        "\n",
        "def false_positive(y_true, y_pred):\n",
        "  y_true = tf.argmax(y_true)\n",
        "  y_pred = tf.argmax(y_pred)\n",
        "  res = tf.math.confusion_matrix(y_true, y_pred, dtype=tf.float32)\n",
        "  return tf.reduce_sum(tf.reduce_sum(res, axis = 1) - tf.linalg.diag_part(res), axis = 0)\n",
        "\n",
        "def false_negative(y_true, y_pred):\n",
        "  y_true = tf.argmax(y_true)\n",
        "  y_pred = tf.argmax(y_pred)\n",
        "  res = tf.math.confusion_matrix(y_true, y_pred, dtype=tf.float32)\n",
        "  return tf.reduce_sum(tf.reduce_sum(res, axis = 1) - tf.linalg.diag_part(res), axis = 0)\n",
        "\n",
        "def true_negative(y_true, y_pred):\n",
        "  y_true_res = tf.argmax(y_true)\n",
        "  y_pred_res = tf.argmax(y_pred)\n",
        "  res = tf.math.confusion_matrix(y_true_res, y_pred_res, dtype=tf.float32)\n",
        "  return tf.reduce_sum(tf.reduce_sum(res, axis = 1), axis=0) - (false_negative(y_true, y_pred) + false_positive(y_true, y_pred) + true_positive(y_true, y_pred))"
      ]
    },
    {
      "cell_type": "code",
      "execution_count": null,
      "metadata": {
        "id": "LOKtWzdJHnCa"
      },
      "outputs": [],
      "source": [
        "def sensitivity(y_true, y_pred):\n",
        "    y_actual = tf.argmax(y_true).numpy()\n",
        "    y_hat = tf.argmax(y_pred).numpy()\n",
        "    TP = 0\n",
        "    FP = 0\n",
        "    TN = 0\n",
        "    FN = 0\n",
        "    for i in range(len(y_hat)): \n",
        "        if y_actual[i]==y_hat[i]==1:\n",
        "           TP += 1\n",
        "        if y_hat[i]==1 and y_actual[i]!=y_hat[i]:\n",
        "           FP += 1\n",
        "        if y_actual[i]==y_hat[i]==0:\n",
        "           TN += 1\n",
        "        if y_hat[i]==0 and y_actual[i]!=y_hat[i]:\n",
        "           FN += 1\n",
        "    num = float(TP)\n",
        "    den = float(TP + FN + K.epsilon())\n",
        "    if den == 0.0:\n",
        "      return tf.constant(0.0, dtype=tf.float32)\n",
        "    return tf.constant(float(num/den), dtype=tf.float32)\n",
        "\n",
        "def specificity(y_true, y_pred):\n",
        "    y_actual = tf.argmax(y_true).numpy()\n",
        "    y_hat = tf.argmax(y_pred).numpy()\n",
        "    TP = 0\n",
        "    FP = 0\n",
        "    TN = 0\n",
        "    FN = 0\n",
        "    for i in range(len(y_hat)): \n",
        "        if y_actual[i]==y_hat[i]==1:\n",
        "           TP += 1\n",
        "        if y_hat[i]==1 and y_actual[i]!=y_hat[i]:\n",
        "           FP += 1\n",
        "        if y_actual[i]==y_hat[i]==0:\n",
        "           TN += 1\n",
        "        if y_hat[i]==0 and y_actual[i]!=y_hat[i]:\n",
        "           FN += 1\n",
        "    num = float(TN)\n",
        "    den = float(TN + FP + K.epsilon())\n",
        "    if den == 0.0:\n",
        "      return tf.constant(0.0, dtype=tf.float32)\n",
        "    return tf.constant(float(num/den), dtype=tf.float32)"
      ]
    },
    {
      "cell_type": "code",
      "execution_count": null,
      "metadata": {
        "id": "Yo4K5FsSHoka"
      },
      "outputs": [],
      "source": [
        "def mcc(y_true, y_pred):\n",
        "  y_true = tf.argmax(y_true).numpy()\n",
        "  y_pred = tf.argmax(y_pred).numpy()\n",
        "\n",
        "  return tf.constant(matthews_corrcoef(y_true, y_pred))"
      ]
    },
    {
      "cell_type": "code",
      "execution_count": null,
      "metadata": {
        "id": "ecC2g5uhnr10"
      },
      "outputs": [],
      "source": [
        "def f1_score(y_true, y_pred): \n",
        "  true_positives = K.sum(K.round(K.clip(y_true * y_pred, 0, 1)))\n",
        "  possible_positives = K.sum(K.round(K.clip(y_true, 0, 1)))\n",
        "  predicted_positives = K.sum(K.round(K.clip(y_pred, 0, 1)))\n",
        "  precision = true_positives / (predicted_positives + K.epsilon())\n",
        "  recall = true_positives / (possible_positives + K.epsilon())\n",
        "  f1_val = 2*(precision*recall)/(precision+recall+K.epsilon())\n",
        "  return f1_val"
      ]
    },
    {
      "cell_type": "code",
      "execution_count": null,
      "metadata": {
        "id": "CGHfyP7QXYbC"
      },
      "outputs": [],
      "source": [
        "class ThresholdCallback(keras.callbacks.Callback):\n",
        "  def __init__(self, threshold):\n",
        "    self.threshold = threshold\n",
        "  def on_epoch_end(self, epoch, logs={}):\n",
        "    if(logs.get(\"val_loss\") < self.threshold):\n",
        "      self.model.stop_training = True"
      ]
    },
    {
      "cell_type": "markdown",
      "metadata": {
        "id": "bDfub9JSuf4Z"
      },
      "source": [
        "#Image Generator"
      ]
    },
    {
      "cell_type": "code",
      "execution_count": null,
      "metadata": {
        "id": "e1Z1cRWE33gI"
      },
      "outputs": [],
      "source": [
        "import collections, numpy"
      ]
    },
    {
      "cell_type": "code",
      "execution_count": null,
      "metadata": {
        "id": "Hl5gOABpzxLh"
      },
      "outputs": [],
      "source": [
        "from collections import Counter"
      ]
    },
    {
      "cell_type": "code",
      "execution_count": null,
      "metadata": {
        "id": "lcdtEtJomKQF"
      },
      "outputs": [],
      "source": [
        "num_images = [3143, 5084, 6728, 1345]"
      ]
    },
    {
      "cell_type": "code",
      "execution_count": null,
      "metadata": {
        "colab": {
          "base_uri": "https://localhost:8080/"
        },
        "id": "Nsut_nfNmo_q",
        "outputId": "2c13db3f-03da-4e3c-9f09-31be8d368929"
      },
      "outputs": [
        {
          "data": {
            "text/plain": [
              "16300"
            ]
          },
          "execution_count": 27,
          "metadata": {},
          "output_type": "execute_result"
        }
      ],
      "source": [
        "sum(num_images)"
      ]
    },
    {
      "cell_type": "code",
      "execution_count": null,
      "metadata": {
        "id": "y2HThrUemXTz"
      },
      "outputs": [],
      "source": [
        "num_classes = len(num_images)-1"
      ]
    },
    {
      "cell_type": "code",
      "execution_count": null,
      "metadata": {
        "id": "mwp-gD0ImUlb"
      },
      "outputs": [],
      "source": [
        "beta_values = [(1 - (x / sum(num_images))) / num_classes for x in num_images]"
      ]
    },
    {
      "cell_type": "code",
      "execution_count": null,
      "metadata": {
        "id": "iXfTV3R6mfA5"
      },
      "outputs": [],
      "source": [
        "beta = dict(zip([0, 1, 2, 3], beta_values))"
      ]
    },
    {
      "cell_type": "code",
      "execution_count": null,
      "metadata": {
        "id": "yVJiACiRshUK"
      },
      "outputs": [],
      "source": [
        "image_generator = ImageDataGenerator(validation_split = 0.2, rescale=1./255)"
      ]
    },
    {
      "cell_type": "code",
      "execution_count": null,
      "metadata": {
        "id": "kmMF7RkQsruT"
      },
      "outputs": [],
      "source": [
        "train_dataset = image_generator.flow(train_images, train_labels, shuffle=True, subset=\"training\", seed=42)"
      ]
    },
    {
      "cell_type": "code",
      "execution_count": null,
      "metadata": {
        "id": "7dhu9Tjqsrwi"
      },
      "outputs": [],
      "source": [
        "validation_dataset = image_generator.flow(validation_images, validation_labels, shuffle=True, subset=\"training\", seed=42)"
      ]
    },
    {
      "cell_type": "code",
      "execution_count": null,
      "metadata": {
        "id": "4C9o0r-pnK2B"
      },
      "outputs": [],
      "source": [
        "test_generator = ImageDataGenerator(rescale=1./255)\n",
        "test_set = test_generator.flow(test_images, test_classes_labels, shuffle=False, seed=42)"
      ]
    },
    {
      "cell_type": "code",
      "execution_count": null,
      "metadata": {
        "colab": {
          "base_uri": "https://localhost:8080/"
        },
        "id": "PvA0K2-Om_y1",
        "outputId": "9c5fe1d9-088a-4fff-b925-2e4e686a1080"
      },
      "outputs": [
        {
          "data": {
            "text/plain": [
              "{0: 0.26905930470347644,\n",
              " 1: 0.22936605316973413,\n",
              " 2: 0.19574642126789366,\n",
              " 3: 0.3058282208588957}"
            ]
          },
          "execution_count": 35,
          "metadata": {},
          "output_type": "execute_result"
        }
      ],
      "source": [
        "beta"
      ]
    },
    {
      "cell_type": "code",
      "execution_count": null,
      "metadata": {
        "id": "icI9P9BzDkOz"
      },
      "outputs": [],
      "source": [
        "model_checkpoint = keras.callbacks.ModelCheckpoint(filepath=\"/content/model/my_best_model.epoch{epoch:02d}-loss{val_loss:.2f}.hdf5\", monitor=\"val_loss\", save_weights_only=True)"
      ]
    },
    {
      "cell_type": "code",
      "execution_count": null,
      "metadata": {
        "id": "zXsBfN5WXT3-"
      },
      "outputs": [],
      "source": [
        "early_stopping = keras.callbacks.EarlyStopping(patience = 7, monitor = \"val_loss\", restore_best_weights = True, mode=\"min\")"
      ]
    },
    {
      "cell_type": "code",
      "execution_count": null,
      "metadata": {
        "id": "yZNG-n6GXUXj"
      },
      "outputs": [],
      "source": [
        "threshold = ThresholdCallback(0.2)"
      ]
    },
    {
      "cell_type": "code",
      "execution_count": null,
      "metadata": {
        "id": "mR49FYOrGBmk"
      },
      "outputs": [],
      "source": [
        "os.mkdir(\"/content/model\")"
      ]
    },
    {
      "cell_type": "markdown",
      "metadata": {
        "id": "27MK7hXqEGLd"
      },
      "source": [
        "#Base Resnet 18 Model"
      ]
    },
    {
      "cell_type": "code",
      "execution_count": null,
      "metadata": {
        "id": "DyAGOGKEEFrK"
      },
      "outputs": [],
      "source": [
        "from keras.callbacks import EarlyStopping\n",
        "from keras.layers import Dense, Conv2D,  MaxPool2D, Flatten, GlobalAveragePooling2D,  BatchNormalization, Layer, Add\n",
        "from keras.models import Sequential\n",
        "from keras.models import Model\n",
        "import tensorflow as tf\n",
        "\n",
        "\n",
        "class ResnetBlock(Model):\n",
        "    \"\"\"\n",
        "    A standard resnet block.\n",
        "    \"\"\"\n",
        "\n",
        "    def __init__(self, channels: int, down_sample=False):\n",
        "        \"\"\"\n",
        "        channels: same as number of convolution kernels\n",
        "        \"\"\"\n",
        "        super().__init__()\n",
        "\n",
        "        self.__channels = channels\n",
        "        self.__down_sample = down_sample\n",
        "        self.__strides = [2, 1] if down_sample else [1, 1]\n",
        "\n",
        "        KERNEL_SIZE = (3, 3)\n",
        "        # use He initialization, instead of Xavier (a.k.a 'glorot_uniform' in Keras), as suggested in [2]\n",
        "        INIT_SCHEME = tf.keras.initializers.GlorotUniform()\n",
        "\n",
        "        self.conv_1 = Conv2D(self.__channels, strides=self.__strides[0],\n",
        "                             kernel_size=KERNEL_SIZE, padding=\"same\", kernel_initializer=INIT_SCHEME)\n",
        "        self.bn_1 = BatchNormalization()\n",
        "        self.conv_2 = Conv2D(self.__channels, strides=self.__strides[1],\n",
        "                             kernel_size=KERNEL_SIZE, padding=\"same\", kernel_initializer=INIT_SCHEME)\n",
        "        self.bn_2 = BatchNormalization()\n",
        "        self.merge = Add()\n",
        "\n",
        "        if self.__down_sample:\n",
        "            # perform down sampling using stride of 2, according to [1].\n",
        "            self.res_conv = Conv2D(\n",
        "                self.__channels, strides=2, kernel_size=(1, 1), kernel_initializer=INIT_SCHEME, padding=\"same\")\n",
        "            self.res_bn = BatchNormalization()\n",
        "\n",
        "    def call(self, inputs):\n",
        "        res = inputs\n",
        "\n",
        "        x = self.conv_1(inputs)\n",
        "        x = self.bn_1(x)\n",
        "        x = tf.nn.relu(x)\n",
        "        x = self.conv_2(x)\n",
        "        x = self.bn_2(x)\n",
        "\n",
        "        if self.__down_sample:\n",
        "            res = self.res_conv(res)\n",
        "            res = self.res_bn(res)\n",
        "\n",
        "        # if not perform down sample, then add a shortcut directly\n",
        "        x = self.merge([x, res])\n",
        "        out = tf.nn.relu(x)\n",
        "        return out\n",
        "\n",
        "\n",
        "class ResNet18(Model):\n",
        "\n",
        "    def __init__(self, **kwargs):\n",
        "\n",
        "        super().__init__(**kwargs)\n",
        "        self.conv_1 = Conv2D(64, (7, 7), strides=2,\n",
        "                             padding=\"same\", kernel_initializer=tf.keras.initializers.GlorotUniform())\n",
        "        self.init_bn = BatchNormalization()\n",
        "        self.pool_2 = MaxPool2D(pool_size=(2, 2), strides=2, padding=\"same\")\n",
        "        self.res_1_1 = ResnetBlock(64)\n",
        "        self.res_1_2 = ResnetBlock(64)\n",
        "        self.res_2_1 = ResnetBlock(128, down_sample=True)\n",
        "        self.res_2_2 = ResnetBlock(128)\n",
        "        self.res_3_1 = ResnetBlock(256, down_sample=True)\n",
        "        self.res_3_2 = ResnetBlock(256)\n",
        "        self.res_4_1 = ResnetBlock(512, down_sample=True)\n",
        "        self.res_4_2 = ResnetBlock(512)\n",
        "        self.avg_pool = GlobalAveragePooling2D()\n",
        "\n",
        "    def call(self, inputs):\n",
        "        out = self.conv_1(inputs)\n",
        "        out = self.init_bn(out)\n",
        "        out = tf.nn.relu(out)\n",
        "        out = self.pool_2(out)\n",
        "        for res_block in [self.res_1_1, self.res_1_2, self.res_2_1, self.res_2_2, self.res_3_1, self.res_3_2, self.res_4_1, self.res_4_2]:\n",
        "            out = res_block(out)\n",
        "        out = self.avg_pool(out)\n",
        "        return out"
      ]
    },
    {
      "cell_type": "code",
      "execution_count": null,
      "metadata": {
        "id": "ZwaGJitfEK3B"
      },
      "outputs": [],
      "source": [
        "base_model = ResNet18()"
      ]
    },
    {
      "cell_type": "code",
      "execution_count": null,
      "metadata": {
        "id": "Jw3ZuU5IoEEP"
      },
      "outputs": [],
      "source": [
        "model = keras.models.Sequential([base_model, keras.layers.Flatten(), keras.layers.Dense(3, activation=\"softmax\")])"
      ]
    },
    {
      "cell_type": "code",
      "execution_count": null,
      "metadata": {
        "colab": {
          "base_uri": "https://localhost:8080/"
        },
        "id": "IwKNIMvkoN2p",
        "outputId": "1e8d9d81-455a-44ca-bce1-b0a7632fbc50"
      },
      "outputs": [
        {
          "name": "stdout",
          "output_type": "stream",
          "text": [
            "WARNING:tensorflow:AutoGraph could not transform <bound method ResnetBlock.call of <__main__.ResnetBlock object at 0x7f9b903b96d0>> and will run it as-is.\n",
            "Cause: mangled names are not yet supported\n",
            "To silence this warning, decorate the function with @tf.autograph.experimental.do_not_convert\n",
            "WARNING: AutoGraph could not transform <bound method ResnetBlock.call of <__main__.ResnetBlock object at 0x7f9b903b96d0>> and will run it as-is.\n",
            "Cause: mangled names are not yet supported\n",
            "To silence this warning, decorate the function with @tf.autograph.experimental.do_not_convert\n"
          ]
        }
      ],
      "source": [
        "model.build(input_shape = (None,HEIGHT, WIDTH, CHANNELS))"
      ]
    },
    {
      "cell_type": "code",
      "execution_count": null,
      "metadata": {
        "colab": {
          "base_uri": "https://localhost:8080/"
        },
        "id": "1Yyk-_CZE2gr",
        "outputId": "d2a75737-cd3b-49b6-969a-6198843ce210"
      },
      "outputs": [
        {
          "name": "stdout",
          "output_type": "stream",
          "text": [
            "Model: \"sequential\"\n",
            "_________________________________________________________________\n",
            " Layer (type)                Output Shape              Param #   \n",
            "=================================================================\n",
            " res_net18 (ResNet18)        (None, 512)               11190912  \n",
            "                                                                 \n",
            " flatten (Flatten)           (None, 512)               0         \n",
            "                                                                 \n",
            " dense (Dense)               (None, 3)                 1539      \n",
            "                                                                 \n",
            "=================================================================\n",
            "Total params: 11,192,451\n",
            "Trainable params: 11,182,851\n",
            "Non-trainable params: 9,600\n",
            "_________________________________________________________________\n"
          ]
        }
      ],
      "source": [
        "model.summary()"
      ]
    },
    {
      "cell_type": "code",
      "execution_count": null,
      "metadata": {
        "id": "XYAQkBChEXJd"
      },
      "outputs": [],
      "source": [
        "base_model_2 = keras.models.load_model(\"/content/drive/MyDrive/Special_Issue_COVID_Journal/base_model_epooch_4\", custom_objects={\"res_net18\" : ResNet18, \"specificity\" : specificity, \"sensitivity\" : sensitivity, \"mcc\" : mcc, \"f1_score\" : f1_score})"
      ]
    },
    {
      "cell_type": "code",
      "execution_count": null,
      "metadata": {
        "colab": {
          "base_uri": "https://localhost:8080/"
        },
        "id": "CkuH_Z34EiG7",
        "outputId": "8eb9627a-9c7e-4ccb-c1c9-42148dc3b45f"
      },
      "outputs": [
        {
          "name": "stdout",
          "output_type": "stream",
          "text": [
            "Model: \"sequential\"\n",
            "_________________________________________________________________\n",
            " Layer (type)                Output Shape              Param #   \n",
            "=================================================================\n",
            " res_net18 (ResNet18)        (None, 512)               11190912  \n",
            "                                                                 \n",
            " flatten (Flatten)           (None, 512)               0         \n",
            "                                                                 \n",
            " dense (Dense)               (None, 14)                7182      \n",
            "                                                                 \n",
            "=================================================================\n",
            "Total params: 11,198,094\n",
            "Trainable params: 11,188,494\n",
            "Non-trainable params: 9,600\n",
            "_________________________________________________________________\n"
          ]
        }
      ],
      "source": [
        "base_model_2.summary()"
      ]
    },
    {
      "cell_type": "code",
      "execution_count": null,
      "metadata": {
        "id": "HXkzAItLEdC9"
      },
      "outputs": [],
      "source": [
        "resnet_layer_2 = base_model_2.get_layer(\"res_net18\")"
      ]
    },
    {
      "cell_type": "code",
      "execution_count": null,
      "metadata": {
        "id": "DwDiUQ6UEsR0"
      },
      "outputs": [],
      "source": [
        "resnet_2_weights = resnet_layer_2.get_weights()"
      ]
    },
    {
      "cell_type": "code",
      "execution_count": null,
      "metadata": {
        "id": "xrs0x6ruEl9c"
      },
      "outputs": [],
      "source": [
        "resnet_layer_1 = model.get_layer(\"res_net18\")"
      ]
    },
    {
      "cell_type": "code",
      "execution_count": null,
      "metadata": {
        "id": "nRfAEHX3EwP8"
      },
      "outputs": [],
      "source": [
        "resnet_layer_1.set_weights(resnet_2_weights)"
      ]
    },
    {
      "cell_type": "markdown",
      "metadata": {
        "id": "2dI3mZzMxjnw"
      },
      "source": [
        "#ResNet18 with custom weights III\n"
      ]
    },
    {
      "cell_type": "code",
      "execution_count": null,
      "metadata": {
        "colab": {
          "base_uri": "https://localhost:8080/"
        },
        "id": "228Q5fZ0xqxb",
        "outputId": "a89fa2fd-ebab-49a5-caac-9a5a23104d5d"
      },
      "outputs": [
        {
          "data": {
            "text/plain": [
              "array(['COVID', 'Normal', 'Viral Pneumonia'], dtype='<U15')"
            ]
          },
          "execution_count": 51,
          "metadata": {},
          "output_type": "execute_result"
        }
      ],
      "source": [
        "lb.classes_"
      ]
    },
    {
      "cell_type": "code",
      "execution_count": null,
      "metadata": {
        "id": "hvqeD15cxmd7"
      },
      "outputs": [],
      "source": [
        "weights = {\n",
        "    0 : 0.3686,\n",
        "    1 : 0.302,\n",
        "    2 : 0.3391\n",
        "\n",
        "}"
      ]
    },
    {
      "cell_type": "code",
      "execution_count": null,
      "metadata": {
        "colab": {
          "base_uri": "https://localhost:8080/"
        },
        "id": "rDSx-jCxxjnx",
        "outputId": "a24f1bf8-df83-4f3a-c527-bff78ddd9051"
      },
      "outputs": [
        {
          "name": "stdout",
          "output_type": "stream",
          "text": [
            "Epoch 1/25\n",
            "179/179 [==============================] - 43s 173ms/step - loss: 0.0899 - accuracy: 0.8933 - precision: 0.8983 - recall: 0.8884 - auc: 0.9790 - specificity: 0.0559 - sensitivity: 0.0838 - mcc: 0.1732 - val_loss: 0.6307 - val_accuracy: 0.7612 - val_precision: 0.7680 - val_recall: 0.7514 - val_auc: 0.9236 - val_specificity: 0.0444 - val_sensitivity: 0.0667 - val_mcc: 0.1111\n",
            "Epoch 2/25\n",
            "179/179 [==============================] - 31s 170ms/step - loss: 0.0506 - accuracy: 0.9429 - precision: 0.9440 - recall: 0.9425 - auc: 0.9925 - specificity: 0.0894 - sensitivity: 0.0726 - mcc: 0.1934 - val_loss: 0.9337 - val_accuracy: 0.7437 - val_precision: 0.7456 - val_recall: 0.7409 - val_auc: 0.8992 - val_specificity: 0.1333 - val_sensitivity: 0.0444 - val_mcc: 0.2148\n",
            "Epoch 3/25\n",
            "179/179 [==============================] - 31s 171ms/step - loss: 0.0348 - accuracy: 0.9610 - precision: 0.9615 - recall: 0.9603 - auc: 0.9961 - specificity: 0.0838 - sensitivity: 0.0615 - mcc: 0.1743 - val_loss: 0.4484 - val_accuracy: 0.8115 - val_precision: 0.8184 - val_recall: 0.8024 - val_auc: 0.9509 - val_specificity: 0.1111 - val_sensitivity: 0.0889 - val_mcc: 0.2000\n",
            "Epoch 4/25\n",
            "179/179 [==============================] - 31s 173ms/step - loss: 0.0309 - accuracy: 0.9637 - precision: 0.9643 - recall: 0.9624 - auc: 0.9968 - specificity: 0.0894 - sensitivity: 0.0726 - mcc: 0.1669 - val_loss: 0.4970 - val_accuracy: 0.7926 - val_precision: 0.7965 - val_recall: 0.7898 - val_auc: 0.9410 - val_specificity: 0.0667 - val_sensitivity: 0.0667 - val_mcc: 0.1481\n",
            "Epoch 5/25\n",
            "179/179 [==============================] - 31s 172ms/step - loss: 0.0198 - accuracy: 0.9804 - precision: 0.9811 - recall: 0.9801 - auc: 0.9984 - specificity: 0.1117 - sensitivity: 0.0503 - mcc: 0.1836 - val_loss: 0.4208 - val_accuracy: 0.8541 - val_precision: 0.8544 - val_recall: 0.8527 - val_auc: 0.9632 - val_specificity: 0.0889 - val_sensitivity: 0.0667 - val_mcc: 0.1720\n",
            "Epoch 6/25\n",
            "179/179 [==============================] - 31s 173ms/step - loss: 0.0177 - accuracy: 0.9796 - precision: 0.9797 - recall: 0.9792 - auc: 0.9991 - specificity: 0.1006 - sensitivity: 0.0615 - mcc: 0.1657 - val_loss: 0.4044 - val_accuracy: 0.8652 - val_precision: 0.8652 - val_recall: 0.8652 - val_auc: 0.9642 - val_specificity: 0.1111 - val_sensitivity: 0.0444 - val_mcc: 0.1704\n",
            "Epoch 7/25\n",
            "179/179 [==============================] - 31s 172ms/step - loss: 0.0153 - accuracy: 0.9841 - precision: 0.9841 - recall: 0.9841 - auc: 0.9992 - specificity: 0.1341 - sensitivity: 0.0838 - mcc: 0.2209 - val_loss: 0.3504 - val_accuracy: 0.9015 - val_precision: 0.9020 - val_recall: 0.9001 - val_auc: 0.9733 - val_specificity: 0.2444 - val_sensitivity: 0.0222 - val_mcc: 0.2621\n",
            "Epoch 8/25\n",
            "179/179 [==============================] - 31s 172ms/step - loss: 0.0096 - accuracy: 0.9899 - precision: 0.9906 - recall: 0.9897 - auc: 0.9998 - specificity: 0.1229 - sensitivity: 0.1173 - mcc: 0.2179 - val_loss: 0.1841 - val_accuracy: 0.9476 - val_precision: 0.9496 - val_recall: 0.9476 - val_auc: 0.9895 - val_specificity: 0.0667 - val_sensitivity: 0.0667 - val_mcc: 0.1584\n",
            "Epoch 9/25\n",
            "179/179 [==============================] - 31s 172ms/step - loss: 0.0168 - accuracy: 0.9824 - precision: 0.9825 - recall: 0.9824 - auc: 0.9990 - specificity: 0.1117 - sensitivity: 0.0391 - mcc: 0.1683 - val_loss: 0.5514 - val_accuracy: 0.8457 - val_precision: 0.8457 - val_recall: 0.8457 - val_auc: 0.9517 - val_specificity: 0.2000 - val_sensitivity: 0.0889 - val_mcc: 0.1749\n",
            "Epoch 10/25\n",
            "179/179 [==============================] - 31s 172ms/step - loss: 0.0079 - accuracy: 0.9914 - precision: 0.9914 - recall: 0.9914 - auc: 0.9996 - specificity: 0.2011 - sensitivity: 0.0838 - mcc: 0.2302 - val_loss: 0.1650 - val_accuracy: 0.9406 - val_precision: 0.9412 - val_recall: 0.9385 - val_auc: 0.9918 - val_specificity: 0.1111 - val_sensitivity: 0.0444 - val_mcc: 0.1288\n",
            "Epoch 11/25\n",
            "179/179 [==============================] - 31s 172ms/step - loss: 0.0098 - accuracy: 0.9886 - precision: 0.9886 - recall: 0.9886 - auc: 0.9996 - specificity: 0.1676 - sensitivity: 0.1508 - mcc: 0.2564 - val_loss: 0.3755 - val_accuracy: 0.9029 - val_precision: 0.9035 - val_recall: 0.9022 - val_auc: 0.9715 - val_specificity: 0.1556 - val_sensitivity: 0.1778 - val_mcc: 0.3037\n",
            "Epoch 12/25\n",
            "179/179 [==============================] - 31s 172ms/step - loss: 0.0044 - accuracy: 0.9949 - precision: 0.9949 - recall: 0.9949 - auc: 1.0000 - specificity: 0.2402 - sensitivity: 0.1341 - mcc: 0.2570 - val_loss: 0.1521 - val_accuracy: 0.9399 - val_precision: 0.9399 - val_recall: 0.9399 - val_auc: 0.9923 - val_specificity: 0.1111 - val_sensitivity: 0.0889 - val_mcc: 0.2461\n",
            "Epoch 13/25\n",
            "179/179 [==============================] - 31s 172ms/step - loss: 0.0057 - accuracy: 0.9935 - precision: 0.9935 - recall: 0.9935 - auc: 0.9998 - specificity: 0.2458 - sensitivity: 0.1620 - mcc: 0.2847 - val_loss: 0.2611 - val_accuracy: 0.9399 - val_precision: 0.9406 - val_recall: 0.9399 - val_auc: 0.9834 - val_specificity: 0.4111 - val_sensitivity: 0.1333 - val_mcc: 0.3231\n",
            "Epoch 14/25\n",
            "179/179 [==============================] - 31s 173ms/step - loss: 0.0091 - accuracy: 0.9893 - precision: 0.9895 - recall: 0.9890 - auc: 0.9995 - specificity: 0.2207 - sensitivity: 0.1061 - mcc: 0.3014 - val_loss: 0.5581 - val_accuracy: 0.8778 - val_precision: 0.8801 - val_recall: 0.8764 - val_auc: 0.9593 - val_specificity: 0.3778 - val_sensitivity: 0.2889 - val_mcc: 0.3704\n",
            "Epoch 15/25\n",
            "179/179 [==============================] - 31s 172ms/step - loss: 0.0080 - accuracy: 0.9921 - precision: 0.9921 - recall: 0.9921 - auc: 0.9996 - specificity: 0.2179 - sensitivity: 0.1229 - mcc: 0.2946 - val_loss: 0.3558 - val_accuracy: 0.9148 - val_precision: 0.9147 - val_recall: 0.9141 - val_auc: 0.9775 - val_specificity: 0.3556 - val_sensitivity: 0.1556 - val_mcc: 0.3572\n",
            "Epoch 16/25\n",
            "179/179 [==============================] - 31s 171ms/step - loss: 0.0024 - accuracy: 0.9983 - precision: 0.9983 - recall: 0.9983 - auc: 0.9999 - specificity: 0.3631 - sensitivity: 0.1341 - mcc: 0.3345 - val_loss: 0.2320 - val_accuracy: 0.9427 - val_precision: 0.9434 - val_recall: 0.9427 - val_auc: 0.9875 - val_specificity: 0.4667 - val_sensitivity: 0.1778 - val_mcc: 0.4741\n",
            "Epoch 17/25\n",
            "179/179 [==============================] - 31s 172ms/step - loss: 0.0061 - accuracy: 0.9930 - precision: 0.9932 - recall: 0.9930 - auc: 0.9998 - specificity: 0.3073 - sensitivity: 0.2011 - mcc: 0.3631 - val_loss: 0.2859 - val_accuracy: 0.9232 - val_precision: 0.9238 - val_recall: 0.9232 - val_auc: 0.9815 - val_specificity: 0.1333 - val_sensitivity: 0.0667 - val_mcc: 0.2045\n",
            "Epoch 18/25\n",
            "179/179 [==============================] - 31s 172ms/step - loss: 0.0090 - accuracy: 0.9899 - precision: 0.9904 - recall: 0.9897 - auc: 0.9997 - specificity: 0.2179 - sensitivity: 0.1899 - mcc: 0.2932 - val_loss: 0.3218 - val_accuracy: 0.9029 - val_precision: 0.9029 - val_recall: 0.9022 - val_auc: 0.9779 - val_specificity: 0.0889 - val_sensitivity: 0.1111 - val_mcc: 0.2000\n",
            "Epoch 19/25\n",
            "179/179 [==============================] - 31s 172ms/step - loss: 0.0025 - accuracy: 0.9974 - precision: 0.9974 - recall: 0.9972 - auc: 1.0000 - specificity: 0.3520 - sensitivity: 0.1676 - mcc: 0.3434 - val_loss: 0.1292 - val_accuracy: 0.9665 - val_precision: 0.9678 - val_recall: 0.9665 - val_auc: 0.9931 - val_specificity: 0.2667 - val_sensitivity: 0.1556 - val_mcc: 0.3453\n",
            "Epoch 20/25\n",
            "179/179 [==============================] - 31s 172ms/step - loss: 0.0080 - accuracy: 0.9918 - precision: 0.9918 - recall: 0.9918 - auc: 0.9995 - specificity: 0.3184 - sensitivity: 0.2067 - mcc: 0.4060 - val_loss: 0.4049 - val_accuracy: 0.8834 - val_precision: 0.8839 - val_recall: 0.8827 - val_auc: 0.9687 - val_specificity: 0.3556 - val_sensitivity: 0.0889 - val_mcc: 0.2519\n",
            "Epoch 21/25\n",
            "179/179 [==============================] - 31s 172ms/step - loss: 0.0062 - accuracy: 0.9927 - precision: 0.9927 - recall: 0.9927 - auc: 0.9998 - specificity: 0.3352 - sensitivity: 0.1788 - mcc: 0.3618 - val_loss: 0.1625 - val_accuracy: 0.9609 - val_precision: 0.9609 - val_recall: 0.9609 - val_auc: 0.9914 - val_specificity: 0.1556 - val_sensitivity: 0.1333 - val_mcc: 0.2889\n",
            "Epoch 22/25\n",
            "179/179 [==============================] - 31s 174ms/step - loss: 0.0057 - accuracy: 0.9927 - precision: 0.9927 - recall: 0.9927 - auc: 0.9997 - specificity: 0.2849 - sensitivity: 0.1955 - mcc: 0.3282 - val_loss: 0.4240 - val_accuracy: 0.9218 - val_precision: 0.9217 - val_recall: 0.9211 - val_auc: 0.9711 - val_specificity: 0.4000 - val_sensitivity: 0.2667 - val_mcc: 0.3630\n",
            "Epoch 23/25\n",
            "179/179 [==============================] - 31s 172ms/step - loss: 0.0029 - accuracy: 0.9965 - precision: 0.9965 - recall: 0.9965 - auc: 1.0000 - specificity: 0.3743 - sensitivity: 0.1955 - mcc: 0.3438 - val_loss: 0.2489 - val_accuracy: 0.9469 - val_precision: 0.9476 - val_recall: 0.9469 - val_auc: 0.9866 - val_specificity: 0.4667 - val_sensitivity: 0.2444 - val_mcc: 0.3868\n",
            "Epoch 24/25\n",
            "179/179 [==============================] - 31s 171ms/step - loss: 0.0028 - accuracy: 0.9970 - precision: 0.9970 - recall: 0.9970 - auc: 0.9999 - specificity: 0.4302 - sensitivity: 0.2067 - mcc: 0.4124 - val_loss: 0.1841 - val_accuracy: 0.9560 - val_precision: 0.9560 - val_recall: 0.9560 - val_auc: 0.9889 - val_specificity: 0.5111 - val_sensitivity: 0.2000 - val_mcc: 0.4506\n",
            "Epoch 25/25\n",
            "179/179 [==============================] - 31s 171ms/step - loss: 0.0031 - accuracy: 0.9965 - precision: 0.9965 - recall: 0.9965 - auc: 0.9998 - specificity: 0.4525 - sensitivity: 0.2402 - mcc: 0.4608 - val_loss: 0.1771 - val_accuracy: 0.9700 - val_precision: 0.9700 - val_recall: 0.9700 - val_auc: 0.9893 - val_specificity: 0.5111 - val_sensitivity: 0.2444 - val_mcc: 0.5481\n"
          ]
        }
      ],
      "source": [
        "model.compile(optimizer=\"adam\", loss=\"categorical_crossentropy\", metrics=[\"accuracy\", keras.metrics.Precision(), keras.metrics.Recall(), keras.metrics.AUC(), specificity, sensitivity, mcc], run_eagerly=True)\n",
        "history = model.fit(x=train_dataset, validation_data=validation_dataset, epochs=25, batch_size=32, callbacks=[early_stopping, model_checkpoint], class_weight=weights)"
      ]
    },
    {
      "cell_type": "code",
      "execution_count": null,
      "metadata": {
        "id": "MMAmc7hoxjnz"
      },
      "outputs": [],
      "source": [
        "df = data(history)"
      ]
    },
    {
      "cell_type": "code",
      "execution_count": null,
      "metadata": {
        "colab": {
          "base_uri": "https://localhost:8080/",
          "height": 833
        },
        "id": "wl3qpaEaxjnz",
        "outputId": "be34d3fd-ded3-4c2e-bef7-e092eb919679"
      },
      "outputs": [
        {
          "data": {
            "text/html": [
              "\n",
              "  <div id=\"df-8e732e4a-ac5c-4280-af87-6173cddf1eb2\">\n",
              "    <div class=\"colab-df-container\">\n",
              "      <div>\n",
              "<style scoped>\n",
              "    .dataframe tbody tr th:only-of-type {\n",
              "        vertical-align: middle;\n",
              "    }\n",
              "\n",
              "    .dataframe tbody tr th {\n",
              "        vertical-align: top;\n",
              "    }\n",
              "\n",
              "    .dataframe thead th {\n",
              "        text-align: right;\n",
              "    }\n",
              "</style>\n",
              "<table border=\"1\" class=\"dataframe\">\n",
              "  <thead>\n",
              "    <tr style=\"text-align: right;\">\n",
              "      <th></th>\n",
              "      <th>Accuracy</th>\n",
              "      <th>Validation Accuracy</th>\n",
              "      <th>Loss</th>\n",
              "      <th>Validation Loss</th>\n",
              "      <th>Recall</th>\n",
              "      <th>Validation Recall</th>\n",
              "      <th>Precision</th>\n",
              "      <th>Validation Precision</th>\n",
              "      <th>AUC</th>\n",
              "      <th>Validation AUC</th>\n",
              "      <th>Specificity</th>\n",
              "      <th>Validation Specificity</th>\n",
              "      <th>Sensitivity</th>\n",
              "      <th>Validation Sensitivity</th>\n",
              "      <th>MCC</th>\n",
              "      <th>Validation MCC</th>\n",
              "    </tr>\n",
              "  </thead>\n",
              "  <tbody>\n",
              "    <tr>\n",
              "      <th>0</th>\n",
              "      <td>0.893256</td>\n",
              "      <td>0.761173</td>\n",
              "      <td>0.089920</td>\n",
              "      <td>0.630663</td>\n",
              "      <td>0.888365</td>\n",
              "      <td>0.751397</td>\n",
              "      <td>0.898251</td>\n",
              "      <td>0.768023</td>\n",
              "      <td>0.979006</td>\n",
              "      <td>0.923649</td>\n",
              "      <td>0.055866</td>\n",
              "      <td>0.044444</td>\n",
              "      <td>0.083799</td>\n",
              "      <td>0.066667</td>\n",
              "      <td>0.173184</td>\n",
              "      <td>0.111111</td>\n",
              "    </tr>\n",
              "    <tr>\n",
              "      <th>1</th>\n",
              "      <td>0.942872</td>\n",
              "      <td>0.743715</td>\n",
              "      <td>0.050557</td>\n",
              "      <td>0.933735</td>\n",
              "      <td>0.942523</td>\n",
              "      <td>0.740922</td>\n",
              "      <td>0.944007</td>\n",
              "      <td>0.745608</td>\n",
              "      <td>0.992486</td>\n",
              "      <td>0.899180</td>\n",
              "      <td>0.089385</td>\n",
              "      <td>0.133333</td>\n",
              "      <td>0.072626</td>\n",
              "      <td>0.044444</td>\n",
              "      <td>0.193365</td>\n",
              "      <td>0.214815</td>\n",
              "    </tr>\n",
              "    <tr>\n",
              "      <th>2</th>\n",
              "      <td>0.961041</td>\n",
              "      <td>0.811453</td>\n",
              "      <td>0.034781</td>\n",
              "      <td>0.448449</td>\n",
              "      <td>0.960342</td>\n",
              "      <td>0.802374</td>\n",
              "      <td>0.961518</td>\n",
              "      <td>0.818376</td>\n",
              "      <td>0.996092</td>\n",
              "      <td>0.950895</td>\n",
              "      <td>0.083799</td>\n",
              "      <td>0.111111</td>\n",
              "      <td>0.061453</td>\n",
              "      <td>0.088889</td>\n",
              "      <td>0.174325</td>\n",
              "      <td>0.200000</td>\n",
              "    </tr>\n",
              "    <tr>\n",
              "      <th>3</th>\n",
              "      <td>0.963662</td>\n",
              "      <td>0.792598</td>\n",
              "      <td>0.030945</td>\n",
              "      <td>0.497045</td>\n",
              "      <td>0.962439</td>\n",
              "      <td>0.789804</td>\n",
              "      <td>0.964292</td>\n",
              "      <td>0.796479</td>\n",
              "      <td>0.996761</td>\n",
              "      <td>0.941048</td>\n",
              "      <td>0.089385</td>\n",
              "      <td>0.066667</td>\n",
              "      <td>0.072626</td>\n",
              "      <td>0.066667</td>\n",
              "      <td>0.166876</td>\n",
              "      <td>0.148148</td>\n",
              "    </tr>\n",
              "    <tr>\n",
              "      <th>4</th>\n",
              "      <td>0.980433</td>\n",
              "      <td>0.854050</td>\n",
              "      <td>0.019752</td>\n",
              "      <td>0.420823</td>\n",
              "      <td>0.980084</td>\n",
              "      <td>0.852654</td>\n",
              "      <td>0.981112</td>\n",
              "      <td>0.854444</td>\n",
              "      <td>0.998419</td>\n",
              "      <td>0.963204</td>\n",
              "      <td>0.111732</td>\n",
              "      <td>0.088889</td>\n",
              "      <td>0.050279</td>\n",
              "      <td>0.066667</td>\n",
              "      <td>0.183636</td>\n",
              "      <td>0.172035</td>\n",
              "    </tr>\n",
              "    <tr>\n",
              "      <th>5</th>\n",
              "      <td>0.979560</td>\n",
              "      <td>0.865223</td>\n",
              "      <td>0.017663</td>\n",
              "      <td>0.404449</td>\n",
              "      <td>0.979210</td>\n",
              "      <td>0.865223</td>\n",
              "      <td>0.979724</td>\n",
              "      <td>0.865223</td>\n",
              "      <td>0.999061</td>\n",
              "      <td>0.964249</td>\n",
              "      <td>0.100559</td>\n",
              "      <td>0.111111</td>\n",
              "      <td>0.061453</td>\n",
              "      <td>0.044444</td>\n",
              "      <td>0.165736</td>\n",
              "      <td>0.170370</td>\n",
              "    </tr>\n",
              "    <tr>\n",
              "      <th>6</th>\n",
              "      <td>0.984102</td>\n",
              "      <td>0.901536</td>\n",
              "      <td>0.015297</td>\n",
              "      <td>0.350356</td>\n",
              "      <td>0.984102</td>\n",
              "      <td>0.900140</td>\n",
              "      <td>0.984102</td>\n",
              "      <td>0.902029</td>\n",
              "      <td>0.999223</td>\n",
              "      <td>0.973333</td>\n",
              "      <td>0.134078</td>\n",
              "      <td>0.244444</td>\n",
              "      <td>0.083799</td>\n",
              "      <td>0.022222</td>\n",
              "      <td>0.220880</td>\n",
              "      <td>0.262131</td>\n",
              "    </tr>\n",
              "    <tr>\n",
              "      <th>7</th>\n",
              "      <td>0.989867</td>\n",
              "      <td>0.947626</td>\n",
              "      <td>0.009590</td>\n",
              "      <td>0.184136</td>\n",
              "      <td>0.989693</td>\n",
              "      <td>0.947626</td>\n",
              "      <td>0.990558</td>\n",
              "      <td>0.949615</td>\n",
              "      <td>0.999759</td>\n",
              "      <td>0.989493</td>\n",
              "      <td>0.122905</td>\n",
              "      <td>0.066667</td>\n",
              "      <td>0.117318</td>\n",
              "      <td>0.066667</td>\n",
              "      <td>0.217877</td>\n",
              "      <td>0.158427</td>\n",
              "    </tr>\n",
              "    <tr>\n",
              "      <th>8</th>\n",
              "      <td>0.982355</td>\n",
              "      <td>0.845670</td>\n",
              "      <td>0.016843</td>\n",
              "      <td>0.551435</td>\n",
              "      <td>0.982355</td>\n",
              "      <td>0.845670</td>\n",
              "      <td>0.982527</td>\n",
              "      <td>0.845670</td>\n",
              "      <td>0.999007</td>\n",
              "      <td>0.951693</td>\n",
              "      <td>0.111732</td>\n",
              "      <td>0.200000</td>\n",
              "      <td>0.039106</td>\n",
              "      <td>0.088889</td>\n",
              "      <td>0.168320</td>\n",
              "      <td>0.174906</td>\n",
              "    </tr>\n",
              "    <tr>\n",
              "      <th>9</th>\n",
              "      <td>0.991440</td>\n",
              "      <td>0.940642</td>\n",
              "      <td>0.007868</td>\n",
              "      <td>0.164979</td>\n",
              "      <td>0.991440</td>\n",
              "      <td>0.938547</td>\n",
              "      <td>0.991440</td>\n",
              "      <td>0.941176</td>\n",
              "      <td>0.999572</td>\n",
              "      <td>0.991774</td>\n",
              "      <td>0.201117</td>\n",
              "      <td>0.111111</td>\n",
              "      <td>0.083799</td>\n",
              "      <td>0.044444</td>\n",
              "      <td>0.230191</td>\n",
              "      <td>0.128797</td>\n",
              "    </tr>\n",
              "    <tr>\n",
              "      <th>10</th>\n",
              "      <td>0.988644</td>\n",
              "      <td>0.902933</td>\n",
              "      <td>0.009839</td>\n",
              "      <td>0.375476</td>\n",
              "      <td>0.988644</td>\n",
              "      <td>0.902235</td>\n",
              "      <td>0.988644</td>\n",
              "      <td>0.903497</td>\n",
              "      <td>0.999629</td>\n",
              "      <td>0.971538</td>\n",
              "      <td>0.167598</td>\n",
              "      <td>0.155556</td>\n",
              "      <td>0.150838</td>\n",
              "      <td>0.177778</td>\n",
              "      <td>0.256377</td>\n",
              "      <td>0.303704</td>\n",
              "    </tr>\n",
              "    <tr>\n",
              "      <th>11</th>\n",
              "      <td>0.994934</td>\n",
              "      <td>0.939944</td>\n",
              "      <td>0.004355</td>\n",
              "      <td>0.152137</td>\n",
              "      <td>0.994934</td>\n",
              "      <td>0.939944</td>\n",
              "      <td>0.994934</td>\n",
              "      <td>0.939944</td>\n",
              "      <td>0.999953</td>\n",
              "      <td>0.992293</td>\n",
              "      <td>0.240223</td>\n",
              "      <td>0.111111</td>\n",
              "      <td>0.134078</td>\n",
              "      <td>0.088889</td>\n",
              "      <td>0.256983</td>\n",
              "      <td>0.246109</td>\n",
              "    </tr>\n",
              "    <tr>\n",
              "      <th>12</th>\n",
              "      <td>0.993536</td>\n",
              "      <td>0.939944</td>\n",
              "      <td>0.005721</td>\n",
              "      <td>0.261125</td>\n",
              "      <td>0.993536</td>\n",
              "      <td>0.939944</td>\n",
              "      <td>0.993536</td>\n",
              "      <td>0.940601</td>\n",
              "      <td>0.999783</td>\n",
              "      <td>0.983366</td>\n",
              "      <td>0.245810</td>\n",
              "      <td>0.411111</td>\n",
              "      <td>0.162011</td>\n",
              "      <td>0.133333</td>\n",
              "      <td>0.284728</td>\n",
              "      <td>0.323055</td>\n",
              "    </tr>\n",
              "    <tr>\n",
              "      <th>13</th>\n",
              "      <td>0.989343</td>\n",
              "      <td>0.877793</td>\n",
              "      <td>0.009124</td>\n",
              "      <td>0.558111</td>\n",
              "      <td>0.988994</td>\n",
              "      <td>0.876397</td>\n",
              "      <td>0.989512</td>\n",
              "      <td>0.880084</td>\n",
              "      <td>0.999537</td>\n",
              "      <td>0.959315</td>\n",
              "      <td>0.220670</td>\n",
              "      <td>0.377778</td>\n",
              "      <td>0.106145</td>\n",
              "      <td>0.288889</td>\n",
              "      <td>0.301373</td>\n",
              "      <td>0.370370</td>\n",
              "    </tr>\n",
              "    <tr>\n",
              "      <th>14</th>\n",
              "      <td>0.992138</td>\n",
              "      <td>0.914804</td>\n",
              "      <td>0.008030</td>\n",
              "      <td>0.355782</td>\n",
              "      <td>0.992138</td>\n",
              "      <td>0.914106</td>\n",
              "      <td>0.992138</td>\n",
              "      <td>0.914745</td>\n",
              "      <td>0.999561</td>\n",
              "      <td>0.977541</td>\n",
              "      <td>0.217877</td>\n",
              "      <td>0.355556</td>\n",
              "      <td>0.122905</td>\n",
              "      <td>0.155556</td>\n",
              "      <td>0.294646</td>\n",
              "      <td>0.357220</td>\n",
              "    </tr>\n",
              "    <tr>\n",
              "      <th>15</th>\n",
              "      <td>0.998253</td>\n",
              "      <td>0.942737</td>\n",
              "      <td>0.002410</td>\n",
              "      <td>0.232036</td>\n",
              "      <td>0.998253</td>\n",
              "      <td>0.942737</td>\n",
              "      <td>0.998253</td>\n",
              "      <td>0.943396</td>\n",
              "      <td>0.999854</td>\n",
              "      <td>0.987536</td>\n",
              "      <td>0.363128</td>\n",
              "      <td>0.466667</td>\n",
              "      <td>0.134078</td>\n",
              "      <td>0.177778</td>\n",
              "      <td>0.334474</td>\n",
              "      <td>0.474074</td>\n",
              "    </tr>\n",
              "    <tr>\n",
              "      <th>16</th>\n",
              "      <td>0.993012</td>\n",
              "      <td>0.923184</td>\n",
              "      <td>0.006090</td>\n",
              "      <td>0.285880</td>\n",
              "      <td>0.993012</td>\n",
              "      <td>0.923184</td>\n",
              "      <td>0.993185</td>\n",
              "      <td>0.923829</td>\n",
              "      <td>0.999769</td>\n",
              "      <td>0.981486</td>\n",
              "      <td>0.307263</td>\n",
              "      <td>0.133333</td>\n",
              "      <td>0.201117</td>\n",
              "      <td>0.066667</td>\n",
              "      <td>0.363128</td>\n",
              "      <td>0.204536</td>\n",
              "    </tr>\n",
              "    <tr>\n",
              "      <th>17</th>\n",
              "      <td>0.989867</td>\n",
              "      <td>0.902933</td>\n",
              "      <td>0.008986</td>\n",
              "      <td>0.321768</td>\n",
              "      <td>0.989693</td>\n",
              "      <td>0.902235</td>\n",
              "      <td>0.990385</td>\n",
              "      <td>0.902865</td>\n",
              "      <td>0.999666</td>\n",
              "      <td>0.977897</td>\n",
              "      <td>0.217877</td>\n",
              "      <td>0.088889</td>\n",
              "      <td>0.189944</td>\n",
              "      <td>0.111111</td>\n",
              "      <td>0.293202</td>\n",
              "      <td>0.200000</td>\n",
              "    </tr>\n",
              "    <tr>\n",
              "      <th>18</th>\n",
              "      <td>0.997379</td>\n",
              "      <td>0.966480</td>\n",
              "      <td>0.002484</td>\n",
              "      <td>0.129223</td>\n",
              "      <td>0.997205</td>\n",
              "      <td>0.966480</td>\n",
              "      <td>0.997379</td>\n",
              "      <td>0.967832</td>\n",
              "      <td>0.999988</td>\n",
              "      <td>0.993081</td>\n",
              "      <td>0.351955</td>\n",
              "      <td>0.266667</td>\n",
              "      <td>0.167598</td>\n",
              "      <td>0.155556</td>\n",
              "      <td>0.343366</td>\n",
              "      <td>0.345277</td>\n",
              "    </tr>\n",
              "    <tr>\n",
              "      <th>19</th>\n",
              "      <td>0.991789</td>\n",
              "      <td>0.883380</td>\n",
              "      <td>0.007973</td>\n",
              "      <td>0.404929</td>\n",
              "      <td>0.991789</td>\n",
              "      <td>0.882682</td>\n",
              "      <td>0.991789</td>\n",
              "      <td>0.883916</td>\n",
              "      <td>0.999463</td>\n",
              "      <td>0.968748</td>\n",
              "      <td>0.318436</td>\n",
              "      <td>0.355556</td>\n",
              "      <td>0.206704</td>\n",
              "      <td>0.088889</td>\n",
              "      <td>0.405959</td>\n",
              "      <td>0.251852</td>\n",
              "    </tr>\n",
              "    <tr>\n",
              "      <th>20</th>\n",
              "      <td>0.992662</td>\n",
              "      <td>0.960894</td>\n",
              "      <td>0.006218</td>\n",
              "      <td>0.162484</td>\n",
              "      <td>0.992662</td>\n",
              "      <td>0.960894</td>\n",
              "      <td>0.992662</td>\n",
              "      <td>0.960894</td>\n",
              "      <td>0.999769</td>\n",
              "      <td>0.991428</td>\n",
              "      <td>0.335196</td>\n",
              "      <td>0.155556</td>\n",
              "      <td>0.178771</td>\n",
              "      <td>0.133333</td>\n",
              "      <td>0.361800</td>\n",
              "      <td>0.288889</td>\n",
              "    </tr>\n",
              "    <tr>\n",
              "      <th>21</th>\n",
              "      <td>0.992662</td>\n",
              "      <td>0.921788</td>\n",
              "      <td>0.005712</td>\n",
              "      <td>0.424000</td>\n",
              "      <td>0.992662</td>\n",
              "      <td>0.921089</td>\n",
              "      <td>0.992662</td>\n",
              "      <td>0.921733</td>\n",
              "      <td>0.999667</td>\n",
              "      <td>0.971092</td>\n",
              "      <td>0.284916</td>\n",
              "      <td>0.400000</td>\n",
              "      <td>0.195531</td>\n",
              "      <td>0.266667</td>\n",
              "      <td>0.328165</td>\n",
              "      <td>0.362963</td>\n",
              "    </tr>\n",
              "    <tr>\n",
              "      <th>22</th>\n",
              "      <td>0.996506</td>\n",
              "      <td>0.946927</td>\n",
              "      <td>0.002853</td>\n",
              "      <td>0.248901</td>\n",
              "      <td>0.996506</td>\n",
              "      <td>0.946927</td>\n",
              "      <td>0.996506</td>\n",
              "      <td>0.947589</td>\n",
              "      <td>0.999977</td>\n",
              "      <td>0.986572</td>\n",
              "      <td>0.374302</td>\n",
              "      <td>0.466667</td>\n",
              "      <td>0.195531</td>\n",
              "      <td>0.244444</td>\n",
              "      <td>0.343785</td>\n",
              "      <td>0.386850</td>\n",
              "    </tr>\n",
              "    <tr>\n",
              "      <th>23</th>\n",
              "      <td>0.997030</td>\n",
              "      <td>0.956006</td>\n",
              "      <td>0.002812</td>\n",
              "      <td>0.184080</td>\n",
              "      <td>0.997030</td>\n",
              "      <td>0.956006</td>\n",
              "      <td>0.997030</td>\n",
              "      <td>0.956006</td>\n",
              "      <td>0.999850</td>\n",
              "      <td>0.988852</td>\n",
              "      <td>0.430168</td>\n",
              "      <td>0.511111</td>\n",
              "      <td>0.206704</td>\n",
              "      <td>0.200000</td>\n",
              "      <td>0.412383</td>\n",
              "      <td>0.450645</td>\n",
              "    </tr>\n",
              "    <tr>\n",
              "      <th>24</th>\n",
              "      <td>0.996506</td>\n",
              "      <td>0.969972</td>\n",
              "      <td>0.003111</td>\n",
              "      <td>0.177136</td>\n",
              "      <td>0.996506</td>\n",
              "      <td>0.969972</td>\n",
              "      <td>0.996506</td>\n",
              "      <td>0.969972</td>\n",
              "      <td>0.999842</td>\n",
              "      <td>0.989251</td>\n",
              "      <td>0.452514</td>\n",
              "      <td>0.511111</td>\n",
              "      <td>0.240223</td>\n",
              "      <td>0.244444</td>\n",
              "      <td>0.460800</td>\n",
              "      <td>0.548148</td>\n",
              "    </tr>\n",
              "  </tbody>\n",
              "</table>\n",
              "</div>\n",
              "      <button class=\"colab-df-convert\" onclick=\"convertToInteractive('df-8e732e4a-ac5c-4280-af87-6173cddf1eb2')\"\n",
              "              title=\"Convert this dataframe to an interactive table.\"\n",
              "              style=\"display:none;\">\n",
              "        \n",
              "  <svg xmlns=\"http://www.w3.org/2000/svg\" height=\"24px\"viewBox=\"0 0 24 24\"\n",
              "       width=\"24px\">\n",
              "    <path d=\"M0 0h24v24H0V0z\" fill=\"none\"/>\n",
              "    <path d=\"M18.56 5.44l.94 2.06.94-2.06 2.06-.94-2.06-.94-.94-2.06-.94 2.06-2.06.94zm-11 1L8.5 8.5l.94-2.06 2.06-.94-2.06-.94L8.5 2.5l-.94 2.06-2.06.94zm10 10l.94 2.06.94-2.06 2.06-.94-2.06-.94-.94-2.06-.94 2.06-2.06.94z\"/><path d=\"M17.41 7.96l-1.37-1.37c-.4-.4-.92-.59-1.43-.59-.52 0-1.04.2-1.43.59L10.3 9.45l-7.72 7.72c-.78.78-.78 2.05 0 2.83L4 21.41c.39.39.9.59 1.41.59.51 0 1.02-.2 1.41-.59l7.78-7.78 2.81-2.81c.8-.78.8-2.07 0-2.86zM5.41 20L4 18.59l7.72-7.72 1.47 1.35L5.41 20z\"/>\n",
              "  </svg>\n",
              "      </button>\n",
              "      \n",
              "  <style>\n",
              "    .colab-df-container {\n",
              "      display:flex;\n",
              "      flex-wrap:wrap;\n",
              "      gap: 12px;\n",
              "    }\n",
              "\n",
              "    .colab-df-convert {\n",
              "      background-color: #E8F0FE;\n",
              "      border: none;\n",
              "      border-radius: 50%;\n",
              "      cursor: pointer;\n",
              "      display: none;\n",
              "      fill: #1967D2;\n",
              "      height: 32px;\n",
              "      padding: 0 0 0 0;\n",
              "      width: 32px;\n",
              "    }\n",
              "\n",
              "    .colab-df-convert:hover {\n",
              "      background-color: #E2EBFA;\n",
              "      box-shadow: 0px 1px 2px rgba(60, 64, 67, 0.3), 0px 1px 3px 1px rgba(60, 64, 67, 0.15);\n",
              "      fill: #174EA6;\n",
              "    }\n",
              "\n",
              "    [theme=dark] .colab-df-convert {\n",
              "      background-color: #3B4455;\n",
              "      fill: #D2E3FC;\n",
              "    }\n",
              "\n",
              "    [theme=dark] .colab-df-convert:hover {\n",
              "      background-color: #434B5C;\n",
              "      box-shadow: 0px 1px 3px 1px rgba(0, 0, 0, 0.15);\n",
              "      filter: drop-shadow(0px 1px 2px rgba(0, 0, 0, 0.3));\n",
              "      fill: #FFFFFF;\n",
              "    }\n",
              "  </style>\n",
              "\n",
              "      <script>\n",
              "        const buttonEl =\n",
              "          document.querySelector('#df-8e732e4a-ac5c-4280-af87-6173cddf1eb2 button.colab-df-convert');\n",
              "        buttonEl.style.display =\n",
              "          google.colab.kernel.accessAllowed ? 'block' : 'none';\n",
              "\n",
              "        async function convertToInteractive(key) {\n",
              "          const element = document.querySelector('#df-8e732e4a-ac5c-4280-af87-6173cddf1eb2');\n",
              "          const dataTable =\n",
              "            await google.colab.kernel.invokeFunction('convertToInteractive',\n",
              "                                                     [key], {});\n",
              "          if (!dataTable) return;\n",
              "\n",
              "          const docLinkHtml = 'Like what you see? Visit the ' +\n",
              "            '<a target=\"_blank\" href=https://colab.research.google.com/notebooks/data_table.ipynb>data table notebook</a>'\n",
              "            + ' to learn more about interactive tables.';\n",
              "          element.innerHTML = '';\n",
              "          dataTable['output_type'] = 'display_data';\n",
              "          await google.colab.output.renderOutput(dataTable, element);\n",
              "          const docLink = document.createElement('div');\n",
              "          docLink.innerHTML = docLinkHtml;\n",
              "          element.appendChild(docLink);\n",
              "        }\n",
              "      </script>\n",
              "    </div>\n",
              "  </div>\n",
              "  "
            ],
            "text/plain": [
              "    Accuracy  Validation Accuracy  ...       MCC  Validation MCC\n",
              "0   0.893256             0.761173  ...  0.173184        0.111111\n",
              "1   0.942872             0.743715  ...  0.193365        0.214815\n",
              "2   0.961041             0.811453  ...  0.174325        0.200000\n",
              "3   0.963662             0.792598  ...  0.166876        0.148148\n",
              "4   0.980433             0.854050  ...  0.183636        0.172035\n",
              "5   0.979560             0.865223  ...  0.165736        0.170370\n",
              "6   0.984102             0.901536  ...  0.220880        0.262131\n",
              "7   0.989867             0.947626  ...  0.217877        0.158427\n",
              "8   0.982355             0.845670  ...  0.168320        0.174906\n",
              "9   0.991440             0.940642  ...  0.230191        0.128797\n",
              "10  0.988644             0.902933  ...  0.256377        0.303704\n",
              "11  0.994934             0.939944  ...  0.256983        0.246109\n",
              "12  0.993536             0.939944  ...  0.284728        0.323055\n",
              "13  0.989343             0.877793  ...  0.301373        0.370370\n",
              "14  0.992138             0.914804  ...  0.294646        0.357220\n",
              "15  0.998253             0.942737  ...  0.334474        0.474074\n",
              "16  0.993012             0.923184  ...  0.363128        0.204536\n",
              "17  0.989867             0.902933  ...  0.293202        0.200000\n",
              "18  0.997379             0.966480  ...  0.343366        0.345277\n",
              "19  0.991789             0.883380  ...  0.405959        0.251852\n",
              "20  0.992662             0.960894  ...  0.361800        0.288889\n",
              "21  0.992662             0.921788  ...  0.328165        0.362963\n",
              "22  0.996506             0.946927  ...  0.343785        0.386850\n",
              "23  0.997030             0.956006  ...  0.412383        0.450645\n",
              "24  0.996506             0.969972  ...  0.460800        0.548148\n",
              "\n",
              "[25 rows x 16 columns]"
            ]
          },
          "execution_count": 55,
          "metadata": {},
          "output_type": "execute_result"
        }
      ],
      "source": [
        "df"
      ]
    },
    {
      "cell_type": "code",
      "execution_count": null,
      "metadata": {
        "colab": {
          "base_uri": "https://localhost:8080/",
          "height": 934
        },
        "id": "Fu7LGceTxjn0",
        "outputId": "fa6043fc-7023-46d0-b01f-24edc51a4a6a"
      },
      "outputs": [
        {
          "data": {
            "image/png": "[encoded data removed]",
            "text/plain": [
              "<Figure size 1440x1152 with 8 Axes>"
            ]
          },
          "metadata": {},
          "output_type": "display_data"
        }
      ],
      "source": [
        "history_visualization(df)"
      ]
    },
    {
      "cell_type": "markdown",
      "metadata": {
        "id": "kZr1tAZmxjn1"
      },
      "source": [
        "##Prediction"
      ]
    },
    {
      "cell_type": "code",
      "execution_count": null,
      "metadata": {
        "id": "WUzEWE0kxjn1"
      },
      "outputs": [],
      "source": [
        "model.load_weights(\"/content/model/my_best_model.epoch19-loss0.13.hdf5\")"
      ]
    },
    {
      "cell_type": "code",
      "execution_count": null,
      "metadata": {
        "colab": {
          "base_uri": "https://localhost:8080/"
        },
        "id": "1ZOPo9Vjxjn2",
        "outputId": "9ab3b304-3193-4f8c-a866-3c3f8551cb70"
      },
      "outputs": [
        {
          "name": "stdout",
          "output_type": "stream",
          "text": [
            "Found 3254 images belonging to 4 classes.\n"
          ]
        }
      ],
      "source": [
        "test_generator = ImageDataGenerator(rescale=1./255)\n",
        "test_dataset = test_generator.flow_from_directory(directory=\"/content/drive/MyDrive/Special_Issue_COVID_Journal/original_dataset/test\", target_size=(HEIGHT, WIDTH), color_mode=\"rgb\", class_mode=\"categorical\", shuffle=False)"
      ]
    },
    {
      "cell_type": "code",
      "execution_count": null,
      "metadata": {
        "colab": {
          "base_uri": "https://localhost:8080/"
        },
        "id": "0MEzFNhexjn3",
        "outputId": "f6af83b4-a75a-4d95-8ba8-1643065e34d1"
      },
      "outputs": [
        {
          "data": {
            "text/plain": [
              "{'COVID': 0, 'Lung opacity': 1, 'Normal': 2, 'Viral Pneumonia': 3}"
            ]
          },
          "execution_count": 35,
          "metadata": {},
          "output_type": "execute_result"
        }
      ],
      "source": [
        "test_dataset.class_indices"
      ]
    },
    {
      "cell_type": "code",
      "execution_count": null,
      "metadata": {
        "colab": {
          "base_uri": "https://localhost:8080/"
        },
        "id": "7RA1eDajxjn3",
        "outputId": "edccddb0-4336-42d2-dae0-4e1b7d3ec5df"
      },
      "outputs": [
        {
          "data": {
            "text/plain": [
              "{'COVID': 0, 'Lung opacity': 1, 'Normal': 2, 'Viral Pneumonia': 3}"
            ]
          },
          "execution_count": 36,
          "metadata": {},
          "output_type": "execute_result"
        }
      ],
      "source": [
        "train_dataset.class_indices"
      ]
    },
    {
      "cell_type": "code",
      "execution_count": null,
      "metadata": {
        "id": "sDVxzcz6xjn4"
      },
      "outputs": [],
      "source": [
        "predictions = model.predict(test_set)"
      ]
    },
    {
      "cell_type": "code",
      "execution_count": null,
      "metadata": {
        "id": "hKgcvk86xjn4"
      },
      "outputs": [],
      "source": [
        "predictions_index = lb.inverse_transform(predictions)"
      ]
    },
    {
      "cell_type": "code",
      "execution_count": null,
      "metadata": {
        "colab": {
          "base_uri": "https://localhost:8080/"
        },
        "id": "h02DhvCdxjn5",
        "outputId": "88ebf46a-b019-432b-8754-40558700c42e"
      },
      "outputs": [
        {
          "name": "stdout",
          "output_type": "stream",
          "text": [
            "                 precision    recall  f1-score   support\n",
            "\n",
            "          COVID       0.93      0.95      0.94       618\n",
            "         Normal       0.98      0.97      0.98      1341\n",
            "Viral Pneumonia       0.99      0.95      0.97       278\n",
            "\n",
            "       accuracy                           0.97      2237\n",
            "      macro avg       0.97      0.96      0.96      2237\n",
            "   weighted avg       0.97      0.97      0.97      2237\n",
            "\n"
          ]
        }
      ],
      "source": [
        "predictions_index = lb.inverse_transform(predictions)\n",
        "print(classification_report(predictions_index, lb.inverse_transform(test_set.y)))"
      ]
    },
    {
      "cell_type": "code",
      "execution_count": null,
      "metadata": {
        "colab": {
          "base_uri": "https://localhost:8080/",
          "height": 708
        },
        "id": "dtB8MyP1xjn6",
        "outputId": "4d1545ca-403e-4d73-be27-0c747886eb52"
      },
      "outputs": [
        {
          "data": {
            "image/png": "[encoded data removed]",
            "text/plain": [
              "<Figure size 1080x864 with 2 Axes>"
            ]
          },
          "metadata": {},
          "output_type": "display_data"
        }
      ],
      "source": [
        "plt.figure(figsize=(15, 12))\n",
        "cm = confusion_matrix(predictions_index, lb.inverse_transform(test_set.y))\n",
        "df_cm = pd.DataFrame(cm, index = [i for i in lb.classes_],\n",
        "                  columns = [i for i in lb.classes_])\n",
        "sns.set(font_scale=1.4)\n",
        "sns.heatmap(df_cm, annot=True, annot_kws={\"size\": 16}, fmt='g') \n",
        "plt.show()"
      ]
    },
    {
      "cell_type": "code",
      "execution_count": null,
      "metadata": {
        "colab": {
          "base_uri": "https://localhost:8080/"
        },
        "id": "h6mRL4vHFKuZ",
        "outputId": "46b71042-d1ff-4b4c-f0c8-fbacbbfc034a"
      },
      "outputs": [
        {
          "name": "stdout",
          "output_type": "stream",
          "text": [
            "0.9721540878546208\n"
          ]
        }
      ],
      "source": [
        "from sklearn.preprocessing import LabelBinarizer\n",
        "from sklearn.metrics import auc, roc_curve, roc_auc_score\n",
        "bin = LabelBinarizer()\n",
        "x_test = bin.fit_transform(lb.inverse_transform(test_set.y))\n",
        "pred = bin.transform(predictions_index)\n",
        "print(roc_auc_score(x_test, pred))"
      ]
    },
    {
      "cell_type": "code",
      "execution_count": null,
      "metadata": {
        "id": "Hq1GCRY-KJw6"
      },
      "outputs": [],
      "source": [
        "tf.keras.models.save_model(model, \"/content/custom\")"
      ]
    },
    {
      "cell_type": "code",
      "execution_count": null,
      "metadata": {
        "colab": {
          "background_save": true
        },
        "id": "xMm17uduKP6m",
        "outputId": "5c44fc2a-9d80-4115-c558-804d087c24a5"
      },
      "outputs": [
        {
          "name": "stdout",
          "output_type": "stream",
          "text": [
            "  adding: content/custom/ (stored 0%)\n",
            "  adding: content/custom/saved_model.pb (deflated 92%)\n",
            "  adding: content/custom/variables/ (stored 0%)\n",
            "  adding: content/custom/variables/variables.data-00000-of-00001 (deflated 8%)\n",
            "  adding: content/custom/variables/variables.index (deflated 79%)\n",
            "  adding: content/custom/assets/ (stored 0%)\n",
            "  adding: content/custom/keras_metadata.pb (deflated 94%)\n"
          ]
        }
      ],
      "source": [
        "!zip -r /content/4.zip /content/custom"
      ]
    }
  ],
  "metadata": {
    "accelerator": "GPU",
    "colab": {
      "collapsed_sections": [
        "3CzQfhzaAqDL",
        "TAlZ6dPHHTvf",
        "D4nLRwZMHe6T",
        "bDfub9JSuf4Z"
      ],
      "machine_shape": "hm",
      "name": "3 classes experiment.ipynb",
      "provenance": [],
      "toc_visible": true
    },
    "kernelspec": {
      "display_name": "Python 3",
      "language": "python",
      "name": "python3"
    },
    "language_info": {
      "codemirror_mode": {
        "name": "ipython",
        "version": 3
      },
      "file_extension": ".py",
      "mimetype": "text/x-python",
      "name": "python",
      "nbconvert_exporter": "python",
      "pygments_lexer": "ipython3",
      "version": "3.8.5"
    }
  },
  "nbformat": 4,
  "nbformat_minor": 0
}
