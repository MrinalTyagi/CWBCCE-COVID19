{
  "cells": [
    {
      "cell_type": "markdown",
      "metadata": {
        "id": "3CzQfhzaAqDL"
      },
      "source": [
        "#Importing libraries and dataset"
      ]
    },
    {
      "cell_type": "code",
      "execution_count": null,
      "metadata": {
        "colab": {
          "base_uri": "https://localhost:8080/"
        },
        "id": "OWo9uWe0FHq9",
        "outputId": "1f266e1e-aada-4af8-f5d4-225b972954fb"
      },
      "outputs": [
        {
          "output_type": "stream",
          "name": "stdout",
          "text": [
            "Mounted at /content/drive\n"
          ]
        }
      ],
      "source": [
        "from google.colab import drive\n",
        "drive.mount('/content/drive')"
      ]
    },
    {
      "cell_type": "code",
      "execution_count": null,
      "metadata": {
        "id": "eIjVgo2MFUfX"
      },
      "outputs": [],
      "source": [
        "HEIGHT = 128\n",
        "WIDTH = 128\n",
        "CHANNELS = 3"
      ]
    },
    {
      "cell_type": "code",
      "execution_count": null,
      "metadata": {
        "id": "brQocH-3Abfy"
      },
      "outputs": [],
      "source": [
        "import numpy as np\n",
        "import pandas as pd\n",
        "import matplotlib.pyplot as plt\n",
        "import keras\n",
        "from keras.preprocessing.image import ImageDataGenerator\n",
        "import tensorflow as tf\n",
        "import os\n",
        "from matplotlib.pyplot import imread\n",
        "from sklearn.model_selection import train_test_split\n",
        "from sklearn.utils import class_weight\n",
        "from sklearn.preprocessing import LabelBinarizer, LabelEncoder\n",
        "import cv2\n",
        "from sklearn.metrics import confusion_matrix\n",
        "import seaborn as sns\n",
        "from sklearn.metrics import matthews_corrcoef\n",
        "from sklearn.metrics import classification_report\n",
        "from sklearn.metrics import plot_confusion_matrix\n",
        "import keras.backend as K\n",
        "import warnings\n",
        "from sklearn.utils import compute_class_weight\n",
        "import pywt"
      ]
    },
    {
      "cell_type": "code",
      "execution_count": null,
      "metadata": {
        "id": "_VBEcZZe6srz"
      },
      "outputs": [],
      "source": [
        "tf.random.set_seed(42)"
      ]
    },
    {
      "cell_type": "code",
      "execution_count": null,
      "metadata": {
        "id": "9rEIXZWpowEg"
      },
      "outputs": [],
      "source": [
        "images = []\n",
        "classes_labels = []\n",
        "for i in os.listdir(\"/content/drive/MyDrive/Special_Issue_COVID_Journal/original_dataset/train\"):\n",
        "  class_path = f\"/content/drive/MyDrive/Special_Issue_COVID_Journal/original_dataset/train/{i}\"\n",
        "  if(i == \"Lung opacity\"):\n",
        "    continue\n",
        "  for j in os.listdir(class_path):\n",
        "    file_path = f\"{class_path}/{j}\"\n",
        "    classes_labels.append(i)\n",
        "    images.append(cv2.resize(cv2.imread(file_path, 1), (HEIGHT, WIDTH)))"
      ]
    },
    {
      "cell_type": "code",
      "execution_count": null,
      "metadata": {
        "id": "cnrGY1KsnBAv"
      },
      "outputs": [],
      "source": [
        "test_images = []\n",
        "test_classes_labels = []\n",
        "for i in os.listdir(\"/content/drive/MyDrive/Special_Issue_COVID_Journal/original_dataset/test\"):\n",
        "  class_path = f\"/content/drive/MyDrive/Special_Issue_COVID_Journal/original_dataset/test/{i}\"\n",
        "  if(i == \"Lung opacity\"):\n",
        "    continue\n",
        "  for j in os.listdir(class_path):\n",
        "    file_path = f\"{class_path}/{j}\"\n",
        "    test_classes_labels.append(i)\n",
        "    test_images.append(cv2.resize(cv2.imread(file_path, 1), (HEIGHT, WIDTH)))"
      ]
    },
    {
      "cell_type": "code",
      "execution_count": null,
      "metadata": {
        "id": "LfIFkuEao6ZX"
      },
      "outputs": [],
      "source": [
        "train_images, validation_images, train_labels, validation_labels = train_test_split(images, classes_labels, test_size = 0.2, random_state = 42)"
      ]
    },
    {
      "cell_type": "code",
      "execution_count": null,
      "metadata": {
        "id": "vy3_CxVA56KO"
      },
      "outputs": [],
      "source": [
        "from sklearn.utils import class_weight\n",
        "class_weights = class_weight.compute_class_weight(class_weight = 'balanced', classes = np.unique(train_labels), y = train_labels)"
      ]
    },
    {
      "cell_type": "code",
      "execution_count": null,
      "metadata": {
        "colab": {
          "base_uri": "https://localhost:8080/"
        },
        "id": "SpuhkFKD6vi8",
        "outputId": "d2bddf38-5a02-43d6-d175-e2f3c7fa17f7"
      },
      "outputs": [
        {
          "output_type": "execute_result",
          "data": {
            "text/plain": [
              "array([1.1889332 , 0.55529686, 2.79274005])"
            ]
          },
          "metadata": {},
          "execution_count": 9
        }
      ],
      "source": [
        "class_weights"
      ]
    },
    {
      "cell_type": "code",
      "execution_count": null,
      "metadata": {
        "id": "m6fPSrI7652Q"
      },
      "outputs": [],
      "source": [
        "weights = dict(zip([0, 1, 2], class_weights))"
      ]
    },
    {
      "cell_type": "code",
      "execution_count": null,
      "metadata": {
        "colab": {
          "base_uri": "https://localhost:8080/"
        },
        "id": "jSf2fytC7CFT",
        "outputId": "9d7efac8-4182-43f8-ac8e-1075fae78883"
      },
      "outputs": [
        {
          "output_type": "execute_result",
          "data": {
            "text/plain": [
              "{0: 1.1889332003988036, 1: 0.5552968568102444, 2: 2.7927400468384076}"
            ]
          },
          "metadata": {},
          "execution_count": 11
        }
      ],
      "source": [
        "weights"
      ]
    },
    {
      "cell_type": "code",
      "execution_count": null,
      "metadata": {
        "id": "0648ffaDo1s_"
      },
      "outputs": [],
      "source": [
        "train_images = np.asarray(train_images)\n",
        "validation_images = np.asarray(validation_images)\n",
        "train_labels = np.asarray(train_labels)\n",
        "validation_labels = np.asarray(validation_labels)"
      ]
    },
    {
      "cell_type": "code",
      "execution_count": null,
      "metadata": {
        "id": "dxfi26iktHk9"
      },
      "outputs": [],
      "source": [
        "from sklearn.preprocessing import LabelBinarizer\n",
        "lb = LabelBinarizer()\n",
        "train_labels = lb.fit_transform(train_labels)\n",
        "validation_labels = lb.transform(validation_labels)"
      ]
    },
    {
      "cell_type": "code",
      "execution_count": null,
      "metadata": {
        "id": "igFjNsUQncH7"
      },
      "outputs": [],
      "source": [
        "test_classes_labels = lb.transform(test_classes_labels)"
      ]
    },
    {
      "cell_type": "code",
      "execution_count": null,
      "metadata": {
        "id": "5_trUuGhnrNF"
      },
      "outputs": [],
      "source": [
        "test_images = np.asarray(test_images)\n",
        "test_classes_labels = np.asarray(test_classes_labels)"
      ]
    },
    {
      "cell_type": "markdown",
      "metadata": {
        "id": "TAlZ6dPHHTvf"
      },
      "source": [
        "#Data Visualization"
      ]
    },
    {
      "cell_type": "code",
      "execution_count": null,
      "metadata": {
        "id": "5b9qRnE2HPZZ"
      },
      "outputs": [],
      "source": [
        "def data(history):\n",
        "  return pd.DataFrame(data=list(zip(history.history[\"accuracy\"], history.history[\"val_accuracy\"], history.history[\"loss\"], history.history[\"val_loss\"], history.history[\"recall\"], history.history[\"val_recall\"], history.history[\"precision\"], history.history[\"val_precision\"], history.history[\"auc\"], history.history[\"val_auc\"], history.history[\"specificity\"], history.history[\"val_specificity\"], history.history[\"sensitivity\"], history.history[\"val_sensitivity\"], history.history[\"mcc\"], history.history[\"val_mcc\"])) , columns=[\"Accuracy\", \"Validation Accuracy\", \"Loss\", \"Validation Loss\", \"Recall\", \"Validation Recall\", \"Precision\", \"Validation Precision\", \"AUC\", \"Validation AUC\", \"Specificity\", \"Validation Specificity\" ,\"Sensitivity\", \"Validation Sensitivity\", \"MCC\", \"Validation MCC\"])"
      ]
    },
    {
      "cell_type": "code",
      "execution_count": null,
      "metadata": {
        "id": "erCsAa2CHXXD"
      },
      "outputs": [],
      "source": [
        "def history_visualization(df):\n",
        "  sns.set_style('darkgrid')\n",
        "  nrow = 4\n",
        "  ncol = 2\n",
        "  df_columns = df.columns\n",
        "  df_list = [df[col] for col in df]\n",
        "  titles=[\"Accuracy Visualization\", \"Loss Visualization\", \"Recall Visualization\", \"Precision Visualization\", \"AUC Visualization\", \"Specificity Visualization\", \"Sensitivity Visualization\", \"MCC Visualization\"]\n",
        "  fig, axes = plt.subplots(nrow, ncol, figsize=(20, 16))\n",
        "  count = 0\n",
        "  i = 0\n",
        "  for r in range(nrow):\n",
        "    for c in range(ncol):\n",
        "        df_list[count].plot(ax=axes[r,c], x=\"Number of Epochs\", legend=\"brief\", label=df_columns[count], marker=\"o\").set_title(titles[i])\n",
        "        df_list[count+1].plot(ax=axes[r, c], x=\"Number of Epochs\", legend=\"brief\" ,label=df_columns[count+1], marker=\"o\").set_title(titles[i])\n",
        "        i+=1\n",
        "        count+=2"
      ]
    },
    {
      "cell_type": "code",
      "execution_count": null,
      "metadata": {
        "id": "Gzzt0AHYHZ3p"
      },
      "outputs": [],
      "source": [
        "early_stoping = keras.callbacks.EarlyStopping(monitor=\"val_loss\", patience=5, restore_best_weights=True)"
      ]
    },
    {
      "cell_type": "markdown",
      "metadata": {
        "id": "D4nLRwZMHe6T"
      },
      "source": [
        "#Custom Metrics using Tensorflow"
      ]
    },
    {
      "cell_type": "code",
      "execution_count": null,
      "metadata": {
        "id": "VsSrpQjeHdDi"
      },
      "outputs": [],
      "source": [
        "def true_positive(y_true, y_pred):\n",
        "  y_true = tf.argmax(y_true)\n",
        "  y_pred = tf.argmax(y_pred)\n",
        "  res = tf.math.confusion_matrix(y_true, y_pred, dtype=tf.float32)\n",
        "  return tf.reduce_sum(tf.linalg.diag_part(res), axis = 0)\n",
        "\n",
        "def false_positive(y_true, y_pred):\n",
        "  y_true = tf.argmax(y_true)\n",
        "  y_pred = tf.argmax(y_pred)\n",
        "  res = tf.math.confusion_matrix(y_true, y_pred, dtype=tf.float32)\n",
        "  return tf.reduce_sum(tf.reduce_sum(res, axis = 1) - tf.linalg.diag_part(res), axis = 0)\n",
        "\n",
        "def false_negative(y_true, y_pred):\n",
        "  y_true = tf.argmax(y_true)\n",
        "  y_pred = tf.argmax(y_pred)\n",
        "  res = tf.math.confusion_matrix(y_true, y_pred, dtype=tf.float32)\n",
        "  return tf.reduce_sum(tf.reduce_sum(res, axis = 1) - tf.linalg.diag_part(res), axis = 0)\n",
        "\n",
        "def true_negative(y_true, y_pred):\n",
        "  y_true_res = tf.argmax(y_true)\n",
        "  y_pred_res = tf.argmax(y_pred)\n",
        "  res = tf.math.confusion_matrix(y_true_res, y_pred_res, dtype=tf.float32)\n",
        "  return tf.reduce_sum(tf.reduce_sum(res, axis = 1), axis=0) - (false_negative(y_true, y_pred) + false_positive(y_true, y_pred) + true_positive(y_true, y_pred))"
      ]
    },
    {
      "cell_type": "code",
      "execution_count": null,
      "metadata": {
        "id": "LOKtWzdJHnCa"
      },
      "outputs": [],
      "source": [
        "def sensitivity(y_true, y_pred):\n",
        "    y_actual = tf.argmax(y_true).numpy()\n",
        "    y_hat = tf.argmax(y_pred).numpy()\n",
        "    TP = 0\n",
        "    FP = 0\n",
        "    TN = 0\n",
        "    FN = 0\n",
        "    for i in range(len(y_hat)): \n",
        "        if y_actual[i]==y_hat[i]==1:\n",
        "           TP += 1\n",
        "        if y_hat[i]==1 and y_actual[i]!=y_hat[i]:\n",
        "           FP += 1\n",
        "        if y_actual[i]==y_hat[i]==0:\n",
        "           TN += 1\n",
        "        if y_hat[i]==0 and y_actual[i]!=y_hat[i]:\n",
        "           FN += 1\n",
        "    num = float(TP)\n",
        "    den = float(TP + FN + K.epsilon())\n",
        "    if den == 0.0:\n",
        "      return tf.constant(0.0, dtype=tf.float32)\n",
        "    return tf.constant(float(num/den), dtype=tf.float32)\n",
        "\n",
        "def specificity(y_true, y_pred):\n",
        "    y_actual = tf.argmax(y_true).numpy()\n",
        "    y_hat = tf.argmax(y_pred).numpy()\n",
        "    TP = 0\n",
        "    FP = 0\n",
        "    TN = 0\n",
        "    FN = 0\n",
        "    for i in range(len(y_hat)): \n",
        "        if y_actual[i]==y_hat[i]==1:\n",
        "           TP += 1\n",
        "        if y_hat[i]==1 and y_actual[i]!=y_hat[i]:\n",
        "           FP += 1\n",
        "        if y_actual[i]==y_hat[i]==0:\n",
        "           TN += 1\n",
        "        if y_hat[i]==0 and y_actual[i]!=y_hat[i]:\n",
        "           FN += 1\n",
        "    num = float(TN)\n",
        "    den = float(TN + FP + K.epsilon())\n",
        "    if den == 0.0:\n",
        "      return tf.constant(0.0, dtype=tf.float32)\n",
        "    return tf.constant(float(num/den), dtype=tf.float32)"
      ]
    },
    {
      "cell_type": "code",
      "execution_count": null,
      "metadata": {
        "id": "Yo4K5FsSHoka"
      },
      "outputs": [],
      "source": [
        "def mcc(y_true, y_pred):\n",
        "  y_true = tf.argmax(y_true).numpy()\n",
        "  y_pred = tf.argmax(y_pred).numpy()\n",
        "\n",
        "  return tf.constant(matthews_corrcoef(y_true, y_pred))"
      ]
    },
    {
      "cell_type": "code",
      "execution_count": null,
      "metadata": {
        "id": "ecC2g5uhnr10"
      },
      "outputs": [],
      "source": [
        "def f1_score(y_true, y_pred): \n",
        "  true_positives = K.sum(K.round(K.clip(y_true * y_pred, 0, 1)))\n",
        "  possible_positives = K.sum(K.round(K.clip(y_true, 0, 1)))\n",
        "  predicted_positives = K.sum(K.round(K.clip(y_pred, 0, 1)))\n",
        "  precision = true_positives / (predicted_positives + K.epsilon())\n",
        "  recall = true_positives / (possible_positives + K.epsilon())\n",
        "  f1_val = 2*(precision*recall)/(precision+recall+K.epsilon())\n",
        "  return f1_val"
      ]
    },
    {
      "cell_type": "code",
      "execution_count": null,
      "metadata": {
        "id": "CGHfyP7QXYbC"
      },
      "outputs": [],
      "source": [
        "class ThresholdCallback(keras.callbacks.Callback):\n",
        "  def __init__(self, threshold):\n",
        "    self.threshold = threshold\n",
        "  def on_epoch_end(self, epoch, logs={}):\n",
        "    if(logs.get(\"val_loss\") < self.threshold):\n",
        "      self.model.stop_training = True"
      ]
    },
    {
      "cell_type": "markdown",
      "metadata": {
        "id": "bDfub9JSuf4Z"
      },
      "source": [
        "#Image Generator"
      ]
    },
    {
      "cell_type": "code",
      "execution_count": null,
      "metadata": {
        "id": "e1Z1cRWE33gI"
      },
      "outputs": [],
      "source": [
        "import collections, numpy"
      ]
    },
    {
      "cell_type": "code",
      "execution_count": null,
      "metadata": {
        "id": "Hl5gOABpzxLh"
      },
      "outputs": [],
      "source": [
        "from collections import Counter"
      ]
    },
    {
      "cell_type": "code",
      "execution_count": null,
      "metadata": {
        "id": "lcdtEtJomKQF"
      },
      "outputs": [],
      "source": [
        "num_images = [3143, 5084, 6728, 1345]"
      ]
    },
    {
      "cell_type": "code",
      "execution_count": null,
      "metadata": {
        "colab": {
          "base_uri": "https://localhost:8080/"
        },
        "id": "Nsut_nfNmo_q",
        "outputId": "2c13db3f-03da-4e3c-9f09-31be8d368929"
      },
      "outputs": [
        {
          "output_type": "execute_result",
          "data": {
            "text/plain": [
              "16300"
            ]
          },
          "metadata": {},
          "execution_count": 27
        }
      ],
      "source": [
        "sum(num_images)"
      ]
    },
    {
      "cell_type": "code",
      "execution_count": null,
      "metadata": {
        "id": "y2HThrUemXTz"
      },
      "outputs": [],
      "source": [
        "num_classes = len(num_images)-1"
      ]
    },
    {
      "cell_type": "code",
      "execution_count": null,
      "metadata": {
        "id": "mwp-gD0ImUlb"
      },
      "outputs": [],
      "source": [
        "beta_values = [(1 - (x / sum(num_images))) / num_classes for x in num_images]"
      ]
    },
    {
      "cell_type": "code",
      "execution_count": null,
      "metadata": {
        "id": "iXfTV3R6mfA5"
      },
      "outputs": [],
      "source": [
        "beta = dict(zip([0, 1, 2, 3], beta_values))"
      ]
    },
    {
      "cell_type": "code",
      "execution_count": null,
      "metadata": {
        "id": "yVJiACiRshUK"
      },
      "outputs": [],
      "source": [
        "image_generator = ImageDataGenerator(validation_split = 0.2, rescale=1./255)"
      ]
    },
    {
      "cell_type": "code",
      "execution_count": null,
      "metadata": {
        "id": "kmMF7RkQsruT"
      },
      "outputs": [],
      "source": [
        "train_dataset = image_generator.flow(train_images, train_labels, shuffle=True, subset=\"training\", seed=42)"
      ]
    },
    {
      "cell_type": "code",
      "execution_count": null,
      "metadata": {
        "id": "7dhu9Tjqsrwi"
      },
      "outputs": [],
      "source": [
        "validation_dataset = image_generator.flow(validation_images, validation_labels, shuffle=True, subset=\"training\", seed=42)"
      ]
    },
    {
      "cell_type": "code",
      "execution_count": null,
      "metadata": {
        "id": "4C9o0r-pnK2B"
      },
      "outputs": [],
      "source": [
        "test_generator = ImageDataGenerator(rescale=1./255)\n",
        "test_set = test_generator.flow(test_images, test_classes_labels, shuffle=False, seed=42)"
      ]
    },
    {
      "cell_type": "code",
      "execution_count": null,
      "metadata": {
        "colab": {
          "base_uri": "https://localhost:8080/"
        },
        "id": "PvA0K2-Om_y1",
        "outputId": "9c5fe1d9-088a-4fff-b925-2e4e686a1080"
      },
      "outputs": [
        {
          "output_type": "execute_result",
          "data": {
            "text/plain": [
              "{0: 0.26905930470347644,\n",
              " 1: 0.22936605316973413,\n",
              " 2: 0.19574642126789366,\n",
              " 3: 0.3058282208588957}"
            ]
          },
          "metadata": {},
          "execution_count": 35
        }
      ],
      "source": [
        "beta"
      ]
    },
    {
      "cell_type": "code",
      "execution_count": null,
      "metadata": {
        "id": "icI9P9BzDkOz"
      },
      "outputs": [],
      "source": [
        "model_checkpoint = keras.callbacks.ModelCheckpoint(filepath=\"/content/model/my_best_model.epoch{epoch:02d}-loss{val_loss:.2f}.hdf5\", monitor=\"val_loss\", save_weights_only=True)"
      ]
    },
    {
      "cell_type": "code",
      "execution_count": null,
      "metadata": {
        "id": "zXsBfN5WXT3-"
      },
      "outputs": [],
      "source": [
        "early_stopping = keras.callbacks.EarlyStopping(patience = 7, monitor = \"val_loss\", restore_best_weights = True, mode=\"min\")"
      ]
    },
    {
      "cell_type": "code",
      "execution_count": null,
      "metadata": {
        "id": "yZNG-n6GXUXj"
      },
      "outputs": [],
      "source": [
        "threshold = ThresholdCallback(0.2)"
      ]
    },
    {
      "cell_type": "code",
      "execution_count": null,
      "metadata": {
        "id": "mR49FYOrGBmk"
      },
      "outputs": [],
      "source": [
        "os.mkdir(\"/content/model\")"
      ]
    },
    {
      "cell_type": "markdown",
      "metadata": {
        "id": "27MK7hXqEGLd"
      },
      "source": [
        "#Base Resnet 18 Model"
      ]
    },
    {
      "cell_type": "code",
      "execution_count": null,
      "metadata": {
        "id": "DyAGOGKEEFrK"
      },
      "outputs": [],
      "source": [
        "from keras.callbacks import EarlyStopping\n",
        "from keras.layers import Dense, Conv2D,  MaxPool2D, Flatten, GlobalAveragePooling2D,  BatchNormalization, Layer, Add\n",
        "from keras.models import Sequential\n",
        "from keras.models import Model\n",
        "import tensorflow as tf\n",
        "\n",
        "\n",
        "class ResnetBlock(Model):\n",
        "    \"\"\"\n",
        "    A standard resnet block.\n",
        "    \"\"\"\n",
        "\n",
        "    def __init__(self, channels: int, down_sample=False):\n",
        "        \"\"\"\n",
        "        channels: same as number of convolution kernels\n",
        "        \"\"\"\n",
        "        super().__init__()\n",
        "\n",
        "        self.__channels = channels\n",
        "        self.__down_sample = down_sample\n",
        "        self.__strides = [2, 1] if down_sample else [1, 1]\n",
        "\n",
        "        KERNEL_SIZE = (3, 3)\n",
        "        # use He initialization, instead of Xavier (a.k.a 'glorot_uniform' in Keras), as suggested in [2]\n",
        "        INIT_SCHEME = tf.keras.initializers.GlorotUniform()\n",
        "\n",
        "        self.conv_1 = Conv2D(self.__channels, strides=self.__strides[0],\n",
        "                             kernel_size=KERNEL_SIZE, padding=\"same\", kernel_initializer=INIT_SCHEME)\n",
        "        self.bn_1 = BatchNormalization()\n",
        "        self.conv_2 = Conv2D(self.__channels, strides=self.__strides[1],\n",
        "                             kernel_size=KERNEL_SIZE, padding=\"same\", kernel_initializer=INIT_SCHEME)\n",
        "        self.bn_2 = BatchNormalization()\n",
        "        self.merge = Add()\n",
        "\n",
        "        if self.__down_sample:\n",
        "            # perform down sampling using stride of 2, according to [1].\n",
        "            self.res_conv = Conv2D(\n",
        "                self.__channels, strides=2, kernel_size=(1, 1), kernel_initializer=INIT_SCHEME, padding=\"same\")\n",
        "            self.res_bn = BatchNormalization()\n",
        "\n",
        "    def call(self, inputs):\n",
        "        res = inputs\n",
        "\n",
        "        x = self.conv_1(inputs)\n",
        "        x = self.bn_1(x)\n",
        "        x = tf.nn.relu(x)\n",
        "        x = self.conv_2(x)\n",
        "        x = self.bn_2(x)\n",
        "\n",
        "        if self.__down_sample:\n",
        "            res = self.res_conv(res)\n",
        "            res = self.res_bn(res)\n",
        "\n",
        "        # if not perform down sample, then add a shortcut directly\n",
        "        x = self.merge([x, res])\n",
        "        out = tf.nn.relu(x)\n",
        "        return out\n",
        "\n",
        "\n",
        "class ResNet18(Model):\n",
        "\n",
        "    def __init__(self, **kwargs):\n",
        "\n",
        "        super().__init__(**kwargs)\n",
        "        self.conv_1 = Conv2D(64, (7, 7), strides=2,\n",
        "                             padding=\"same\", kernel_initializer=tf.keras.initializers.GlorotUniform())\n",
        "        self.init_bn = BatchNormalization()\n",
        "        self.pool_2 = MaxPool2D(pool_size=(2, 2), strides=2, padding=\"same\")\n",
        "        self.res_1_1 = ResnetBlock(64)\n",
        "        self.res_1_2 = ResnetBlock(64)\n",
        "        self.res_2_1 = ResnetBlock(128, down_sample=True)\n",
        "        self.res_2_2 = ResnetBlock(128)\n",
        "        self.res_3_1 = ResnetBlock(256, down_sample=True)\n",
        "        self.res_3_2 = ResnetBlock(256)\n",
        "        self.res_4_1 = ResnetBlock(512, down_sample=True)\n",
        "        self.res_4_2 = ResnetBlock(512)\n",
        "        self.avg_pool = GlobalAveragePooling2D()\n",
        "\n",
        "    def call(self, inputs):\n",
        "        out = self.conv_1(inputs)\n",
        "        out = self.init_bn(out)\n",
        "        out = tf.nn.relu(out)\n",
        "        out = self.pool_2(out)\n",
        "        for res_block in [self.res_1_1, self.res_1_2, self.res_2_1, self.res_2_2, self.res_3_1, self.res_3_2, self.res_4_1, self.res_4_2]:\n",
        "            out = res_block(out)\n",
        "        out = self.avg_pool(out)\n",
        "        return out"
      ]
    },
    {
      "cell_type": "code",
      "execution_count": null,
      "metadata": {
        "id": "ZwaGJitfEK3B"
      },
      "outputs": [],
      "source": [
        "base_model = ResNet18()"
      ]
    },
    {
      "cell_type": "code",
      "execution_count": null,
      "metadata": {
        "id": "Jw3ZuU5IoEEP"
      },
      "outputs": [],
      "source": [
        "model = keras.models.Sequential([base_model, keras.layers.Flatten(), keras.layers.Dense(3, activation=\"sigmoid\")])"
      ]
    },
    {
      "cell_type": "code",
      "execution_count": null,
      "metadata": {
        "colab": {
          "base_uri": "https://localhost:8080/"
        },
        "id": "IwKNIMvkoN2p",
        "outputId": "1e8d9d81-455a-44ca-bce1-b0a7632fbc50"
      },
      "outputs": [
        {
          "output_type": "stream",
          "name": "stdout",
          "text": [
            "WARNING:tensorflow:AutoGraph could not transform <bound method ResnetBlock.call of <__main__.ResnetBlock object at 0x7f9b903b96d0>> and will run it as-is.\n",
            "Cause: mangled names are not yet supported\n",
            "To silence this warning, decorate the function with @tf.autograph.experimental.do_not_convert\n",
            "WARNING: AutoGraph could not transform <bound method ResnetBlock.call of <__main__.ResnetBlock object at 0x7f9b903b96d0>> and will run it as-is.\n",
            "Cause: mangled names are not yet supported\n",
            "To silence this warning, decorate the function with @tf.autograph.experimental.do_not_convert\n"
          ]
        }
      ],
      "source": [
        "model.build(input_shape = (None,HEIGHT, WIDTH, CHANNELS))"
      ]
    },
    {
      "cell_type": "code",
      "execution_count": null,
      "metadata": {
        "colab": {
          "base_uri": "https://localhost:8080/"
        },
        "id": "1Yyk-_CZE2gr",
        "outputId": "d2a75737-cd3b-49b6-969a-6198843ce210"
      },
      "outputs": [
        {
          "output_type": "stream",
          "name": "stdout",
          "text": [
            "Model: \"sequential\"\n",
            "_________________________________________________________________\n",
            " Layer (type)                Output Shape              Param #   \n",
            "=================================================================\n",
            " res_net18 (ResNet18)        (None, 512)               11190912  \n",
            "                                                                 \n",
            " flatten (Flatten)           (None, 512)               0         \n",
            "                                                                 \n",
            " dense (Dense)               (None, 3)                 1539      \n",
            "                                                                 \n",
            "=================================================================\n",
            "Total params: 11,192,451\n",
            "Trainable params: 11,182,851\n",
            "Non-trainable params: 9,600\n",
            "_________________________________________________________________\n"
          ]
        }
      ],
      "source": [
        "model.summary()"
      ]
    },
    {
      "cell_type": "code",
      "execution_count": null,
      "metadata": {
        "id": "XYAQkBChEXJd"
      },
      "outputs": [],
      "source": [
        "base_model_2 = keras.models.load_model(\"/content/drive/MyDrive/Special_Issue_COVID_Journal/base_model_epooch_4\", custom_objects={\"res_net18\" : ResNet18, \"specificity\" : specificity, \"sensitivity\" : sensitivity, \"mcc\" : mcc, \"f1_score\" : f1_score})"
      ]
    },
    {
      "cell_type": "code",
      "execution_count": null,
      "metadata": {
        "colab": {
          "base_uri": "https://localhost:8080/"
        },
        "id": "CkuH_Z34EiG7",
        "outputId": "8eb9627a-9c7e-4ccb-c1c9-42148dc3b45f"
      },
      "outputs": [
        {
          "output_type": "stream",
          "name": "stdout",
          "text": [
            "Model: \"sequential\"\n",
            "_________________________________________________________________\n",
            " Layer (type)                Output Shape              Param #   \n",
            "=================================================================\n",
            " res_net18 (ResNet18)        (None, 512)               11190912  \n",
            "                                                                 \n",
            " flatten (Flatten)           (None, 512)               0         \n",
            "                                                                 \n",
            " dense (Dense)               (None, 14)                7182      \n",
            "                                                                 \n",
            "=================================================================\n",
            "Total params: 11,198,094\n",
            "Trainable params: 11,188,494\n",
            "Non-trainable params: 9,600\n",
            "_________________________________________________________________\n"
          ]
        }
      ],
      "source": [
        "base_model_2.summary()"
      ]
    },
    {
      "cell_type": "code",
      "execution_count": null,
      "metadata": {
        "id": "HXkzAItLEdC9"
      },
      "outputs": [],
      "source": [
        "resnet_layer_2 = base_model_2.get_layer(\"res_net18\")"
      ]
    },
    {
      "cell_type": "code",
      "execution_count": null,
      "metadata": {
        "id": "DwDiUQ6UEsR0"
      },
      "outputs": [],
      "source": [
        "resnet_2_weights = resnet_layer_2.get_weights()"
      ]
    },
    {
      "cell_type": "code",
      "execution_count": null,
      "metadata": {
        "id": "xrs0x6ruEl9c"
      },
      "outputs": [],
      "source": [
        "resnet_layer_1 = model.get_layer(\"res_net18\")"
      ]
    },
    {
      "cell_type": "code",
      "execution_count": null,
      "metadata": {
        "id": "nRfAEHX3EwP8"
      },
      "outputs": [],
      "source": [
        "resnet_layer_1.set_weights(resnet_2_weights)"
      ]
    },
    {
      "cell_type": "markdown",
      "metadata": {
        "id": "Ztwyrbq1FUGO"
      },
      "source": [
        "#ResNet18 with sigmoid"
      ]
    },
    {
      "cell_type": "code",
      "execution_count": null,
      "metadata": {
        "colab": {
          "base_uri": "https://localhost:8080/"
        },
        "id": "bakFyBa7FUGO",
        "outputId": "cc294e77-349a-4f0a-e197-56b2724a3e1b"
      },
      "outputs": [
        {
          "name": "stdout",
          "output_type": "stream",
          "text": [
            "Epoch 1/25\n",
            "179/179 [==============================] - 43s 174ms/step - loss: 0.2712 - accuracy: 0.8889 - precision: 0.5056 - recall: 0.9977 - auc: 0.9496 - specificity: 0.0838 - sensitivity: 0.1173 - mcc: 0.1911 - val_loss: 2.6718 - val_accuracy: 0.4993 - val_precision: 0.4416 - val_recall: 0.8848 - val_auc: 0.7160 - val_specificity: 0.0444 - val_sensitivity: 0.0444 - val_mcc: 0.0749\n",
            "Epoch 2/25\n",
            "179/179 [==============================] - 30s 168ms/step - loss: 0.1441 - accuracy: 0.9474 - precision: 0.5348 - recall: 0.9983 - auc: 0.9816 - specificity: 0.0838 - sensitivity: 0.0503 - mcc: 0.1438 - val_loss: 5.1796 - val_accuracy: 0.3247 - val_precision: 0.4821 - val_recall: 0.8485 - val_auc: 0.7002 - val_specificity: 0.0444 - val_sensitivity: 0.0889 - val_mcc: 0.1333\n",
            "Epoch 3/25\n",
            "179/179 [==============================] - 30s 170ms/step - loss: 0.1085 - accuracy: 0.9610 - precision: 0.5547 - recall: 0.9990 - auc: 0.9889 - specificity: 0.0559 - sensitivity: 0.0559 - mcc: 0.1583 - val_loss: 1.0915 - val_accuracy: 0.7158 - val_precision: 0.4883 - val_recall: 0.9791 - val_auc: 0.8195 - val_specificity: 0.1556 - val_sensitivity: 0.0889 - val_mcc: 0.1778\n",
            "Epoch 4/25\n",
            "179/179 [==============================] - 31s 172ms/step - loss: 0.0996 - accuracy: 0.9621 - precision: 0.5682 - recall: 0.9993 - auc: 0.9905 - specificity: 0.0726 - sensitivity: 0.0782 - mcc: 0.1662 - val_loss: 0.8790 - val_accuracy: 0.6781 - val_precision: 0.5273 - val_recall: 0.9930 - val_auc: 0.8503 - val_specificity: 0.1111 - val_sensitivity: 0.0889 - val_mcc: 0.2008\n",
            "Epoch 5/25\n",
            "179/179 [==============================] - 30s 169ms/step - loss: 0.0638 - accuracy: 0.9762 - precision: 0.6008 - recall: 0.9995 - auc: 0.9943 - specificity: 0.1173 - sensitivity: 0.0726 - mcc: 0.1985 - val_loss: 0.8667 - val_accuracy: 0.7898 - val_precision: 0.5487 - val_recall: 0.9881 - val_auc: 0.9130 - val_specificity: 0.1111 - val_sensitivity: 0.1556 - val_mcc: 0.1741\n",
            "Epoch 6/25\n",
            "179/179 [==============================] - 30s 169ms/step - loss: 0.0458 - accuracy: 0.9852 - precision: 0.6262 - recall: 0.9993 - auc: 0.9960 - specificity: 0.1173 - sensitivity: 0.0447 - mcc: 0.1993 - val_loss: 0.2439 - val_accuracy: 0.9113 - val_precision: 0.6062 - val_recall: 0.9902 - val_auc: 0.9787 - val_specificity: 0.1111 - val_sensitivity: 0.1111 - val_mcc: 0.1630\n",
            "Epoch 7/25\n",
            "179/179 [==============================] - 31s 174ms/step - loss: 0.0486 - accuracy: 0.9811 - precision: 0.6446 - recall: 0.9997 - auc: 0.9964 - specificity: 0.1173 - sensitivity: 0.0335 - mcc: 0.1814 - val_loss: 3.0652 - val_accuracy: 0.4218 - val_precision: 0.4822 - val_recall: 0.9078 - val_auc: 0.7402 - val_specificity: 0.0222 - val_sensitivity: 0.0444 - val_mcc: 0.1481\n",
            "Epoch 8/25\n",
            "179/179 [==============================] - 31s 171ms/step - loss: 0.0385 - accuracy: 0.9860 - precision: 0.6562 - recall: 0.9995 - auc: 0.9969 - specificity: 0.0615 - sensitivity: 0.1061 - mcc: 0.1750 - val_loss: 0.3127 - val_accuracy: 0.8918 - val_precision: 0.5882 - val_recall: 0.9965 - val_auc: 0.9663 - val_specificity: 0.0444 - val_sensitivity: 0.0444 - val_mcc: 0.1556\n",
            "Epoch 9/25\n",
            "179/179 [==============================] - 30s 169ms/step - loss: 0.0412 - accuracy: 0.9853 - precision: 0.6944 - recall: 0.9997 - auc: 0.9970 - specificity: 0.0838 - sensitivity: 0.0670 - mcc: 0.1632 - val_loss: 0.5559 - val_accuracy: 0.8345 - val_precision: 0.5090 - val_recall: 0.9874 - val_auc: 0.9093 - val_specificity: 0.1778 - val_sensitivity: 0.0444 - val_mcc: 0.2119\n",
            "Epoch 10/25\n",
            "179/179 [==============================] - 31s 171ms/step - loss: 0.0293 - accuracy: 0.9883 - precision: 0.7074 - recall: 0.9998 - auc: 0.9983 - specificity: 0.1117 - sensitivity: 0.0615 - mcc: 0.1866 - val_loss: 0.1307 - val_accuracy: 0.9574 - val_precision: 0.6195 - val_recall: 0.9958 - val_auc: 0.9874 - val_specificity: 0.1556 - val_sensitivity: 0.1111 - val_mcc: 0.1704\n",
            "Epoch 11/25\n",
            "179/179 [==============================] - 31s 172ms/step - loss: 0.0131 - accuracy: 0.9955 - precision: 0.7762 - recall: 1.0000 - auc: 0.9992 - specificity: 0.1564 - sensitivity: 0.1229 - mcc: 0.2328 - val_loss: 0.1613 - val_accuracy: 0.9644 - val_precision: 0.7432 - val_recall: 0.9944 - val_auc: 0.9912 - val_specificity: 0.0889 - val_sensitivity: 0.0889 - val_mcc: 0.1926\n",
            "Epoch 12/25\n",
            "179/179 [==============================] - 30s 170ms/step - loss: 0.0190 - accuracy: 0.9934 - precision: 0.7721 - recall: 0.9997 - auc: 0.9988 - specificity: 0.1620 - sensitivity: 0.0782 - mcc: 0.2104 - val_loss: 0.2300 - val_accuracy: 0.9344 - val_precision: 0.6300 - val_recall: 0.9930 - val_auc: 0.9791 - val_specificity: 0.0889 - val_sensitivity: 0.0667 - val_mcc: 0.2000\n",
            "Epoch 13/25\n",
            "179/179 [==============================] - 30s 168ms/step - loss: 0.0328 - accuracy: 0.9885 - precision: 0.7694 - recall: 0.9998 - auc: 0.9979 - specificity: 0.1229 - sensitivity: 0.1006 - mcc: 0.2302 - val_loss: 1.7524 - val_accuracy: 0.6983 - val_precision: 0.5380 - val_recall: 0.9490 - val_auc: 0.8457 - val_specificity: 0.0667 - val_sensitivity: 0.0667 - val_mcc: 0.1831\n",
            "Epoch 14/25\n",
            "179/179 [==============================] - 31s 173ms/step - loss: 0.0230 - accuracy: 0.9916 - precision: 0.7555 - recall: 0.9997 - auc: 0.9985 - specificity: 0.1006 - sensitivity: 0.0726 - mcc: 0.1852 - val_loss: 1.5770 - val_accuracy: 0.5824 - val_precision: 0.5449 - val_recall: 0.9623 - val_auc: 0.8101 - val_specificity: 0.0889 - val_sensitivity: 0.0222 - val_mcc: 0.1704\n",
            "Epoch 15/25\n",
            "179/179 [==============================] - 30s 169ms/step - loss: 0.0165 - accuracy: 0.9948 - precision: 0.7629 - recall: 0.9998 - auc: 0.9992 - specificity: 0.2179 - sensitivity: 0.0894 - mcc: 0.2574 - val_loss: 0.2171 - val_accuracy: 0.9406 - val_precision: 0.7853 - val_recall: 0.9909 - val_auc: 0.9888 - val_specificity: 0.0444 - val_sensitivity: 0.0444 - val_mcc: 0.1527\n",
            "Epoch 16/25\n",
            "179/179 [==============================] - 30s 169ms/step - loss: 0.0023 - accuracy: 0.9995 - precision: 0.8583 - recall: 1.0000 - auc: 0.9999 - specificity: 0.1955 - sensitivity: 0.0950 - mcc: 0.2351 - val_loss: 0.2163 - val_accuracy: 0.9497 - val_precision: 0.8470 - val_recall: 0.9895 - val_auc: 0.9904 - val_specificity: 0.2667 - val_sensitivity: 0.2000 - val_mcc: 0.3037\n",
            "Epoch 17/25\n",
            "179/179 [==============================] - 31s 173ms/step - loss: 0.0012 - accuracy: 0.9997 - precision: 0.8972 - recall: 1.0000 - auc: 1.0000 - specificity: 0.2235 - sensitivity: 0.1453 - mcc: 0.2630 - val_loss: 0.2796 - val_accuracy: 0.9106 - val_precision: 0.6309 - val_recall: 0.9881 - val_auc: 0.9740 - val_specificity: 0.1333 - val_sensitivity: 0.0667 - val_mcc: 0.1778\n"
          ]
        }
      ],
      "source": [
        "model.compile(optimizer=\"adam\", loss=\"categorical_crossentropy\", metrics=[\"accuracy\", keras.metrics.Precision(), keras.metrics.Recall(), keras.metrics.AUC(), specificity, sensitivity, mcc], run_eagerly=True)\n",
        "history = model.fit(x=train_dataset, validation_data=validation_dataset, epochs=25, batch_size=32, callbacks=[early_stopping, model_checkpoint])"
      ]
    },
    {
      "cell_type": "code",
      "execution_count": null,
      "metadata": {
        "id": "qQhfmKz7FUGP"
      },
      "outputs": [],
      "source": [
        "df = data(history)"
      ]
    },
    {
      "cell_type": "code",
      "execution_count": null,
      "metadata": {
        "colab": {
          "base_uri": "https://localhost:8080/",
          "height": 582
        },
        "id": "uHAXbMctFUGP",
        "outputId": "8e8c2537-858a-4d32-e6bf-d96d28edda50"
      },
      "outputs": [
        {
          "data": {
            "text/html": [
              "\n",
              "  <div id=\"df-9dcbcb92-d28a-4f8f-b957-bc4029c5a58a\">\n",
              "    <div class=\"colab-df-container\">\n",
              "      <div>\n",
              "<style scoped>\n",
              "    .dataframe tbody tr th:only-of-type {\n",
              "        vertical-align: middle;\n",
              "    }\n",
              "\n",
              "    .dataframe tbody tr th {\n",
              "        vertical-align: top;\n",
              "    }\n",
              "\n",
              "    .dataframe thead th {\n",
              "        text-align: right;\n",
              "    }\n",
              "</style>\n",
              "<table border=\"1\" class=\"dataframe\">\n",
              "  <thead>\n",
              "    <tr style=\"text-align: right;\">\n",
              "      <th></th>\n",
              "      <th>Accuracy</th>\n",
              "      <th>Validation Accuracy</th>\n",
              "      <th>Loss</th>\n",
              "      <th>Validation Loss</th>\n",
              "      <th>Recall</th>\n",
              "      <th>Validation Recall</th>\n",
              "      <th>Precision</th>\n",
              "      <th>Validation Precision</th>\n",
              "      <th>AUC</th>\n",
              "      <th>Validation AUC</th>\n",
              "      <th>Specificity</th>\n",
              "      <th>Validation Specificity</th>\n",
              "      <th>Sensitivity</th>\n",
              "      <th>Validation Sensitivity</th>\n",
              "      <th>MCC</th>\n",
              "      <th>Validation MCC</th>\n",
              "    </tr>\n",
              "  </thead>\n",
              "  <tbody>\n",
              "    <tr>\n",
              "      <th>0</th>\n",
              "      <td>0.888889</td>\n",
              "      <td>0.499302</td>\n",
              "      <td>0.271178</td>\n",
              "      <td>2.671823</td>\n",
              "      <td>0.997729</td>\n",
              "      <td>0.884777</td>\n",
              "      <td>0.505577</td>\n",
              "      <td>0.441617</td>\n",
              "      <td>0.949590</td>\n",
              "      <td>0.715977</td>\n",
              "      <td>0.083799</td>\n",
              "      <td>0.044444</td>\n",
              "      <td>0.117318</td>\n",
              "      <td>0.044444</td>\n",
              "      <td>0.191085</td>\n",
              "      <td>0.074906</td>\n",
              "    </tr>\n",
              "    <tr>\n",
              "      <th>1</th>\n",
              "      <td>0.947414</td>\n",
              "      <td>0.324721</td>\n",
              "      <td>0.144121</td>\n",
              "      <td>5.179580</td>\n",
              "      <td>0.998253</td>\n",
              "      <td>0.848464</td>\n",
              "      <td>0.534768</td>\n",
              "      <td>0.482143</td>\n",
              "      <td>0.981608</td>\n",
              "      <td>0.700172</td>\n",
              "      <td>0.083799</td>\n",
              "      <td>0.044444</td>\n",
              "      <td>0.050279</td>\n",
              "      <td>0.088889</td>\n",
              "      <td>0.143808</td>\n",
              "      <td>0.133333</td>\n",
              "    </tr>\n",
              "    <tr>\n",
              "      <th>2</th>\n",
              "      <td>0.961041</td>\n",
              "      <td>0.715782</td>\n",
              "      <td>0.108455</td>\n",
              "      <td>1.091496</td>\n",
              "      <td>0.998952</td>\n",
              "      <td>0.979050</td>\n",
              "      <td>0.554661</td>\n",
              "      <td>0.488332</td>\n",
              "      <td>0.988933</td>\n",
              "      <td>0.819518</td>\n",
              "      <td>0.055866</td>\n",
              "      <td>0.155556</td>\n",
              "      <td>0.055866</td>\n",
              "      <td>0.088889</td>\n",
              "      <td>0.158287</td>\n",
              "      <td>0.177778</td>\n",
              "    </tr>\n",
              "    <tr>\n",
              "      <th>3</th>\n",
              "      <td>0.962089</td>\n",
              "      <td>0.678073</td>\n",
              "      <td>0.099599</td>\n",
              "      <td>0.879041</td>\n",
              "      <td>0.999301</td>\n",
              "      <td>0.993017</td>\n",
              "      <td>0.568250</td>\n",
              "      <td>0.527252</td>\n",
              "      <td>0.990550</td>\n",
              "      <td>0.850276</td>\n",
              "      <td>0.072626</td>\n",
              "      <td>0.111111</td>\n",
              "      <td>0.078212</td>\n",
              "      <td>0.088889</td>\n",
              "      <td>0.166154</td>\n",
              "      <td>0.200832</td>\n",
              "    </tr>\n",
              "    <tr>\n",
              "      <th>4</th>\n",
              "      <td>0.976240</td>\n",
              "      <td>0.789804</td>\n",
              "      <td>0.063847</td>\n",
              "      <td>0.866652</td>\n",
              "      <td>0.999476</td>\n",
              "      <td>0.988128</td>\n",
              "      <td>0.600756</td>\n",
              "      <td>0.548662</td>\n",
              "      <td>0.994272</td>\n",
              "      <td>0.912991</td>\n",
              "      <td>0.117318</td>\n",
              "      <td>0.111111</td>\n",
              "      <td>0.072626</td>\n",
              "      <td>0.155556</td>\n",
              "      <td>0.198533</td>\n",
              "      <td>0.174074</td>\n",
              "    </tr>\n",
              "    <tr>\n",
              "      <th>5</th>\n",
              "      <td>0.985150</td>\n",
              "      <td>0.911313</td>\n",
              "      <td>0.045753</td>\n",
              "      <td>0.243925</td>\n",
              "      <td>0.999301</td>\n",
              "      <td>0.990223</td>\n",
              "      <td>0.626163</td>\n",
              "      <td>0.606242</td>\n",
              "      <td>0.996017</td>\n",
              "      <td>0.978677</td>\n",
              "      <td>0.117318</td>\n",
              "      <td>0.111111</td>\n",
              "      <td>0.044693</td>\n",
              "      <td>0.111111</td>\n",
              "      <td>0.199255</td>\n",
              "      <td>0.162963</td>\n",
              "    </tr>\n",
              "    <tr>\n",
              "      <th>6</th>\n",
              "      <td>0.981132</td>\n",
              "      <td>0.421788</td>\n",
              "      <td>0.048551</td>\n",
              "      <td>3.065227</td>\n",
              "      <td>0.999651</td>\n",
              "      <td>0.907821</td>\n",
              "      <td>0.644587</td>\n",
              "      <td>0.482196</td>\n",
              "      <td>0.996426</td>\n",
              "      <td>0.740153</td>\n",
              "      <td>0.117318</td>\n",
              "      <td>0.022222</td>\n",
              "      <td>0.033520</td>\n",
              "      <td>0.044444</td>\n",
              "      <td>0.181355</td>\n",
              "      <td>0.148148</td>\n",
              "    </tr>\n",
              "    <tr>\n",
              "      <th>7</th>\n",
              "      <td>0.986024</td>\n",
              "      <td>0.891760</td>\n",
              "      <td>0.038516</td>\n",
              "      <td>0.312734</td>\n",
              "      <td>0.999476</td>\n",
              "      <td>0.996508</td>\n",
              "      <td>0.656153</td>\n",
              "      <td>0.588211</td>\n",
              "      <td>0.996940</td>\n",
              "      <td>0.966313</td>\n",
              "      <td>0.061453</td>\n",
              "      <td>0.044444</td>\n",
              "      <td>0.106145</td>\n",
              "      <td>0.044444</td>\n",
              "      <td>0.175047</td>\n",
              "      <td>0.155556</td>\n",
              "    </tr>\n",
              "    <tr>\n",
              "      <th>8</th>\n",
              "      <td>0.985325</td>\n",
              "      <td>0.834497</td>\n",
              "      <td>0.041224</td>\n",
              "      <td>0.555909</td>\n",
              "      <td>0.999651</td>\n",
              "      <td>0.987430</td>\n",
              "      <td>0.694417</td>\n",
              "      <td>0.508999</td>\n",
              "      <td>0.997035</td>\n",
              "      <td>0.909294</td>\n",
              "      <td>0.083799</td>\n",
              "      <td>0.177778</td>\n",
              "      <td>0.067039</td>\n",
              "      <td>0.044444</td>\n",
              "      <td>0.163152</td>\n",
              "      <td>0.211943</td>\n",
              "    </tr>\n",
              "    <tr>\n",
              "      <th>9</th>\n",
              "      <td>0.988295</td>\n",
              "      <td>0.957402</td>\n",
              "      <td>0.029251</td>\n",
              "      <td>0.130687</td>\n",
              "      <td>0.999825</td>\n",
              "      <td>0.995810</td>\n",
              "      <td>0.707417</td>\n",
              "      <td>0.619461</td>\n",
              "      <td>0.998322</td>\n",
              "      <td>0.987427</td>\n",
              "      <td>0.111732</td>\n",
              "      <td>0.155556</td>\n",
              "      <td>0.061453</td>\n",
              "      <td>0.111111</td>\n",
              "      <td>0.186638</td>\n",
              "      <td>0.170370</td>\n",
              "    </tr>\n",
              "    <tr>\n",
              "      <th>10</th>\n",
              "      <td>0.995458</td>\n",
              "      <td>0.964385</td>\n",
              "      <td>0.013058</td>\n",
              "      <td>0.161252</td>\n",
              "      <td>1.000000</td>\n",
              "      <td>0.994413</td>\n",
              "      <td>0.776241</td>\n",
              "      <td>0.743215</td>\n",
              "      <td>0.999210</td>\n",
              "      <td>0.991228</td>\n",
              "      <td>0.156425</td>\n",
              "      <td>0.088889</td>\n",
              "      <td>0.122905</td>\n",
              "      <td>0.088889</td>\n",
              "      <td>0.232775</td>\n",
              "      <td>0.192593</td>\n",
              "    </tr>\n",
              "    <tr>\n",
              "      <th>11</th>\n",
              "      <td>0.993361</td>\n",
              "      <td>0.934358</td>\n",
              "      <td>0.018981</td>\n",
              "      <td>0.229974</td>\n",
              "      <td>0.999651</td>\n",
              "      <td>0.993017</td>\n",
              "      <td>0.772096</td>\n",
              "      <td>0.630040</td>\n",
              "      <td>0.998772</td>\n",
              "      <td>0.979120</td>\n",
              "      <td>0.162011</td>\n",
              "      <td>0.088889</td>\n",
              "      <td>0.078212</td>\n",
              "      <td>0.066667</td>\n",
              "      <td>0.210428</td>\n",
              "      <td>0.200000</td>\n",
              "    </tr>\n",
              "    <tr>\n",
              "      <th>12</th>\n",
              "      <td>0.988470</td>\n",
              "      <td>0.698324</td>\n",
              "      <td>0.032797</td>\n",
              "      <td>1.752411</td>\n",
              "      <td>0.999825</td>\n",
              "      <td>0.949022</td>\n",
              "      <td>0.769427</td>\n",
              "      <td>0.538005</td>\n",
              "      <td>0.997921</td>\n",
              "      <td>0.845712</td>\n",
              "      <td>0.122905</td>\n",
              "      <td>0.066667</td>\n",
              "      <td>0.100559</td>\n",
              "      <td>0.066667</td>\n",
              "      <td>0.230191</td>\n",
              "      <td>0.183146</td>\n",
              "    </tr>\n",
              "    <tr>\n",
              "      <th>13</th>\n",
              "      <td>0.991614</td>\n",
              "      <td>0.582402</td>\n",
              "      <td>0.022998</td>\n",
              "      <td>1.577002</td>\n",
              "      <td>0.999651</td>\n",
              "      <td>0.962291</td>\n",
              "      <td>0.755479</td>\n",
              "      <td>0.544879</td>\n",
              "      <td>0.998515</td>\n",
              "      <td>0.810054</td>\n",
              "      <td>0.100559</td>\n",
              "      <td>0.088889</td>\n",
              "      <td>0.072626</td>\n",
              "      <td>0.022222</td>\n",
              "      <td>0.185195</td>\n",
              "      <td>0.170370</td>\n",
              "    </tr>\n",
              "    <tr>\n",
              "      <th>14</th>\n",
              "      <td>0.994759</td>\n",
              "      <td>0.940642</td>\n",
              "      <td>0.016526</td>\n",
              "      <td>0.217085</td>\n",
              "      <td>0.999825</td>\n",
              "      <td>0.990922</td>\n",
              "      <td>0.762863</td>\n",
              "      <td>0.785279</td>\n",
              "      <td>0.999181</td>\n",
              "      <td>0.988830</td>\n",
              "      <td>0.217877</td>\n",
              "      <td>0.044444</td>\n",
              "      <td>0.089385</td>\n",
              "      <td>0.044444</td>\n",
              "      <td>0.257402</td>\n",
              "      <td>0.152684</td>\n",
              "    </tr>\n",
              "    <tr>\n",
              "      <th>15</th>\n",
              "      <td>0.999476</td>\n",
              "      <td>0.949721</td>\n",
              "      <td>0.002300</td>\n",
              "      <td>0.216350</td>\n",
              "      <td>1.000000</td>\n",
              "      <td>0.989525</td>\n",
              "      <td>0.858300</td>\n",
              "      <td>0.846981</td>\n",
              "      <td>0.999851</td>\n",
              "      <td>0.990378</td>\n",
              "      <td>0.195531</td>\n",
              "      <td>0.266667</td>\n",
              "      <td>0.094972</td>\n",
              "      <td>0.200000</td>\n",
              "      <td>0.235055</td>\n",
              "      <td>0.303704</td>\n",
              "    </tr>\n",
              "    <tr>\n",
              "      <th>16</th>\n",
              "      <td>0.999651</td>\n",
              "      <td>0.910615</td>\n",
              "      <td>0.001192</td>\n",
              "      <td>0.279636</td>\n",
              "      <td>1.000000</td>\n",
              "      <td>0.988128</td>\n",
              "      <td>0.897179</td>\n",
              "      <td>0.630852</td>\n",
              "      <td>0.999995</td>\n",
              "      <td>0.974015</td>\n",
              "      <td>0.223464</td>\n",
              "      <td>0.133333</td>\n",
              "      <td>0.145251</td>\n",
              "      <td>0.066667</td>\n",
              "      <td>0.262988</td>\n",
              "      <td>0.177778</td>\n",
              "    </tr>\n",
              "  </tbody>\n",
              "</table>\n",
              "</div>\n",
              "      <button class=\"colab-df-convert\" onclick=\"convertToInteractive('df-9dcbcb92-d28a-4f8f-b957-bc4029c5a58a')\"\n",
              "              title=\"Convert this dataframe to an interactive table.\"\n",
              "              style=\"display:none;\">\n",
              "        \n",
              "  <svg xmlns=\"http://www.w3.org/2000/svg\" height=\"24px\"viewBox=\"0 0 24 24\"\n",
              "       width=\"24px\">\n",
              "    <path d=\"M0 0h24v24H0V0z\" fill=\"none\"/>\n",
              "    <path d=\"M18.56 5.44l.94 2.06.94-2.06 2.06-.94-2.06-.94-.94-2.06-.94 2.06-2.06.94zm-11 1L8.5 8.5l.94-2.06 2.06-.94-2.06-.94L8.5 2.5l-.94 2.06-2.06.94zm10 10l.94 2.06.94-2.06 2.06-.94-2.06-.94-.94-2.06-.94 2.06-2.06.94z\"/><path d=\"M17.41 7.96l-1.37-1.37c-.4-.4-.92-.59-1.43-.59-.52 0-1.04.2-1.43.59L10.3 9.45l-7.72 7.72c-.78.78-.78 2.05 0 2.83L4 21.41c.39.39.9.59 1.41.59.51 0 1.02-.2 1.41-.59l7.78-7.78 2.81-2.81c.8-.78.8-2.07 0-2.86zM5.41 20L4 18.59l7.72-7.72 1.47 1.35L5.41 20z\"/>\n",
              "  </svg>\n",
              "      </button>\n",
              "      \n",
              "  <style>\n",
              "    .colab-df-container {\n",
              "      display:flex;\n",
              "      flex-wrap:wrap;\n",
              "      gap: 12px;\n",
              "    }\n",
              "\n",
              "    .colab-df-convert {\n",
              "      background-color: #E8F0FE;\n",
              "      border: none;\n",
              "      border-radius: 50%;\n",
              "      cursor: pointer;\n",
              "      display: none;\n",
              "      fill: #1967D2;\n",
              "      height: 32px;\n",
              "      padding: 0 0 0 0;\n",
              "      width: 32px;\n",
              "    }\n",
              "\n",
              "    .colab-df-convert:hover {\n",
              "      background-color: #E2EBFA;\n",
              "      box-shadow: 0px 1px 2px rgba(60, 64, 67, 0.3), 0px 1px 3px 1px rgba(60, 64, 67, 0.15);\n",
              "      fill: #174EA6;\n",
              "    }\n",
              "\n",
              "    [theme=dark] .colab-df-convert {\n",
              "      background-color: #3B4455;\n",
              "      fill: #D2E3FC;\n",
              "    }\n",
              "\n",
              "    [theme=dark] .colab-df-convert:hover {\n",
              "      background-color: #434B5C;\n",
              "      box-shadow: 0px 1px 3px 1px rgba(0, 0, 0, 0.15);\n",
              "      filter: drop-shadow(0px 1px 2px rgba(0, 0, 0, 0.3));\n",
              "      fill: #FFFFFF;\n",
              "    }\n",
              "  </style>\n",
              "\n",
              "      <script>\n",
              "        const buttonEl =\n",
              "          document.querySelector('#df-9dcbcb92-d28a-4f8f-b957-bc4029c5a58a button.colab-df-convert');\n",
              "        buttonEl.style.display =\n",
              "          google.colab.kernel.accessAllowed ? 'block' : 'none';\n",
              "\n",
              "        async function convertToInteractive(key) {\n",
              "          const element = document.querySelector('#df-9dcbcb92-d28a-4f8f-b957-bc4029c5a58a');\n",
              "          const dataTable =\n",
              "            await google.colab.kernel.invokeFunction('convertToInteractive',\n",
              "                                                     [key], {});\n",
              "          if (!dataTable) return;\n",
              "\n",
              "          const docLinkHtml = 'Like what you see? Visit the ' +\n",
              "            '<a target=\"_blank\" href=https://colab.research.google.com/notebooks/data_table.ipynb>data table notebook</a>'\n",
              "            + ' to learn more about interactive tables.';\n",
              "          element.innerHTML = '';\n",
              "          dataTable['output_type'] = 'display_data';\n",
              "          await google.colab.output.renderOutput(dataTable, element);\n",
              "          const docLink = document.createElement('div');\n",
              "          docLink.innerHTML = docLinkHtml;\n",
              "          element.appendChild(docLink);\n",
              "        }\n",
              "      </script>\n",
              "    </div>\n",
              "  </div>\n",
              "  "
            ],
            "text/plain": [
              "    Accuracy  Validation Accuracy  ...       MCC  Validation MCC\n",
              "0   0.888889             0.499302  ...  0.191085        0.074906\n",
              "1   0.947414             0.324721  ...  0.143808        0.133333\n",
              "2   0.961041             0.715782  ...  0.158287        0.177778\n",
              "3   0.962089             0.678073  ...  0.166154        0.200832\n",
              "4   0.976240             0.789804  ...  0.198533        0.174074\n",
              "5   0.985150             0.911313  ...  0.199255        0.162963\n",
              "6   0.981132             0.421788  ...  0.181355        0.148148\n",
              "7   0.986024             0.891760  ...  0.175047        0.155556\n",
              "8   0.985325             0.834497  ...  0.163152        0.211943\n",
              "9   0.988295             0.957402  ...  0.186638        0.170370\n",
              "10  0.995458             0.964385  ...  0.232775        0.192593\n",
              "11  0.993361             0.934358  ...  0.210428        0.200000\n",
              "12  0.988470             0.698324  ...  0.230191        0.183146\n",
              "13  0.991614             0.582402  ...  0.185195        0.170370\n",
              "14  0.994759             0.940642  ...  0.257402        0.152684\n",
              "15  0.999476             0.949721  ...  0.235055        0.303704\n",
              "16  0.999651             0.910615  ...  0.262988        0.177778\n",
              "\n",
              "[17 rows x 16 columns]"
            ]
          },
          "execution_count": 53,
          "metadata": {},
          "output_type": "execute_result"
        }
      ],
      "source": [
        "df"
      ]
    },
    {
      "cell_type": "code",
      "execution_count": null,
      "metadata": {
        "colab": {
          "base_uri": "https://localhost:8080/",
          "height": 934
        },
        "id": "3uutY0CsFUGQ",
        "outputId": "ca00c8c9-d906-49a3-c0fb-0505bfc24e09"
      },
      "outputs": [
        {
          "data": {
            "image/png": "[encoded data removed]",
            "text/plain": [
              "<Figure size 1440x1152 with 8 Axes>"
            ]
          },
          "metadata": {},
          "output_type": "display_data"
        }
      ],
      "source": [
        "history_visualization(df)"
      ]
    },
    {
      "cell_type": "markdown",
      "metadata": {
        "id": "xvngPuU1FUGR"
      },
      "source": [
        "##Prediction"
      ]
    },
    {
      "cell_type": "code",
      "execution_count": null,
      "metadata": {
        "id": "hWp38aqoFUGR"
      },
      "outputs": [],
      "source": [
        "model.load_weights(\"/content/model/my_best_model.epoch22-loss0.10.hdf5\")"
      ]
    },
    {
      "cell_type": "code",
      "execution_count": null,
      "metadata": {
        "colab": {
          "base_uri": "https://localhost:8080/"
        },
        "id": "WHX-hmz_FUGR",
        "outputId": "9ab3b304-3193-4f8c-a866-3c3f8551cb70"
      },
      "outputs": [
        {
          "name": "stdout",
          "output_type": "stream",
          "text": [
            "Found 3254 images belonging to 4 classes.\n"
          ]
        }
      ],
      "source": [
        "test_generator = ImageDataGenerator(rescale=1./255)\n",
        "test_dataset = test_generator.flow_from_directory(directory=\"/content/drive/MyDrive/Special_Issue_COVID_Journal/original_dataset/test\", target_size=(HEIGHT, WIDTH), color_mode=\"rgb\", class_mode=\"categorical\", shuffle=False)"
      ]
    },
    {
      "cell_type": "code",
      "execution_count": null,
      "metadata": {
        "colab": {
          "base_uri": "https://localhost:8080/"
        },
        "id": "8O7UCjEuFUGS",
        "outputId": "f6af83b4-a75a-4d95-8ba8-1643065e34d1"
      },
      "outputs": [
        {
          "data": {
            "text/plain": [
              "{'COVID': 0, 'Lung opacity': 1, 'Normal': 2, 'Viral Pneumonia': 3}"
            ]
          },
          "execution_count": 35,
          "metadata": {},
          "output_type": "execute_result"
        }
      ],
      "source": [
        "test_dataset.class_indices"
      ]
    },
    {
      "cell_type": "code",
      "execution_count": null,
      "metadata": {
        "colab": {
          "base_uri": "https://localhost:8080/"
        },
        "id": "BC85EnkUFUGS",
        "outputId": "edccddb0-4336-42d2-dae0-4e1b7d3ec5df"
      },
      "outputs": [
        {
          "data": {
            "text/plain": [
              "{'COVID': 0, 'Lung opacity': 1, 'Normal': 2, 'Viral Pneumonia': 3}"
            ]
          },
          "execution_count": 36,
          "metadata": {},
          "output_type": "execute_result"
        }
      ],
      "source": [
        "train_dataset.class_indices"
      ]
    },
    {
      "cell_type": "code",
      "execution_count": null,
      "metadata": {
        "id": "W0rfiYsUFUGT"
      },
      "outputs": [],
      "source": [
        "predictions = model.predict(test_set)"
      ]
    },
    {
      "cell_type": "code",
      "execution_count": null,
      "metadata": {
        "id": "AslDTTCkFUGT"
      },
      "outputs": [],
      "source": [
        "predictions_index = lb.inverse_transform(predictions)"
      ]
    },
    {
      "cell_type": "code",
      "execution_count": null,
      "metadata": {
        "colab": {
          "base_uri": "https://localhost:8080/"
        },
        "id": "PWSyYhWTFUGT",
        "outputId": "cc7a8d19-334b-4b05-c297-078fdcdc758d"
      },
      "outputs": [
        {
          "name": "stdout",
          "output_type": "stream",
          "text": [
            "                 precision    recall  f1-score   support\n",
            "\n",
            "          COVID       0.93      0.94      0.94       620\n",
            "         Normal       0.98      0.96      0.97      1358\n",
            "Viral Pneumonia       0.96      1.00      0.98       259\n",
            "\n",
            "       accuracy                           0.96      2237\n",
            "      macro avg       0.96      0.97      0.96      2237\n",
            "   weighted avg       0.96      0.96      0.96      2237\n",
            "\n"
          ]
        }
      ],
      "source": [
        "predictions_index = lb.inverse_transform(predictions)\n",
        "print(classification_report(predictions_index, lb.inverse_transform(test_set.y)))"
      ]
    },
    {
      "cell_type": "code",
      "execution_count": null,
      "metadata": {
        "colab": {
          "base_uri": "https://localhost:8080/",
          "height": 708
        },
        "id": "SeFhzHdeFUGU",
        "outputId": "e8583674-acf5-447a-eb33-6ddf08ba976c"
      },
      "outputs": [
        {
          "data": {
            "image/png": "[encoded data removed]",
            "text/plain": [
              "<Figure size 1080x864 with 2 Axes>"
            ]
          },
          "metadata": {},
          "output_type": "display_data"
        }
      ],
      "source": [
        "plt.figure(figsize=(15, 12))\n",
        "cm = confusion_matrix(predictions_index, lb.inverse_transform(test_set.y))\n",
        "df_cm = pd.DataFrame(cm, index = [i for i in lb.classes_],\n",
        "                  columns = [i for i in lb.classes_])\n",
        "sns.set(font_scale=1.4)\n",
        "sns.heatmap(df_cm, annot=True, annot_kws={\"size\": 16}, fmt='g') \n",
        "plt.show()"
      ]
    },
    {
      "cell_type": "code",
      "execution_count": null,
      "metadata": {
        "colab": {
          "base_uri": "https://localhost:8080/"
        },
        "id": "JEhE5UNKFUGU",
        "outputId": "9d0cbb5a-49cd-455d-eed3-5947e82ab771"
      },
      "outputs": [
        {
          "name": "stdout",
          "output_type": "stream",
          "text": [
            "0.9650692499488517\n"
          ]
        }
      ],
      "source": [
        "from sklearn.preprocessing import LabelBinarizer\n",
        "from sklearn.metrics import auc, roc_curve, roc_auc_score\n",
        "bin = LabelBinarizer()\n",
        "x_test = bin.fit_transform(lb.inverse_transform(test_set.y))\n",
        "pred = bin.transform(predictions_index)\n",
        "print(roc_auc_score(x_test, pred))"
      ]
    },
    {
      "cell_type": "code",
      "execution_count": null,
      "metadata": {
        "colab": {
          "base_uri": "https://localhost:8080/"
        },
        "id": "wUaKfU7O9fQk",
        "outputId": "e9c80100-687b-44d8-a2a9-f1eed80b1ebc"
      },
      "outputs": [
        {
          "name": "stdout",
          "output_type": "stream",
          "text": [
            "INFO:tensorflow:Assets written to: /content/custom/assets\n"
          ]
        },
        {
          "name": "stderr",
          "output_type": "stream",
          "text": [
            "/usr/local/lib/python3.7/dist-packages/keras/saving/saved_model/layer_serialization.py:112: CustomMaskWarning: Custom mask layers require a config and must override get_config. When loading, the custom mask layer must be passed to the custom_objects argument.\n",
            "  return generic_utils.serialize_keras_object(obj)\n"
          ]
        }
      ],
      "source": [
        "tf.keras.models.save_model(model, \"/content/custom\")"
      ]
    },
    {
      "cell_type": "code",
      "execution_count": null,
      "metadata": {
        "colab": {
          "base_uri": "https://localhost:8080/"
        },
        "id": "GcT1G63H9emx",
        "outputId": "2be62ad2-86b9-4d19-d4c2-f743db2579d8"
      },
      "outputs": [
        {
          "name": "stdout",
          "output_type": "stream",
          "text": [
            "  adding: content/custom/ (stored 0%)\n",
            "  adding: content/custom/saved_model.pb (deflated 92%)\n",
            "  adding: content/custom/variables/ (stored 0%)\n",
            "  adding: content/custom/variables/variables.data-00000-of-00001 (deflated 8%)\n",
            "  adding: content/custom/variables/variables.index (deflated 78%)\n",
            "  adding: content/custom/assets/ (stored 0%)\n",
            "  adding: content/custom/keras_metadata.pb (deflated 94%)\n"
          ]
        }
      ],
      "source": [
        "!zip -r /content/3.zip /content/custom"
      ]
    }
  ],
  "metadata": {
    "accelerator": "GPU",
    "colab": {
      "collapsed_sections": [
        "3CzQfhzaAqDL",
        "TAlZ6dPHHTvf",
        "D4nLRwZMHe6T",
        "bDfub9JSuf4Z",
        "Ztwyrbq1FUGO"
      ],
      "machine_shape": "hm",
      "name": "3 classes experiment.ipynb",
      "provenance": [],
      "toc_visible": true
    },
    "kernelspec": {
      "display_name": "Python 3",
      "language": "python",
      "name": "python3"
    },
    "language_info": {
      "codemirror_mode": {
        "name": "ipython",
        "version": 3
      },
      "file_extension": ".py",
      "mimetype": "text/x-python",
      "name": "python",
      "nbconvert_exporter": "python",
      "pygments_lexer": "ipython3",
      "version": "3.8.5"
    }
  },
  "nbformat": 4,
  "nbformat_minor": 0
}