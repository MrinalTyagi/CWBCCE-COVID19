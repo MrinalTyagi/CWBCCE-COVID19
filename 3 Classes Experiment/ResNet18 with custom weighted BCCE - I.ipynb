{
  "cells": [
    {
      "cell_type": "markdown",
      "metadata": {
        "id": "3CzQfhzaAqDL"
      },
      "source": [
        "#Importing libraries and dataset"
      ]
    },
    {
      "cell_type": "code",
      "execution_count": null,
      "metadata": {
        "colab": {
          "base_uri": "https://localhost:8080/"
        },
        "id": "OWo9uWe0FHq9",
        "outputId": "1f266e1e-aada-4af8-f5d4-225b972954fb"
      },
      "outputs": [
        {
          "name": "stdout",
          "output_type": "stream",
          "text": [
            "Mounted at /content/drive\n"
          ]
        }
      ],
      "source": [
        "from google.colab import drive\n",
        "drive.mount('/content/drive')"
      ]
    },
    {
      "cell_type": "code",
      "execution_count": null,
      "metadata": {
        "id": "eIjVgo2MFUfX"
      },
      "outputs": [],
      "source": [
        "HEIGHT = 128\n",
        "WIDTH = 128\n",
        "CHANNELS = 3"
      ]
    },
    {
      "cell_type": "code",
      "execution_count": null,
      "metadata": {
        "id": "brQocH-3Abfy"
      },
      "outputs": [],
      "source": [
        "import numpy as np\n",
        "import pandas as pd\n",
        "import matplotlib.pyplot as plt\n",
        "import keras\n",
        "from keras.preprocessing.image import ImageDataGenerator\n",
        "import tensorflow as tf\n",
        "import os\n",
        "from matplotlib.pyplot import imread\n",
        "from sklearn.model_selection import train_test_split\n",
        "from sklearn.utils import class_weight\n",
        "from sklearn.preprocessing import LabelBinarizer, LabelEncoder\n",
        "import cv2\n",
        "from sklearn.metrics import confusion_matrix\n",
        "import seaborn as sns\n",
        "from sklearn.metrics import matthews_corrcoef\n",
        "from sklearn.metrics import classification_report\n",
        "from sklearn.metrics import plot_confusion_matrix\n",
        "import keras.backend as K\n",
        "import warnings\n",
        "from sklearn.utils import compute_class_weight\n",
        "import pywt"
      ]
    },
    {
      "cell_type": "code",
      "execution_count": null,
      "metadata": {
        "id": "_VBEcZZe6srz"
      },
      "outputs": [],
      "source": [
        "tf.random.set_seed(42)"
      ]
    },
    {
      "cell_type": "code",
      "execution_count": null,
      "metadata": {
        "id": "9rEIXZWpowEg"
      },
      "outputs": [],
      "source": [
        "images = []\n",
        "classes_labels = []\n",
        "for i in os.listdir(\"/content/drive/MyDrive/Special_Issue_COVID_Journal/original_dataset/train\"):\n",
        "  class_path = f\"/content/drive/MyDrive/Special_Issue_COVID_Journal/original_dataset/train/{i}\"\n",
        "  if(i == \"Lung opacity\"):\n",
        "    continue\n",
        "  for j in os.listdir(class_path):\n",
        "    file_path = f\"{class_path}/{j}\"\n",
        "    classes_labels.append(i)\n",
        "    images.append(cv2.resize(cv2.imread(file_path, 1), (HEIGHT, WIDTH)))"
      ]
    },
    {
      "cell_type": "code",
      "execution_count": null,
      "metadata": {
        "id": "cnrGY1KsnBAv"
      },
      "outputs": [],
      "source": [
        "test_images = []\n",
        "test_classes_labels = []\n",
        "for i in os.listdir(\"/content/drive/MyDrive/Special_Issue_COVID_Journal/original_dataset/test\"):\n",
        "  class_path = f\"/content/drive/MyDrive/Special_Issue_COVID_Journal/original_dataset/test/{i}\"\n",
        "  if(i == \"Lung opacity\"):\n",
        "    continue\n",
        "  for j in os.listdir(class_path):\n",
        "    file_path = f\"{class_path}/{j}\"\n",
        "    test_classes_labels.append(i)\n",
        "    test_images.append(cv2.resize(cv2.imread(file_path, 1), (HEIGHT, WIDTH)))"
      ]
    },
    {
      "cell_type": "code",
      "execution_count": null,
      "metadata": {
        "id": "LfIFkuEao6ZX"
      },
      "outputs": [],
      "source": [
        "train_images, validation_images, train_labels, validation_labels = train_test_split(images, classes_labels, test_size = 0.2, random_state = 42)"
      ]
    },
    {
      "cell_type": "code",
      "execution_count": null,
      "metadata": {
        "id": "vy3_CxVA56KO"
      },
      "outputs": [],
      "source": [
        "from sklearn.utils import class_weight\n",
        "class_weights = class_weight.compute_class_weight(class_weight = 'balanced', classes = np.unique(train_labels), y = train_labels)"
      ]
    },
    {
      "cell_type": "code",
      "execution_count": null,
      "metadata": {
        "colab": {
          "base_uri": "https://localhost:8080/"
        },
        "id": "SpuhkFKD6vi8",
        "outputId": "d2bddf38-5a02-43d6-d175-e2f3c7fa17f7"
      },
      "outputs": [
        {
          "data": {
            "text/plain": [
              "array([1.1889332 , 0.55529686, 2.79274005])"
            ]
          },
          "execution_count": 9,
          "metadata": {},
          "output_type": "execute_result"
        }
      ],
      "source": [
        "class_weights"
      ]
    },
    {
      "cell_type": "code",
      "execution_count": null,
      "metadata": {
        "id": "m6fPSrI7652Q"
      },
      "outputs": [],
      "source": [
        "weights = dict(zip([0, 1, 2], class_weights))"
      ]
    },
    {
      "cell_type": "code",
      "execution_count": null,
      "metadata": {
        "colab": {
          "base_uri": "https://localhost:8080/"
        },
        "id": "jSf2fytC7CFT",
        "outputId": "9d7efac8-4182-43f8-ac8e-1075fae78883"
      },
      "outputs": [
        {
          "data": {
            "text/plain": [
              "{0: 1.1889332003988036, 1: 0.5552968568102444, 2: 2.7927400468384076}"
            ]
          },
          "execution_count": 11,
          "metadata": {},
          "output_type": "execute_result"
        }
      ],
      "source": [
        "weights"
      ]
    },
    {
      "cell_type": "code",
      "execution_count": null,
      "metadata": {
        "id": "0648ffaDo1s_"
      },
      "outputs": [],
      "source": [
        "train_images = np.asarray(train_images)\n",
        "validation_images = np.asarray(validation_images)\n",
        "train_labels = np.asarray(train_labels)\n",
        "validation_labels = np.asarray(validation_labels)"
      ]
    },
    {
      "cell_type": "code",
      "execution_count": null,
      "metadata": {
        "id": "dxfi26iktHk9"
      },
      "outputs": [],
      "source": [
        "from sklearn.preprocessing import LabelBinarizer\n",
        "lb = LabelBinarizer()\n",
        "train_labels = lb.fit_transform(train_labels)\n",
        "validation_labels = lb.transform(validation_labels)"
      ]
    },
    {
      "cell_type": "code",
      "execution_count": null,
      "metadata": {
        "id": "igFjNsUQncH7"
      },
      "outputs": [],
      "source": [
        "test_classes_labels = lb.transform(test_classes_labels)"
      ]
    },
    {
      "cell_type": "code",
      "execution_count": null,
      "metadata": {
        "id": "5_trUuGhnrNF"
      },
      "outputs": [],
      "source": [
        "test_images = np.asarray(test_images)\n",
        "test_classes_labels = np.asarray(test_classes_labels)"
      ]
    },
    {
      "cell_type": "markdown",
      "metadata": {
        "id": "TAlZ6dPHHTvf"
      },
      "source": [
        "#Data Visualization"
      ]
    },
    {
      "cell_type": "code",
      "execution_count": null,
      "metadata": {
        "id": "5b9qRnE2HPZZ"
      },
      "outputs": [],
      "source": [
        "def data(history):\n",
        "  return pd.DataFrame(data=list(zip(history.history[\"accuracy\"], history.history[\"val_accuracy\"], history.history[\"loss\"], history.history[\"val_loss\"], history.history[\"recall\"], history.history[\"val_recall\"], history.history[\"precision\"], history.history[\"val_precision\"], history.history[\"auc\"], history.history[\"val_auc\"], history.history[\"specificity\"], history.history[\"val_specificity\"], history.history[\"sensitivity\"], history.history[\"val_sensitivity\"], history.history[\"mcc\"], history.history[\"val_mcc\"])) , columns=[\"Accuracy\", \"Validation Accuracy\", \"Loss\", \"Validation Loss\", \"Recall\", \"Validation Recall\", \"Precision\", \"Validation Precision\", \"AUC\", \"Validation AUC\", \"Specificity\", \"Validation Specificity\" ,\"Sensitivity\", \"Validation Sensitivity\", \"MCC\", \"Validation MCC\"])"
      ]
    },
    {
      "cell_type": "code",
      "execution_count": null,
      "metadata": {
        "id": "erCsAa2CHXXD"
      },
      "outputs": [],
      "source": [
        "def history_visualization(df):\n",
        "  sns.set_style('darkgrid')\n",
        "  nrow = 4\n",
        "  ncol = 2\n",
        "  df_columns = df.columns\n",
        "  df_list = [df[col] for col in df]\n",
        "  titles=[\"Accuracy Visualization\", \"Loss Visualization\", \"Recall Visualization\", \"Precision Visualization\", \"AUC Visualization\", \"Specificity Visualization\", \"Sensitivity Visualization\", \"MCC Visualization\"]\n",
        "  fig, axes = plt.subplots(nrow, ncol, figsize=(20, 16))\n",
        "  count = 0\n",
        "  i = 0\n",
        "  for r in range(nrow):\n",
        "    for c in range(ncol):\n",
        "        df_list[count].plot(ax=axes[r,c], x=\"Number of Epochs\", legend=\"brief\", label=df_columns[count], marker=\"o\").set_title(titles[i])\n",
        "        df_list[count+1].plot(ax=axes[r, c], x=\"Number of Epochs\", legend=\"brief\" ,label=df_columns[count+1], marker=\"o\").set_title(titles[i])\n",
        "        i+=1\n",
        "        count+=2"
      ]
    },
    {
      "cell_type": "code",
      "execution_count": null,
      "metadata": {
        "id": "Gzzt0AHYHZ3p"
      },
      "outputs": [],
      "source": [
        "early_stoping = keras.callbacks.EarlyStopping(monitor=\"val_loss\", patience=5, restore_best_weights=True)"
      ]
    },
    {
      "cell_type": "markdown",
      "metadata": {
        "id": "D4nLRwZMHe6T"
      },
      "source": [
        "#Custom Metrics using Tensorflow"
      ]
    },
    {
      "cell_type": "code",
      "execution_count": null,
      "metadata": {
        "id": "VsSrpQjeHdDi"
      },
      "outputs": [],
      "source": [
        "def true_positive(y_true, y_pred):\n",
        "  y_true = tf.argmax(y_true)\n",
        "  y_pred = tf.argmax(y_pred)\n",
        "  res = tf.math.confusion_matrix(y_true, y_pred, dtype=tf.float32)\n",
        "  return tf.reduce_sum(tf.linalg.diag_part(res), axis = 0)\n",
        "\n",
        "def false_positive(y_true, y_pred):\n",
        "  y_true = tf.argmax(y_true)\n",
        "  y_pred = tf.argmax(y_pred)\n",
        "  res = tf.math.confusion_matrix(y_true, y_pred, dtype=tf.float32)\n",
        "  return tf.reduce_sum(tf.reduce_sum(res, axis = 1) - tf.linalg.diag_part(res), axis = 0)\n",
        "\n",
        "def false_negative(y_true, y_pred):\n",
        "  y_true = tf.argmax(y_true)\n",
        "  y_pred = tf.argmax(y_pred)\n",
        "  res = tf.math.confusion_matrix(y_true, y_pred, dtype=tf.float32)\n",
        "  return tf.reduce_sum(tf.reduce_sum(res, axis = 1) - tf.linalg.diag_part(res), axis = 0)\n",
        "\n",
        "def true_negative(y_true, y_pred):\n",
        "  y_true_res = tf.argmax(y_true)\n",
        "  y_pred_res = tf.argmax(y_pred)\n",
        "  res = tf.math.confusion_matrix(y_true_res, y_pred_res, dtype=tf.float32)\n",
        "  return tf.reduce_sum(tf.reduce_sum(res, axis = 1), axis=0) - (false_negative(y_true, y_pred) + false_positive(y_true, y_pred) + true_positive(y_true, y_pred))"
      ]
    },
    {
      "cell_type": "code",
      "execution_count": null,
      "metadata": {
        "id": "LOKtWzdJHnCa"
      },
      "outputs": [],
      "source": [
        "def sensitivity(y_true, y_pred):\n",
        "    y_actual = tf.argmax(y_true).numpy()\n",
        "    y_hat = tf.argmax(y_pred).numpy()\n",
        "    TP = 0\n",
        "    FP = 0\n",
        "    TN = 0\n",
        "    FN = 0\n",
        "    for i in range(len(y_hat)): \n",
        "        if y_actual[i]==y_hat[i]==1:\n",
        "           TP += 1\n",
        "        if y_hat[i]==1 and y_actual[i]!=y_hat[i]:\n",
        "           FP += 1\n",
        "        if y_actual[i]==y_hat[i]==0:\n",
        "           TN += 1\n",
        "        if y_hat[i]==0 and y_actual[i]!=y_hat[i]:\n",
        "           FN += 1\n",
        "    num = float(TP)\n",
        "    den = float(TP + FN + K.epsilon())\n",
        "    if den == 0.0:\n",
        "      return tf.constant(0.0, dtype=tf.float32)\n",
        "    return tf.constant(float(num/den), dtype=tf.float32)\n",
        "\n",
        "def specificity(y_true, y_pred):\n",
        "    y_actual = tf.argmax(y_true).numpy()\n",
        "    y_hat = tf.argmax(y_pred).numpy()\n",
        "    TP = 0\n",
        "    FP = 0\n",
        "    TN = 0\n",
        "    FN = 0\n",
        "    for i in range(len(y_hat)): \n",
        "        if y_actual[i]==y_hat[i]==1:\n",
        "           TP += 1\n",
        "        if y_hat[i]==1 and y_actual[i]!=y_hat[i]:\n",
        "           FP += 1\n",
        "        if y_actual[i]==y_hat[i]==0:\n",
        "           TN += 1\n",
        "        if y_hat[i]==0 and y_actual[i]!=y_hat[i]:\n",
        "           FN += 1\n",
        "    num = float(TN)\n",
        "    den = float(TN + FP + K.epsilon())\n",
        "    if den == 0.0:\n",
        "      return tf.constant(0.0, dtype=tf.float32)\n",
        "    return tf.constant(float(num/den), dtype=tf.float32)"
      ]
    },
    {
      "cell_type": "code",
      "execution_count": null,
      "metadata": {
        "id": "Yo4K5FsSHoka"
      },
      "outputs": [],
      "source": [
        "def mcc(y_true, y_pred):\n",
        "  y_true = tf.argmax(y_true).numpy()\n",
        "  y_pred = tf.argmax(y_pred).numpy()\n",
        "\n",
        "  return tf.constant(matthews_corrcoef(y_true, y_pred))"
      ]
    },
    {
      "cell_type": "code",
      "execution_count": null,
      "metadata": {
        "id": "ecC2g5uhnr10"
      },
      "outputs": [],
      "source": [
        "def f1_score(y_true, y_pred): \n",
        "  true_positives = K.sum(K.round(K.clip(y_true * y_pred, 0, 1)))\n",
        "  possible_positives = K.sum(K.round(K.clip(y_true, 0, 1)))\n",
        "  predicted_positives = K.sum(K.round(K.clip(y_pred, 0, 1)))\n",
        "  precision = true_positives / (predicted_positives + K.epsilon())\n",
        "  recall = true_positives / (possible_positives + K.epsilon())\n",
        "  f1_val = 2*(precision*recall)/(precision+recall+K.epsilon())\n",
        "  return f1_val"
      ]
    },
    {
      "cell_type": "code",
      "execution_count": null,
      "metadata": {
        "id": "CGHfyP7QXYbC"
      },
      "outputs": [],
      "source": [
        "class ThresholdCallback(keras.callbacks.Callback):\n",
        "  def __init__(self, threshold):\n",
        "    self.threshold = threshold\n",
        "  def on_epoch_end(self, epoch, logs={}):\n",
        "    if(logs.get(\"val_loss\") < self.threshold):\n",
        "      self.model.stop_training = True"
      ]
    },
    {
      "cell_type": "markdown",
      "metadata": {
        "id": "bDfub9JSuf4Z"
      },
      "source": [
        "#Image Generator"
      ]
    },
    {
      "cell_type": "code",
      "execution_count": null,
      "metadata": {
        "id": "e1Z1cRWE33gI"
      },
      "outputs": [],
      "source": [
        "import collections, numpy"
      ]
    },
    {
      "cell_type": "code",
      "execution_count": null,
      "metadata": {
        "id": "Hl5gOABpzxLh"
      },
      "outputs": [],
      "source": [
        "from collections import Counter"
      ]
    },
    {
      "cell_type": "code",
      "execution_count": null,
      "metadata": {
        "id": "lcdtEtJomKQF"
      },
      "outputs": [],
      "source": [
        "num_images = [3143, 5084, 6728, 1345]"
      ]
    },
    {
      "cell_type": "code",
      "execution_count": null,
      "metadata": {
        "colab": {
          "base_uri": "https://localhost:8080/"
        },
        "id": "Nsut_nfNmo_q",
        "outputId": "2c13db3f-03da-4e3c-9f09-31be8d368929"
      },
      "outputs": [
        {
          "data": {
            "text/plain": [
              "16300"
            ]
          },
          "execution_count": 27,
          "metadata": {},
          "output_type": "execute_result"
        }
      ],
      "source": [
        "sum(num_images)"
      ]
    },
    {
      "cell_type": "code",
      "execution_count": null,
      "metadata": {
        "id": "y2HThrUemXTz"
      },
      "outputs": [],
      "source": [
        "num_classes = len(num_images)-1"
      ]
    },
    {
      "cell_type": "code",
      "execution_count": null,
      "metadata": {
        "id": "mwp-gD0ImUlb"
      },
      "outputs": [],
      "source": [
        "beta_values = [(1 - (x / sum(num_images))) / num_classes for x in num_images]"
      ]
    },
    {
      "cell_type": "code",
      "execution_count": null,
      "metadata": {
        "id": "iXfTV3R6mfA5"
      },
      "outputs": [],
      "source": [
        "beta = dict(zip([0, 1, 2, 3], beta_values))"
      ]
    },
    {
      "cell_type": "code",
      "execution_count": null,
      "metadata": {
        "id": "yVJiACiRshUK"
      },
      "outputs": [],
      "source": [
        "image_generator = ImageDataGenerator(validation_split = 0.2, rescale=1./255)"
      ]
    },
    {
      "cell_type": "code",
      "execution_count": null,
      "metadata": {
        "id": "kmMF7RkQsruT"
      },
      "outputs": [],
      "source": [
        "train_dataset = image_generator.flow(train_images, train_labels, shuffle=True, subset=\"training\", seed=42)"
      ]
    },
    {
      "cell_type": "code",
      "execution_count": null,
      "metadata": {
        "id": "7dhu9Tjqsrwi"
      },
      "outputs": [],
      "source": [
        "validation_dataset = image_generator.flow(validation_images, validation_labels, shuffle=True, subset=\"training\", seed=42)"
      ]
    },
    {
      "cell_type": "code",
      "execution_count": null,
      "metadata": {
        "id": "4C9o0r-pnK2B"
      },
      "outputs": [],
      "source": [
        "test_generator = ImageDataGenerator(rescale=1./255)\n",
        "test_set = test_generator.flow(test_images, test_classes_labels, shuffle=False, seed=42)"
      ]
    },
    {
      "cell_type": "code",
      "execution_count": null,
      "metadata": {
        "colab": {
          "base_uri": "https://localhost:8080/"
        },
        "id": "PvA0K2-Om_y1",
        "outputId": "9c5fe1d9-088a-4fff-b925-2e4e686a1080"
      },
      "outputs": [
        {
          "data": {
            "text/plain": [
              "{0: 0.26905930470347644,\n",
              " 1: 0.22936605316973413,\n",
              " 2: 0.19574642126789366,\n",
              " 3: 0.3058282208588957}"
            ]
          },
          "execution_count": 35,
          "metadata": {},
          "output_type": "execute_result"
        }
      ],
      "source": [
        "beta"
      ]
    },
    {
      "cell_type": "code",
      "execution_count": null,
      "metadata": {
        "id": "icI9P9BzDkOz"
      },
      "outputs": [],
      "source": [
        "model_checkpoint = keras.callbacks.ModelCheckpoint(filepath=\"/content/model/my_best_model.epoch{epoch:02d}-loss{val_loss:.2f}.hdf5\", monitor=\"val_loss\", save_weights_only=True)"
      ]
    },
    {
      "cell_type": "code",
      "execution_count": null,
      "metadata": {
        "id": "zXsBfN5WXT3-"
      },
      "outputs": [],
      "source": [
        "early_stopping = keras.callbacks.EarlyStopping(patience = 7, monitor = \"val_loss\", restore_best_weights = True, mode=\"min\")"
      ]
    },
    {
      "cell_type": "code",
      "execution_count": null,
      "metadata": {
        "id": "yZNG-n6GXUXj"
      },
      "outputs": [],
      "source": [
        "threshold = ThresholdCallback(0.2)"
      ]
    },
    {
      "cell_type": "code",
      "execution_count": null,
      "metadata": {
        "id": "mR49FYOrGBmk"
      },
      "outputs": [],
      "source": [
        "os.mkdir(\"/content/model\")"
      ]
    },
    {
      "cell_type": "markdown",
      "metadata": {
        "id": "27MK7hXqEGLd"
      },
      "source": [
        "#Base Resnet 18 Model"
      ]
    },
    {
      "cell_type": "code",
      "execution_count": null,
      "metadata": {
        "id": "DyAGOGKEEFrK"
      },
      "outputs": [],
      "source": [
        "from keras.callbacks import EarlyStopping\n",
        "from keras.layers import Dense, Conv2D,  MaxPool2D, Flatten, GlobalAveragePooling2D,  BatchNormalization, Layer, Add\n",
        "from keras.models import Sequential\n",
        "from keras.models import Model\n",
        "import tensorflow as tf\n",
        "\n",
        "\n",
        "class ResnetBlock(Model):\n",
        "    \"\"\"\n",
        "    A standard resnet block.\n",
        "    \"\"\"\n",
        "\n",
        "    def __init__(self, channels: int, down_sample=False):\n",
        "        \"\"\"\n",
        "        channels: same as number of convolution kernels\n",
        "        \"\"\"\n",
        "        super().__init__()\n",
        "\n",
        "        self.__channels = channels\n",
        "        self.__down_sample = down_sample\n",
        "        self.__strides = [2, 1] if down_sample else [1, 1]\n",
        "\n",
        "        KERNEL_SIZE = (3, 3)\n",
        "        # use He initialization, instead of Xavier (a.k.a 'glorot_uniform' in Keras), as suggested in [2]\n",
        "        INIT_SCHEME = tf.keras.initializers.GlorotUniform()\n",
        "\n",
        "        self.conv_1 = Conv2D(self.__channels, strides=self.__strides[0],\n",
        "                             kernel_size=KERNEL_SIZE, padding=\"same\", kernel_initializer=INIT_SCHEME)\n",
        "        self.bn_1 = BatchNormalization()\n",
        "        self.conv_2 = Conv2D(self.__channels, strides=self.__strides[1],\n",
        "                             kernel_size=KERNEL_SIZE, padding=\"same\", kernel_initializer=INIT_SCHEME)\n",
        "        self.bn_2 = BatchNormalization()\n",
        "        self.merge = Add()\n",
        "\n",
        "        if self.__down_sample:\n",
        "            # perform down sampling using stride of 2, according to [1].\n",
        "            self.res_conv = Conv2D(\n",
        "                self.__channels, strides=2, kernel_size=(1, 1), kernel_initializer=INIT_SCHEME, padding=\"same\")\n",
        "            self.res_bn = BatchNormalization()\n",
        "\n",
        "    def call(self, inputs):\n",
        "        res = inputs\n",
        "\n",
        "        x = self.conv_1(inputs)\n",
        "        x = self.bn_1(x)\n",
        "        x = tf.nn.relu(x)\n",
        "        x = self.conv_2(x)\n",
        "        x = self.bn_2(x)\n",
        "\n",
        "        if self.__down_sample:\n",
        "            res = self.res_conv(res)\n",
        "            res = self.res_bn(res)\n",
        "\n",
        "        # if not perform down sample, then add a shortcut directly\n",
        "        x = self.merge([x, res])\n",
        "        out = tf.nn.relu(x)\n",
        "        return out\n",
        "\n",
        "\n",
        "class ResNet18(Model):\n",
        "\n",
        "    def __init__(self, **kwargs):\n",
        "\n",
        "        super().__init__(**kwargs)\n",
        "        self.conv_1 = Conv2D(64, (7, 7), strides=2,\n",
        "                             padding=\"same\", kernel_initializer=tf.keras.initializers.GlorotUniform())\n",
        "        self.init_bn = BatchNormalization()\n",
        "        self.pool_2 = MaxPool2D(pool_size=(2, 2), strides=2, padding=\"same\")\n",
        "        self.res_1_1 = ResnetBlock(64)\n",
        "        self.res_1_2 = ResnetBlock(64)\n",
        "        self.res_2_1 = ResnetBlock(128, down_sample=True)\n",
        "        self.res_2_2 = ResnetBlock(128)\n",
        "        self.res_3_1 = ResnetBlock(256, down_sample=True)\n",
        "        self.res_3_2 = ResnetBlock(256)\n",
        "        self.res_4_1 = ResnetBlock(512, down_sample=True)\n",
        "        self.res_4_2 = ResnetBlock(512)\n",
        "        self.avg_pool = GlobalAveragePooling2D()\n",
        "\n",
        "    def call(self, inputs):\n",
        "        out = self.conv_1(inputs)\n",
        "        out = self.init_bn(out)\n",
        "        out = tf.nn.relu(out)\n",
        "        out = self.pool_2(out)\n",
        "        for res_block in [self.res_1_1, self.res_1_2, self.res_2_1, self.res_2_2, self.res_3_1, self.res_3_2, self.res_4_1, self.res_4_2]:\n",
        "            out = res_block(out)\n",
        "        out = self.avg_pool(out)\n",
        "        return out"
      ]
    },
    {
      "cell_type": "code",
      "execution_count": null,
      "metadata": {
        "id": "ZwaGJitfEK3B"
      },
      "outputs": [],
      "source": [
        "base_model = ResNet18()"
      ]
    },
    {
      "cell_type": "code",
      "execution_count": null,
      "metadata": {
        "id": "Jw3ZuU5IoEEP"
      },
      "outputs": [],
      "source": [
        "model = keras.models.Sequential([base_model, keras.layers.Flatten(), keras.layers.Dense(3, activation=\"softmax\")])"
      ]
    },
    {
      "cell_type": "code",
      "execution_count": null,
      "metadata": {
        "colab": {
          "base_uri": "https://localhost:8080/"
        },
        "id": "IwKNIMvkoN2p",
        "outputId": "1e8d9d81-455a-44ca-bce1-b0a7632fbc50"
      },
      "outputs": [
        {
          "name": "stdout",
          "output_type": "stream",
          "text": [
            "WARNING:tensorflow:AutoGraph could not transform <bound method ResnetBlock.call of <__main__.ResnetBlock object at 0x7f9b903b96d0>> and will run it as-is.\n",
            "Cause: mangled names are not yet supported\n",
            "To silence this warning, decorate the function with @tf.autograph.experimental.do_not_convert\n",
            "WARNING: AutoGraph could not transform <bound method ResnetBlock.call of <__main__.ResnetBlock object at 0x7f9b903b96d0>> and will run it as-is.\n",
            "Cause: mangled names are not yet supported\n",
            "To silence this warning, decorate the function with @tf.autograph.experimental.do_not_convert\n"
          ]
        }
      ],
      "source": [
        "model.build(input_shape = (None,HEIGHT, WIDTH, CHANNELS))"
      ]
    },
    {
      "cell_type": "code",
      "execution_count": null,
      "metadata": {
        "colab": {
          "base_uri": "https://localhost:8080/"
        },
        "id": "1Yyk-_CZE2gr",
        "outputId": "d2a75737-cd3b-49b6-969a-6198843ce210"
      },
      "outputs": [
        {
          "name": "stdout",
          "output_type": "stream",
          "text": [
            "Model: \"sequential\"\n",
            "_________________________________________________________________\n",
            " Layer (type)                Output Shape              Param #   \n",
            "=================================================================\n",
            " res_net18 (ResNet18)        (None, 512)               11190912  \n",
            "                                                                 \n",
            " flatten (Flatten)           (None, 512)               0         \n",
            "                                                                 \n",
            " dense (Dense)               (None, 3)                 1539      \n",
            "                                                                 \n",
            "=================================================================\n",
            "Total params: 11,192,451\n",
            "Trainable params: 11,182,851\n",
            "Non-trainable params: 9,600\n",
            "_________________________________________________________________\n"
          ]
        }
      ],
      "source": [
        "model.summary()"
      ]
    },
    {
      "cell_type": "code",
      "execution_count": null,
      "metadata": {
        "id": "XYAQkBChEXJd"
      },
      "outputs": [],
      "source": [
        "base_model_2 = keras.models.load_model(\"/content/drive/MyDrive/Special_Issue_COVID_Journal/base_model_epooch_4\", custom_objects={\"res_net18\" : ResNet18, \"specificity\" : specificity, \"sensitivity\" : sensitivity, \"mcc\" : mcc, \"f1_score\" : f1_score})"
      ]
    },
    {
      "cell_type": "code",
      "execution_count": null,
      "metadata": {
        "colab": {
          "base_uri": "https://localhost:8080/"
        },
        "id": "CkuH_Z34EiG7",
        "outputId": "8eb9627a-9c7e-4ccb-c1c9-42148dc3b45f"
      },
      "outputs": [
        {
          "name": "stdout",
          "output_type": "stream",
          "text": [
            "Model: \"sequential\"\n",
            "_________________________________________________________________\n",
            " Layer (type)                Output Shape              Param #   \n",
            "=================================================================\n",
            " res_net18 (ResNet18)        (None, 512)               11190912  \n",
            "                                                                 \n",
            " flatten (Flatten)           (None, 512)               0         \n",
            "                                                                 \n",
            " dense (Dense)               (None, 14)                7182      \n",
            "                                                                 \n",
            "=================================================================\n",
            "Total params: 11,198,094\n",
            "Trainable params: 11,188,494\n",
            "Non-trainable params: 9,600\n",
            "_________________________________________________________________\n"
          ]
        }
      ],
      "source": [
        "base_model_2.summary()"
      ]
    },
    {
      "cell_type": "code",
      "execution_count": null,
      "metadata": {
        "id": "HXkzAItLEdC9"
      },
      "outputs": [],
      "source": [
        "resnet_layer_2 = base_model_2.get_layer(\"res_net18\")"
      ]
    },
    {
      "cell_type": "code",
      "execution_count": null,
      "metadata": {
        "id": "DwDiUQ6UEsR0"
      },
      "outputs": [],
      "source": [
        "resnet_2_weights = resnet_layer_2.get_weights()"
      ]
    },
    {
      "cell_type": "code",
      "execution_count": null,
      "metadata": {
        "id": "xrs0x6ruEl9c"
      },
      "outputs": [],
      "source": [
        "resnet_layer_1 = model.get_layer(\"res_net18\")"
      ]
    },
    {
      "cell_type": "code",
      "execution_count": null,
      "metadata": {
        "id": "nRfAEHX3EwP8"
      },
      "outputs": [],
      "source": [
        "resnet_layer_1.set_weights(resnet_2_weights)"
      ]
    },
    {
      "cell_type": "markdown",
      "metadata": {
        "id": "TfUzHmTc-Huy"
      },
      "source": [
        "#ResNet18 with custom weights I"
      ]
    },
    {
      "cell_type": "code",
      "execution_count": null,
      "metadata": {
        "colab": {
          "base_uri": "https://localhost:8080/"
        },
        "id": "YmXOR_6e-HvI",
        "outputId": "a745f4ce-0c9f-4f88-fee8-2c7b9ff1b994"
      },
      "outputs": [
        {
          "data": {
            "text/plain": [
              "array(['COVID', 'Normal', 'Viral Pneumonia'], dtype='<U15')"
            ]
          },
          "execution_count": 51,
          "metadata": {},
          "output_type": "execute_result"
        }
      ],
      "source": [
        "lb.classes_"
      ]
    },
    {
      "cell_type": "code",
      "execution_count": null,
      "metadata": {
        "id": "1nWOlI4B-HvJ"
      },
      "outputs": [],
      "source": [
        "weights = {\n",
        "    0 : 0.365,\n",
        "    1 : 0.2989,\n",
        "    2 : 0.334\n",
        "\n",
        "}"
      ]
    },
    {
      "cell_type": "code",
      "execution_count": null,
      "metadata": {
        "colab": {
          "base_uri": "https://localhost:8080/"
        },
        "id": "BXZtB8PN-HvJ",
        "outputId": "7a6166e8-6c82-49d5-da86-f41693811463"
      },
      "outputs": [
        {
          "name": "stdout",
          "output_type": "stream",
          "text": [
            "Epoch 1/25\n",
            "179/179 [==============================] - 43s 171ms/step - loss: 0.1030 - accuracy: 0.8688 - precision: 0.8736 - recall: 0.8618 - auc: 0.9723 - specificity: 0.0838 - sensitivity: 0.0894 - mcc: 0.1769 - val_loss: 1.2643 - val_accuracy: 0.5964 - val_precision: 0.6003 - val_recall: 0.5915 - val_auc: 0.8115 - val_specificity: 0.0667 - val_sensitivity: 0.0222 - val_mcc: -0.0020\n",
            "Epoch 2/25\n",
            "179/179 [==============================] - 31s 171ms/step - loss: 0.0481 - accuracy: 0.9455 - precision: 0.9461 - recall: 0.9448 - auc: 0.9932 - specificity: 0.0838 - sensitivity: 0.0838 - mcc: 0.1732 - val_loss: 0.6474 - val_accuracy: 0.7409 - val_precision: 0.7477 - val_recall: 0.7263 - val_auc: 0.8964 - val_specificity: 0.0889 - val_sensitivity: 0.0222 - val_mcc: 0.1481\n",
            "Epoch 3/25\n",
            "179/179 [==============================] - 30s 170ms/step - loss: 0.0369 - accuracy: 0.9574 - precision: 0.9573 - recall: 0.9567 - auc: 0.9960 - specificity: 0.0782 - sensitivity: 0.0894 - mcc: 0.1881 - val_loss: 0.6930 - val_accuracy: 0.7800 - val_precision: 0.7891 - val_recall: 0.7577 - val_auc: 0.9056 - val_specificity: 0.0667 - val_sensitivity: 0.0667 - val_mcc: 0.1296\n",
            "Epoch 4/25\n",
            "179/179 [==============================] - 30s 170ms/step - loss: 0.0330 - accuracy: 0.9612 - precision: 0.9622 - recall: 0.9609 - auc: 0.9964 - specificity: 0.0950 - sensitivity: 0.0782 - mcc: 0.1713 - val_loss: 0.2846 - val_accuracy: 0.9064 - val_precision: 0.9083 - val_recall: 0.9057 - val_auc: 0.9802 - val_specificity: 0.0889 - val_sensitivity: 0.2444 - val_mcc: 0.2222\n",
            "Epoch 5/25\n",
            "179/179 [==============================] - 31s 170ms/step - loss: 0.0199 - accuracy: 0.9804 - precision: 0.9809 - recall: 0.9797 - auc: 0.9983 - specificity: 0.0838 - sensitivity: 0.0335 - mcc: 0.1527 - val_loss: 0.2087 - val_accuracy: 0.9267 - val_precision: 0.9279 - val_recall: 0.9253 - val_auc: 0.9874 - val_specificity: 0.0667 - val_sensitivity: 0.0222 - val_mcc: 0.1185\n",
            "Epoch 6/25\n",
            "179/179 [==============================] - 31s 170ms/step - loss: 0.0158 - accuracy: 0.9829 - precision: 0.9832 - recall: 0.9827 - auc: 0.9989 - specificity: 0.1508 - sensitivity: 0.0559 - mcc: 0.1937 - val_loss: 0.3951 - val_accuracy: 0.8380 - val_precision: 0.8378 - val_recall: 0.8366 - val_auc: 0.9583 - val_specificity: 0.0222 - val_sensitivity: 0.0889 - val_mcc: 0.1852\n",
            "Epoch 7/25\n",
            "179/179 [==============================] - 31s 172ms/step - loss: 0.0109 - accuracy: 0.9867 - precision: 0.9872 - recall: 0.9867 - auc: 0.9994 - specificity: 0.1117 - sensitivity: 0.0447 - mcc: 0.2071 - val_loss: 0.4854 - val_accuracy: 0.8387 - val_precision: 0.8392 - val_recall: 0.8380 - val_auc: 0.9534 - val_specificity: 0.1333 - val_sensitivity: 0.0444 - val_mcc: 0.1305\n",
            "Epoch 8/25\n",
            "179/179 [==============================] - 31s 172ms/step - loss: 0.0151 - accuracy: 0.9848 - precision: 0.9851 - recall: 0.9848 - auc: 0.9990 - specificity: 0.0838 - sensitivity: 0.0950 - mcc: 0.1881 - val_loss: 0.3699 - val_accuracy: 0.8701 - val_precision: 0.8706 - val_recall: 0.8694 - val_auc: 0.9692 - val_specificity: 0.0222 - val_sensitivity: 0.0667 - val_mcc: 0.1288\n",
            "Epoch 9/25\n",
            "179/179 [==============================] - 31s 173ms/step - loss: 0.0182 - accuracy: 0.9799 - precision: 0.9801 - recall: 0.9799 - auc: 0.9988 - specificity: 0.1006 - sensitivity: 0.0559 - mcc: 0.1788 - val_loss: 0.2759 - val_accuracy: 0.9078 - val_precision: 0.9091 - val_recall: 0.9078 - val_auc: 0.9801 - val_specificity: 0.0889 - val_sensitivity: 0.0667 - val_mcc: 0.1407\n",
            "Epoch 10/25\n",
            "179/179 [==============================] - 31s 172ms/step - loss: 0.0058 - accuracy: 0.9948 - precision: 0.9948 - recall: 0.9946 - auc: 0.9998 - specificity: 0.2179 - sensitivity: 0.0950 - mcc: 0.2346 - val_loss: 0.2076 - val_accuracy: 0.9316 - val_precision: 0.9322 - val_recall: 0.9309 - val_auc: 0.9877 - val_specificity: 0.1556 - val_sensitivity: 0.0889 - val_mcc: 0.1778\n",
            "Epoch 11/25\n",
            "179/179 [==============================] - 30s 168ms/step - loss: 0.0090 - accuracy: 0.9895 - precision: 0.9895 - recall: 0.9895 - auc: 0.9996 - specificity: 0.2123 - sensitivity: 0.1341 - mcc: 0.2571 - val_loss: 0.5847 - val_accuracy: 0.8729 - val_precision: 0.8735 - val_recall: 0.8729 - val_auc: 0.9581 - val_specificity: 0.2667 - val_sensitivity: 0.2222 - val_mcc: 0.3259\n",
            "Epoch 12/25\n",
            "179/179 [==============================] - 30s 167ms/step - loss: 0.0064 - accuracy: 0.9939 - precision: 0.9939 - recall: 0.9939 - auc: 0.9998 - specificity: 0.2626 - sensitivity: 0.1285 - mcc: 0.2793 - val_loss: 0.1703 - val_accuracy: 0.9518 - val_precision: 0.9518 - val_recall: 0.9518 - val_auc: 0.9893 - val_specificity: 0.0889 - val_sensitivity: 0.1556 - val_mcc: 0.2519\n",
            "Epoch 13/25\n",
            "179/179 [==============================] - 30s 167ms/step - loss: 0.0099 - accuracy: 0.9895 - precision: 0.9897 - recall: 0.9895 - auc: 0.9994 - specificity: 0.2458 - sensitivity: 0.1620 - mcc: 0.3100 - val_loss: 0.3084 - val_accuracy: 0.9232 - val_precision: 0.9232 - val_recall: 0.9232 - val_auc: 0.9780 - val_specificity: 0.2000 - val_sensitivity: 0.1556 - val_mcc: 0.3128\n",
            "Epoch 14/25\n",
            "179/179 [==============================] - 30s 168ms/step - loss: 0.0059 - accuracy: 0.9944 - precision: 0.9946 - recall: 0.9944 - auc: 0.9999 - specificity: 0.1592 - sensitivity: 0.0670 - mcc: 0.2071 - val_loss: 0.1713 - val_accuracy: 0.9462 - val_precision: 0.9462 - val_recall: 0.9462 - val_auc: 0.9905 - val_specificity: 0.0667 - val_sensitivity: 0.1556 - val_mcc: 0.2296\n",
            "Epoch 15/25\n",
            "179/179 [==============================] - 30s 168ms/step - loss: 0.0073 - accuracy: 0.9916 - precision: 0.9920 - recall: 0.9913 - auc: 0.9999 - specificity: 0.2849 - sensitivity: 0.1453 - mcc: 0.3282 - val_loss: 0.2032 - val_accuracy: 0.9455 - val_precision: 0.9462 - val_recall: 0.9455 - val_auc: 0.9887 - val_specificity: 0.2000 - val_sensitivity: 0.0667 - val_mcc: 0.2194\n",
            "Epoch 16/25\n",
            "179/179 [==============================] - 30s 168ms/step - loss: 0.0059 - accuracy: 0.9935 - precision: 0.9935 - recall: 0.9935 - auc: 0.9997 - specificity: 0.3520 - sensitivity: 0.1620 - mcc: 0.3375 - val_loss: 0.3306 - val_accuracy: 0.9316 - val_precision: 0.9316 - val_recall: 0.9316 - val_auc: 0.9812 - val_specificity: 0.6000 - val_sensitivity: 0.2444 - val_mcc: 0.4667\n",
            "Epoch 17/25\n",
            "179/179 [==============================] - 30s 168ms/step - loss: 0.0044 - accuracy: 0.9953 - precision: 0.9953 - recall: 0.9953 - auc: 1.0000 - specificity: 0.3575 - sensitivity: 0.1676 - mcc: 0.3256 - val_loss: 0.6675 - val_accuracy: 0.8094 - val_precision: 0.8109 - val_recall: 0.8087 - val_auc: 0.9382 - val_specificity: 0.1111 - val_sensitivity: 0.0667 - val_mcc: 0.1333\n",
            "Epoch 18/25\n",
            "179/179 [==============================] - 30s 168ms/step - loss: 0.0073 - accuracy: 0.9921 - precision: 0.9923 - recall: 0.9921 - auc: 0.9997 - specificity: 0.2067 - sensitivity: 0.1397 - mcc: 0.2608 - val_loss: 0.3115 - val_accuracy: 0.9197 - val_precision: 0.9196 - val_recall: 0.9190 - val_auc: 0.9789 - val_specificity: 0.2222 - val_sensitivity: 0.0889 - val_mcc: 0.2296\n",
            "Epoch 19/25\n",
            "179/179 [==============================] - 30s 167ms/step - loss: 0.0038 - accuracy: 0.9965 - precision: 0.9965 - recall: 0.9965 - auc: 0.9998 - specificity: 0.3743 - sensitivity: 0.1564 - mcc: 0.3591 - val_loss: 0.3294 - val_accuracy: 0.9162 - val_precision: 0.9162 - val_recall: 0.9162 - val_auc: 0.9783 - val_specificity: 0.1778 - val_sensitivity: 0.1111 - val_mcc: 0.2757\n"
          ]
        }
      ],
      "source": [
        "model.compile(optimizer=\"adam\", loss=\"categorical_crossentropy\", metrics=[\"accuracy\", keras.metrics.Precision(), keras.metrics.Recall(), keras.metrics.AUC(), specificity, sensitivity, mcc], run_eagerly=True)\n",
        "history = model.fit(x=train_dataset, validation_data=validation_dataset, epochs=25, batch_size=32, callbacks=[early_stopping, model_checkpoint], class_weight=weights)"
      ]
    },
    {
      "cell_type": "code",
      "execution_count": null,
      "metadata": {
        "id": "lGKyOhEC-HvK"
      },
      "outputs": [],
      "source": [
        "df = data(history)"
      ]
    },
    {
      "cell_type": "code",
      "execution_count": null,
      "metadata": {
        "colab": {
          "base_uri": "https://localhost:8080/",
          "height": 645
        },
        "id": "z7eeGJpy-HvK",
        "outputId": "5bb732a7-d6d4-4a9e-c5f0-f1c94fe18521"
      },
      "outputs": [
        {
          "data": {
            "text/html": [
              "\n",
              "  <div id=\"df-9d92b6aa-0807-41b5-8af2-99542249951d\">\n",
              "    <div class=\"colab-df-container\">\n",
              "      <div>\n",
              "<style scoped>\n",
              "    .dataframe tbody tr th:only-of-type {\n",
              "        vertical-align: middle;\n",
              "    }\n",
              "\n",
              "    .dataframe tbody tr th {\n",
              "        vertical-align: top;\n",
              "    }\n",
              "\n",
              "    .dataframe thead th {\n",
              "        text-align: right;\n",
              "    }\n",
              "</style>\n",
              "<table border=\"1\" class=\"dataframe\">\n",
              "  <thead>\n",
              "    <tr style=\"text-align: right;\">\n",
              "      <th></th>\n",
              "      <th>Accuracy</th>\n",
              "      <th>Validation Accuracy</th>\n",
              "      <th>Loss</th>\n",
              "      <th>Validation Loss</th>\n",
              "      <th>Recall</th>\n",
              "      <th>Validation Recall</th>\n",
              "      <th>Precision</th>\n",
              "      <th>Validation Precision</th>\n",
              "      <th>AUC</th>\n",
              "      <th>Validation AUC</th>\n",
              "      <th>Specificity</th>\n",
              "      <th>Validation Specificity</th>\n",
              "      <th>Sensitivity</th>\n",
              "      <th>Validation Sensitivity</th>\n",
              "      <th>MCC</th>\n",
              "      <th>Validation MCC</th>\n",
              "    </tr>\n",
              "  </thead>\n",
              "  <tbody>\n",
              "    <tr>\n",
              "      <th>0</th>\n",
              "      <td>0.868798</td>\n",
              "      <td>0.596369</td>\n",
              "      <td>0.103010</td>\n",
              "      <td>1.264337</td>\n",
              "      <td>0.861810</td>\n",
              "      <td>0.591480</td>\n",
              "      <td>0.873561</td>\n",
              "      <td>0.600284</td>\n",
              "      <td>0.972334</td>\n",
              "      <td>0.811478</td>\n",
              "      <td>0.083799</td>\n",
              "      <td>0.066667</td>\n",
              "      <td>0.089385</td>\n",
              "      <td>0.022222</td>\n",
              "      <td>0.176909</td>\n",
              "      <td>-0.002039</td>\n",
              "    </tr>\n",
              "    <tr>\n",
              "      <th>1</th>\n",
              "      <td>0.945493</td>\n",
              "      <td>0.740922</td>\n",
              "      <td>0.048103</td>\n",
              "      <td>0.647443</td>\n",
              "      <td>0.944794</td>\n",
              "      <td>0.726257</td>\n",
              "      <td>0.946116</td>\n",
              "      <td>0.747664</td>\n",
              "      <td>0.993214</td>\n",
              "      <td>0.896402</td>\n",
              "      <td>0.083799</td>\n",
              "      <td>0.088889</td>\n",
              "      <td>0.083799</td>\n",
              "      <td>0.022222</td>\n",
              "      <td>0.173184</td>\n",
              "      <td>0.148148</td>\n",
              "    </tr>\n",
              "    <tr>\n",
              "      <th>2</th>\n",
              "      <td>0.957372</td>\n",
              "      <td>0.780028</td>\n",
              "      <td>0.036914</td>\n",
              "      <td>0.692969</td>\n",
              "      <td>0.956674</td>\n",
              "      <td>0.757682</td>\n",
              "      <td>0.957343</td>\n",
              "      <td>0.789091</td>\n",
              "      <td>0.996012</td>\n",
              "      <td>0.905577</td>\n",
              "      <td>0.078212</td>\n",
              "      <td>0.066667</td>\n",
              "      <td>0.089385</td>\n",
              "      <td>0.066667</td>\n",
              "      <td>0.188082</td>\n",
              "      <td>0.129630</td>\n",
              "    </tr>\n",
              "    <tr>\n",
              "      <th>3</th>\n",
              "      <td>0.961216</td>\n",
              "      <td>0.906425</td>\n",
              "      <td>0.032994</td>\n",
              "      <td>0.284571</td>\n",
              "      <td>0.960867</td>\n",
              "      <td>0.905726</td>\n",
              "      <td>0.962211</td>\n",
              "      <td>0.908263</td>\n",
              "      <td>0.996447</td>\n",
              "      <td>0.980179</td>\n",
              "      <td>0.094972</td>\n",
              "      <td>0.088889</td>\n",
              "      <td>0.078212</td>\n",
              "      <td>0.244444</td>\n",
              "      <td>0.171322</td>\n",
              "      <td>0.222222</td>\n",
              "    </tr>\n",
              "    <tr>\n",
              "      <th>4</th>\n",
              "      <td>0.980433</td>\n",
              "      <td>0.926676</td>\n",
              "      <td>0.019864</td>\n",
              "      <td>0.208719</td>\n",
              "      <td>0.979734</td>\n",
              "      <td>0.925279</td>\n",
              "      <td>0.980934</td>\n",
              "      <td>0.927871</td>\n",
              "      <td>0.998293</td>\n",
              "      <td>0.987409</td>\n",
              "      <td>0.083799</td>\n",
              "      <td>0.066667</td>\n",
              "      <td>0.033520</td>\n",
              "      <td>0.022222</td>\n",
              "      <td>0.152700</td>\n",
              "      <td>0.118519</td>\n",
              "    </tr>\n",
              "    <tr>\n",
              "      <th>5</th>\n",
              "      <td>0.982879</td>\n",
              "      <td>0.837989</td>\n",
              "      <td>0.015804</td>\n",
              "      <td>0.395070</td>\n",
              "      <td>0.982704</td>\n",
              "      <td>0.836592</td>\n",
              "      <td>0.983220</td>\n",
              "      <td>0.837762</td>\n",
              "      <td>0.998857</td>\n",
              "      <td>0.958312</td>\n",
              "      <td>0.150838</td>\n",
              "      <td>0.022222</td>\n",
              "      <td>0.055866</td>\n",
              "      <td>0.088889</td>\n",
              "      <td>0.193669</td>\n",
              "      <td>0.185185</td>\n",
              "    </tr>\n",
              "    <tr>\n",
              "      <th>6</th>\n",
              "      <td>0.986723</td>\n",
              "      <td>0.838687</td>\n",
              "      <td>0.010851</td>\n",
              "      <td>0.485429</td>\n",
              "      <td>0.986723</td>\n",
              "      <td>0.837989</td>\n",
              "      <td>0.987240</td>\n",
              "      <td>0.839161</td>\n",
              "      <td>0.999441</td>\n",
              "      <td>0.953365</td>\n",
              "      <td>0.111732</td>\n",
              "      <td>0.133333</td>\n",
              "      <td>0.044693</td>\n",
              "      <td>0.044444</td>\n",
              "      <td>0.207122</td>\n",
              "      <td>0.130462</td>\n",
              "    </tr>\n",
              "    <tr>\n",
              "      <th>7</th>\n",
              "      <td>0.984801</td>\n",
              "      <td>0.870112</td>\n",
              "      <td>0.015080</td>\n",
              "      <td>0.369874</td>\n",
              "      <td>0.984801</td>\n",
              "      <td>0.869413</td>\n",
              "      <td>0.985145</td>\n",
              "      <td>0.870629</td>\n",
              "      <td>0.999023</td>\n",
              "      <td>0.969222</td>\n",
              "      <td>0.083799</td>\n",
              "      <td>0.022222</td>\n",
              "      <td>0.094972</td>\n",
              "      <td>0.066667</td>\n",
              "      <td>0.188082</td>\n",
              "      <td>0.128797</td>\n",
              "    </tr>\n",
              "    <tr>\n",
              "      <th>8</th>\n",
              "      <td>0.979909</td>\n",
              "      <td>0.907821</td>\n",
              "      <td>0.018224</td>\n",
              "      <td>0.275861</td>\n",
              "      <td>0.979909</td>\n",
              "      <td>0.907821</td>\n",
              "      <td>0.980080</td>\n",
              "      <td>0.909091</td>\n",
              "      <td>0.998772</td>\n",
              "      <td>0.980083</td>\n",
              "      <td>0.100559</td>\n",
              "      <td>0.088889</td>\n",
              "      <td>0.055866</td>\n",
              "      <td>0.066667</td>\n",
              "      <td>0.178771</td>\n",
              "      <td>0.140741</td>\n",
              "    </tr>\n",
              "    <tr>\n",
              "      <th>9</th>\n",
              "      <td>0.994759</td>\n",
              "      <td>0.931564</td>\n",
              "      <td>0.005831</td>\n",
              "      <td>0.207583</td>\n",
              "      <td>0.994584</td>\n",
              "      <td>0.930866</td>\n",
              "      <td>0.994758</td>\n",
              "      <td>0.932168</td>\n",
              "      <td>0.999770</td>\n",
              "      <td>0.987697</td>\n",
              "      <td>0.217877</td>\n",
              "      <td>0.155556</td>\n",
              "      <td>0.094972</td>\n",
              "      <td>0.088889</td>\n",
              "      <td>0.234637</td>\n",
              "      <td>0.177778</td>\n",
              "    </tr>\n",
              "    <tr>\n",
              "      <th>10</th>\n",
              "      <td>0.989518</td>\n",
              "      <td>0.872905</td>\n",
              "      <td>0.009050</td>\n",
              "      <td>0.584698</td>\n",
              "      <td>0.989518</td>\n",
              "      <td>0.872905</td>\n",
              "      <td>0.989518</td>\n",
              "      <td>0.873515</td>\n",
              "      <td>0.999648</td>\n",
              "      <td>0.958115</td>\n",
              "      <td>0.212290</td>\n",
              "      <td>0.266667</td>\n",
              "      <td>0.134078</td>\n",
              "      <td>0.222222</td>\n",
              "      <td>0.257098</td>\n",
              "      <td>0.325926</td>\n",
              "    </tr>\n",
              "    <tr>\n",
              "      <th>11</th>\n",
              "      <td>0.993885</td>\n",
              "      <td>0.951816</td>\n",
              "      <td>0.006372</td>\n",
              "      <td>0.170285</td>\n",
              "      <td>0.993885</td>\n",
              "      <td>0.951816</td>\n",
              "      <td>0.993885</td>\n",
              "      <td>0.951816</td>\n",
              "      <td>0.999760</td>\n",
              "      <td>0.989269</td>\n",
              "      <td>0.262570</td>\n",
              "      <td>0.088889</td>\n",
              "      <td>0.128492</td>\n",
              "      <td>0.155556</td>\n",
              "      <td>0.279330</td>\n",
              "      <td>0.251852</td>\n",
              "    </tr>\n",
              "    <tr>\n",
              "      <th>12</th>\n",
              "      <td>0.989518</td>\n",
              "      <td>0.923184</td>\n",
              "      <td>0.009883</td>\n",
              "      <td>0.308367</td>\n",
              "      <td>0.989518</td>\n",
              "      <td>0.923184</td>\n",
              "      <td>0.989691</td>\n",
              "      <td>0.923184</td>\n",
              "      <td>0.999426</td>\n",
              "      <td>0.978003</td>\n",
              "      <td>0.245810</td>\n",
              "      <td>0.200000</td>\n",
              "      <td>0.162011</td>\n",
              "      <td>0.155556</td>\n",
              "      <td>0.309962</td>\n",
              "      <td>0.312776</td>\n",
              "    </tr>\n",
              "    <tr>\n",
              "      <th>13</th>\n",
              "      <td>0.994410</td>\n",
              "      <td>0.946229</td>\n",
              "      <td>0.005886</td>\n",
              "      <td>0.171332</td>\n",
              "      <td>0.994410</td>\n",
              "      <td>0.946229</td>\n",
              "      <td>0.994583</td>\n",
              "      <td>0.946229</td>\n",
              "      <td>0.999896</td>\n",
              "      <td>0.990516</td>\n",
              "      <td>0.159218</td>\n",
              "      <td>0.066667</td>\n",
              "      <td>0.067039</td>\n",
              "      <td>0.155556</td>\n",
              "      <td>0.207122</td>\n",
              "      <td>0.229630</td>\n",
              "    </tr>\n",
              "    <tr>\n",
              "      <th>14</th>\n",
              "      <td>0.991614</td>\n",
              "      <td>0.945531</td>\n",
              "      <td>0.007273</td>\n",
              "      <td>0.203173</td>\n",
              "      <td>0.991265</td>\n",
              "      <td>0.945531</td>\n",
              "      <td>0.991958</td>\n",
              "      <td>0.946191</td>\n",
              "      <td>0.999853</td>\n",
              "      <td>0.988740</td>\n",
              "      <td>0.284916</td>\n",
              "      <td>0.200000</td>\n",
              "      <td>0.145251</td>\n",
              "      <td>0.066667</td>\n",
              "      <td>0.328165</td>\n",
              "      <td>0.219351</td>\n",
              "    </tr>\n",
              "    <tr>\n",
              "      <th>15</th>\n",
              "      <td>0.993536</td>\n",
              "      <td>0.931564</td>\n",
              "      <td>0.005943</td>\n",
              "      <td>0.330568</td>\n",
              "      <td>0.993536</td>\n",
              "      <td>0.931564</td>\n",
              "      <td>0.993536</td>\n",
              "      <td>0.931564</td>\n",
              "      <td>0.999692</td>\n",
              "      <td>0.981221</td>\n",
              "      <td>0.351955</td>\n",
              "      <td>0.600000</td>\n",
              "      <td>0.162011</td>\n",
              "      <td>0.244444</td>\n",
              "      <td>0.337476</td>\n",
              "      <td>0.466667</td>\n",
              "    </tr>\n",
              "    <tr>\n",
              "      <th>16</th>\n",
              "      <td>0.995283</td>\n",
              "      <td>0.809358</td>\n",
              "      <td>0.004367</td>\n",
              "      <td>0.667497</td>\n",
              "      <td>0.995283</td>\n",
              "      <td>0.808659</td>\n",
              "      <td>0.995283</td>\n",
              "      <td>0.810924</td>\n",
              "      <td>0.999951</td>\n",
              "      <td>0.938174</td>\n",
              "      <td>0.357542</td>\n",
              "      <td>0.111111</td>\n",
              "      <td>0.167598</td>\n",
              "      <td>0.066667</td>\n",
              "      <td>0.325581</td>\n",
              "      <td>0.133333</td>\n",
              "    </tr>\n",
              "    <tr>\n",
              "      <th>17</th>\n",
              "      <td>0.992138</td>\n",
              "      <td>0.919693</td>\n",
              "      <td>0.007313</td>\n",
              "      <td>0.311539</td>\n",
              "      <td>0.992138</td>\n",
              "      <td>0.918994</td>\n",
              "      <td>0.992312</td>\n",
              "      <td>0.919637</td>\n",
              "      <td>0.999727</td>\n",
              "      <td>0.978857</td>\n",
              "      <td>0.206704</td>\n",
              "      <td>0.222222</td>\n",
              "      <td>0.139665</td>\n",
              "      <td>0.088889</td>\n",
              "      <td>0.260823</td>\n",
              "      <td>0.229630</td>\n",
              "    </tr>\n",
              "    <tr>\n",
              "      <th>18</th>\n",
              "      <td>0.996506</td>\n",
              "      <td>0.916201</td>\n",
              "      <td>0.003755</td>\n",
              "      <td>0.329440</td>\n",
              "      <td>0.996506</td>\n",
              "      <td>0.916201</td>\n",
              "      <td>0.996506</td>\n",
              "      <td>0.916201</td>\n",
              "      <td>0.999834</td>\n",
              "      <td>0.978266</td>\n",
              "      <td>0.374302</td>\n",
              "      <td>0.177778</td>\n",
              "      <td>0.156425</td>\n",
              "      <td>0.111111</td>\n",
              "      <td>0.359101</td>\n",
              "      <td>0.275739</td>\n",
              "    </tr>\n",
              "  </tbody>\n",
              "</table>\n",
              "</div>\n",
              "      <button class=\"colab-df-convert\" onclick=\"convertToInteractive('df-9d92b6aa-0807-41b5-8af2-99542249951d')\"\n",
              "              title=\"Convert this dataframe to an interactive table.\"\n",
              "              style=\"display:none;\">\n",
              "        \n",
              "  <svg xmlns=\"http://www.w3.org/2000/svg\" height=\"24px\"viewBox=\"0 0 24 24\"\n",
              "       width=\"24px\">\n",
              "    <path d=\"M0 0h24v24H0V0z\" fill=\"none\"/>\n",
              "    <path d=\"M18.56 5.44l.94 2.06.94-2.06 2.06-.94-2.06-.94-.94-2.06-.94 2.06-2.06.94zm-11 1L8.5 8.5l.94-2.06 2.06-.94-2.06-.94L8.5 2.5l-.94 2.06-2.06.94zm10 10l.94 2.06.94-2.06 2.06-.94-2.06-.94-.94-2.06-.94 2.06-2.06.94z\"/><path d=\"M17.41 7.96l-1.37-1.37c-.4-.4-.92-.59-1.43-.59-.52 0-1.04.2-1.43.59L10.3 9.45l-7.72 7.72c-.78.78-.78 2.05 0 2.83L4 21.41c.39.39.9.59 1.41.59.51 0 1.02-.2 1.41-.59l7.78-7.78 2.81-2.81c.8-.78.8-2.07 0-2.86zM5.41 20L4 18.59l7.72-7.72 1.47 1.35L5.41 20z\"/>\n",
              "  </svg>\n",
              "      </button>\n",
              "      \n",
              "  <style>\n",
              "    .colab-df-container {\n",
              "      display:flex;\n",
              "      flex-wrap:wrap;\n",
              "      gap: 12px;\n",
              "    }\n",
              "\n",
              "    .colab-df-convert {\n",
              "      background-color: #E8F0FE;\n",
              "      border: none;\n",
              "      border-radius: 50%;\n",
              "      cursor: pointer;\n",
              "      display: none;\n",
              "      fill: #1967D2;\n",
              "      height: 32px;\n",
              "      padding: 0 0 0 0;\n",
              "      width: 32px;\n",
              "    }\n",
              "\n",
              "    .colab-df-convert:hover {\n",
              "      background-color: #E2EBFA;\n",
              "      box-shadow: 0px 1px 2px rgba(60, 64, 67, 0.3), 0px 1px 3px 1px rgba(60, 64, 67, 0.15);\n",
              "      fill: #174EA6;\n",
              "    }\n",
              "\n",
              "    [theme=dark] .colab-df-convert {\n",
              "      background-color: #3B4455;\n",
              "      fill: #D2E3FC;\n",
              "    }\n",
              "\n",
              "    [theme=dark] .colab-df-convert:hover {\n",
              "      background-color: #434B5C;\n",
              "      box-shadow: 0px 1px 3px 1px rgba(0, 0, 0, 0.15);\n",
              "      filter: drop-shadow(0px 1px 2px rgba(0, 0, 0, 0.3));\n",
              "      fill: #FFFFFF;\n",
              "    }\n",
              "  </style>\n",
              "\n",
              "      <script>\n",
              "        const buttonEl =\n",
              "          document.querySelector('#df-9d92b6aa-0807-41b5-8af2-99542249951d button.colab-df-convert');\n",
              "        buttonEl.style.display =\n",
              "          google.colab.kernel.accessAllowed ? 'block' : 'none';\n",
              "\n",
              "        async function convertToInteractive(key) {\n",
              "          const element = document.querySelector('#df-9d92b6aa-0807-41b5-8af2-99542249951d');\n",
              "          const dataTable =\n",
              "            await google.colab.kernel.invokeFunction('convertToInteractive',\n",
              "                                                     [key], {});\n",
              "          if (!dataTable) return;\n",
              "\n",
              "          const docLinkHtml = 'Like what you see? Visit the ' +\n",
              "            '<a target=\"_blank\" href=https://colab.research.google.com/notebooks/data_table.ipynb>data table notebook</a>'\n",
              "            + ' to learn more about interactive tables.';\n",
              "          element.innerHTML = '';\n",
              "          dataTable['output_type'] = 'display_data';\n",
              "          await google.colab.output.renderOutput(dataTable, element);\n",
              "          const docLink = document.createElement('div');\n",
              "          docLink.innerHTML = docLinkHtml;\n",
              "          element.appendChild(docLink);\n",
              "        }\n",
              "      </script>\n",
              "    </div>\n",
              "  </div>\n",
              "  "
            ],
            "text/plain": [
              "    Accuracy  Validation Accuracy  ...       MCC  Validation MCC\n",
              "0   0.868798             0.596369  ...  0.176909       -0.002039\n",
              "1   0.945493             0.740922  ...  0.173184        0.148148\n",
              "2   0.957372             0.780028  ...  0.188082        0.129630\n",
              "3   0.961216             0.906425  ...  0.171322        0.222222\n",
              "4   0.980433             0.926676  ...  0.152700        0.118519\n",
              "5   0.982879             0.837989  ...  0.193669        0.185185\n",
              "6   0.986723             0.838687  ...  0.207122        0.130462\n",
              "7   0.984801             0.870112  ...  0.188082        0.128797\n",
              "8   0.979909             0.907821  ...  0.178771        0.140741\n",
              "9   0.994759             0.931564  ...  0.234637        0.177778\n",
              "10  0.989518             0.872905  ...  0.257098        0.325926\n",
              "11  0.993885             0.951816  ...  0.279330        0.251852\n",
              "12  0.989518             0.923184  ...  0.309962        0.312776\n",
              "13  0.994410             0.946229  ...  0.207122        0.229630\n",
              "14  0.991614             0.945531  ...  0.328165        0.219351\n",
              "15  0.993536             0.931564  ...  0.337476        0.466667\n",
              "16  0.995283             0.809358  ...  0.325581        0.133333\n",
              "17  0.992138             0.919693  ...  0.260823        0.229630\n",
              "18  0.996506             0.916201  ...  0.359101        0.275739\n",
              "\n",
              "[19 rows x 16 columns]"
            ]
          },
          "execution_count": 55,
          "metadata": {},
          "output_type": "execute_result"
        }
      ],
      "source": [
        "df"
      ]
    },
    {
      "cell_type": "code",
      "execution_count": null,
      "metadata": {
        "colab": {
          "base_uri": "https://localhost:8080/",
          "height": 934
        },
        "id": "FpEwvkT5-HvL",
        "outputId": "3b74f0b9-4ef1-4901-b9f9-5c4b5c61b2d7"
      },
      "outputs": [
        {
          "data": {
            "image/png": "[encoded data removed]",
            "text/plain": [
              "<Figure size 1440x1152 with 8 Axes>"
            ]
          },
          "metadata": {},
          "output_type": "display_data"
        }
      ],
      "source": [
        "history_visualization(df)"
      ]
    },
    {
      "cell_type": "markdown",
      "metadata": {
        "id": "27BJYbof-HvL"
      },
      "source": [
        "##Prediction"
      ]
    },
    {
      "cell_type": "code",
      "execution_count": null,
      "metadata": {
        "id": "KPCgq7Nx-HvL"
      },
      "outputs": [],
      "source": [
        "model.load_weights(\"/content/model/my_best_model.epoch18-loss0.11.hdf5\")"
      ]
    },
    {
      "cell_type": "code",
      "execution_count": null,
      "metadata": {
        "colab": {
          "base_uri": "https://localhost:8080/"
        },
        "id": "pOLS4e8y-HvM",
        "outputId": "9ab3b304-3193-4f8c-a866-3c3f8551cb70"
      },
      "outputs": [
        {
          "name": "stdout",
          "output_type": "stream",
          "text": [
            "Found 3254 images belonging to 4 classes.\n"
          ]
        }
      ],
      "source": [
        "test_generator = ImageDataGenerator(rescale=1./255)\n",
        "test_dataset = test_generator.flow_from_directory(directory=\"/content/drive/MyDrive/Special_Issue_COVID_Journal/original_dataset/test\", target_size=(HEIGHT, WIDTH), color_mode=\"rgb\", class_mode=\"categorical\", shuffle=False)"
      ]
    },
    {
      "cell_type": "code",
      "execution_count": null,
      "metadata": {
        "colab": {
          "base_uri": "https://localhost:8080/"
        },
        "id": "-EG_1_nc-HvM",
        "outputId": "f6af83b4-a75a-4d95-8ba8-1643065e34d1"
      },
      "outputs": [
        {
          "data": {
            "text/plain": [
              "{'COVID': 0, 'Lung opacity': 1, 'Normal': 2, 'Viral Pneumonia': 3}"
            ]
          },
          "execution_count": 35,
          "metadata": {},
          "output_type": "execute_result"
        }
      ],
      "source": [
        "test_dataset.class_indices"
      ]
    },
    {
      "cell_type": "code",
      "execution_count": null,
      "metadata": {
        "colab": {
          "base_uri": "https://localhost:8080/"
        },
        "id": "Lhru63Ky-HvM",
        "outputId": "edccddb0-4336-42d2-dae0-4e1b7d3ec5df"
      },
      "outputs": [
        {
          "data": {
            "text/plain": [
              "{'COVID': 0, 'Lung opacity': 1, 'Normal': 2, 'Viral Pneumonia': 3}"
            ]
          },
          "execution_count": 36,
          "metadata": {},
          "output_type": "execute_result"
        }
      ],
      "source": [
        "train_dataset.class_indices"
      ]
    },
    {
      "cell_type": "code",
      "execution_count": null,
      "metadata": {
        "id": "SgVbGhek-HvN"
      },
      "outputs": [],
      "source": [
        "predictions = model.predict(test_set)"
      ]
    },
    {
      "cell_type": "code",
      "execution_count": null,
      "metadata": {
        "id": "NlTccKxT-HvN"
      },
      "outputs": [],
      "source": [
        "predictions_index = lb.inverse_transform(predictions)"
      ]
    },
    {
      "cell_type": "code",
      "execution_count": null,
      "metadata": {
        "colab": {
          "base_uri": "https://localhost:8080/"
        },
        "id": "TAe2TyYA-HvN",
        "outputId": "7d2983ea-0f60-462a-95ae-8c1076f40624"
      },
      "outputs": [
        {
          "name": "stdout",
          "output_type": "stream",
          "text": [
            "                 precision    recall  f1-score   support\n",
            "\n",
            "          COVID       0.95      0.85      0.90       702\n",
            "         Normal       0.93      0.97      0.95      1276\n",
            "Viral Pneumonia       0.96      0.99      0.97       259\n",
            "\n",
            "       accuracy                           0.94      2237\n",
            "      macro avg       0.95      0.94      0.94      2237\n",
            "   weighted avg       0.94      0.94      0.94      2237\n",
            "\n"
          ]
        }
      ],
      "source": [
        "predictions_index = lb.inverse_transform(predictions)\n",
        "print(classification_report(predictions_index, lb.inverse_transform(test_set.y)))"
      ]
    },
    {
      "cell_type": "code",
      "execution_count": null,
      "metadata": {
        "colab": {
          "base_uri": "https://localhost:8080/",
          "height": 708
        },
        "id": "taVwfPSk-HvO",
        "outputId": "35742563-f29d-4f01-cd36-507e4ad31eb7"
      },
      "outputs": [
        {
          "data": {
            "image/png": "[encoded data removed]",
            "text/plain": [
              "<Figure size 1080x864 with 2 Axes>"
            ]
          },
          "metadata": {},
          "output_type": "display_data"
        }
      ],
      "source": [
        "plt.figure(figsize=(15, 12))\n",
        "cm = confusion_matrix(predictions_index, lb.inverse_transform(test_set.y))\n",
        "df_cm = pd.DataFrame(cm, index = [i for i in lb.classes_],\n",
        "                  columns = [i for i in lb.classes_])\n",
        "sns.set(font_scale=1.4)\n",
        "sns.heatmap(df_cm, annot=True, annot_kws={\"size\": 16}, fmt='g') \n",
        "plt.show()"
      ]
    },
    {
      "cell_type": "code",
      "execution_count": null,
      "metadata": {
        "colab": {
          "base_uri": "https://localhost:8080/"
        },
        "id": "nEmxel__FM9X",
        "outputId": "1181314f-1d06-4a3a-dc05-88afebc36ab8"
      },
      "outputs": [
        {
          "name": "stdout",
          "output_type": "stream",
          "text": [
            "0.9553867596852216\n"
          ]
        }
      ],
      "source": [
        "from sklearn.preprocessing import LabelBinarizer\n",
        "from sklearn.metrics import auc, roc_curve, roc_auc_score\n",
        "bin = LabelBinarizer()\n",
        "x_test = bin.fit_transform(lb.inverse_transform(test_set.y))\n",
        "pred = bin.transform(predictions_index)\n",
        "print(roc_auc_score(x_test, pred))"
      ]
    },
    {
      "cell_type": "code",
      "execution_count": null,
      "metadata": {
        "colab": {
          "base_uri": "https://localhost:8080/"
        },
        "id": "Y5oAL1CiFfS5",
        "outputId": "0bb9ffd4-1e61-4779-b4fd-1cd6b95f6338"
      },
      "outputs": [
        {
          "name": "stdout",
          "output_type": "stream",
          "text": [
            "INFO:tensorflow:Assets written to: /content/custom/assets\n"
          ]
        },
        {
          "name": "stderr",
          "output_type": "stream",
          "text": [
            "/usr/local/lib/python3.7/dist-packages/keras/saving/saved_model/layer_serialization.py:112: CustomMaskWarning: Custom mask layers require a config and must override get_config. When loading, the custom mask layer must be passed to the custom_objects argument.\n",
            "  return generic_utils.serialize_keras_object(obj)\n"
          ]
        }
      ],
      "source": [
        "tf.keras.models.save_model(model, \"/content/custom\")"
      ]
    },
    {
      "cell_type": "code",
      "execution_count": null,
      "metadata": {
        "colab": {
          "base_uri": "https://localhost:8080/"
        },
        "id": "n1I8nvqYFfWq",
        "outputId": "705b8345-66ef-4fb0-ce7a-e070129939fb"
      },
      "outputs": [
        {
          "name": "stdout",
          "output_type": "stream",
          "text": [
            "  adding: content/custom/ (stored 0%)\n",
            "  adding: content/custom/saved_model.pb (deflated 92%)\n",
            "  adding: content/custom/variables/ (stored 0%)\n",
            "  adding: content/custom/variables/variables.data-00000-of-00001 (deflated 8%)\n",
            "  adding: content/custom/variables/variables.index (deflated 78%)\n",
            "  adding: content/custom/assets/ (stored 0%)\n",
            "  adding: content/custom/keras_metadata.pb (deflated 94%)\n"
          ]
        }
      ],
      "source": [
        "!zip -r /content/6.zip /content/custom"
      ]
    }
  ],
  "metadata": {
    "accelerator": "GPU",
    "colab": {
      "collapsed_sections": [
        "3CzQfhzaAqDL",
        "TAlZ6dPHHTvf",
        "D4nLRwZMHe6T",
        "bDfub9JSuf4Z"
      ],
      "machine_shape": "hm",
      "name": "3 classes experiment.ipynb",
      "provenance": [],
      "toc_visible": true
    },
    "kernelspec": {
      "display_name": "Python 3",
      "language": "python",
      "name": "python3"
    },
    "language_info": {
      "codemirror_mode": {
        "name": "ipython",
        "version": 3
      },
      "file_extension": ".py",
      "mimetype": "text/x-python",
      "name": "python",
      "nbconvert_exporter": "python",
      "pygments_lexer": "ipython3",
      "version": "3.8.5"
    }
  },
  "nbformat": 4,
  "nbformat_minor": 0
}
