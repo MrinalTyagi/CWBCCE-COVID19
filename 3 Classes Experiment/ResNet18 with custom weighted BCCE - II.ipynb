{
  "cells": [
    {
      "cell_type": "markdown",
      "metadata": {
        "id": "3CzQfhzaAqDL"
      },
      "source": [
        "#Importing libraries and dataset"
      ]
    },
    {
      "cell_type": "code",
      "execution_count": null,
      "metadata": {
        "colab": {
          "base_uri": "https://localhost:8080/"
        },
        "id": "OWo9uWe0FHq9",
        "outputId": "1f266e1e-aada-4af8-f5d4-225b972954fb"
      },
      "outputs": [
        {
          "name": "stdout",
          "output_type": "stream",
          "text": [
            "Mounted at /content/drive\n"
          ]
        }
      ],
      "source": [
        "from google.colab import drive\n",
        "drive.mount('/content/drive')"
      ]
    },
    {
      "cell_type": "code",
      "execution_count": null,
      "metadata": {
        "id": "eIjVgo2MFUfX"
      },
      "outputs": [],
      "source": [
        "HEIGHT = 128\n",
        "WIDTH = 128\n",
        "CHANNELS = 3"
      ]
    },
    {
      "cell_type": "code",
      "execution_count": null,
      "metadata": {
        "id": "brQocH-3Abfy"
      },
      "outputs": [],
      "source": [
        "import numpy as np\n",
        "import pandas as pd\n",
        "import matplotlib.pyplot as plt\n",
        "import keras\n",
        "from keras.preprocessing.image import ImageDataGenerator\n",
        "import tensorflow as tf\n",
        "import os\n",
        "from matplotlib.pyplot import imread\n",
        "from sklearn.model_selection import train_test_split\n",
        "from sklearn.utils import class_weight\n",
        "from sklearn.preprocessing import LabelBinarizer, LabelEncoder\n",
        "import cv2\n",
        "from sklearn.metrics import confusion_matrix\n",
        "import seaborn as sns\n",
        "from sklearn.metrics import matthews_corrcoef\n",
        "from sklearn.metrics import classification_report\n",
        "from sklearn.metrics import plot_confusion_matrix\n",
        "import keras.backend as K\n",
        "import warnings\n",
        "from sklearn.utils import compute_class_weight\n",
        "import pywt"
      ]
    },
    {
      "cell_type": "code",
      "execution_count": null,
      "metadata": {
        "id": "_VBEcZZe6srz"
      },
      "outputs": [],
      "source": [
        "tf.random.set_seed(42)"
      ]
    },
    {
      "cell_type": "code",
      "execution_count": null,
      "metadata": {
        "id": "9rEIXZWpowEg"
      },
      "outputs": [],
      "source": [
        "images = []\n",
        "classes_labels = []\n",
        "for i in os.listdir(\"/content/drive/MyDrive/Special_Issue_COVID_Journal/original_dataset/train\"):\n",
        "  class_path = f\"/content/drive/MyDrive/Special_Issue_COVID_Journal/original_dataset/train/{i}\"\n",
        "  if(i == \"Lung opacity\"):\n",
        "    continue\n",
        "  for j in os.listdir(class_path):\n",
        "    file_path = f\"{class_path}/{j}\"\n",
        "    classes_labels.append(i)\n",
        "    images.append(cv2.resize(cv2.imread(file_path, 1), (HEIGHT, WIDTH)))"
      ]
    },
    {
      "cell_type": "code",
      "execution_count": null,
      "metadata": {
        "id": "cnrGY1KsnBAv"
      },
      "outputs": [],
      "source": [
        "test_images = []\n",
        "test_classes_labels = []\n",
        "for i in os.listdir(\"/content/drive/MyDrive/Special_Issue_COVID_Journal/original_dataset/test\"):\n",
        "  class_path = f\"/content/drive/MyDrive/Special_Issue_COVID_Journal/original_dataset/test/{i}\"\n",
        "  if(i == \"Lung opacity\"):\n",
        "    continue\n",
        "  for j in os.listdir(class_path):\n",
        "    file_path = f\"{class_path}/{j}\"\n",
        "    test_classes_labels.append(i)\n",
        "    test_images.append(cv2.resize(cv2.imread(file_path, 1), (HEIGHT, WIDTH)))"
      ]
    },
    {
      "cell_type": "code",
      "execution_count": null,
      "metadata": {
        "id": "LfIFkuEao6ZX"
      },
      "outputs": [],
      "source": [
        "train_images, validation_images, train_labels, validation_labels = train_test_split(images, classes_labels, test_size = 0.2, random_state = 42)"
      ]
    },
    {
      "cell_type": "code",
      "execution_count": null,
      "metadata": {
        "id": "vy3_CxVA56KO"
      },
      "outputs": [],
      "source": [
        "from sklearn.utils import class_weight\n",
        "class_weights = class_weight.compute_class_weight(class_weight = 'balanced', classes = np.unique(train_labels), y = train_labels)"
      ]
    },
    {
      "cell_type": "code",
      "execution_count": null,
      "metadata": {
        "colab": {
          "base_uri": "https://localhost:8080/"
        },
        "id": "SpuhkFKD6vi8",
        "outputId": "d2bddf38-5a02-43d6-d175-e2f3c7fa17f7"
      },
      "outputs": [
        {
          "data": {
            "text/plain": [
              "array([1.1889332 , 0.55529686, 2.79274005])"
            ]
          },
          "execution_count": 9,
          "metadata": {},
          "output_type": "execute_result"
        }
      ],
      "source": [
        "class_weights"
      ]
    },
    {
      "cell_type": "code",
      "execution_count": null,
      "metadata": {
        "id": "m6fPSrI7652Q"
      },
      "outputs": [],
      "source": [
        "weights = dict(zip([0, 1, 2], class_weights))"
      ]
    },
    {
      "cell_type": "code",
      "execution_count": null,
      "metadata": {
        "colab": {
          "base_uri": "https://localhost:8080/"
        },
        "id": "jSf2fytC7CFT",
        "outputId": "9d7efac8-4182-43f8-ac8e-1075fae78883"
      },
      "outputs": [
        {
          "data": {
            "text/plain": [
              "{0: 1.1889332003988036, 1: 0.5552968568102444, 2: 2.7927400468384076}"
            ]
          },
          "execution_count": 11,
          "metadata": {},
          "output_type": "execute_result"
        }
      ],
      "source": [
        "weights"
      ]
    },
    {
      "cell_type": "code",
      "execution_count": null,
      "metadata": {
        "id": "0648ffaDo1s_"
      },
      "outputs": [],
      "source": [
        "train_images = np.asarray(train_images)\n",
        "validation_images = np.asarray(validation_images)\n",
        "train_labels = np.asarray(train_labels)\n",
        "validation_labels = np.asarray(validation_labels)"
      ]
    },
    {
      "cell_type": "code",
      "execution_count": null,
      "metadata": {
        "id": "dxfi26iktHk9"
      },
      "outputs": [],
      "source": [
        "from sklearn.preprocessing import LabelBinarizer\n",
        "lb = LabelBinarizer()\n",
        "train_labels = lb.fit_transform(train_labels)\n",
        "validation_labels = lb.transform(validation_labels)"
      ]
    },
    {
      "cell_type": "code",
      "execution_count": null,
      "metadata": {
        "id": "igFjNsUQncH7"
      },
      "outputs": [],
      "source": [
        "test_classes_labels = lb.transform(test_classes_labels)"
      ]
    },
    {
      "cell_type": "code",
      "execution_count": null,
      "metadata": {
        "id": "5_trUuGhnrNF"
      },
      "outputs": [],
      "source": [
        "test_images = np.asarray(test_images)\n",
        "test_classes_labels = np.asarray(test_classes_labels)"
      ]
    },
    {
      "cell_type": "markdown",
      "metadata": {
        "id": "TAlZ6dPHHTvf"
      },
      "source": [
        "#Data Visualization"
      ]
    },
    {
      "cell_type": "code",
      "execution_count": null,
      "metadata": {
        "id": "5b9qRnE2HPZZ"
      },
      "outputs": [],
      "source": [
        "def data(history):\n",
        "  return pd.DataFrame(data=list(zip(history.history[\"accuracy\"], history.history[\"val_accuracy\"], history.history[\"loss\"], history.history[\"val_loss\"], history.history[\"recall\"], history.history[\"val_recall\"], history.history[\"precision\"], history.history[\"val_precision\"], history.history[\"auc\"], history.history[\"val_auc\"], history.history[\"specificity\"], history.history[\"val_specificity\"], history.history[\"sensitivity\"], history.history[\"val_sensitivity\"], history.history[\"mcc\"], history.history[\"val_mcc\"])) , columns=[\"Accuracy\", \"Validation Accuracy\", \"Loss\", \"Validation Loss\", \"Recall\", \"Validation Recall\", \"Precision\", \"Validation Precision\", \"AUC\", \"Validation AUC\", \"Specificity\", \"Validation Specificity\" ,\"Sensitivity\", \"Validation Sensitivity\", \"MCC\", \"Validation MCC\"])"
      ]
    },
    {
      "cell_type": "code",
      "execution_count": null,
      "metadata": {
        "id": "erCsAa2CHXXD"
      },
      "outputs": [],
      "source": [
        "def history_visualization(df):\n",
        "  sns.set_style('darkgrid')\n",
        "  nrow = 4\n",
        "  ncol = 2\n",
        "  df_columns = df.columns\n",
        "  df_list = [df[col] for col in df]\n",
        "  titles=[\"Accuracy Visualization\", \"Loss Visualization\", \"Recall Visualization\", \"Precision Visualization\", \"AUC Visualization\", \"Specificity Visualization\", \"Sensitivity Visualization\", \"MCC Visualization\"]\n",
        "  fig, axes = plt.subplots(nrow, ncol, figsize=(20, 16))\n",
        "  count = 0\n",
        "  i = 0\n",
        "  for r in range(nrow):\n",
        "    for c in range(ncol):\n",
        "        df_list[count].plot(ax=axes[r,c], x=\"Number of Epochs\", legend=\"brief\", label=df_columns[count], marker=\"o\").set_title(titles[i])\n",
        "        df_list[count+1].plot(ax=axes[r, c], x=\"Number of Epochs\", legend=\"brief\" ,label=df_columns[count+1], marker=\"o\").set_title(titles[i])\n",
        "        i+=1\n",
        "        count+=2"
      ]
    },
    {
      "cell_type": "code",
      "execution_count": null,
      "metadata": {
        "id": "Gzzt0AHYHZ3p"
      },
      "outputs": [],
      "source": [
        "early_stoping = keras.callbacks.EarlyStopping(monitor=\"val_loss\", patience=5, restore_best_weights=True)"
      ]
    },
    {
      "cell_type": "markdown",
      "metadata": {
        "id": "D4nLRwZMHe6T"
      },
      "source": [
        "#Custom Metrics using Tensorflow"
      ]
    },
    {
      "cell_type": "code",
      "execution_count": null,
      "metadata": {
        "id": "VsSrpQjeHdDi"
      },
      "outputs": [],
      "source": [
        "def true_positive(y_true, y_pred):\n",
        "  y_true = tf.argmax(y_true)\n",
        "  y_pred = tf.argmax(y_pred)\n",
        "  res = tf.math.confusion_matrix(y_true, y_pred, dtype=tf.float32)\n",
        "  return tf.reduce_sum(tf.linalg.diag_part(res), axis = 0)\n",
        "\n",
        "def false_positive(y_true, y_pred):\n",
        "  y_true = tf.argmax(y_true)\n",
        "  y_pred = tf.argmax(y_pred)\n",
        "  res = tf.math.confusion_matrix(y_true, y_pred, dtype=tf.float32)\n",
        "  return tf.reduce_sum(tf.reduce_sum(res, axis = 1) - tf.linalg.diag_part(res), axis = 0)\n",
        "\n",
        "def false_negative(y_true, y_pred):\n",
        "  y_true = tf.argmax(y_true)\n",
        "  y_pred = tf.argmax(y_pred)\n",
        "  res = tf.math.confusion_matrix(y_true, y_pred, dtype=tf.float32)\n",
        "  return tf.reduce_sum(tf.reduce_sum(res, axis = 1) - tf.linalg.diag_part(res), axis = 0)\n",
        "\n",
        "def true_negative(y_true, y_pred):\n",
        "  y_true_res = tf.argmax(y_true)\n",
        "  y_pred_res = tf.argmax(y_pred)\n",
        "  res = tf.math.confusion_matrix(y_true_res, y_pred_res, dtype=tf.float32)\n",
        "  return tf.reduce_sum(tf.reduce_sum(res, axis = 1), axis=0) - (false_negative(y_true, y_pred) + false_positive(y_true, y_pred) + true_positive(y_true, y_pred))"
      ]
    },
    {
      "cell_type": "code",
      "execution_count": null,
      "metadata": {
        "id": "LOKtWzdJHnCa"
      },
      "outputs": [],
      "source": [
        "def sensitivity(y_true, y_pred):\n",
        "    y_actual = tf.argmax(y_true).numpy()\n",
        "    y_hat = tf.argmax(y_pred).numpy()\n",
        "    TP = 0\n",
        "    FP = 0\n",
        "    TN = 0\n",
        "    FN = 0\n",
        "    for i in range(len(y_hat)): \n",
        "        if y_actual[i]==y_hat[i]==1:\n",
        "           TP += 1\n",
        "        if y_hat[i]==1 and y_actual[i]!=y_hat[i]:\n",
        "           FP += 1\n",
        "        if y_actual[i]==y_hat[i]==0:\n",
        "           TN += 1\n",
        "        if y_hat[i]==0 and y_actual[i]!=y_hat[i]:\n",
        "           FN += 1\n",
        "    num = float(TP)\n",
        "    den = float(TP + FN + K.epsilon())\n",
        "    if den == 0.0:\n",
        "      return tf.constant(0.0, dtype=tf.float32)\n",
        "    return tf.constant(float(num/den), dtype=tf.float32)\n",
        "\n",
        "def specificity(y_true, y_pred):\n",
        "    y_actual = tf.argmax(y_true).numpy()\n",
        "    y_hat = tf.argmax(y_pred).numpy()\n",
        "    TP = 0\n",
        "    FP = 0\n",
        "    TN = 0\n",
        "    FN = 0\n",
        "    for i in range(len(y_hat)): \n",
        "        if y_actual[i]==y_hat[i]==1:\n",
        "           TP += 1\n",
        "        if y_hat[i]==1 and y_actual[i]!=y_hat[i]:\n",
        "           FP += 1\n",
        "        if y_actual[i]==y_hat[i]==0:\n",
        "           TN += 1\n",
        "        if y_hat[i]==0 and y_actual[i]!=y_hat[i]:\n",
        "           FN += 1\n",
        "    num = float(TN)\n",
        "    den = float(TN + FP + K.epsilon())\n",
        "    if den == 0.0:\n",
        "      return tf.constant(0.0, dtype=tf.float32)\n",
        "    return tf.constant(float(num/den), dtype=tf.float32)"
      ]
    },
    {
      "cell_type": "code",
      "execution_count": null,
      "metadata": {
        "id": "Yo4K5FsSHoka"
      },
      "outputs": [],
      "source": [
        "def mcc(y_true, y_pred):\n",
        "  y_true = tf.argmax(y_true).numpy()\n",
        "  y_pred = tf.argmax(y_pred).numpy()\n",
        "\n",
        "  return tf.constant(matthews_corrcoef(y_true, y_pred))"
      ]
    },
    {
      "cell_type": "code",
      "execution_count": null,
      "metadata": {
        "id": "ecC2g5uhnr10"
      },
      "outputs": [],
      "source": [
        "def f1_score(y_true, y_pred): \n",
        "  true_positives = K.sum(K.round(K.clip(y_true * y_pred, 0, 1)))\n",
        "  possible_positives = K.sum(K.round(K.clip(y_true, 0, 1)))\n",
        "  predicted_positives = K.sum(K.round(K.clip(y_pred, 0, 1)))\n",
        "  precision = true_positives / (predicted_positives + K.epsilon())\n",
        "  recall = true_positives / (possible_positives + K.epsilon())\n",
        "  f1_val = 2*(precision*recall)/(precision+recall+K.epsilon())\n",
        "  return f1_val"
      ]
    },
    {
      "cell_type": "code",
      "execution_count": null,
      "metadata": {
        "id": "CGHfyP7QXYbC"
      },
      "outputs": [],
      "source": [
        "class ThresholdCallback(keras.callbacks.Callback):\n",
        "  def __init__(self, threshold):\n",
        "    self.threshold = threshold\n",
        "  def on_epoch_end(self, epoch, logs={}):\n",
        "    if(logs.get(\"val_loss\") < self.threshold):\n",
        "      self.model.stop_training = True"
      ]
    },
    {
      "cell_type": "markdown",
      "metadata": {
        "id": "bDfub9JSuf4Z"
      },
      "source": [
        "#Image Generator"
      ]
    },
    {
      "cell_type": "code",
      "execution_count": null,
      "metadata": {
        "id": "e1Z1cRWE33gI"
      },
      "outputs": [],
      "source": [
        "import collections, numpy"
      ]
    },
    {
      "cell_type": "code",
      "execution_count": null,
      "metadata": {
        "id": "Hl5gOABpzxLh"
      },
      "outputs": [],
      "source": [
        "from collections import Counter"
      ]
    },
    {
      "cell_type": "code",
      "execution_count": null,
      "metadata": {
        "id": "lcdtEtJomKQF"
      },
      "outputs": [],
      "source": [
        "num_images = [3143, 5084, 6728, 1345]"
      ]
    },
    {
      "cell_type": "code",
      "execution_count": null,
      "metadata": {
        "colab": {
          "base_uri": "https://localhost:8080/"
        },
        "id": "Nsut_nfNmo_q",
        "outputId": "2c13db3f-03da-4e3c-9f09-31be8d368929"
      },
      "outputs": [
        {
          "data": {
            "text/plain": [
              "16300"
            ]
          },
          "execution_count": 27,
          "metadata": {},
          "output_type": "execute_result"
        }
      ],
      "source": [
        "sum(num_images)"
      ]
    },
    {
      "cell_type": "code",
      "execution_count": null,
      "metadata": {
        "id": "y2HThrUemXTz"
      },
      "outputs": [],
      "source": [
        "num_classes = len(num_images)-1"
      ]
    },
    {
      "cell_type": "code",
      "execution_count": null,
      "metadata": {
        "id": "mwp-gD0ImUlb"
      },
      "outputs": [],
      "source": [
        "beta_values = [(1 - (x / sum(num_images))) / num_classes for x in num_images]"
      ]
    },
    {
      "cell_type": "code",
      "execution_count": null,
      "metadata": {
        "id": "iXfTV3R6mfA5"
      },
      "outputs": [],
      "source": [
        "beta = dict(zip([0, 1, 2, 3], beta_values))"
      ]
    },
    {
      "cell_type": "code",
      "execution_count": null,
      "metadata": {
        "id": "yVJiACiRshUK"
      },
      "outputs": [],
      "source": [
        "image_generator = ImageDataGenerator(validation_split = 0.2, rescale=1./255)"
      ]
    },
    {
      "cell_type": "code",
      "execution_count": null,
      "metadata": {
        "id": "kmMF7RkQsruT"
      },
      "outputs": [],
      "source": [
        "train_dataset = image_generator.flow(train_images, train_labels, shuffle=True, subset=\"training\", seed=42)"
      ]
    },
    {
      "cell_type": "code",
      "execution_count": null,
      "metadata": {
        "id": "7dhu9Tjqsrwi"
      },
      "outputs": [],
      "source": [
        "validation_dataset = image_generator.flow(validation_images, validation_labels, shuffle=True, subset=\"training\", seed=42)"
      ]
    },
    {
      "cell_type": "code",
      "execution_count": null,
      "metadata": {
        "id": "4C9o0r-pnK2B"
      },
      "outputs": [],
      "source": [
        "test_generator = ImageDataGenerator(rescale=1./255)\n",
        "test_set = test_generator.flow(test_images, test_classes_labels, shuffle=False, seed=42)"
      ]
    },
    {
      "cell_type": "code",
      "execution_count": null,
      "metadata": {
        "colab": {
          "base_uri": "https://localhost:8080/"
        },
        "id": "PvA0K2-Om_y1",
        "outputId": "9c5fe1d9-088a-4fff-b925-2e4e686a1080"
      },
      "outputs": [
        {
          "data": {
            "text/plain": [
              "{0: 0.26905930470347644,\n",
              " 1: 0.22936605316973413,\n",
              " 2: 0.19574642126789366,\n",
              " 3: 0.3058282208588957}"
            ]
          },
          "execution_count": 35,
          "metadata": {},
          "output_type": "execute_result"
        }
      ],
      "source": [
        "beta"
      ]
    },
    {
      "cell_type": "code",
      "execution_count": null,
      "metadata": {
        "id": "icI9P9BzDkOz"
      },
      "outputs": [],
      "source": [
        "model_checkpoint = keras.callbacks.ModelCheckpoint(filepath=\"/content/model/my_best_model.epoch{epoch:02d}-loss{val_loss:.2f}.hdf5\", monitor=\"val_loss\", save_weights_only=True)"
      ]
    },
    {
      "cell_type": "code",
      "execution_count": null,
      "metadata": {
        "id": "zXsBfN5WXT3-"
      },
      "outputs": [],
      "source": [
        "early_stopping = keras.callbacks.EarlyStopping(patience = 7, monitor = \"val_loss\", restore_best_weights = True, mode=\"min\")"
      ]
    },
    {
      "cell_type": "code",
      "execution_count": null,
      "metadata": {
        "id": "yZNG-n6GXUXj"
      },
      "outputs": [],
      "source": [
        "threshold = ThresholdCallback(0.2)"
      ]
    },
    {
      "cell_type": "code",
      "execution_count": null,
      "metadata": {
        "id": "mR49FYOrGBmk"
      },
      "outputs": [],
      "source": [
        "os.mkdir(\"/content/model\")"
      ]
    },
    {
      "cell_type": "markdown",
      "metadata": {
        "id": "27MK7hXqEGLd"
      },
      "source": [
        "#Base Resnet 18 Model"
      ]
    },
    {
      "cell_type": "code",
      "execution_count": null,
      "metadata": {
        "id": "DyAGOGKEEFrK"
      },
      "outputs": [],
      "source": [
        "from keras.callbacks import EarlyStopping\n",
        "from keras.layers import Dense, Conv2D,  MaxPool2D, Flatten, GlobalAveragePooling2D,  BatchNormalization, Layer, Add\n",
        "from keras.models import Sequential\n",
        "from keras.models import Model\n",
        "import tensorflow as tf\n",
        "\n",
        "\n",
        "class ResnetBlock(Model):\n",
        "    \"\"\"\n",
        "    A standard resnet block.\n",
        "    \"\"\"\n",
        "\n",
        "    def __init__(self, channels: int, down_sample=False):\n",
        "        \"\"\"\n",
        "        channels: same as number of convolution kernels\n",
        "        \"\"\"\n",
        "        super().__init__()\n",
        "\n",
        "        self.__channels = channels\n",
        "        self.__down_sample = down_sample\n",
        "        self.__strides = [2, 1] if down_sample else [1, 1]\n",
        "\n",
        "        KERNEL_SIZE = (3, 3)\n",
        "        # use He initialization, instead of Xavier (a.k.a 'glorot_uniform' in Keras), as suggested in [2]\n",
        "        INIT_SCHEME = tf.keras.initializers.GlorotUniform()\n",
        "\n",
        "        self.conv_1 = Conv2D(self.__channels, strides=self.__strides[0],\n",
        "                             kernel_size=KERNEL_SIZE, padding=\"same\", kernel_initializer=INIT_SCHEME)\n",
        "        self.bn_1 = BatchNormalization()\n",
        "        self.conv_2 = Conv2D(self.__channels, strides=self.__strides[1],\n",
        "                             kernel_size=KERNEL_SIZE, padding=\"same\", kernel_initializer=INIT_SCHEME)\n",
        "        self.bn_2 = BatchNormalization()\n",
        "        self.merge = Add()\n",
        "\n",
        "        if self.__down_sample:\n",
        "            # perform down sampling using stride of 2, according to [1].\n",
        "            self.res_conv = Conv2D(\n",
        "                self.__channels, strides=2, kernel_size=(1, 1), kernel_initializer=INIT_SCHEME, padding=\"same\")\n",
        "            self.res_bn = BatchNormalization()\n",
        "\n",
        "    def call(self, inputs):\n",
        "        res = inputs\n",
        "\n",
        "        x = self.conv_1(inputs)\n",
        "        x = self.bn_1(x)\n",
        "        x = tf.nn.relu(x)\n",
        "        x = self.conv_2(x)\n",
        "        x = self.bn_2(x)\n",
        "\n",
        "        if self.__down_sample:\n",
        "            res = self.res_conv(res)\n",
        "            res = self.res_bn(res)\n",
        "\n",
        "        # if not perform down sample, then add a shortcut directly\n",
        "        x = self.merge([x, res])\n",
        "        out = tf.nn.relu(x)\n",
        "        return out\n",
        "\n",
        "\n",
        "class ResNet18(Model):\n",
        "\n",
        "    def __init__(self, **kwargs):\n",
        "\n",
        "        super().__init__(**kwargs)\n",
        "        self.conv_1 = Conv2D(64, (7, 7), strides=2,\n",
        "                             padding=\"same\", kernel_initializer=tf.keras.initializers.GlorotUniform())\n",
        "        self.init_bn = BatchNormalization()\n",
        "        self.pool_2 = MaxPool2D(pool_size=(2, 2), strides=2, padding=\"same\")\n",
        "        self.res_1_1 = ResnetBlock(64)\n",
        "        self.res_1_2 = ResnetBlock(64)\n",
        "        self.res_2_1 = ResnetBlock(128, down_sample=True)\n",
        "        self.res_2_2 = ResnetBlock(128)\n",
        "        self.res_3_1 = ResnetBlock(256, down_sample=True)\n",
        "        self.res_3_2 = ResnetBlock(256)\n",
        "        self.res_4_1 = ResnetBlock(512, down_sample=True)\n",
        "        self.res_4_2 = ResnetBlock(512)\n",
        "        self.avg_pool = GlobalAveragePooling2D()\n",
        "\n",
        "    def call(self, inputs):\n",
        "        out = self.conv_1(inputs)\n",
        "        out = self.init_bn(out)\n",
        "        out = tf.nn.relu(out)\n",
        "        out = self.pool_2(out)\n",
        "        for res_block in [self.res_1_1, self.res_1_2, self.res_2_1, self.res_2_2, self.res_3_1, self.res_3_2, self.res_4_1, self.res_4_2]:\n",
        "            out = res_block(out)\n",
        "        out = self.avg_pool(out)\n",
        "        return out"
      ]
    },
    {
      "cell_type": "code",
      "execution_count": null,
      "metadata": {
        "id": "ZwaGJitfEK3B"
      },
      "outputs": [],
      "source": [
        "base_model = ResNet18()"
      ]
    },
    {
      "cell_type": "code",
      "execution_count": null,
      "metadata": {
        "id": "Jw3ZuU5IoEEP"
      },
      "outputs": [],
      "source": [
        "model = keras.models.Sequential([base_model, keras.layers.Flatten(), keras.layers.Dense(3, activation=\"softmax\")])"
      ]
    },
    {
      "cell_type": "code",
      "execution_count": null,
      "metadata": {
        "colab": {
          "base_uri": "https://localhost:8080/"
        },
        "id": "IwKNIMvkoN2p",
        "outputId": "1e8d9d81-455a-44ca-bce1-b0a7632fbc50"
      },
      "outputs": [
        {
          "name": "stdout",
          "output_type": "stream",
          "text": [
            "WARNING:tensorflow:AutoGraph could not transform <bound method ResnetBlock.call of <__main__.ResnetBlock object at 0x7f9b903b96d0>> and will run it as-is.\n",
            "Cause: mangled names are not yet supported\n",
            "To silence this warning, decorate the function with @tf.autograph.experimental.do_not_convert\n",
            "WARNING: AutoGraph could not transform <bound method ResnetBlock.call of <__main__.ResnetBlock object at 0x7f9b903b96d0>> and will run it as-is.\n",
            "Cause: mangled names are not yet supported\n",
            "To silence this warning, decorate the function with @tf.autograph.experimental.do_not_convert\n"
          ]
        }
      ],
      "source": [
        "model.build(input_shape = (None,HEIGHT, WIDTH, CHANNELS))"
      ]
    },
    {
      "cell_type": "code",
      "execution_count": null,
      "metadata": {
        "colab": {
          "base_uri": "https://localhost:8080/"
        },
        "id": "1Yyk-_CZE2gr",
        "outputId": "d2a75737-cd3b-49b6-969a-6198843ce210"
      },
      "outputs": [
        {
          "name": "stdout",
          "output_type": "stream",
          "text": [
            "Model: \"sequential\"\n",
            "_________________________________________________________________\n",
            " Layer (type)                Output Shape              Param #   \n",
            "=================================================================\n",
            " res_net18 (ResNet18)        (None, 512)               11190912  \n",
            "                                                                 \n",
            " flatten (Flatten)           (None, 512)               0         \n",
            "                                                                 \n",
            " dense (Dense)               (None, 3)                 1539      \n",
            "                                                                 \n",
            "=================================================================\n",
            "Total params: 11,192,451\n",
            "Trainable params: 11,182,851\n",
            "Non-trainable params: 9,600\n",
            "_________________________________________________________________\n"
          ]
        }
      ],
      "source": [
        "model.summary()"
      ]
    },
    {
      "cell_type": "code",
      "execution_count": null,
      "metadata": {
        "id": "XYAQkBChEXJd"
      },
      "outputs": [],
      "source": [
        "base_model_2 = keras.models.load_model(\"/content/drive/MyDrive/Special_Issue_COVID_Journal/base_model_epooch_4\", custom_objects={\"res_net18\" : ResNet18, \"specificity\" : specificity, \"sensitivity\" : sensitivity, \"mcc\" : mcc, \"f1_score\" : f1_score})"
      ]
    },
    {
      "cell_type": "code",
      "execution_count": null,
      "metadata": {
        "colab": {
          "base_uri": "https://localhost:8080/"
        },
        "id": "CkuH_Z34EiG7",
        "outputId": "8eb9627a-9c7e-4ccb-c1c9-42148dc3b45f"
      },
      "outputs": [
        {
          "name": "stdout",
          "output_type": "stream",
          "text": [
            "Model: \"sequential\"\n",
            "_________________________________________________________________\n",
            " Layer (type)                Output Shape              Param #   \n",
            "=================================================================\n",
            " res_net18 (ResNet18)        (None, 512)               11190912  \n",
            "                                                                 \n",
            " flatten (Flatten)           (None, 512)               0         \n",
            "                                                                 \n",
            " dense (Dense)               (None, 14)                7182      \n",
            "                                                                 \n",
            "=================================================================\n",
            "Total params: 11,198,094\n",
            "Trainable params: 11,188,494\n",
            "Non-trainable params: 9,600\n",
            "_________________________________________________________________\n"
          ]
        }
      ],
      "source": [
        "base_model_2.summary()"
      ]
    },
    {
      "cell_type": "code",
      "execution_count": null,
      "metadata": {
        "id": "HXkzAItLEdC9"
      },
      "outputs": [],
      "source": [
        "resnet_layer_2 = base_model_2.get_layer(\"res_net18\")"
      ]
    },
    {
      "cell_type": "code",
      "execution_count": null,
      "metadata": {
        "id": "DwDiUQ6UEsR0"
      },
      "outputs": [],
      "source": [
        "resnet_2_weights = resnet_layer_2.get_weights()"
      ]
    },
    {
      "cell_type": "code",
      "execution_count": null,
      "metadata": {
        "id": "xrs0x6ruEl9c"
      },
      "outputs": [],
      "source": [
        "resnet_layer_1 = model.get_layer(\"res_net18\")"
      ]
    },
    {
      "cell_type": "code",
      "execution_count": null,
      "metadata": {
        "id": "nRfAEHX3EwP8"
      },
      "outputs": [],
      "source": [
        "resnet_layer_1.set_weights(resnet_2_weights)"
      ]
    },
    {
      "cell_type": "markdown",
      "metadata": {
        "id": "ALmskOzVWy01"
      },
      "source": [
        "#ResNet18 with custom weights II"
      ]
    },
    {
      "cell_type": "code",
      "execution_count": null,
      "metadata": {
        "colab": {
          "base_uri": "https://localhost:8080/"
        },
        "id": "nmxQQjbLWy1H",
        "outputId": "02e7c264-89aa-4a9b-9151-f039920c36d0"
      },
      "outputs": [
        {
          "data": {
            "text/plain": [
              "array(['COVID', 'Normal', 'Viral Pneumonia'], dtype='<U15')"
            ]
          },
          "execution_count": 51,
          "metadata": {},
          "output_type": "execute_result"
        }
      ],
      "source": [
        "lb.classes_"
      ]
    },
    {
      "cell_type": "code",
      "execution_count": null,
      "metadata": {
        "id": "yhCXc7mHWy1I"
      },
      "outputs": [],
      "source": [
        "weights = {\n",
        "    0 : 0.3726,\n",
        "    1 : 0.2598,\n",
        "    2 : 0.3552\n",
        "}"
      ]
    },
    {
      "cell_type": "code",
      "execution_count": null,
      "metadata": {
        "colab": {
          "base_uri": "https://localhost:8080/"
        },
        "id": "ZzMYgkz0Wy1I",
        "outputId": "532a9c21-a6e9-4eed-8d6c-6da85aa915ed"
      },
      "outputs": [
        {
          "name": "stdout",
          "output_type": "stream",
          "text": [
            "Epoch 1/25\n",
            "179/179 [==============================] - 43s 173ms/step - loss: 0.0892 - accuracy: 0.8816 - precision: 0.8888 - recall: 0.8770 - auc: 0.9766 - specificity: 0.0782 - sensitivity: 0.0950 - mcc: 0.1853 - val_loss: 2.7375 - val_accuracy: 0.6027 - val_precision: 0.6052 - val_recall: 0.6006 - val_auc: 0.7580 - val_specificity: 0.0667 - val_sensitivity: 0.0444 - val_mcc: 0.1037\n",
            "Epoch 2/25\n",
            "179/179 [==============================] - 31s 173ms/step - loss: 0.0487 - accuracy: 0.9396 - precision: 0.9407 - recall: 0.9375 - auc: 0.9921 - specificity: 0.0670 - sensitivity: 0.0615 - mcc: 0.1564 - val_loss: 0.3465 - val_accuracy: 0.8645 - val_precision: 0.8669 - val_recall: 0.8638 - val_auc: 0.9720 - val_specificity: 0.0889 - val_sensitivity: 0.0889 - val_mcc: 0.2000\n",
            "Epoch 3/25\n",
            "179/179 [==============================] - 31s 172ms/step - loss: 0.0358 - accuracy: 0.9568 - precision: 0.9570 - recall: 0.9560 - auc: 0.9958 - specificity: 0.0782 - sensitivity: 0.0726 - mcc: 0.1937 - val_loss: 0.8962 - val_accuracy: 0.7556 - val_precision: 0.7554 - val_recall: 0.7549 - val_auc: 0.8943 - val_specificity: 0.0889 - val_sensitivity: 0.0444 - val_mcc: 0.1481\n",
            "Epoch 4/25\n",
            "179/179 [==============================] - 31s 173ms/step - loss: 0.0290 - accuracy: 0.9665 - precision: 0.9668 - recall: 0.9663 - auc: 0.9971 - specificity: 0.1117 - sensitivity: 0.1006 - mcc: 0.1885 - val_loss: 0.1449 - val_accuracy: 0.9511 - val_precision: 0.9524 - val_recall: 0.9504 - val_auc: 0.9935 - val_specificity: 0.0889 - val_sensitivity: 0.2000 - val_mcc: 0.2194\n",
            "Epoch 5/25\n",
            "179/179 [==============================] - 31s 172ms/step - loss: 0.0188 - accuracy: 0.9761 - precision: 0.9762 - recall: 0.9759 - auc: 0.9985 - specificity: 0.0950 - sensitivity: 0.0503 - mcc: 0.1750 - val_loss: 0.2339 - val_accuracy: 0.9183 - val_precision: 0.9195 - val_recall: 0.9169 - val_auc: 0.9851 - val_specificity: 0.0667 - val_sensitivity: 0.1111 - val_mcc: 0.1572\n",
            "Epoch 6/25\n",
            "179/179 [==============================] - 31s 171ms/step - loss: 0.0138 - accuracy: 0.9845 - precision: 0.9846 - recall: 0.9843 - auc: 0.9991 - specificity: 0.1229 - sensitivity: 0.0670 - mcc: 0.1974 - val_loss: 0.2724 - val_accuracy: 0.8939 - val_precision: 0.8960 - val_recall: 0.8904 - val_auc: 0.9795 - val_specificity: 0.1111 - val_sensitivity: 0.1111 - val_mcc: 0.2074\n",
            "Epoch 7/25\n",
            "179/179 [==============================] - 31s 175ms/step - loss: 0.0194 - accuracy: 0.9769 - precision: 0.9771 - recall: 0.9769 - auc: 0.9984 - specificity: 0.1341 - sensitivity: 0.0782 - mcc: 0.2164 - val_loss: 0.2391 - val_accuracy: 0.9183 - val_precision: 0.9182 - val_recall: 0.9176 - val_auc: 0.9852 - val_specificity: 0.0889 - val_sensitivity: 0.0000e+00 - val_mcc: 0.1630\n",
            "Epoch 8/25\n",
            "179/179 [==============================] - 31s 172ms/step - loss: 0.0146 - accuracy: 0.9817 - precision: 0.9817 - recall: 0.9817 - auc: 0.9989 - specificity: 0.0782 - sensitivity: 0.1061 - mcc: 0.1844 - val_loss: 0.3863 - val_accuracy: 0.8959 - val_precision: 0.8959 - val_recall: 0.8953 - val_auc: 0.9708 - val_specificity: 0.1778 - val_sensitivity: 0.1333 - val_mcc: 0.3140\n",
            "Epoch 9/25\n",
            "179/179 [==============================] - 31s 172ms/step - loss: 0.0077 - accuracy: 0.9918 - precision: 0.9918 - recall: 0.9913 - auc: 0.9997 - specificity: 0.0670 - sensitivity: 0.0894 - mcc: 0.1795 - val_loss: 1.2694 - val_accuracy: 0.7479 - val_precision: 0.7484 - val_recall: 0.7479 - val_auc: 0.8809 - val_specificity: 0.1778 - val_sensitivity: 0.1556 - val_mcc: 0.2519\n",
            "Epoch 10/25\n",
            "179/179 [==============================] - 31s 173ms/step - loss: 0.0074 - accuracy: 0.9900 - precision: 0.9902 - recall: 0.9900 - auc: 0.9997 - specificity: 0.2402 - sensitivity: 0.0894 - mcc: 0.2395 - val_loss: 0.2032 - val_accuracy: 0.9483 - val_precision: 0.9490 - val_recall: 0.9476 - val_auc: 0.9876 - val_specificity: 0.2444 - val_sensitivity: 0.1333 - val_mcc: 0.2547\n",
            "Epoch 11/25\n",
            "179/179 [==============================] - 31s 172ms/step - loss: 0.0134 - accuracy: 0.9843 - precision: 0.9843 - recall: 0.9843 - auc: 0.9987 - specificity: 0.1732 - sensitivity: 0.1229 - mcc: 0.2522 - val_loss: 0.1957 - val_accuracy: 0.9462 - val_precision: 0.9482 - val_recall: 0.9455 - val_auc: 0.9891 - val_specificity: 0.2222 - val_sensitivity: 0.1111 - val_mcc: 0.2630\n"
          ]
        }
      ],
      "source": [
        "model.compile(optimizer=\"adam\", loss=\"categorical_crossentropy\", metrics=[\"accuracy\", keras.metrics.Precision(), keras.metrics.Recall(), keras.metrics.AUC(), specificity, sensitivity, mcc], run_eagerly=True)\n",
        "history = model.fit(x=train_dataset, validation_data=validation_dataset, epochs=25, batch_size=32, callbacks=[early_stopping, model_checkpoint], class_weight=weights)"
      ]
    },
    {
      "cell_type": "code",
      "execution_count": null,
      "metadata": {
        "id": "7lZc50CxWy1J"
      },
      "outputs": [],
      "source": [
        "df = data(history)"
      ]
    },
    {
      "cell_type": "code",
      "execution_count": null,
      "metadata": {
        "colab": {
          "base_uri": "https://localhost:8080/",
          "height": 394
        },
        "id": "tTKhwGC2Wy1J",
        "outputId": "4c68048c-a464-4c41-aa65-1762afc452ef"
      },
      "outputs": [
        {
          "data": {
            "text/html": [
              "\n",
              "  <div id=\"df-7266228d-de81-442b-a888-32e9fb1fbcec\">\n",
              "    <div class=\"colab-df-container\">\n",
              "      <div>\n",
              "<style scoped>\n",
              "    .dataframe tbody tr th:only-of-type {\n",
              "        vertical-align: middle;\n",
              "    }\n",
              "\n",
              "    .dataframe tbody tr th {\n",
              "        vertical-align: top;\n",
              "    }\n",
              "\n",
              "    .dataframe thead th {\n",
              "        text-align: right;\n",
              "    }\n",
              "</style>\n",
              "<table border=\"1\" class=\"dataframe\">\n",
              "  <thead>\n",
              "    <tr style=\"text-align: right;\">\n",
              "      <th></th>\n",
              "      <th>Accuracy</th>\n",
              "      <th>Validation Accuracy</th>\n",
              "      <th>Loss</th>\n",
              "      <th>Validation Loss</th>\n",
              "      <th>Recall</th>\n",
              "      <th>Validation Recall</th>\n",
              "      <th>Precision</th>\n",
              "      <th>Validation Precision</th>\n",
              "      <th>AUC</th>\n",
              "      <th>Validation AUC</th>\n",
              "      <th>Specificity</th>\n",
              "      <th>Validation Specificity</th>\n",
              "      <th>Sensitivity</th>\n",
              "      <th>Validation Sensitivity</th>\n",
              "      <th>MCC</th>\n",
              "      <th>Validation MCC</th>\n",
              "    </tr>\n",
              "  </thead>\n",
              "  <tbody>\n",
              "    <tr>\n",
              "      <th>0</th>\n",
              "      <td>0.881551</td>\n",
              "      <td>0.602654</td>\n",
              "      <td>0.089185</td>\n",
              "      <td>2.737531</td>\n",
              "      <td>0.877009</td>\n",
              "      <td>0.600559</td>\n",
              "      <td>0.888810</td>\n",
              "      <td>0.605208</td>\n",
              "      <td>0.976583</td>\n",
              "      <td>0.757964</td>\n",
              "      <td>0.078212</td>\n",
              "      <td>0.066667</td>\n",
              "      <td>0.094972</td>\n",
              "      <td>0.044444</td>\n",
              "      <td>0.185289</td>\n",
              "      <td>0.103704</td>\n",
              "    </tr>\n",
              "    <tr>\n",
              "      <th>1</th>\n",
              "      <td>0.939553</td>\n",
              "      <td>0.864525</td>\n",
              "      <td>0.048673</td>\n",
              "      <td>0.346534</td>\n",
              "      <td>0.937456</td>\n",
              "      <td>0.863827</td>\n",
              "      <td>0.940743</td>\n",
              "      <td>0.866854</td>\n",
              "      <td>0.992117</td>\n",
              "      <td>0.971995</td>\n",
              "      <td>0.067039</td>\n",
              "      <td>0.088889</td>\n",
              "      <td>0.061453</td>\n",
              "      <td>0.088889</td>\n",
              "      <td>0.156425</td>\n",
              "      <td>0.200000</td>\n",
              "    </tr>\n",
              "    <tr>\n",
              "      <th>2</th>\n",
              "      <td>0.956848</td>\n",
              "      <td>0.755587</td>\n",
              "      <td>0.035822</td>\n",
              "      <td>0.896217</td>\n",
              "      <td>0.955975</td>\n",
              "      <td>0.754888</td>\n",
              "      <td>0.956978</td>\n",
              "      <td>0.755416</td>\n",
              "      <td>0.995844</td>\n",
              "      <td>0.894263</td>\n",
              "      <td>0.078212</td>\n",
              "      <td>0.088889</td>\n",
              "      <td>0.072626</td>\n",
              "      <td>0.044444</td>\n",
              "      <td>0.193669</td>\n",
              "      <td>0.148148</td>\n",
              "    </tr>\n",
              "    <tr>\n",
              "      <th>3</th>\n",
              "      <td>0.966457</td>\n",
              "      <td>0.951117</td>\n",
              "      <td>0.029036</td>\n",
              "      <td>0.144936</td>\n",
              "      <td>0.966282</td>\n",
              "      <td>0.950419</td>\n",
              "      <td>0.966789</td>\n",
              "      <td>0.952414</td>\n",
              "      <td>0.997070</td>\n",
              "      <td>0.993465</td>\n",
              "      <td>0.111732</td>\n",
              "      <td>0.088889</td>\n",
              "      <td>0.100559</td>\n",
              "      <td>0.200000</td>\n",
              "      <td>0.188501</td>\n",
              "      <td>0.219351</td>\n",
              "    </tr>\n",
              "    <tr>\n",
              "      <th>4</th>\n",
              "      <td>0.976066</td>\n",
              "      <td>0.918296</td>\n",
              "      <td>0.018798</td>\n",
              "      <td>0.233857</td>\n",
              "      <td>0.975891</td>\n",
              "      <td>0.916899</td>\n",
              "      <td>0.976232</td>\n",
              "      <td>0.919468</td>\n",
              "      <td>0.998453</td>\n",
              "      <td>0.985125</td>\n",
              "      <td>0.094972</td>\n",
              "      <td>0.066667</td>\n",
              "      <td>0.050279</td>\n",
              "      <td>0.111111</td>\n",
              "      <td>0.175047</td>\n",
              "      <td>0.157220</td>\n",
              "    </tr>\n",
              "    <tr>\n",
              "      <th>5</th>\n",
              "      <td>0.984451</td>\n",
              "      <td>0.893855</td>\n",
              "      <td>0.013802</td>\n",
              "      <td>0.272424</td>\n",
              "      <td>0.984277</td>\n",
              "      <td>0.890363</td>\n",
              "      <td>0.984621</td>\n",
              "      <td>0.895994</td>\n",
              "      <td>0.999069</td>\n",
              "      <td>0.979545</td>\n",
              "      <td>0.122905</td>\n",
              "      <td>0.111111</td>\n",
              "      <td>0.067039</td>\n",
              "      <td>0.111111</td>\n",
              "      <td>0.197393</td>\n",
              "      <td>0.207407</td>\n",
              "    </tr>\n",
              "    <tr>\n",
              "      <th>6</th>\n",
              "      <td>0.976939</td>\n",
              "      <td>0.918296</td>\n",
              "      <td>0.019417</td>\n",
              "      <td>0.239133</td>\n",
              "      <td>0.976939</td>\n",
              "      <td>0.917598</td>\n",
              "      <td>0.977110</td>\n",
              "      <td>0.918239</td>\n",
              "      <td>0.998402</td>\n",
              "      <td>0.985237</td>\n",
              "      <td>0.134078</td>\n",
              "      <td>0.088889</td>\n",
              "      <td>0.078212</td>\n",
              "      <td>0.000000</td>\n",
              "      <td>0.216433</td>\n",
              "      <td>0.162963</td>\n",
              "    </tr>\n",
              "    <tr>\n",
              "      <th>7</th>\n",
              "      <td>0.981656</td>\n",
              "      <td>0.895950</td>\n",
              "      <td>0.014585</td>\n",
              "      <td>0.386319</td>\n",
              "      <td>0.981656</td>\n",
              "      <td>0.895251</td>\n",
              "      <td>0.981656</td>\n",
              "      <td>0.895877</td>\n",
              "      <td>0.998906</td>\n",
              "      <td>0.970823</td>\n",
              "      <td>0.078212</td>\n",
              "      <td>0.177778</td>\n",
              "      <td>0.106145</td>\n",
              "      <td>0.133333</td>\n",
              "      <td>0.184358</td>\n",
              "      <td>0.313982</td>\n",
              "    </tr>\n",
              "    <tr>\n",
              "      <th>8</th>\n",
              "      <td>0.991789</td>\n",
              "      <td>0.747905</td>\n",
              "      <td>0.007693</td>\n",
              "      <td>1.269363</td>\n",
              "      <td>0.991265</td>\n",
              "      <td>0.747905</td>\n",
              "      <td>0.991785</td>\n",
              "      <td>0.748428</td>\n",
              "      <td>0.999687</td>\n",
              "      <td>0.880881</td>\n",
              "      <td>0.067039</td>\n",
              "      <td>0.177778</td>\n",
              "      <td>0.089385</td>\n",
              "      <td>0.155556</td>\n",
              "      <td>0.179493</td>\n",
              "      <td>0.251852</td>\n",
              "    </tr>\n",
              "    <tr>\n",
              "      <th>9</th>\n",
              "      <td>0.990042</td>\n",
              "      <td>0.948324</td>\n",
              "      <td>0.007390</td>\n",
              "      <td>0.203180</td>\n",
              "      <td>0.990042</td>\n",
              "      <td>0.947626</td>\n",
              "      <td>0.990215</td>\n",
              "      <td>0.948951</td>\n",
              "      <td>0.999705</td>\n",
              "      <td>0.987574</td>\n",
              "      <td>0.240223</td>\n",
              "      <td>0.244444</td>\n",
              "      <td>0.089385</td>\n",
              "      <td>0.133333</td>\n",
              "      <td>0.239502</td>\n",
              "      <td>0.254723</td>\n",
              "    </tr>\n",
              "    <tr>\n",
              "      <th>10</th>\n",
              "      <td>0.984277</td>\n",
              "      <td>0.946229</td>\n",
              "      <td>0.013438</td>\n",
              "      <td>0.195749</td>\n",
              "      <td>0.984277</td>\n",
              "      <td>0.945531</td>\n",
              "      <td>0.984277</td>\n",
              "      <td>0.948179</td>\n",
              "      <td>0.998722</td>\n",
              "      <td>0.989123</td>\n",
              "      <td>0.173184</td>\n",
              "      <td>0.222222</td>\n",
              "      <td>0.122905</td>\n",
              "      <td>0.111111</td>\n",
              "      <td>0.252234</td>\n",
              "      <td>0.262963</td>\n",
              "    </tr>\n",
              "  </tbody>\n",
              "</table>\n",
              "</div>\n",
              "      <button class=\"colab-df-convert\" onclick=\"convertToInteractive('df-7266228d-de81-442b-a888-32e9fb1fbcec')\"\n",
              "              title=\"Convert this dataframe to an interactive table.\"\n",
              "              style=\"display:none;\">\n",
              "        \n",
              "  <svg xmlns=\"http://www.w3.org/2000/svg\" height=\"24px\"viewBox=\"0 0 24 24\"\n",
              "       width=\"24px\">\n",
              "    <path d=\"M0 0h24v24H0V0z\" fill=\"none\"/>\n",
              "    <path d=\"M18.56 5.44l.94 2.06.94-2.06 2.06-.94-2.06-.94-.94-2.06-.94 2.06-2.06.94zm-11 1L8.5 8.5l.94-2.06 2.06-.94-2.06-.94L8.5 2.5l-.94 2.06-2.06.94zm10 10l.94 2.06.94-2.06 2.06-.94-2.06-.94-.94-2.06-.94 2.06-2.06.94z\"/><path d=\"M17.41 7.96l-1.37-1.37c-.4-.4-.92-.59-1.43-.59-.52 0-1.04.2-1.43.59L10.3 9.45l-7.72 7.72c-.78.78-.78 2.05 0 2.83L4 21.41c.39.39.9.59 1.41.59.51 0 1.02-.2 1.41-.59l7.78-7.78 2.81-2.81c.8-.78.8-2.07 0-2.86zM5.41 20L4 18.59l7.72-7.72 1.47 1.35L5.41 20z\"/>\n",
              "  </svg>\n",
              "      </button>\n",
              "      \n",
              "  <style>\n",
              "    .colab-df-container {\n",
              "      display:flex;\n",
              "      flex-wrap:wrap;\n",
              "      gap: 12px;\n",
              "    }\n",
              "\n",
              "    .colab-df-convert {\n",
              "      background-color: #E8F0FE;\n",
              "      border: none;\n",
              "      border-radius: 50%;\n",
              "      cursor: pointer;\n",
              "      display: none;\n",
              "      fill: #1967D2;\n",
              "      height: 32px;\n",
              "      padding: 0 0 0 0;\n",
              "      width: 32px;\n",
              "    }\n",
              "\n",
              "    .colab-df-convert:hover {\n",
              "      background-color: #E2EBFA;\n",
              "      box-shadow: 0px 1px 2px rgba(60, 64, 67, 0.3), 0px 1px 3px 1px rgba(60, 64, 67, 0.15);\n",
              "      fill: #174EA6;\n",
              "    }\n",
              "\n",
              "    [theme=dark] .colab-df-convert {\n",
              "      background-color: #3B4455;\n",
              "      fill: #D2E3FC;\n",
              "    }\n",
              "\n",
              "    [theme=dark] .colab-df-convert:hover {\n",
              "      background-color: #434B5C;\n",
              "      box-shadow: 0px 1px 3px 1px rgba(0, 0, 0, 0.15);\n",
              "      filter: drop-shadow(0px 1px 2px rgba(0, 0, 0, 0.3));\n",
              "      fill: #FFFFFF;\n",
              "    }\n",
              "  </style>\n",
              "\n",
              "      <script>\n",
              "        const buttonEl =\n",
              "          document.querySelector('#df-7266228d-de81-442b-a888-32e9fb1fbcec button.colab-df-convert');\n",
              "        buttonEl.style.display =\n",
              "          google.colab.kernel.accessAllowed ? 'block' : 'none';\n",
              "\n",
              "        async function convertToInteractive(key) {\n",
              "          const element = document.querySelector('#df-7266228d-de81-442b-a888-32e9fb1fbcec');\n",
              "          const dataTable =\n",
              "            await google.colab.kernel.invokeFunction('convertToInteractive',\n",
              "                                                     [key], {});\n",
              "          if (!dataTable) return;\n",
              "\n",
              "          const docLinkHtml = 'Like what you see? Visit the ' +\n",
              "            '<a target=\"_blank\" href=https://colab.research.google.com/notebooks/data_table.ipynb>data table notebook</a>'\n",
              "            + ' to learn more about interactive tables.';\n",
              "          element.innerHTML = '';\n",
              "          dataTable['output_type'] = 'display_data';\n",
              "          await google.colab.output.renderOutput(dataTable, element);\n",
              "          const docLink = document.createElement('div');\n",
              "          docLink.innerHTML = docLinkHtml;\n",
              "          element.appendChild(docLink);\n",
              "        }\n",
              "      </script>\n",
              "    </div>\n",
              "  </div>\n",
              "  "
            ],
            "text/plain": [
              "    Accuracy  Validation Accuracy  ...       MCC  Validation MCC\n",
              "0   0.881551             0.602654  ...  0.185289        0.103704\n",
              "1   0.939553             0.864525  ...  0.156425        0.200000\n",
              "2   0.956848             0.755587  ...  0.193669        0.148148\n",
              "3   0.966457             0.951117  ...  0.188501        0.219351\n",
              "4   0.976066             0.918296  ...  0.175047        0.157220\n",
              "5   0.984451             0.893855  ...  0.197393        0.207407\n",
              "6   0.976939             0.918296  ...  0.216433        0.162963\n",
              "7   0.981656             0.895950  ...  0.184358        0.313982\n",
              "8   0.991789             0.747905  ...  0.179493        0.251852\n",
              "9   0.990042             0.948324  ...  0.239502        0.254723\n",
              "10  0.984277             0.946229  ...  0.252234        0.262963\n",
              "\n",
              "[11 rows x 16 columns]"
            ]
          },
          "execution_count": 55,
          "metadata": {},
          "output_type": "execute_result"
        }
      ],
      "source": [
        "df"
      ]
    },
    {
      "cell_type": "code",
      "execution_count": null,
      "metadata": {
        "colab": {
          "base_uri": "https://localhost:8080/",
          "height": 934
        },
        "id": "oV_3Oe4QWy1J",
        "outputId": "3ce2118c-d7c6-41ec-a14e-1df16d8ef3b6"
      },
      "outputs": [
        {
          "data": {
            "image/png": "[encoded data removed]",
            "text/plain": [
              "<Figure size 1440x1152 with 8 Axes>"
            ]
          },
          "metadata": {},
          "output_type": "display_data"
        }
      ],
      "source": [
        "history_visualization(df)"
      ]
    },
    {
      "cell_type": "markdown",
      "metadata": {
        "id": "yMo-txU6Wy1K"
      },
      "source": [
        "##Prediction"
      ]
    },
    {
      "cell_type": "code",
      "execution_count": null,
      "metadata": {
        "id": "EJwn3aGlWy1K"
      },
      "outputs": [],
      "source": [
        "model.load_weights(\"/content/model/my_best_model.epoch06-loss0.32.hdf5\")"
      ]
    },
    {
      "cell_type": "code",
      "execution_count": null,
      "metadata": {
        "colab": {
          "base_uri": "https://localhost:8080/"
        },
        "id": "DkW0_b0LWy1K",
        "outputId": "9ab3b304-3193-4f8c-a866-3c3f8551cb70"
      },
      "outputs": [
        {
          "name": "stdout",
          "output_type": "stream",
          "text": [
            "Found 3254 images belonging to 4 classes.\n"
          ]
        }
      ],
      "source": [
        "test_generator = ImageDataGenerator(rescale=1./255)\n",
        "test_dataset = test_generator.flow_from_directory(directory=\"/content/drive/MyDrive/Special_Issue_COVID_Journal/original_dataset/test\", target_size=(HEIGHT, WIDTH), color_mode=\"rgb\", class_mode=\"categorical\", shuffle=False)"
      ]
    },
    {
      "cell_type": "code",
      "execution_count": null,
      "metadata": {
        "colab": {
          "base_uri": "https://localhost:8080/"
        },
        "id": "7bCkBg10Wy1L",
        "outputId": "f6af83b4-a75a-4d95-8ba8-1643065e34d1"
      },
      "outputs": [
        {
          "data": {
            "text/plain": [
              "{'COVID': 0, 'Lung opacity': 1, 'Normal': 2, 'Viral Pneumonia': 3}"
            ]
          },
          "execution_count": 35,
          "metadata": {},
          "output_type": "execute_result"
        }
      ],
      "source": [
        "test_dataset.class_indices"
      ]
    },
    {
      "cell_type": "code",
      "execution_count": null,
      "metadata": {
        "colab": {
          "base_uri": "https://localhost:8080/"
        },
        "id": "PHQo6AIUWy1L",
        "outputId": "edccddb0-4336-42d2-dae0-4e1b7d3ec5df"
      },
      "outputs": [
        {
          "data": {
            "text/plain": [
              "{'COVID': 0, 'Lung opacity': 1, 'Normal': 2, 'Viral Pneumonia': 3}"
            ]
          },
          "execution_count": 36,
          "metadata": {},
          "output_type": "execute_result"
        }
      ],
      "source": [
        "train_dataset.class_indices"
      ]
    },
    {
      "cell_type": "code",
      "execution_count": null,
      "metadata": {
        "id": "PZQjgXuJWy1M"
      },
      "outputs": [],
      "source": [
        "predictions = model.predict(test_set)"
      ]
    },
    {
      "cell_type": "code",
      "execution_count": null,
      "metadata": {
        "id": "Jrnf7PLmWy1M"
      },
      "outputs": [],
      "source": [
        "predictions_index = lb.inverse_transform(predictions)"
      ]
    },
    {
      "cell_type": "code",
      "execution_count": null,
      "metadata": {
        "colab": {
          "base_uri": "https://localhost:8080/"
        },
        "id": "iWblTY9XWy1N",
        "outputId": "926fa4b5-40f2-44f1-8c8c-e0eba24b02f0"
      },
      "outputs": [
        {
          "name": "stdout",
          "output_type": "stream",
          "text": [
            "                 precision    recall  f1-score   support\n",
            "\n",
            "          COVID       0.95      0.90      0.92       658\n",
            "         Normal       0.96      0.98      0.97      1308\n",
            "Viral Pneumonia       0.97      0.97      0.97       271\n",
            "\n",
            "       accuracy                           0.96      2237\n",
            "      macro avg       0.96      0.95      0.95      2237\n",
            "   weighted avg       0.96      0.96      0.96      2237\n",
            "\n"
          ]
        }
      ],
      "source": [
        "predictions_index = lb.inverse_transform(predictions)\n",
        "print(classification_report(predictions_index, lb.inverse_transform(test_set.y)))"
      ]
    },
    {
      "cell_type": "code",
      "execution_count": null,
      "metadata": {
        "colab": {
          "base_uri": "https://localhost:8080/",
          "height": 708
        },
        "id": "CGgB7fZ4Wy1N",
        "outputId": "5e34989f-f43f-4e65-ca5f-aa8de56b5ef9"
      },
      "outputs": [
        {
          "data": {
            "image/png": "[encoded data removed]",
            "text/plain": [
              "<Figure size 1080x864 with 2 Axes>"
            ]
          },
          "metadata": {},
          "output_type": "display_data"
        }
      ],
      "source": [
        "plt.figure(figsize=(15, 12))\n",
        "cm = confusion_matrix(predictions_index, lb.inverse_transform(test_set.y))\n",
        "df_cm = pd.DataFrame(cm, index = [i for i in lb.classes_],\n",
        "                  columns = [i for i in lb.classes_])\n",
        "sns.set(font_scale=1.4)\n",
        "sns.heatmap(df_cm, annot=True, annot_kws={\"size\": 16}, fmt='g') \n",
        "plt.show()"
      ]
    },
    {
      "cell_type": "code",
      "execution_count": null,
      "metadata": {
        "colab": {
          "base_uri": "https://localhost:8080/"
        },
        "id": "rm9hUKC1FOHK",
        "outputId": "5866a50d-f341-4570-aee8-e869f1731754"
      },
      "outputs": [
        {
          "name": "stdout",
          "output_type": "stream",
          "text": [
            "0.9671314405609284\n"
          ]
        }
      ],
      "source": [
        "from sklearn.preprocessing import LabelBinarizer\n",
        "from sklearn.metrics import auc, roc_curve, roc_auc_score\n",
        "bin = LabelBinarizer()\n",
        "x_test = bin.fit_transform(lb.inverse_transform(test_set.y))\n",
        "pred = bin.transform(predictions_index)\n",
        "print(roc_auc_score(x_test, pred))"
      ]
    },
    {
      "cell_type": "code",
      "execution_count": null,
      "metadata": {
        "colab": {
          "base_uri": "https://localhost:8080/"
        },
        "id": "jww-y0eMJpwg",
        "outputId": "b25e29cb-c90d-4f8e-bd69-b690df6a0164"
      },
      "outputs": [
        {
          "name": "stdout",
          "output_type": "stream",
          "text": [
            "INFO:tensorflow:Assets written to: /content/custom/assets\n"
          ]
        },
        {
          "name": "stderr",
          "output_type": "stream",
          "text": [
            "/usr/local/lib/python3.7/dist-packages/keras/saving/saved_model/layer_serialization.py:112: CustomMaskWarning: Custom mask layers require a config and must override get_config. When loading, the custom mask layer must be passed to the custom_objects argument.\n",
            "  return generic_utils.serialize_keras_object(obj)\n"
          ]
        }
      ],
      "source": [
        "tf.keras.models.save_model(model, \"/content/custom\")"
      ]
    },
    {
      "cell_type": "code",
      "execution_count": null,
      "metadata": {
        "colab": {
          "base_uri": "https://localhost:8080/"
        },
        "id": "ZbyLobK4JnVi",
        "outputId": "90926228-c513-433b-9cb0-ab8c7ea07309"
      },
      "outputs": [
        {
          "name": "stdout",
          "output_type": "stream",
          "text": [
            "  adding: content/custom/ (stored 0%)\n",
            "  adding: content/custom/saved_model.pb (deflated 92%)\n",
            "  adding: content/custom/variables/ (stored 0%)\n",
            "  adding: content/custom/variables/variables.data-00000-of-00001 (deflated 8%)\n",
            "  adding: content/custom/variables/variables.index (deflated 78%)\n",
            "  adding: content/custom/assets/ (stored 0%)\n",
            "  adding: content/custom/keras_metadata.pb (deflated 94%)\n"
          ]
        }
      ],
      "source": [
        "!zip -r /content/7.zip /content/custom"
      ]
    }
  ],
  "metadata": {
    "accelerator": "GPU",
    "colab": {
      "collapsed_sections": [
        "3CzQfhzaAqDL",
        "TAlZ6dPHHTvf",
        "D4nLRwZMHe6T",
        "bDfub9JSuf4Z"
      ],
      "machine_shape": "hm",
      "name": "3 classes experiment.ipynb",
      "provenance": [],
      "toc_visible": true
    },
    "kernelspec": {
      "display_name": "Python 3",
      "language": "python",
      "name": "python3"
    },
    "language_info": {
      "codemirror_mode": {
        "name": "ipython",
        "version": 3
      },
      "file_extension": ".py",
      "mimetype": "text/x-python",
      "name": "python",
      "nbconvert_exporter": "python",
      "pygments_lexer": "ipython3",
      "version": "3.8.5"
    }
  },
  "nbformat": 4,
  "nbformat_minor": 0
}
